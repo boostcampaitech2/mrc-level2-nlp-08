{
 "cells": [
  {
   "cell_type": "code",
   "execution_count": 1,
   "metadata": {},
   "outputs": [],
   "source": [
    "import pickle\n",
    "\n",
    "with open('elastic_train_1000.bin','rb') as f:\n",
    "    es_train = pickle.load(f)"
   ]
  },
  {
   "cell_type": "code",
   "execution_count": 2,
   "metadata": {},
   "outputs": [],
   "source": [
    "import json\n",
    "\n",
    "with open('../data/preprocess_wiki.json', \"r\", encoding=\"utf-8\") as f:\n",
    "    wiki = json.load(f)"
   ]
  },
  {
   "cell_type": "code",
   "execution_count": 3,
   "metadata": {},
   "outputs": [
    {
     "data": {
      "text/plain": [
       "1000"
      ]
     },
     "execution_count": 3,
     "metadata": {},
     "output_type": "execute_result"
    }
   ],
   "source": [
    "len(list(es_train.values())[0])"
   ]
  },
  {
   "cell_type": "code",
   "execution_count": 4,
   "metadata": {},
   "outputs": [
    {
     "data": {
      "text/plain": [
       "3952"
      ]
     },
     "execution_count": 4,
     "metadata": {},
     "output_type": "execute_result"
    }
   ],
   "source": [
    "from datasets import load_from_disk\n",
    "\n",
    "train = load_from_disk('../data/train_dataset')['train']\n",
    "train[0]['document_id']\n",
    "train_ground_truth_doc_ids = train['document_id']\n",
    "len(train_ground_truth_doc_ids)"
   ]
  },
  {
   "cell_type": "code",
   "execution_count": 5,
   "metadata": {},
   "outputs": [
    {
     "data": {
      "text/plain": [
       "{'__index_level_0__': 42,\n",
       " 'question': '대통령을 포함한 미국의 행정부 견제권을 갖는 국가 기관은?',\n",
       " 'id': 'mrc-1-000067',\n",
       " 'title': '미국 상원',\n",
       " 'document_id': 18293,\n",
       " 'answers': {'answer_start': [235], 'text': ['하원']},\n",
       " 'context': '미국 상의원 또는 미국 상원(United States Senate)은 양원제인 미국 의회의 상원이다.\\\\n\\\\n미국 부통령이 상원의장이 된다. 각 주당 2명의 상원의원이 선출되어 100명의 상원의원으로 구성되어 있다. 임기는 6년이며, 2년마다 50개주 중 1/3씩 상원의원을 새로 선출하여 연방에 보낸다.\\\\n\\\\n미국 상원은 미국 하원과는 다르게 미국 대통령을 수반으로 하는 미국 연방 행정부에 각종 동의를 하는 기관이다. 하원이 세금과 경제에 대한 권한, 대통령을 포함한 대다수의 공무원을 파면할 권한을 갖고 있는 국민을 대표하는 기관인 반면 상원은 미국의 주를 대표한다. 즉 캘리포니아주, 일리노이주 같이 주 정부와 주 의회를 대표하는 기관이다. 그로 인하여 군대의 파병, 관료의 임명에 대한 동의, 외국 조약에 대한 승인 등 신속을 요하는 권한은 모두 상원에게만 있다. 그리고 하원에 대한 견제 역할(하원의 법안을 거부할 권한 등)을 담당한다. 2년의 임기로 인하여 급진적일 수밖에 없는 하원은 지나치게 급진적인 법안을 만들기 쉽다. 대표적인 예로 건강보험 개혁 당시 하원이 미국 연방 행정부에게 퍼블릭 옵션(공공건강보험기관)의 조항이 있는 반면 상원의 경우 하원안이 지나치게 세금이 많이 든다는 이유로 퍼블릭 옵션 조항을 제외하고 비영리건강보험기관이나 보험회사가 담당하도록 한 것이다. 이 경우처럼 상원은 하원이나 내각책임제가 빠지기 쉬운 국가들의 국회처럼 걸핏하면 발생하는 의회의 비정상적인 사태를 방지하는 기관이다. 상원은 급박한 처리사항의 경우가 아니면 법안을 먼저 내는 경우가 드물고 하원이 만든 법안을 수정하여 다시 하원에 되돌려보낸다. 이러한 방식으로 단원제가 빠지기 쉬운 함정을 미리 방지하는 것이다.날짜=2017-02-05'}"
      ]
     },
     "execution_count": 5,
     "metadata": {},
     "output_type": "execute_result"
    }
   ],
   "source": [
    "train[0]"
   ]
  },
  {
   "cell_type": "code",
   "execution_count": 214,
   "metadata": {},
   "outputs": [
    {
     "data": {
      "text/plain": [
       "3952"
      ]
     },
     "execution_count": 214,
     "metadata": {},
     "output_type": "execute_result"
    }
   ],
   "source": [
    "es_question = list(es_train.keys())\n",
    "es_passage = list(es_train.values())\n",
    "\n",
    "shuffles = []\n",
    "for i, q in enumerate(es_question):\n",
    "    gt_id = train_ground_truth_doc_ids[i]\n",
    "    answer = train[i]['answers']['text'][0]\n",
    "\n",
    "    concat_ids = [gt_id]\n",
    "    for j, p_id in enumerate(es_passage[i]):\n",
    "        if gt_id != p_id and p_id not in concat_ids and answer not in wiki[str(p_id)]:\n",
    "                concat_ids.append(p_id)\n",
    "        if len(concat_ids) == 5:\n",
    "            break\n",
    "    \n",
    "    shuffles.append(concat_ids)\n",
    "\n",
    "len(shuffles)"
   ]
  },
  {
   "cell_type": "code",
   "execution_count": 215,
   "metadata": {},
   "outputs": [
    {
     "data": {
      "text/plain": [
       "[58792, 58403, 56097, 56381, 54576]"
      ]
     },
     "execution_count": 215,
     "metadata": {},
     "output_type": "execute_result"
    }
   ],
   "source": [
    "shuffles[1029]"
   ]
  },
  {
   "cell_type": "code",
   "execution_count": 94,
   "metadata": {},
   "outputs": [],
   "source": [
    "shuffles_gt_0 = shuffles\n",
    "shuffles_gt_1 = []\n",
    "shuffles_gt_2 = []\n",
    "shuffles_gt_3 = []\n",
    "shuffles_gt_4 = []\n",
    "\n",
    "for i in range(len(shuffles)):\n",
    "    shuffle_gt_1 = shuffles[i].copy()\n",
    "    shuffle_gt_1[0], shuffle_gt_1[1] = shuffle_gt_1[1], shuffle_gt_1[0]\n",
    "\n",
    "    shuffle_gt_2 = shuffles[i].copy()\n",
    "    tmp_gt = shuffle_gt_2.pop(0)\n",
    "    shuffle_gt_2.insert(2, tmp_gt)\n",
    "\n",
    "    shuffle_gt_3 = shuffles[i].copy()\n",
    "    tmp_gt = shuffle_gt_3.pop(0)\n",
    "    shuffle_gt_3.insert(3, tmp_gt)\n",
    "\n",
    "    shuffle_gt_4 = shuffles[i].copy()\n",
    "    tmp_gt = shuffle_gt_4.pop(0)\n",
    "    shuffle_gt_4.append(tmp_gt)\n",
    "\n",
    "    shuffles_gt_1.append(shuffle_gt_1)\n",
    "    shuffles_gt_2.append(shuffle_gt_2)\n",
    "    shuffles_gt_3.append(shuffle_gt_3)\n",
    "    shuffles_gt_4.append(shuffle_gt_4)"
   ]
  },
  {
   "cell_type": "code",
   "execution_count": 95,
   "metadata": {},
   "outputs": [
    {
     "name": "stdout",
     "output_type": "stream",
     "text": [
      "[18293, 10598, 6837, 23901, 42901]\n",
      "[10598, 18293, 6837, 23901, 42901]\n",
      "[10598, 6837, 18293, 23901, 42901]\n",
      "[10598, 6837, 23901, 18293, 42901]\n",
      "[10598, 6837, 23901, 42901, 18293]\n"
     ]
    }
   ],
   "source": [
    "print(shuffles_gt_0[0])\n",
    "print(shuffles_gt_1[0])\n",
    "print(shuffles_gt_2[0])\n",
    "print(shuffles_gt_3[0])\n",
    "print(shuffles_gt_4[0])"
   ]
  },
  {
   "cell_type": "code",
   "execution_count": 96,
   "metadata": {},
   "outputs": [
    {
     "data": {
      "text/plain": [
       "3952"
      ]
     },
     "execution_count": 96,
     "metadata": {},
     "output_type": "execute_result"
    }
   ],
   "source": [
    "len(shuffles)"
   ]
  },
  {
   "cell_type": "code",
   "execution_count": 97,
   "metadata": {},
   "outputs": [
    {
     "data": {
      "text/plain": [
       "561"
      ]
     },
     "execution_count": 97,
     "metadata": {},
     "output_type": "execute_result"
    }
   ],
   "source": [
    "len(wiki[str(shuffles_gt_1[0][:1][0])]['text'])"
   ]
  },
  {
   "cell_type": "code",
   "execution_count": 168,
   "metadata": {},
   "outputs": [],
   "source": [
    "shuffles_gt_1_answers = {}\n",
    "shuffles_gt_2_answers = {}\n",
    "shuffles_gt_3_answers = {}\n",
    "shuffles_gt_4_answers = {}\n",
    "\n",
    "for i in range(len(shuffles)):\n",
    "    answers = train[i]['answers']\n",
    "    passage_len = 0\n",
    "    for concat_wiki_id in shuffles_gt_1[i][:1]:\n",
    "        passage_len += len(wiki[str(concat_wiki_id)]['text'])\n",
    "    answers['answer_start'] = [passage_len + 1 + answers['answer_start'][0]] # insert one space when concatenate\n",
    "    shuffles_gt_1_answers[i] = answers\n",
    "\n",
    "    answers = train[i]['answers']\n",
    "    passage_len = 0\n",
    "    for concat_wiki_id in shuffles_gt_2[i][:2]:\n",
    "        passage_len += len(wiki[str(concat_wiki_id)]['text'])\n",
    "    answers['answer_start'] = [passage_len + 2 + answers['answer_start'][0]] # insert two space when concatenate\n",
    "    shuffles_gt_2_answers[i] = answers\n",
    "\n",
    "    answers = train[i]['answers']\n",
    "    passage_len = 0\n",
    "    for concat_wiki_id in shuffles_gt_3[i][:3]:\n",
    "        passage_len += len(wiki[str(concat_wiki_id)]['text'])\n",
    "    answers['answer_start'] = [passage_len + 3 + answers['answer_start'][0]] # insert three space when concatenate\n",
    "    shuffles_gt_3_answers[i] = answers\n",
    "\n",
    "    answers = train[i]['answers']\n",
    "    passage_len = 0\n",
    "    for concat_wiki_id in shuffles_gt_4[i][:4]:\n",
    "        passage_len += len(wiki[str(concat_wiki_id)]['text'])\n",
    "    answers['answer_start'] = [passage_len + 4 + answers['answer_start'][0]] # insert four space when concatenate\n",
    "    shuffles_gt_4_answers[i] = answers"
   ]
  },
  {
   "cell_type": "code",
   "execution_count": 147,
   "metadata": {},
   "outputs": [
    {
     "name": "stdout",
     "output_type": "stream",
     "text": [
      "{'answer_start': [562], 'text': ['하원']}\n",
      "{'answer_start': [984], 'text': ['하원']}\n",
      "{'answer_start': [1750], 'text': ['하원']}\n",
      "{'answer_start': [2121], 'text': ['하원']}\n"
     ]
    }
   ],
   "source": [
    "print(shuffles_gt_1_answers[0])\n",
    "print(shuffles_gt_2_answers[0])\n",
    "print(shuffles_gt_3_answers[0])\n",
    "print(shuffles_gt_4_answers[0])"
   ]
  },
  {
   "cell_type": "code",
   "execution_count": 169,
   "metadata": {},
   "outputs": [],
   "source": [
    "import pandas as pd\n",
    "\n",
    "# new_train = load_from_disk('../data/new_train_dataset')['train']\n",
    "\n",
    "train_df = pd.DataFrame(train)\n",
    "\n",
    "concat_train_df_gt_0 = train_df.copy()\n",
    "concat_train_df_gt_1 = train_df.copy()\n",
    "concat_train_df_gt_2 = train_df.copy()\n",
    "concat_train_df_gt_3 = train_df.copy()\n",
    "concat_train_df_gt_4 = train_df.copy()"
   ]
  },
  {
   "cell_type": "code",
   "execution_count": 101,
   "metadata": {},
   "outputs": [],
   "source": [
    "with open('../data/wikipedia_documents.json', \"r\", encoding=\"utf-8\") as f:\n",
    "    origin_wiki = json.load(f)"
   ]
  },
  {
   "cell_type": "code",
   "execution_count": 170,
   "metadata": {},
   "outputs": [],
   "source": [
    "contexts = []\n",
    "for i, row in concat_train_df_gt_0.iterrows():\n",
    "    context = origin_wiki[str(shuffles_gt_0[i][0])]['text']\n",
    "    for j in range(1, len(shuffles_gt_0[i])):\n",
    "        context += ' ' + wiki[str(shuffles_gt_0[i][j])]['text']\n",
    "    contexts.append(context)\n",
    "concat_train_df_gt_0['context'] = contexts\n",
    "\n",
    "contexts = []\n",
    "for i, row in concat_train_df_gt_1.iterrows():\n",
    "    context = wiki[str(shuffles_gt_1[i][0])]['text']\n",
    "    context += ' ' + origin_wiki[str(shuffles_gt_1[i][1])]['text']\n",
    "    for j in range(2, len(shuffles_gt_1[i])):\n",
    "        context += ' ' + wiki[str(shuffles_gt_1[i][j])]['text']\n",
    "    contexts.append(context)\n",
    "concat_train_df_gt_1['context'] = contexts\n",
    "concat_train_df_gt_1['answers'] = shuffles_gt_1_answers.values()\n",
    "\n",
    "contexts = []\n",
    "for i, row in concat_train_df_gt_2.iterrows():\n",
    "    context = wiki[str(shuffles_gt_2[i][0])]['text']\n",
    "    context += ' ' + wiki[str(shuffles_gt_2[i][1])]['text']\n",
    "    context += ' ' + origin_wiki[str(shuffles_gt_2[i][2])]['text']\n",
    "    for j in range(3, len(shuffles_gt_2[i])):\n",
    "        context += ' ' + wiki[str(shuffles_gt_2[i][j])]['text']\n",
    "    contexts.append(context)\n",
    "concat_train_df_gt_2['context'] = contexts\n",
    "concat_train_df_gt_2['answers'] = shuffles_gt_2_answers.values()\n",
    "\n",
    "contexts = []\n",
    "for i, row in concat_train_df_gt_3.iterrows():\n",
    "    context = wiki[str(shuffles_gt_3[i][0])]['text']\n",
    "    context += ' ' + wiki[str(shuffles_gt_3[i][1])]['text']\n",
    "    context += ' ' + wiki[str(shuffles_gt_3[i][2])]['text']\n",
    "    context += ' ' + origin_wiki[str(shuffles_gt_3[i][3])]['text']\n",
    "    for j in range(4, len(shuffles_gt_3[i])):\n",
    "        context += ' ' + wiki[str(shuffles_gt_3[i][j])]['text']\n",
    "    contexts.append(context)\n",
    "concat_train_df_gt_3['context'] = contexts\n",
    "concat_train_df_gt_3['answers'] = shuffles_gt_3_answers.values()\n",
    "\n",
    "contexts = []\n",
    "for i, row in concat_train_df_gt_4.iterrows():\n",
    "    context = wiki[str(shuffles_gt_4[i][0])]['text']\n",
    "    context += ' ' + wiki[str(shuffles_gt_4[i][1])]['text']\n",
    "    context += ' ' + wiki[str(shuffles_gt_4[i][2])]['text']\n",
    "    context += ' ' + wiki[str(shuffles_gt_4[i][3])]['text']\n",
    "    context += ' ' + origin_wiki[str(shuffles_gt_4[i][4])]['text']\n",
    "    contexts.append(context)\n",
    "concat_train_df_gt_4['context'] = contexts\n",
    "concat_train_df_gt_4['answers'] = shuffles_gt_4_answers.values()"
   ]
  },
  {
   "cell_type": "code",
   "execution_count": 175,
   "metadata": {},
   "outputs": [],
   "source": [
    "for i, row in concat_train_df_gt_0.iterrows():\n",
    "    if row['context'][row['answers']['answer_start'][0]] != row['answers']['text'][0][0]:\n",
    "        print(i)\n",
    "for i, row in concat_train_df_gt_1.iterrows():\n",
    "    if row['context'][row['answers']['answer_start'][0]] != row['answers']['text'][0][0]:\n",
    "        print(i)\n",
    "for i, row in concat_train_df_gt_2.iterrows():\n",
    "    if row['context'][row['answers']['answer_start'][0]] != row['answers']['text'][0][0]:\n",
    "        print(i)\n",
    "for i, row in concat_train_df_gt_3.iterrows():\n",
    "    if row['context'][row['answers']['answer_start'][0]] != row['answers']['text'][0][0]:\n",
    "        print(i)\n",
    "for i, row in concat_train_df_gt_4.iterrows():\n",
    "    if row['context'][row['answers']['answer_start'][0]] != row['answers']['text'][0][0]:\n",
    "        print(i)"
   ]
  },
  {
   "cell_type": "code",
   "execution_count": 174,
   "metadata": {},
   "outputs": [],
   "source": [
    "from datasets import Dataset\n",
    "\n",
    "Dataset.from_pandas(concat_train_df_gt_0).save_to_disk(\"../passage_shuffle/concat_train_gt_0\")\n",
    "Dataset.from_pandas(concat_train_df_gt_1).save_to_disk(\"../passage_shuffle/concat_train_gt_1\")\n",
    "Dataset.from_pandas(concat_train_df_gt_2).save_to_disk(\"../passage_shuffle/concat_train_gt_2\")\n",
    "Dataset.from_pandas(concat_train_df_gt_3).save_to_disk(\"../passage_shuffle/concat_train_gt_3\")\n",
    "Dataset.from_pandas(concat_train_df_gt_4).save_to_disk(\"../passage_shuffle/concat_train_gt_4\")"
   ]
  },
  {
   "cell_type": "code",
   "execution_count": 178,
   "metadata": {},
   "outputs": [
    {
     "data": {
      "text/plain": [
       "title                                                            미국 상원\n",
       "context              미국 상의원 또는 미국 상원(United States Senate)은 양원제인 미국...\n",
       "question                              대통령을 포함한 미국의 행정부 견제권을 갖는 국가 기관은?\n",
       "id                                                        mrc-1-000067\n",
       "answers                        {'answer_start': [235], 'text': ['하원']}\n",
       "document_id                                                      18293\n",
       "__index_level_0__                                                   42\n",
       "Name: 0, dtype: object"
      ]
     },
     "execution_count": 178,
     "metadata": {},
     "output_type": "execute_result"
    }
   ],
   "source": [
    "concat_train_df_gt_0.iloc[0]"
   ]
  },
  {
   "cell_type": "code",
   "execution_count": 180,
   "metadata": {},
   "outputs": [
    {
     "data": {
      "text/plain": [
       "[18293, 10598, 6837, 23901, 42901]"
      ]
     },
     "execution_count": 180,
     "metadata": {},
     "output_type": "execute_result"
    }
   ],
   "source": [
    "shuffles_gt_0[0]"
   ]
  },
  {
   "cell_type": "code",
   "execution_count": null,
   "metadata": {},
   "outputs": [],
   "source": [
    "fids = train_df.copy()\n",
    "\n",
    "ctxs = []\n",
    "for i, row in fids.iterrows():\n",
    "    ctx = [\n",
    "        {\n",
    "            'title': row['title'],\n",
    "            'text': origin_wiki[str(shuffles_gt_0[i][0])]['text']\n",
    "        }\n",
    "    ]\n",
    "    for j in range(1, len(shuffles_gt_0[i])):\n",
    "        ctx.append(\n",
    "            {\n",
    "                'title': wiki[str(shuffles_gt_0[i][j])]['title'],\n",
    "                'text': wiki[str(shuffles_gt_0[i][j])]['text']\n",
    "            }\n",
    "        )\n",
    "    ctxs.append(ctx)\n",
    "\n",
    "fids['ctxs'] = ctxs\n",
    "\n",
    "answers = []\n",
    "targets = []\n",
    "for i, row in fids.iterrows():\n",
    "    targets.append(row['answers']['text'][0])\n",
    "    answers.append([targets[i]])\n",
    "fids['target'] = targets\n",
    "fids['answers'] = answers\n",
    "\n",
    "fids"
   ]
  },
  {
   "cell_type": "code",
   "execution_count": 194,
   "metadata": {},
   "outputs": [],
   "source": [
    "fids.drop(columns=['context'])\n",
    "Dataset.from_pandas(fids).save_to_disk('../fids_dataset')"
   ]
  },
  {
   "cell_type": "code",
   "execution_count": null,
   "metadata": {},
   "outputs": [],
   "source": [
    "vd = load_from_disk('../data/train_dataset')['validation']\n",
    "vd\n",
    "\n",
    "fid_vd = pd.DataFrame(vd)\n",
    "\n",
    "ctxs = []\n",
    "for i, row in fid_vd.iterrows():\n",
    "    ctx = [\n",
    "        {\n",
    "            'title': row['title'],\n",
    "            'text': origin_wiki[str(row['document_id'])]['text']\n",
    "        }\n",
    "    ]\n",
    "    ctxs.append(ctx)\n",
    "\n",
    "fid_vd['ctxs'] = ctxs\n",
    "\n",
    "answers = []\n",
    "targets = []\n",
    "for i, row in fid_vd.iterrows():\n",
    "    targets.append(row['answers']['text'][0])\n",
    "    answers.append([targets[i]])\n",
    "fid_vd['target'] = targets\n",
    "fid_vd['answers'] = answers\n",
    "fid_vd.drop(columns=['context'])\n",
    "fid_vd"
   ]
  },
  {
   "cell_type": "code",
   "execution_count": 197,
   "metadata": {},
   "outputs": [],
   "source": [
    "Dataset.from_pandas(fid_vd).save_to_disk('../fids_dataset_valid')"
   ]
  },
  {
   "cell_type": "code",
   "execution_count": null,
   "metadata": {},
   "outputs": [],
   "source": []
  },
  {
   "cell_type": "code",
   "execution_count": null,
   "metadata": {},
   "outputs": [],
   "source": [
    "es_question = list(es_train.keys())\n",
    "es_passage = list(es_train.values())\n",
    "\n",
    "shuffles = []\n",
    "for i, q in enumerate(es_question):\n",
    "    gt_id = train_ground_truth_doc_ids[i]\n",
    "    answer = train[i]['answers']['text'][0]\n",
    "\n",
    "    concat_ids = [gt_id]\n",
    "    for j, p_id in enumerate(es_passage[i]):\n",
    "        if gt_id != p_id and p_id not in concat_ids and answer not in wiki[str(p_id)]:\n",
    "                concat_ids.append(p_id)\n",
    "        if len(concat_ids) == 5:\n",
    "            break\n",
    "    \n",
    "    shuffles.append(concat_ids)\n",
    "\n",
    "len(shuffles)"
   ]
  },
  {
   "cell_type": "code",
   "execution_count": 199,
   "metadata": {},
   "outputs": [
    {
     "data": {
      "text/plain": [
       "3952"
      ]
     },
     "execution_count": 199,
     "metadata": {},
     "output_type": "execute_result"
    }
   ],
   "source": [
    "len(shuffles)"
   ]
  },
  {
   "cell_type": "code",
   "execution_count": 200,
   "metadata": {},
   "outputs": [
    {
     "data": {
      "text/plain": [
       "[18293, 10598, 6837, 23901, 42901]"
      ]
     },
     "execution_count": 200,
     "metadata": {},
     "output_type": "execute_result"
    }
   ],
   "source": [
    "shuffles[0]"
   ]
  },
  {
   "cell_type": "code",
   "execution_count": 216,
   "metadata": {},
   "outputs": [
    {
     "data": {
      "text/plain": [
       "18293"
      ]
     },
     "execution_count": 216,
     "metadata": {},
     "output_type": "execute_result"
    }
   ],
   "source": [
    "random_shuffles = [shuffle for shuffle in shuffles]\n",
    "\n",
    "gt_passage_table = {}\n",
    "gt_passage_table = {i: concat_ids[0] for i, concat_ids in enumerate(random_shuffles)}\n",
    "gt_passage_table[0]"
   ]
  },
  {
   "cell_type": "code",
   "execution_count": 217,
   "metadata": {},
   "outputs": [
    {
     "data": {
      "text/plain": [
       "[23901, 10598, 6837, 42901, 18293]"
      ]
     },
     "execution_count": 217,
     "metadata": {},
     "output_type": "execute_result"
    }
   ],
   "source": [
    "import random\n",
    "\n",
    "random.seed(42)\n",
    "\n",
    "for i in range(len(random_shuffles)):\n",
    "    random.shuffle(random_shuffles[i])\n",
    "random_shuffles[0]"
   ]
  },
  {
   "cell_type": "code",
   "execution_count": 219,
   "metadata": {},
   "outputs": [
    {
     "data": {
      "text/plain": [
       "([51632, 51631, 51638, 51633, 51630], 51638)"
      ]
     },
     "execution_count": 219,
     "metadata": {},
     "output_type": "execute_result"
    }
   ],
   "source": [
    "random_shuffles[1], gt_passage_table[1]"
   ]
  },
  {
   "cell_type": "code",
   "execution_count": 223,
   "metadata": {},
   "outputs": [],
   "source": [
    "random_shuffles_answers = {}\n",
    "\n",
    "for i in range(len(random_shuffles)):\n",
    "    answers = train[i]['answers']\n",
    "    passage_len = 0\n",
    "\n",
    "    if random_shuffles[i].index(gt_passage_table[i]) == 0:\n",
    "        pass\n",
    "\n",
    "    elif random_shuffles[i].index(gt_passage_table[i]) == 1:\n",
    "        for concat_wiki_id in random_shuffles[i][:1]:\n",
    "            passage_len += len(wiki[str(concat_wiki_id)]['text'])\n",
    "        answers['answer_start'] = [passage_len + 1 + answers['answer_start'][0]] # insert one space when concatenate\n",
    "\n",
    "    elif random_shuffles[i].index(gt_passage_table[i]) == 2:\n",
    "        for concat_wiki_id in random_shuffles[i][:2]:\n",
    "            passage_len += len(wiki[str(concat_wiki_id)]['text'])\n",
    "        answers['answer_start'] = [passage_len + 2 + answers['answer_start'][0]] # insert two space when concatenate\n",
    "\n",
    "    elif random_shuffles[i].index(gt_passage_table[i]) == 3:\n",
    "        for concat_wiki_id in random_shuffles[i][:3]:\n",
    "            passage_len += len(wiki[str(concat_wiki_id)]['text'])\n",
    "        answers['answer_start'] = [passage_len + 3 + answers['answer_start'][0]] # insert three space when concatenate\n",
    "\n",
    "    elif random_shuffles[i].index(gt_passage_table[i]) == 4:\n",
    "        for concat_wiki_id in random_shuffles[i][:4]:\n",
    "            passage_len += len(wiki[str(concat_wiki_id)]['text'])\n",
    "        answers['answer_start'] = [passage_len + 4 + answers['answer_start'][0]] # insert four space when concatenate\n",
    "        \n",
    "    random_shuffles_answers[i] = answers"
   ]
  },
  {
   "cell_type": "code",
   "execution_count": 225,
   "metadata": {},
   "outputs": [
    {
     "data": {
      "text/plain": [
       "{'answer_start': [2356], 'text': ['하원']}"
      ]
     },
     "execution_count": 225,
     "metadata": {},
     "output_type": "execute_result"
    }
   ],
   "source": [
    "random_shuffles_answers[0]"
   ]
  },
  {
   "cell_type": "code",
   "execution_count": 226,
   "metadata": {},
   "outputs": [],
   "source": [
    "train_df = pd.DataFrame(train)\n",
    "\n",
    "random_shuffles_df = train_df.copy()"
   ]
  },
  {
   "cell_type": "code",
   "execution_count": 227,
   "metadata": {},
   "outputs": [
    {
     "data": {
      "text/html": [
       "<div>\n",
       "<style scoped>\n",
       "    .dataframe tbody tr th:only-of-type {\n",
       "        vertical-align: middle;\n",
       "    }\n",
       "\n",
       "    .dataframe tbody tr th {\n",
       "        vertical-align: top;\n",
       "    }\n",
       "\n",
       "    .dataframe thead th {\n",
       "        text-align: right;\n",
       "    }\n",
       "</style>\n",
       "<table border=\"1\" class=\"dataframe\">\n",
       "  <thead>\n",
       "    <tr style=\"text-align: right;\">\n",
       "      <th></th>\n",
       "      <th>title</th>\n",
       "      <th>context</th>\n",
       "      <th>question</th>\n",
       "      <th>id</th>\n",
       "      <th>answers</th>\n",
       "      <th>document_id</th>\n",
       "      <th>__index_level_0__</th>\n",
       "    </tr>\n",
       "  </thead>\n",
       "  <tbody>\n",
       "    <tr>\n",
       "      <th>0</th>\n",
       "      <td>미국 상원</td>\n",
       "      <td>미국의 외교정책의 수립과 이행에 대한 주된 책임을 대통령이 지게 되어 있으나, 의회...</td>\n",
       "      <td>대통령을 포함한 미국의 행정부 견제권을 갖는 국가 기관은?</td>\n",
       "      <td>mrc-1-000067</td>\n",
       "      <td>{'answer_start': [2356], 'text': ['하원']}</td>\n",
       "      <td>18293</td>\n",
       "      <td>42</td>\n",
       "    </tr>\n",
       "    <tr>\n",
       "      <th>1</th>\n",
       "      <td>인사조직관리</td>\n",
       "      <td>인류 역사에서 무리를 지어 살기 시작하면서 조직이 시작되었다. 인류를 위한 다양한 ...</td>\n",
       "      <td>현대적 인사조직관리의 시발점이 된 책은?</td>\n",
       "      <td>mrc-0-004397</td>\n",
       "      <td>{'answer_start': [1287], 'text': ['《경영의 실제》']}</td>\n",
       "      <td>51638</td>\n",
       "      <td>2873</td>\n",
       "    </tr>\n",
       "    <tr>\n",
       "      <th>2</th>\n",
       "      <td>강희제</td>\n",
       "      <td>봉서재(鳳棲齋)는 조선시대 중기 결성장씨(結城張氏)인 장원주(張元胄, 1634~17...</td>\n",
       "      <td>강희제가 1717년에 쓴 글은 누구를 위해 쓰여졌는가?</td>\n",
       "      <td>mrc-1-000362</td>\n",
       "      <td>{'answer_start': [3987], 'text': ['백성']}</td>\n",
       "      <td>5028</td>\n",
       "      <td>230</td>\n",
       "    </tr>\n",
       "    <tr>\n",
       "      <th>3</th>\n",
       "      <td>금동삼존불감</td>\n",
       "      <td>이 불상군은 1978년 발견되어 학계에 알려졌으며 봉황리 햇골산 중턱 두 곳에 약간...</td>\n",
       "      <td>11~12세기에 제작된 본존불은 보통 어떤 나라의 특징이 전파되었나요?</td>\n",
       "      <td>mrc-0-001510</td>\n",
       "      <td>{'answer_start': [8962], 'text': ['중국']}</td>\n",
       "      <td>34146</td>\n",
       "      <td>992</td>\n",
       "    </tr>\n",
       "    <tr>\n",
       "      <th>4</th>\n",
       "      <td>계사명 사리구</td>\n",
       "      <td>소총통은 조선 중기의 대표적인 소형총통인 승자총통의 발전된 형식이다. 약통에 도화선...</td>\n",
       "      <td>명문이 적힌 유물을 구성하는 그릇의 총 개수는?</td>\n",
       "      <td>mrc-0-000823</td>\n",
       "      <td>{'answer_start': [2958], 'text': ['4개']}</td>\n",
       "      <td>47334</td>\n",
       "      <td>548</td>\n",
       "    </tr>\n",
       "    <tr>\n",
       "      <th>...</th>\n",
       "      <td>...</td>\n",
       "      <td>...</td>\n",
       "      <td>...</td>\n",
       "      <td>...</td>\n",
       "      <td>...</td>\n",
       "      <td>...</td>\n",
       "      <td>...</td>\n",
       "    </tr>\n",
       "    <tr>\n",
       "      <th>3947</th>\n",
       "      <td>이오 (위성)</td>\n",
       "      <td>이오의 산\\n이오의 산 목록\\n 이오에는 100~150개의 산이 있다. 이들 산의 ...</td>\n",
       "      <td>대부분의 이오의 산이 형성되는데 영향을 끼친 것은?</td>\n",
       "      <td>mrc-0-005285</td>\n",
       "      <td>{'answer_start': [317], 'text': ['지질 구조']}</td>\n",
       "      <td>8275</td>\n",
       "      <td>3445</td>\n",
       "    </tr>\n",
       "    <tr>\n",
       "      <th>3948</th>\n",
       "      <td>내니 다이어리</td>\n",
       "      <td>1933년 뉴욕 시립 고아원. 애니에게는 11년 후 찾아오겠다는 부모의 편지와 목걸...</td>\n",
       "      <td>애니는 어디서 태어났는가?</td>\n",
       "      <td>mrc-1-000699</td>\n",
       "      <td>{'answer_start': [1005], 'text': ['뉴저지']}</td>\n",
       "      <td>37764</td>\n",
       "      <td>450</td>\n",
       "    </tr>\n",
       "    <tr>\n",
       "      <th>3949</th>\n",
       "      <td>빈 필하모니 관현악단</td>\n",
       "      <td>1925년에 덴마크 방송 협회(DR) 발족과 함께 부속 악단으로 창단되었으며, 그 ...</td>\n",
       "      <td>1854년에 니콜라이의 뒤를 이어 상임 지휘자로서 활동한 인물은?</td>\n",
       "      <td>mrc-0-003429</td>\n",
       "      <td>{'answer_start': [4898], 'text': ['칼 에케르트']}</td>\n",
       "      <td>12730</td>\n",
       "      <td>2252</td>\n",
       "    </tr>\n",
       "    <tr>\n",
       "      <th>3950</th>\n",
       "      <td>드래곤</td>\n",
       "      <td>델포이의 신탁에 따라 암소를 따라간 카드모스는 테베 땅에 이르렀다. 카드모스는 암소...</td>\n",
       "      <td>드래곤의 암수 구분이 있는 신화는?</td>\n",
       "      <td>mrc-0-003956</td>\n",
       "      <td>{'answer_start': [2516], 'text': ['슬라브 신화']}</td>\n",
       "      <td>10924</td>\n",
       "      <td>2595</td>\n",
       "    </tr>\n",
       "    <tr>\n",
       "      <th>3951</th>\n",
       "      <td>2011년 함부르크 주의회 선거</td>\n",
       "      <td>2008년 2월 28일 실시된 2008년 함부르크 주의회 선거에서 기민련은 과반수 ...</td>\n",
       "      <td>올레 폰 보이스트 이후에 시장으로 임명된 사람은 누구인가?</td>\n",
       "      <td>mrc-0-003589</td>\n",
       "      <td>{'answer_start': [189], 'text': ['크리스토포 알하우스']}</td>\n",
       "      <td>27803</td>\n",
       "      <td>2354</td>\n",
       "    </tr>\n",
       "  </tbody>\n",
       "</table>\n",
       "<p>3952 rows × 7 columns</p>\n",
       "</div>"
      ],
      "text/plain": [
       "                  title                                            context  \\\n",
       "0                 미국 상원  미국의 외교정책의 수립과 이행에 대한 주된 책임을 대통령이 지게 되어 있으나, 의회...   \n",
       "1                인사조직관리  인류 역사에서 무리를 지어 살기 시작하면서 조직이 시작되었다. 인류를 위한 다양한 ...   \n",
       "2                   강희제  봉서재(鳳棲齋)는 조선시대 중기 결성장씨(結城張氏)인 장원주(張元胄, 1634~17...   \n",
       "3                금동삼존불감  이 불상군은 1978년 발견되어 학계에 알려졌으며 봉황리 햇골산 중턱 두 곳에 약간...   \n",
       "4               계사명 사리구  소총통은 조선 중기의 대표적인 소형총통인 승자총통의 발전된 형식이다. 약통에 도화선...   \n",
       "...                 ...                                                ...   \n",
       "3947            이오 (위성)  이오의 산\\n이오의 산 목록\\n 이오에는 100~150개의 산이 있다. 이들 산의 ...   \n",
       "3948            내니 다이어리  1933년 뉴욕 시립 고아원. 애니에게는 11년 후 찾아오겠다는 부모의 편지와 목걸...   \n",
       "3949        빈 필하모니 관현악단  1925년에 덴마크 방송 협회(DR) 발족과 함께 부속 악단으로 창단되었으며, 그 ...   \n",
       "3950                드래곤  델포이의 신탁에 따라 암소를 따라간 카드모스는 테베 땅에 이르렀다. 카드모스는 암소...   \n",
       "3951  2011년 함부르크 주의회 선거  2008년 2월 28일 실시된 2008년 함부르크 주의회 선거에서 기민련은 과반수 ...   \n",
       "\n",
       "                                     question            id  \\\n",
       "0            대통령을 포함한 미국의 행정부 견제권을 갖는 국가 기관은?  mrc-1-000067   \n",
       "1                      현대적 인사조직관리의 시발점이 된 책은?  mrc-0-004397   \n",
       "2              강희제가 1717년에 쓴 글은 누구를 위해 쓰여졌는가?  mrc-1-000362   \n",
       "3     11~12세기에 제작된 본존불은 보통 어떤 나라의 특징이 전파되었나요?  mrc-0-001510   \n",
       "4                  명문이 적힌 유물을 구성하는 그릇의 총 개수는?  mrc-0-000823   \n",
       "...                                       ...           ...   \n",
       "3947             대부분의 이오의 산이 형성되는데 영향을 끼친 것은?  mrc-0-005285   \n",
       "3948                           애니는 어디서 태어났는가?  mrc-1-000699   \n",
       "3949     1854년에 니콜라이의 뒤를 이어 상임 지휘자로서 활동한 인물은?  mrc-0-003429   \n",
       "3950                      드래곤의 암수 구분이 있는 신화는?  mrc-0-003956   \n",
       "3951         올레 폰 보이스트 이후에 시장으로 임명된 사람은 누구인가?  mrc-0-003589   \n",
       "\n",
       "                                              answers  document_id  \\\n",
       "0            {'answer_start': [2356], 'text': ['하원']}        18293   \n",
       "1      {'answer_start': [1287], 'text': ['《경영의 실제》']}        51638   \n",
       "2            {'answer_start': [3987], 'text': ['백성']}         5028   \n",
       "3            {'answer_start': [8962], 'text': ['중국']}        34146   \n",
       "4            {'answer_start': [2958], 'text': ['4개']}        47334   \n",
       "...                                               ...          ...   \n",
       "3947       {'answer_start': [317], 'text': ['지질 구조']}         8275   \n",
       "3948        {'answer_start': [1005], 'text': ['뉴저지']}        37764   \n",
       "3949     {'answer_start': [4898], 'text': ['칼 에케르트']}        12730   \n",
       "3950     {'answer_start': [2516], 'text': ['슬라브 신화']}        10924   \n",
       "3951  {'answer_start': [189], 'text': ['크리스토포 알하우스']}        27803   \n",
       "\n",
       "      __index_level_0__  \n",
       "0                    42  \n",
       "1                  2873  \n",
       "2                   230  \n",
       "3                   992  \n",
       "4                   548  \n",
       "...                 ...  \n",
       "3947               3445  \n",
       "3948                450  \n",
       "3949               2252  \n",
       "3950               2595  \n",
       "3951               2354  \n",
       "\n",
       "[3952 rows x 7 columns]"
      ]
     },
     "execution_count": 227,
     "metadata": {},
     "output_type": "execute_result"
    }
   ],
   "source": [
    "contexts = []\n",
    "\n",
    "for i, row in random_shuffles_df.iterrows():\n",
    "    if random_shuffles[i].index(gt_passage_table[i]) == 0:\n",
    "        context = origin_wiki[str(random_shuffles[i][0])]['text']\n",
    "        for j in range(1, len(random_shuffles[i])):\n",
    "            context += ' ' + wiki[str(random_shuffles[i][j])]['text']\n",
    "        contexts.append(context)\n",
    "    elif random_shuffles[i].index(gt_passage_table[i]) == 1:\n",
    "        context = wiki[str(random_shuffles[i][0])]['text']\n",
    "        context += ' ' + origin_wiki[str(random_shuffles[i][1])]['text']\n",
    "        for j in range(2, len(random_shuffles[i])):\n",
    "            context += ' ' + wiki[str(random_shuffles[i][j])]['text']\n",
    "        contexts.append(context)\n",
    "    elif random_shuffles[i].index(gt_passage_table[i]) == 2:\n",
    "        context = wiki[str(random_shuffles[i][0])]['text']\n",
    "        context += ' ' + wiki[str(random_shuffles[i][1])]['text']\n",
    "        context += ' ' + origin_wiki[str(random_shuffles[i][2])]['text']\n",
    "        for j in range(3, len(random_shuffles[i])):\n",
    "            context += ' ' + wiki[str(random_shuffles[i][j])]['text']\n",
    "        contexts.append(context)\n",
    "    elif random_shuffles[i].index(gt_passage_table[i]) == 3:\n",
    "        context = wiki[str(random_shuffles[i][0])]['text']\n",
    "        context += ' ' + wiki[str(random_shuffles[i][1])]['text']\n",
    "        context += ' ' + wiki[str(random_shuffles[i][2])]['text']\n",
    "        context += ' ' + origin_wiki[str(random_shuffles[i][3])]['text']\n",
    "        for j in range(4, len(random_shuffles[i])):\n",
    "            context += ' ' + wiki[str(random_shuffles[i][j])]['text']\n",
    "        contexts.append(context)\n",
    "    elif random_shuffles[i].index(gt_passage_table[i]) == 4:\n",
    "        context = wiki[str(random_shuffles[i][0])]['text']\n",
    "        context += ' ' + wiki[str(random_shuffles[i][1])]['text']\n",
    "        context += ' ' + wiki[str(random_shuffles[i][2])]['text']\n",
    "        context += ' ' + wiki[str(random_shuffles[i][3])]['text']\n",
    "        context += ' ' + origin_wiki[str(random_shuffles[i][4])]['text']\n",
    "        contexts.append(context)\n",
    "\n",
    "random_shuffles_df['context'] = contexts\n",
    "random_shuffles_df['answers'] = random_shuffles_answers.values()\n",
    "random_shuffles_df"
   ]
  },
  {
   "cell_type": "code",
   "execution_count": 229,
   "metadata": {},
   "outputs": [],
   "source": [
    "for i, row in random_shuffles_df.iterrows():\n",
    "    if row['context'][row['answers']['answer_start'][0]] != row['answers']['text'][0][0]:\n",
    "        print(i)"
   ]
  },
  {
   "cell_type": "code",
   "execution_count": 230,
   "metadata": {},
   "outputs": [],
   "source": [
    "Dataset.from_pandas(random_shuffles_df).save_to_disk('../passage_random_shuffle')"
   ]
  },
  {
   "cell_type": "code",
   "execution_count": null,
   "metadata": {},
   "outputs": [],
   "source": []
  },
  {
   "cell_type": "code",
   "execution_count": 256,
   "metadata": {},
   "outputs": [
    {
     "data": {
      "text/html": [
       "<div>\n",
       "<style scoped>\n",
       "    .dataframe tbody tr th:only-of-type {\n",
       "        vertical-align: middle;\n",
       "    }\n",
       "\n",
       "    .dataframe tbody tr th {\n",
       "        vertical-align: top;\n",
       "    }\n",
       "\n",
       "    .dataframe thead th {\n",
       "        text-align: right;\n",
       "    }\n",
       "</style>\n",
       "<table border=\"1\" class=\"dataframe\">\n",
       "  <thead>\n",
       "    <tr style=\"text-align: right;\">\n",
       "      <th></th>\n",
       "      <th>Unnamed: 0</th>\n",
       "      <th>answers</th>\n",
       "      <th>context</th>\n",
       "      <th>id</th>\n",
       "      <th>question</th>\n",
       "    </tr>\n",
       "  </thead>\n",
       "  <tbody>\n",
       "    <tr>\n",
       "      <th>0</th>\n",
       "      <td>0</td>\n",
       "      <td>{'text': ['나라 목록'], 'answer_start': [6]}</td>\n",
       "      <td>이 문서는 나라 목록이며, 전 세계 206개 나라의 각 현황과 주권 승인 정보를 개...</td>\n",
       "      <td>mrc-qg-title-0</td>\n",
       "      <td>전 세계 206개 나라의 현황과 주권 승인 정보를 개요 형태로 나열하고 있는 문서는...</td>\n",
       "    </tr>\n",
       "    <tr>\n",
       "      <th>1</th>\n",
       "      <td>1</td>\n",
       "      <td>{'text': ['백남준'], 'answer_start': [432]}</td>\n",
       "      <td>현 서울특별시 종로구 서린동 (구 일제 강점기 경기도 경성부 서린정) 출신이다. 친...</td>\n",
       "      <td>mrc-qg-title-1</td>\n",
       "      <td>1966년 졸업과 함께 독일로 유학을 떠나 뮌헨 대학교 및 쾰른 대학교 등에서 서양...</td>\n",
       "    </tr>\n",
       "    <tr>\n",
       "      <th>2</th>\n",
       "      <td>2</td>\n",
       "      <td>{'text': ['아오조라 문고'], 'answer_start': [0]}</td>\n",
       "      <td>아오조라 문고(靑空文庫, あおぞらぶんこ|아오조라 분고)는 ‘일본어판 구텐베르크 프로...</td>\n",
       "      <td>mrc-qg-title-2</td>\n",
       "      <td>일본어판 구텐베르크 프로젝트로 불리는 일본의 인터넷 전자도서관이 어디지?</td>\n",
       "    </tr>\n",
       "    <tr>\n",
       "      <th>3</th>\n",
       "      <td>3</td>\n",
       "      <td>{'text': ['데니스 리치'], 'answer_start': [426]}</td>\n",
       "      <td>켄 톰슨(Ken Thompson) 등과 함께 최초의 유닉스(Unix) 시스템을 개발...</td>\n",
       "      <td>mrc-qg-title-3</td>\n",
       "      <td>현재 애플의 컴퓨터는 대부분 누구의 업적을 따르고 있어?</td>\n",
       "    </tr>\n",
       "    <tr>\n",
       "      <th>4</th>\n",
       "      <td>4</td>\n",
       "      <td>{'text': ['주기율표'], 'answer_start': [0]}</td>\n",
       "      <td>주기율표(週期律表, 주기률표, periodic table) 또는 주기표(週期表)는 ...</td>\n",
       "      <td>mrc-qg-title-4</td>\n",
       "      <td>원소를 구분하기 쉽게 성질에 따라 배열한 표가 뭐야?</td>\n",
       "    </tr>\n",
       "    <tr>\n",
       "      <th>...</th>\n",
       "      <td>...</td>\n",
       "      <td>...</td>\n",
       "      <td>...</td>\n",
       "      <td>...</td>\n",
       "      <td>...</td>\n",
       "    </tr>\n",
       "    <tr>\n",
       "      <th>17334</th>\n",
       "      <td>17334</td>\n",
       "      <td>{'text': ['타바투이호'], 'answer_start': [0]}</td>\n",
       "      <td>타바투이호의 형성과 관련하여 전해지는 전설이 있다. 예전에 이 지역에는 아름답고 강...</td>\n",
       "      <td>mrc-qg-title-17334</td>\n",
       "      <td>어느 호수의 형성과 관련하여 전해지는 전설이 있는데, 이 호수의 이름은 무엇인가?</td>\n",
       "    </tr>\n",
       "    <tr>\n",
       "      <th>17335</th>\n",
       "      <td>17335</td>\n",
       "      <td>{'text': ['2022년 FIFA 월드컵 유럽 지역 예선 플레이오프'], 'a...</td>\n",
       "      <td>2022년 FIFA 월드컵 유럽 지역 예선 플레이오프 진행 방식은 2019년 12월...</td>\n",
       "      <td>mrc-qg-title-17335</td>\n",
       "      <td>유럽 축구 연맹 집행위원회를 통해 확정된 진행 방식은?</td>\n",
       "    </tr>\n",
       "    <tr>\n",
       "      <th>17336</th>\n",
       "      <td>17336</td>\n",
       "      <td>{'text': ['자주국방론'], 'answer_start': [8]}</td>\n",
       "      <td>박정희 정부가 자주국방론을 내놓은 배경은 \"아시아의 공산주의 국가와 자유진영 국가의...</td>\n",
       "      <td>mrc-qg-title-17336</td>\n",
       "      <td>박정희 정부가 아시아의 공산주의 국가와 자유진영 국가의 분쟁이 발생했을 시, 분쟁의...</td>\n",
       "    </tr>\n",
       "    <tr>\n",
       "      <th>17337</th>\n",
       "      <td>17337</td>\n",
       "      <td>{'text': ['오키나와 현립 박물관·미술관'], 'answer_start': ...</td>\n",
       "      <td>오키나와 현립 박물관·미술관( , Okinawa Prefectural Museum ...</td>\n",
       "      <td>mrc-qg-title-17337</td>\n",
       "      <td>오키나와에 있는 현립 최초의 복합 문화 시설은?</td>\n",
       "    </tr>\n",
       "    <tr>\n",
       "      <th>17338</th>\n",
       "      <td>17338</td>\n",
       "      <td>{'text': ['단결권 및 단체교섭권 협약'], 'answer_start': [0]}</td>\n",
       "      <td>단결권 및 단체교섭권 협약(Right to Organise and Collectiv...</td>\n",
       "      <td>mrc-qg-title-17338</td>\n",
       "      <td>국제 노동 기구의 제98호 협약이 뭐지?</td>\n",
       "    </tr>\n",
       "  </tbody>\n",
       "</table>\n",
       "<p>17339 rows × 5 columns</p>\n",
       "</div>"
      ],
      "text/plain": [
       "       Unnamed: 0                                            answers  \\\n",
       "0               0           {'text': ['나라 목록'], 'answer_start': [6]}   \n",
       "1               1           {'text': ['백남준'], 'answer_start': [432]}   \n",
       "2               2         {'text': ['아오조라 문고'], 'answer_start': [0]}   \n",
       "3               3        {'text': ['데니스 리치'], 'answer_start': [426]}   \n",
       "4               4            {'text': ['주기율표'], 'answer_start': [0]}   \n",
       "...           ...                                                ...   \n",
       "17334       17334           {'text': ['타바투이호'], 'answer_start': [0]}   \n",
       "17335       17335  {'text': ['2022년 FIFA 월드컵 유럽 지역 예선 플레이오프'], 'a...   \n",
       "17336       17336           {'text': ['자주국방론'], 'answer_start': [8]}   \n",
       "17337       17337  {'text': ['오키나와 현립 박물관·미술관'], 'answer_start': ...   \n",
       "17338       17338  {'text': ['단결권 및 단체교섭권 협약'], 'answer_start': [0]}   \n",
       "\n",
       "                                                 context                  id  \\\n",
       "0      이 문서는 나라 목록이며, 전 세계 206개 나라의 각 현황과 주권 승인 정보를 개...      mrc-qg-title-0   \n",
       "1      현 서울특별시 종로구 서린동 (구 일제 강점기 경기도 경성부 서린정) 출신이다. 친...      mrc-qg-title-1   \n",
       "2      아오조라 문고(靑空文庫, あおぞらぶんこ|아오조라 분고)는 ‘일본어판 구텐베르크 프로...      mrc-qg-title-2   \n",
       "3      켄 톰슨(Ken Thompson) 등과 함께 최초의 유닉스(Unix) 시스템을 개발...      mrc-qg-title-3   \n",
       "4      주기율표(週期律表, 주기률표, periodic table) 또는 주기표(週期表)는 ...      mrc-qg-title-4   \n",
       "...                                                  ...                 ...   \n",
       "17334  타바투이호의 형성과 관련하여 전해지는 전설이 있다. 예전에 이 지역에는 아름답고 강...  mrc-qg-title-17334   \n",
       "17335  2022년 FIFA 월드컵 유럽 지역 예선 플레이오프 진행 방식은 2019년 12월...  mrc-qg-title-17335   \n",
       "17336  박정희 정부가 자주국방론을 내놓은 배경은 \"아시아의 공산주의 국가와 자유진영 국가의...  mrc-qg-title-17336   \n",
       "17337  오키나와 현립 박물관·미술관( , Okinawa Prefectural Museum ...  mrc-qg-title-17337   \n",
       "17338  단결권 및 단체교섭권 협약(Right to Organise and Collectiv...  mrc-qg-title-17338   \n",
       "\n",
       "                                                question  \n",
       "0      전 세계 206개 나라의 현황과 주권 승인 정보를 개요 형태로 나열하고 있는 문서는...  \n",
       "1      1966년 졸업과 함께 독일로 유학을 떠나 뮌헨 대학교 및 쾰른 대학교 등에서 서양...  \n",
       "2               일본어판 구텐베르크 프로젝트로 불리는 일본의 인터넷 전자도서관이 어디지?  \n",
       "3                        현재 애플의 컴퓨터는 대부분 누구의 업적을 따르고 있어?  \n",
       "4                          원소를 구분하기 쉽게 성질에 따라 배열한 표가 뭐야?  \n",
       "...                                                  ...  \n",
       "17334      어느 호수의 형성과 관련하여 전해지는 전설이 있는데, 이 호수의 이름은 무엇인가?  \n",
       "17335                     유럽 축구 연맹 집행위원회를 통해 확정된 진행 방식은?  \n",
       "17336  박정희 정부가 아시아의 공산주의 국가와 자유진영 국가의 분쟁이 발생했을 시, 분쟁의...  \n",
       "17337                         오키나와에 있는 현립 최초의 복합 문화 시설은?  \n",
       "17338                             국제 노동 기구의 제98호 협약이 뭐지?  \n",
       "\n",
       "[17339 rows x 5 columns]"
      ]
     },
     "execution_count": 256,
     "metadata": {},
     "output_type": "execute_result"
    }
   ],
   "source": [
    "qg = pd.read_csv('../wiki_title_question_generation.csv')\n",
    "qg"
   ]
  },
  {
   "cell_type": "code",
   "execution_count": 283,
   "metadata": {},
   "outputs": [],
   "source": [
    "with open('../es_qg_title.pickle','rb') as f:\n",
    "    es_qg = pickle.load(f)"
   ]
  },
  {
   "cell_type": "code",
   "execution_count": 284,
   "metadata": {},
   "outputs": [
    {
     "name": "stderr",
     "output_type": "stream",
     "text": [
      "100%|██████████| 17339/17339 [11:20<00:00, 25.47it/s]\n"
     ]
    },
    {
     "data": {
      "text/plain": [
       "17339"
      ]
     },
     "execution_count": 284,
     "metadata": {},
     "output_type": "execute_result"
    }
   ],
   "source": [
    "from tqdm import tqdm\n",
    "qg_passage_id_map = {}\n",
    "for i, row in tqdm(qg.iterrows(), total=len(qg)):\n",
    "    c = row['context']\n",
    "    for j in range(len(wiki)):\n",
    "        if wiki[str(j)]['text'] == c:\n",
    "            qg_passage_id_map[i] = j\n",
    "len(qg_passage_id_map)"
   ]
  },
  {
   "cell_type": "code",
   "execution_count": 285,
   "metadata": {},
   "outputs": [
    {
     "data": {
      "text/plain": [
       "116"
      ]
     },
     "execution_count": 285,
     "metadata": {},
     "output_type": "execute_result"
    }
   ],
   "source": [
    "err_idx = [266,378,407,636,712,860,890,947,1030,1106,1202,1608,1693,1764,1895,2082,2084,2232,2238,2468,2502,2554,2565,2870,2954,3253,3308,3399,3416,3632,3700,4025,4483,4623,4718,4882,5338,5435,5542,5633,5755,5983,6255,6279,6351,6575,6725,6969,7211,7574,7937,8193,8486,8719,8760,8798,9048,9190,9462,9594,9671,10239,10752,10849,10927,11178,11482,11693,11937,11977,11981,12111,12334,12596,12612,12677,12772,12841,12842,12853,12932,13061,13090,13157,13264,13302,13414,13424,13641,13929,14019,14044,14189,14230,14812,14899,15004,15035,15041,15087,15145,15292,15311,15327,15371,15382,15914,16014,16270,16275,16615,16652,16845,17115,17203,17306]\n",
    "len(err_idx)"
   ]
  },
  {
   "cell_type": "code",
   "execution_count": 277,
   "metadata": {},
   "outputs": [
    {
     "data": {
      "text/plain": [
       "17222"
      ]
     },
     "execution_count": 277,
     "metadata": {},
     "output_type": "execute_result"
    }
   ],
   "source": [
    "qg_question = list(es_qg.keys())\n",
    "qg_passage = list(es_qg.values())\n",
    "\n",
    "qg_train = []\n",
    "errs = []\n",
    "for i, q in enumerate(qg_question):\n",
    "    gt_id = qg_passage_id_map[i]\n",
    "    answer = eval(qg['answers'][i])['text'][0]\n",
    "\n",
    "    concat_ids = [gt_id]\n",
    "    for j, p_id_score in enumerate(qg_passage[i]):\n",
    "        p_id = p_id_score['id']\n",
    "        if gt_id != p_id and p_id not in concat_ids and answer not in wiki[p_id]:\n",
    "            concat_ids.append(p_id)\n",
    "        if len(concat_ids) == 5:\n",
    "            break\n",
    "        if j == len(qg_passage[i]) - 1 and len(concat_ids) < 5:\n",
    "            errs.append(i)\n",
    "    \n",
    "    qg_train.append(concat_ids)\n",
    "\n",
    "len(qg_train)"
   ]
  },
  {
   "cell_type": "code",
   "execution_count": 280,
   "metadata": {},
   "outputs": [
    {
     "data": {
      "text/plain": [
       "17222"
      ]
     },
     "execution_count": 280,
     "metadata": {},
     "output_type": "execute_result"
    }
   ],
   "source": [
    "len(qg_passage)"
   ]
  },
  {
   "cell_type": "code",
   "execution_count": 278,
   "metadata": {},
   "outputs": [
    {
     "data": {
      "text/plain": [
       "[]"
      ]
     },
     "execution_count": 278,
     "metadata": {},
     "output_type": "execute_result"
    }
   ],
   "source": [
    "errs"
   ]
  },
  {
   "cell_type": "code",
   "execution_count": 265,
   "metadata": {},
   "outputs": [
    {
     "data": {
      "text/plain": [
       "[4554, '2', '4556', '12322', '49426']"
      ]
     },
     "execution_count": 265,
     "metadata": {},
     "output_type": "execute_result"
    }
   ],
   "source": [
    "qg_train[0]"
   ]
  },
  {
   "cell_type": "code",
   "execution_count": 266,
   "metadata": {},
   "outputs": [
    {
     "data": {
      "text/plain": [
       "4554"
      ]
     },
     "execution_count": 266,
     "metadata": {},
     "output_type": "execute_result"
    }
   ],
   "source": [
    "qg_random_shuffles = [qg_ids for qg_ids in qg_train]\n",
    "\n",
    "qg_gt_passage_table = {}\n",
    "qg_gt_passage_table = {i: concat_ids[0] for i, concat_ids in enumerate(qg_random_shuffles)}\n",
    "qg_gt_passage_table[0]"
   ]
  },
  {
   "cell_type": "code",
   "execution_count": 270,
   "metadata": {},
   "outputs": [
    {
     "ename": "IndexError",
     "evalue": "list index out of range",
     "output_type": "error",
     "traceback": [
      "\u001b[0;31m---------------------------------------------------------------------------\u001b[0m",
      "\u001b[0;31mIndexError\u001b[0m                                Traceback (most recent call last)",
      "\u001b[0;32m<ipython-input-270-6370f0eb527e>\u001b[0m in \u001b[0;36m<module>\u001b[0;34m\u001b[0m\n\u001b[1;32m     41\u001b[0m \u001b[0;34m\u001b[0m\u001b[0m\n\u001b[1;32m     42\u001b[0m \u001b[0;32mfor\u001b[0m \u001b[0mi\u001b[0m\u001b[0;34m,\u001b[0m \u001b[0mrow\u001b[0m \u001b[0;32min\u001b[0m \u001b[0mqg_random_shuffles_df\u001b[0m\u001b[0;34m.\u001b[0m\u001b[0miterrows\u001b[0m\u001b[0;34m(\u001b[0m\u001b[0;34m)\u001b[0m\u001b[0;34m:\u001b[0m\u001b[0;34m\u001b[0m\u001b[0;34m\u001b[0m\u001b[0m\n\u001b[0;32m---> 43\u001b[0;31m     \u001b[0;32mif\u001b[0m \u001b[0mqg_random_shuffles\u001b[0m\u001b[0;34m[\u001b[0m\u001b[0mi\u001b[0m\u001b[0;34m]\u001b[0m\u001b[0;34m.\u001b[0m\u001b[0mindex\u001b[0m\u001b[0;34m(\u001b[0m\u001b[0mqg_gt_passage_table\u001b[0m\u001b[0;34m[\u001b[0m\u001b[0mi\u001b[0m\u001b[0;34m]\u001b[0m\u001b[0;34m)\u001b[0m \u001b[0;34m==\u001b[0m \u001b[0;36m0\u001b[0m\u001b[0;34m:\u001b[0m\u001b[0;34m\u001b[0m\u001b[0;34m\u001b[0m\u001b[0m\n\u001b[0m\u001b[1;32m     44\u001b[0m         \u001b[0mcontext\u001b[0m \u001b[0;34m=\u001b[0m \u001b[0morigin_wiki\u001b[0m\u001b[0;34m[\u001b[0m\u001b[0mstr\u001b[0m\u001b[0;34m(\u001b[0m\u001b[0mqg_random_shuffles\u001b[0m\u001b[0;34m[\u001b[0m\u001b[0mi\u001b[0m\u001b[0;34m]\u001b[0m\u001b[0;34m[\u001b[0m\u001b[0;36m0\u001b[0m\u001b[0;34m]\u001b[0m\u001b[0;34m)\u001b[0m\u001b[0;34m]\u001b[0m\u001b[0;34m[\u001b[0m\u001b[0;34m'text'\u001b[0m\u001b[0;34m]\u001b[0m\u001b[0;34m\u001b[0m\u001b[0;34m\u001b[0m\u001b[0m\n\u001b[1;32m     45\u001b[0m         \u001b[0;32mfor\u001b[0m \u001b[0mj\u001b[0m \u001b[0;32min\u001b[0m \u001b[0mrange\u001b[0m\u001b[0;34m(\u001b[0m\u001b[0;36m1\u001b[0m\u001b[0;34m,\u001b[0m \u001b[0mlen\u001b[0m\u001b[0;34m(\u001b[0m\u001b[0mqg_random_shuffles\u001b[0m\u001b[0;34m[\u001b[0m\u001b[0mi\u001b[0m\u001b[0;34m]\u001b[0m\u001b[0;34m)\u001b[0m\u001b[0;34m)\u001b[0m\u001b[0;34m:\u001b[0m\u001b[0;34m\u001b[0m\u001b[0;34m\u001b[0m\u001b[0m\n",
      "\u001b[0;31mIndexError\u001b[0m: list index out of range"
     ]
    }
   ],
   "source": [
    "import random\n",
    "\n",
    "random.seed(42)\n",
    "\n",
    "for i in range(len(qg_random_shuffles)):\n",
    "    random.shuffle(qg_random_shuffles[i])\n",
    "\n",
    "qg_random_shuffles_answers = {}\n",
    "\n",
    "for i in range(len(qg_random_shuffles)):\n",
    "    answers = eval(qg['answers'][i])\n",
    "    passage_len = 0\n",
    "\n",
    "    if qg_random_shuffles[i].index(qg_gt_passage_table[i]) == 0:\n",
    "        pass\n",
    "\n",
    "    elif qg_random_shuffles[i].index(qg_gt_passage_table[i]) == 1:\n",
    "        for concat_wiki_id in qg_random_shuffles[i][:1]:\n",
    "            passage_len += len(wiki[str(concat_wiki_id)]['text'])\n",
    "        answers['answer_start'] = [passage_len + 1 + answers['answer_start'][0]] # insert one space when concatenate\n",
    "\n",
    "    elif qg_random_shuffles[i].index(qg_gt_passage_table[i]) == 2:\n",
    "        for concat_wiki_id in qg_random_shuffles[i][:2]:\n",
    "            passage_len += len(wiki[str(concat_wiki_id)]['text'])\n",
    "        answers['answer_start'] = [passage_len + 2 + answers['answer_start'][0]] # insert two space when concatenate\n",
    "\n",
    "    elif qg_random_shuffles[i].index(qg_gt_passage_table[i]) == 3:\n",
    "        for concat_wiki_id in qg_random_shuffles[i][:3]:\n",
    "            passage_len += len(wiki[str(concat_wiki_id)]['text'])\n",
    "        answers['answer_start'] = [passage_len + 3 + answers['answer_start'][0]] # insert three space when concatenate\n",
    "\n",
    "    elif qg_random_shuffles[i].index(qg_gt_passage_table[i]) == 4:\n",
    "        for concat_wiki_id in qg_random_shuffles[i][:4]:\n",
    "            passage_len += len(wiki[str(concat_wiki_id)]['text'])\n",
    "        answers['answer_start'] = [passage_len + 4 + answers['answer_start'][0]] # insert four space when concatenate\n",
    "        \n",
    "    qg_random_shuffles_answers[i] = answers\n",
    "\n",
    "qg_random_shuffles_df = qg.copy()\n",
    "contexts = []\n",
    "\n",
    "for i, row in qg_random_shuffles_df.iterrows():\n",
    "    if qg_random_shuffles[i].index(qg_gt_passage_table[i]) == 0:\n",
    "        context = origin_wiki[str(qg_random_shuffles[i][0])]['text']\n",
    "        for j in range(1, len(qg_random_shuffles[i])):\n",
    "            context += ' ' + wiki[str(qg_random_shuffles[i][j])]['text']\n",
    "        contexts.append(context)\n",
    "    elif qg_random_shuffles[i].index(qg_gt_passage_table[i]) == 1:\n",
    "        context = wiki[str(qg_random_shuffles[i][0])]['text']\n",
    "        context += ' ' + origin_wiki[str(qg_random_shuffles[i][1])]['text']\n",
    "        for j in range(2, len(qg_random_shuffles[i])):\n",
    "            context += ' ' + wiki[str(qg_random_shuffles[i][j])]['text']\n",
    "        contexts.append(context)\n",
    "    elif qg_random_shuffles[i].index(qg_gt_passage_table[i]) == 2:\n",
    "        context = wiki[str(qg_random_shuffles[i][0])]['text']\n",
    "        context += ' ' + wiki[str(qg_random_shuffles[i][1])]['text']\n",
    "        context += ' ' + origin_wiki[str(qg_random_shuffles[i][2])]['text']\n",
    "        for j in range(3, len(qg_random_shuffles[i])):\n",
    "            context += ' ' + wiki[str(qg_random_shuffles[i][j])]['text']\n",
    "        contexts.append(context)\n",
    "    elif qg_random_shuffles[i].index(qg_gt_passage_table[i]) == 3:\n",
    "        context = wiki[str(qg_random_shuffles[i][0])]['text']\n",
    "        context += ' ' + wiki[str(qg_random_shuffles[i][1])]['text']\n",
    "        context += ' ' + wiki[str(qg_random_shuffles[i][2])]['text']\n",
    "        context += ' ' + origin_wiki[str(qg_random_shuffles[i][3])]['text']\n",
    "        for j in range(4, len(qg_random_shuffles[i])):\n",
    "            context += ' ' + wiki[str(qg_random_shuffles[i][j])]['text']\n",
    "        contexts.append(context)\n",
    "    elif qg_random_shuffles[i].index(qg_gt_passage_table[i]) == 4:\n",
    "        context = wiki[str(qg_random_shuffles[i][0])]['text']\n",
    "        context += ' ' + wiki[str(qg_random_shuffles[i][1])]['text']\n",
    "        context += ' ' + wiki[str(qg_random_shuffles[i][2])]['text']\n",
    "        context += ' ' + wiki[str(qg_random_shuffles[i][3])]['text']\n",
    "        context += ' ' + origin_wiki[str(qg_random_shuffles[i][4])]['text']\n",
    "        contexts.append(context)\n",
    "\n",
    "qg_random_shuffles_df['context'] = contexts\n",
    "qg_random_shuffles_df['answers'] = qg_random_shuffles_answers.values()\n",
    "qg_random_shuffles_df"
   ]
  },
  {
   "cell_type": "code",
   "execution_count": 276,
   "metadata": {},
   "outputs": [
    {
     "data": {
      "text/plain": [
       "17339"
      ]
     },
     "execution_count": 276,
     "metadata": {},
     "output_type": "execute_result"
    }
   ],
   "source": [
    "len(qg_random_shuffles_df)"
   ]
  },
  {
   "cell_type": "code",
   "execution_count": null,
   "metadata": {},
   "outputs": [],
   "source": []
  }
 ],
 "metadata": {
  "interpreter": {
   "hash": "d4d1e4263499bec80672ea0156c357c1ee493ec2b1c70f0acce89fc37c4a6abe"
  },
  "kernelspec": {
   "display_name": "Python 3.8.5 64-bit ('base': conda)",
   "name": "python3"
  },
  "language_info": {
   "codemirror_mode": {
    "name": "ipython",
    "version": 3
   },
   "file_extension": ".py",
   "mimetype": "text/x-python",
   "name": "python",
   "nbconvert_exporter": "python",
   "pygments_lexer": "ipython3",
   "version": "3.8.5"
  },
  "orig_nbformat": 4
 },
 "nbformat": 4,
 "nbformat_minor": 2
}
