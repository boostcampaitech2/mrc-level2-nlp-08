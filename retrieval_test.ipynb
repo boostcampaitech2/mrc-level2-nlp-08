{
 "cells": [
  {
   "cell_type": "code",
   "execution_count": 2,
   "metadata": {},
   "outputs": [],
   "source": [
    "from datasets import load_from_disk, Dataset\n",
    "from transformers import AutoTokenizer, AutoConfig\n",
    "import numpy as np\n",
    "from tqdm import tqdm, trange\n",
    "import torch\n",
    "import torch.nn.functional as F\n",
    "#from retrieval_model import BertEncoder\n",
    "from transformers import AdamW, TrainingArguments, get_linear_schedule_with_warmup\n",
    "from torch import nn\n",
    "from sklearn.feature_extraction.text import TfidfVectorizer\n",
    "import pandas as pd\n",
    "from torch.utils.data import (DataLoader, RandomSampler, TensorDataset, SequentialSampler)\n",
    "from tqdm import tqdm, trange\n",
    "import pickle\n",
    "import os, json"
   ]
  },
  {
   "cell_type": "code",
   "execution_count": 3,
   "metadata": {},
   "outputs": [],
   "source": [
    "train_dataset = load_from_disk(\"/opt/ml/data/train_dataset/train\")\n",
    "valid_dataset = load_from_disk(\"/opt/ml/data/train_dataset/validation\")\n",
    "#wiki_dataset = pd.read_json('../data/wikipedia_documents.json',orient='index') # wiki context\n",
    "data_path = \"../data/\"\n",
    "context_path = \"wikipedia_documents.json\"\n",
    "with open(os.path.join(data_path, context_path), \"r\", encoding=\"utf-8\") as f:\n",
    "    wiki = json.load(f)\n",
    "\n",
    "wiki_dataset = list(\n",
    "    dict.fromkeys([v[\"text\"] for v in wiki.values()])\n",
    ") \n",
    "\n",
    "\n",
    "test_dataset = load_from_disk('/opt/ml/data/test_dataset/validation')\n"
   ]
  },
  {
   "cell_type": "code",
   "execution_count": 4,
   "metadata": {},
   "outputs": [],
   "source": [
    "valid_corpus = list(set(valid_dataset['context']))\n",
    "train_corpus = list(set(train_dataset['context']))\n",
    "wiki_corpus = list(set(wiki_dataset))\n",
    "query = valid_dataset['question']\n",
    "test_query = test_dataset['question']"
   ]
  },
  {
   "cell_type": "code",
   "execution_count": 5,
   "metadata": {},
   "outputs": [
    {
     "name": "stderr",
     "output_type": "stream",
     "text": [
      "/opt/conda/lib/python3.8/site-packages/sklearn/feature_extraction/text.py:489: UserWarning: The parameter 'token_pattern' will not be used since 'tokenizer' is not None'\n",
      "  warnings.warn(\"The parameter 'token_pattern' will not be used\"\n",
      "Token indices sequence length is longer than the specified maximum sequence length for this model (647 > 512). Running this sequence through the model will result in indexing errors\n"
     ]
    }
   ],
   "source": [
    "#tf-idf\n",
    "tokenizer = AutoTokenizer.from_pretrained('klue/bert-base')\n",
    "tokenizer_func = tokenizer.tokenize\n",
    "vectorizer = TfidfVectorizer(tokenizer=tokenizer_func, ngram_range=(1,2),max_features=50000)\n",
    "vectorizer.fit(wiki_corpus) # wiki_corpus 학습\n",
    "sp_matrix = vectorizer.transform(wiki_corpus)\n",
    "query_vec = vectorizer.transform(query)"
   ]
  },
  {
   "cell_type": "code",
   "execution_count": 13,
   "metadata": {},
   "outputs": [
    {
     "name": "stdout",
     "output_type": "stream",
     "text": [
      "(240, 50000)\n",
      "(56737, 50000)\n"
     ]
    }
   ],
   "source": [
    "print(query_vec.shape)\n",
    "print(sp_matrix.shape)"
   ]
  },
  {
   "cell_type": "code",
   "execution_count": 14,
   "metadata": {},
   "outputs": [],
   "source": [
    "result = query_vec * sp_matrix.T # tf-idf-metrix\n"
   ]
  },
  {
   "cell_type": "code",
   "execution_count": 19,
   "metadata": {},
   "outputs": [],
   "source": [
    "ground_truth_list = []\n",
    "top_k_tfidf_valid = {}\n",
    "\n",
    "for i in range(len(query)):\n",
    "\n",
    "  idx = i\n",
    "\n",
    "  passage_result = result[idx].data\n",
    "  sorted_result = np.argsort(-passage_result)\n",
    "  doc_scores = result[idx].data[sorted_result]\n",
    "  doc_ids = result[idx].indices[sorted_result]\n",
    "  q = query[idx]\n",
    "  k = 150 # top_100까지 저장\n",
    "  #print(ground_truth, \"\\n\")\n",
    "  temp_top_k = []\n",
    "  for i in range(k):\n",
    "    doc_id = doc_ids[i]\n",
    "    temp_top_k.append(wiki_corpus[doc_id]) # retrieval\n",
    "  top_k_tfidf_valid[q] = temp_top_k\n",
    "  "
   ]
  },
  {
   "cell_type": "code",
   "execution_count": 20,
   "metadata": {},
   "outputs": [],
   "source": [
    "# 저장\n",
    "with open(\"/opt/ml/data/tfidf_fit_train.bin\", \"wb\") as file:\n",
    "    pickle.dump(top_k_tfidf_valid,file)\n"
   ]
  },
  {
   "cell_type": "markdown",
   "metadata": {
    "tags": []
   },
   "source": [
    "#### BM25 "
   ]
  },
  {
   "cell_type": "code",
   "execution_count": 21,
   "metadata": {},
   "outputs": [],
   "source": [
    "from rank_bm25 import BM25Okapi"
   ]
  },
  {
   "cell_type": "code",
   "execution_count": 22,
   "metadata": {},
   "outputs": [],
   "source": [
    "tokenized_corpus = [tokenizer.tokenize(context) for context in wiki_corpus]\n",
    "bm25 = BM25Okapi(tokenized_corpus)"
   ]
  },
  {
   "cell_type": "code",
   "execution_count": 30,
   "metadata": {},
   "outputs": [
    {
     "name": "stdout",
     "output_type": "stream",
     "text": [
      "100\n",
      "200\n"
     ]
    }
   ],
   "source": [
    "top_k_bm25_valid = {}\n",
    "count = 0\n",
    "for q in query:\n",
    "    top_k_bm25 = []\n",
    "    encoded_query = tokenizer.tokenize(q)\n",
    "    top_150 = bm25.get_top_n(encoded_query, wiki_corpus, n=200)\n",
    "    count += 1\n",
    "    if count%100 == 0:\n",
    "        print(count)\n",
    "    top_k_bm25_valid[q] = top_150"
   ]
  },
  {
   "cell_type": "code",
   "execution_count": 28,
   "metadata": {},
   "outputs": [],
   "source": [
    "with open(\"/opt/ml/data/bm25_fit_train.bin\", \"wb\") as file:\n",
    "    pickle.dump(top_k_bm25_valid,file)"
   ]
  },
  {
   "cell_type": "code",
   "execution_count": 9,
   "metadata": {
    "jupyter": {
     "source_hidden": true
    },
    "tags": []
   },
   "outputs": [],
   "source": [
    "p_encoder = BertEncoder.from_pretrained(\"/opt/ml/mrc-level2-nlp-08/retrieval/p_encoder\")\n",
    "q_encoder = BertEncoder.from_pretrained(\"/opt/ml/mrc-level2-nlp-08/retrieval/q_encoder\")\n",
    "tokenizer =  AutoTokenizer.from_pretrained(\"kykim/bert-kor-base\" )"
   ]
  },
  {
   "cell_type": "code",
   "execution_count": 10,
   "metadata": {
    "jupyter": {
     "source_hidden": true
    },
    "tags": []
   },
   "outputs": [
    {
     "name": "stderr",
     "output_type": "stream",
     "text": [
      "Iteration: 100%|██████████| 1774/1774 [09:48<00:00,  3.02it/s]\n"
     ]
    }
   ],
   "source": [
    "eval_batch_size = 32\n",
    "def to_cuda(batch):\n",
    "  return tuple(t.cuda() for t in batch)\n",
    "if torch.cuda.is_available():\n",
    "    p_encoder.cuda()\n",
    "    q_encoder.cuda()\n",
    "\n",
    "# Construt dataloader\n",
    "train_p_seqs = tokenizer(wiki_corpus, padding=\"max_length\", truncation=True, return_tensors='pt')\n",
    "valid_dataset = TensorDataset(\n",
    "    train_p_seqs[\"input_ids\"],\n",
    "    train_p_seqs[\"attention_mask\"],\n",
    "    train_p_seqs[\"token_type_ids\"]\n",
    ")\n",
    "valid_sampler = SequentialSampler(valid_dataset)\n",
    "valid_dataloader = DataLoader(\n",
    "    valid_dataset,\n",
    "    sampler=valid_sampler,\n",
    "    batch_size=eval_batch_size\n",
    ")\n",
    "\n",
    "# Inference using the passage encoder to get dense embeddeings\n",
    "p_embs = []\n",
    "\n",
    "with torch.no_grad():\n",
    "\n",
    "    epoch_iterator = tqdm(\n",
    "        valid_dataloader,\n",
    "        desc=\"Iteration\",\n",
    "        position=0,\n",
    "        leave=True\n",
    "    )\n",
    "    p_encoder.eval()\n",
    "\n",
    "    for _, batch in enumerate(epoch_iterator):\n",
    "        batch = tuple(t.cuda() for t in batch)\n",
    "\n",
    "        p_inputs = {\n",
    "            \"input_ids\": batch[0],\n",
    "            \"attention_mask\": batch[1],\n",
    "            \"token_type_ids\": batch[2]\n",
    "        }\n",
    "        \n",
    "        outputs = p_encoder(**p_inputs).to(\"cpu\").numpy()\n",
    "        p_embs.extend(outputs)\n",
    "\n",
    "torch.cuda.empty_cache()"
   ]
  },
  {
   "cell_type": "code",
   "execution_count": 11,
   "metadata": {
    "jupyter": {
     "source_hidden": true
    },
    "tags": []
   },
   "outputs": [
    {
     "name": "stderr",
     "output_type": "stream",
     "text": [
      "Iteration: 100%|██████████| 8/8 [00:02<00:00,  3.27it/s]"
     ]
    },
    {
     "name": "stdout",
     "output_type": "stream",
     "text": [
      "done\n"
     ]
    },
    {
     "name": "stderr",
     "output_type": "stream",
     "text": [
      "\n"
     ]
    }
   ],
   "source": [
    "train_q_seqs = tokenizer(\n",
    "    query,\n",
    "    padding=\"max_length\",\n",
    "    truncation=True,\n",
    "    return_tensors=\"pt\"\n",
    ")\n",
    "\n",
    "query_dataset = TensorDataset(\n",
    "    train_q_seqs[\"input_ids\"],\n",
    "    train_q_seqs[\"attention_mask\"],\n",
    "    train_q_seqs[\"token_type_ids\"]\n",
    ")\n",
    "\n",
    "query_sampler = SequentialSampler(query_dataset)\n",
    "query_dataloader = DataLoader(\n",
    "    query_dataset,\n",
    "    sampler=query_sampler,\n",
    "    batch_size=eval_batch_size\n",
    ")\n",
    "\n",
    "q_embs = []\n",
    "\n",
    "with torch.no_grad():\n",
    "\n",
    "    epoch_iterator = tqdm(\n",
    "        query_dataloader,\n",
    "        desc=\"Iteration\",\n",
    "        position=0,\n",
    "        leave=True\n",
    "    )\n",
    "    q_encoder.eval()\n",
    "\n",
    "    for _, batch in enumerate(epoch_iterator):\n",
    "        batch = tuple(t.cuda() for t in batch)\n",
    "\n",
    "        q_inputs = {\n",
    "            \"input_ids\": batch[0],\n",
    "            \"attention_mask\": batch[1],\n",
    "            \"token_type_ids\": batch[2]\n",
    "        }\n",
    "        \n",
    "        outputs = q_encoder(**q_inputs).to(\"cpu\").numpy()\n",
    "        q_embs.extend(outputs)\n",
    "\n",
    "torch.cuda.empty_cache()\n",
    "print('done')"
   ]
  },
  {
   "cell_type": "code",
   "execution_count": 12,
   "metadata": {
    "jupyter": {
     "source_hidden": true
    },
    "tags": []
   },
   "outputs": [
    {
     "name": "stdout",
     "output_type": "stream",
     "text": [
      "(56737, 768)\n",
      "(240, 768)\n"
     ]
    }
   ],
   "source": [
    "p_embs = np.array(p_embs)\n",
    "q_embs = np.array(q_embs)\n",
    "\n",
    "print(p_embs.shape)\n",
    "print(q_embs.shape)"
   ]
  },
  {
   "cell_type": "code",
   "execution_count": 13,
   "metadata": {
    "jupyter": {
     "source_hidden": true
    },
    "tags": []
   },
   "outputs": [],
   "source": [
    "if torch.cuda.is_available():\n",
    "    p_embs_cuda = torch.Tensor(p_embs).to('cuda')\n",
    "    q_embs_cuda = torch.Tensor(q_embs).to('cuda')\n",
    "\n",
    "dot_prod_scores = torch.matmul(q_embs_cuda, torch.transpose(p_embs_cuda, 0, 1))\n",
    "rank = torch.argsort(dot_prod_scores, dim=1, descending=True).squeeze()"
   ]
  },
  {
   "cell_type": "code",
   "execution_count": 15,
   "metadata": {
    "jupyter": {
     "source_hidden": true
    },
    "tags": []
   },
   "outputs": [
    {
     "name": "stderr",
     "output_type": "stream",
     "text": [
      "100%|██████████| 240/240 [00:00<00:00, 461.38it/s]\n"
     ]
    }
   ],
   "source": [
    "dense_p_retrieval_result = {}\n",
    "idx = 0\n",
    "for i in tqdm(range(len(query))):\n",
    "    p_list = []\n",
    "    q = query[i]\n",
    "    for j in range(100):\n",
    "        p_list.append(wiki_corpus[rank[idx][j]])\n",
    "    dense_p_retrieval_result[q] = p_list\n",
    "    idx += 1"
   ]
  },
  {
   "cell_type": "code",
   "execution_count": 16,
   "metadata": {
    "jupyter": {
     "source_hidden": true
    },
    "tags": []
   },
   "outputs": [],
   "source": [
    "#저장\n",
    "with open(\"/opt/ml/data/dense_fit_train.bin\", \"wb\") as file:\n",
    "    pickle.dump(dense_p_retrieval_result,file)"
   ]
  },
  {
   "cell_type": "code",
   "execution_count": 39,
   "metadata": {},
   "outputs": [
    {
     "name": "stdout",
     "output_type": "stream",
     "text": [
      "score_top_k :  100\n",
      "TF-IDF ACC :  0.9041666666666667\n",
      "BM25 ACC :  0.975\n",
      "\n"
     ]
    }
   ],
   "source": [
    "valid_dataset = load_from_disk(\"/opt/ml/data/train_dataset/validation\")\n",
    "#top_k_list = [1 ,5, 10, 20, 50, 100, 150, 200]\n",
    "top_k_list = [100]\n",
    "\n",
    "wrong_idx = {}\n",
    "\n",
    "for top_k in top_k_list:\n",
    "\n",
    "    tfdif_acc = 0\n",
    "    bm25_acc = 0\n",
    "    for i in range(len(query)):\n",
    "        q = query[i]\n",
    "        ground_truth = valid_dataset['context'][i]\n",
    "\n",
    "        flag = 0\n",
    "        if ground_truth in top_k_tfidf_valid[q][:top_k]:\n",
    "            tfdif_acc += 1\n",
    "        if ground_truth in top_k_bm25_valid[q][:top_k]:\n",
    "            bm25_acc += 1\n",
    "            flag = 1\n",
    "        if flag == 0:\n",
    "            wrong_idx[i] = top_k_bm25_valid[q][:top_k]\n",
    "    print('score_top_k : ', top_k)\n",
    "    print('TF-IDF ACC : ', tfdif_acc / len(query))\n",
    "    print('BM25 ACC : ', bm25_acc / len(query))\n",
    "    print()\n"
   ]
  },
  {
   "cell_type": "code",
   "execution_count": 64,
   "metadata": {
    "tags": []
   },
   "outputs": [
    {
     "name": "stdout",
     "output_type": "stream",
     "text": [
      "{'answer_start': [284], 'text': ['한보철강']}\n"
     ]
    },
    {
     "data": {
      "text/plain": [
       "['한보철강',\n",
       " '1871년',\n",
       " '나뭇잎',\n",
       " '금대야',\n",
       " '수평적 관계',\n",
       " '옥음방송',\n",
       " '코칭 스티치',\n",
       " '복잡한 감염병',\n",
       " '스페인',\n",
       " '20세기 초',\n",
       " '\"5월의 왕\"',\n",
       " \"'일급 비밀 프로젝트 2501'\",\n",
       " '테헤란',\n",
       " '역사교육과정개발추진위원회',\n",
       " '1967년 11월 15일',\n",
       " '1965년',\n",
       " '아리크 부케',\n",
       " '〈중앙일보〉',\n",
       " '미타케성',\n",
       " '전체 4순위',\n",
       " '뇌물',\n",
       " '보통 유형 준융합성 천연두',\n",
       " '데스탱 장군',\n",
       " '박트리아',\n",
       " \"'진전(陳田)'이라 새겨진 기와조각\",\n",
       " '《국가》',\n",
       " '2011년 3월 19일',\n",
       " '유럽 포르투갈어',\n",
       " '메이저 릿지',\n",
       " '요희',\n",
       " '포드 극장',\n",
       " '만주국 관리',\n",
       " '『협동조합에 관하여』',\n",
       " '도고쿠',\n",
       " '몽키 D. 가프',\n",
       " '조류',\n",
       " '광주교도소',\n",
       " '작가 베게티우스',\n",
       " '가오슝 시',\n",
       " '쇠망치',\n",
       " '마리즈 교수',\n",
       " '런던',\n",
       " '이틀',\n",
       " '의상대사',\n",
       " '홋카이도',\n",
       " '‘우유의 바다’',\n",
       " '장어',\n",
       " '소련',\n",
       " '전치',\n",
       " '흑색육(黑色肉)',\n",
       " '욱',\n",
       " '독일인민당',\n",
       " '하기노 역',\n",
       " '회칠',\n",
       " '황강다리',\n",
       " '직업 교육',\n",
       " '공산당',\n",
       " '매년 음력 정월',\n",
       " '조계종',\n",
       " '베이징',\n",
       " '독일군',\n",
       " '1932년',\n",
       " '제서지전(齊西之戰)이후',\n",
       " '가루아',\n",
       " '출생 천궁도',\n",
       " '나말여초',\n",
       " '1939년',\n",
       " '창 절제술',\n",
       " '도버 밀',\n",
       " '여정현(呂正鉉)',\n",
       " '광배',\n",
       " '울산',\n",
       " '땅(은색)과 하늘(금색)을 맺고 푸는 권한',\n",
       " '저수지',\n",
       " '퀘이커 교',\n",
       " '피에르 오주로',\n",
       " '지분',\n",
       " '독일',\n",
       " '제 3자',\n",
       " '페이팔',\n",
       " '가리타 히사노리',\n",
       " '점수',\n",
       " '코스모케라톱스',\n",
       " \"'사채회사'\",\n",
       " '스위스',\n",
       " '\"공유지의 비극\"',\n",
       " '그 자체가 계급 모순을 가지는 체제',\n",
       " '해리 트루먼 대통령',\n",
       " '무위태수',\n",
       " '크라운라이터',\n",
       " '1990년 9월',\n",
       " '\"인간과 요괴의 완전한 평등\"',\n",
       " '경순왕',\n",
       " '도널드 트럼프 미국 대통령',\n",
       " '바르톨로메오 브뤼기에르',\n",
       " '불교',\n",
       " '경위대식 망원경',\n",
       " '남큐슈 자동차 전용 도로',\n",
       " '세실리아 페인',\n",
       " '웹 2.0',\n",
       " '수녀',\n",
       " '맨해튼',\n",
       " '상대성이론',\n",
       " '손권',\n",
       " '350년',\n",
       " '펜실베이니아주 출신',\n",
       " '트렁크',\n",
       " '데코행진',\n",
       " '약 600년',\n",
       " '깃털 셔틀콕의 타구감을 선호하고, 또한 플라스틱보다 깃털 셔틀콕이 정교한 컨트롤을 하기에 보다 더 적합하기 때문이다',\n",
       " '1998년',\n",
       " '드라',\n",
       " '가르미슈파르텐키르헨',\n",
       " '정태적인 자본주의',\n",
       " '데미안',\n",
       " '목판',\n",
       " '34자',\n",
       " '혼묘지',\n",
       " '바르바로사 작전',\n",
       " '동계건조(wintertrocken)',\n",
       " '혹',\n",
       " '중간 생산물',\n",
       " '귀인 평향과 행동의 상관 관계',\n",
       " '높은 전위의 전극',\n",
       " '기독교',\n",
       " '1945년',\n",
       " '브리튼인들',\n",
       " '미국',\n",
       " '1기',\n",
       " '전쟁',\n",
       " '뇌졸중',\n",
       " '김수환 추기경',\n",
       " '60년간',\n",
       " '페름기',\n",
       " '서남쪽',\n",
       " '대형 항공 모함 도로스',\n",
       " '성벽에 목이 매달리는 교수형',\n",
       " '곽상',\n",
       " '신도 케이',\n",
       " '디오게네스',\n",
       " '비밀 투표',\n",
       " '61화',\n",
       " '카누',\n",
       " '알프스 전기 주식회사',\n",
       " '크리스타',\n",
       " '배상금을 주기 위하여',\n",
       " '본국 의회가 식민지에 대한 입법을 “어떤 경우에도 행할 수” 있도록 하였다',\n",
       " '속도별 배치',\n",
       " '1975년',\n",
       " '제비초리',\n",
       " '석달',\n",
       " '보은군 남쪽 상용리(현 영동군 용산면 상용리) 마을',\n",
       " '태화관(서울시 종로구 인사동 소재)',\n",
       " '식재료',\n",
       " '하노이',\n",
       " '공정',\n",
       " '좌우대칭',\n",
       " '1913년',\n",
       " '바라나시',\n",
       " '대령',\n",
       " '걸프 카르텔(카르텔 델 골포: Cartel del golfo)',\n",
       " '피터 케스카트 왓슨',\n",
       " '충격파',\n",
       " '대한민국 3보병사단',\n",
       " '우리의 훌륭한 중국 동료',\n",
       " '감정 전염',\n",
       " '스위치 이더넷',\n",
       " '소비감소',\n",
       " '마츠키 촌',\n",
       " '사춘기에서 흔히 볼 수 있는 정서적 불안정성',\n",
       " '시트르산 회로',\n",
       " '아케디아',\n",
       " '에마뉘엘의 과시하는 듯한 신앙심',\n",
       " '소비자들의 반응',\n",
       " '아일랜드 선교자 골룸바노',\n",
       " '다케다',\n",
       " '악당',\n",
       " '유이엔',\n",
       " '트레뻬제 부대',\n",
       " '포스카르네트',\n",
       " '면세증',\n",
       " '숙의 정씨',\n",
       " '남성연대 홈페이지',\n",
       " '1895년',\n",
       " '《천체의 회전에 관하여》',\n",
       " '히로시마',\n",
       " '5·16 광장(여의도 광장)',\n",
       " '6m',\n",
       " '이등공송덕비건의소',\n",
       " '헬리오시스',\n",
       " '할머니',\n",
       " '탄광',\n",
       " '1796년',\n",
       " '피자헛',\n",
       " '가산',\n",
       " '마거릿 대처 전 영국수상',\n",
       " '디지털 컴퓨터',\n",
       " '35년',\n",
       " '트르피미로비치 왕조(Trpimirović) 출신의 문치미르',\n",
       " '1947년',\n",
       " '아이치 전기 전용선',\n",
       " \"'달빛 정원'(Moonlight Garden)\",\n",
       " '란다우 튜브',\n",
       " '우천',\n",
       " '＜젊은 근위대＞',\n",
       " '10만필',\n",
       " '군대',\n",
       " '차고나라 전투',\n",
       " '봅슬레이',\n",
       " '일등병 토머스',\n",
       " '1966년',\n",
       " '클레몽트',\n",
       " '17세기 조선 시대',\n",
       " '모',\n",
       " '수입 금지 조치',\n",
       " '\"광휘에의 각성\"(코키에노 메자메)',\n",
       " '카바레나 클럽',\n",
       " '보수',\n",
       " '리퍼',\n",
       " '국무회의',\n",
       " '비단',\n",
       " '사흘',\n",
       " '모든 관직을 거친 대과 급제자',\n",
       " '오사카',\n",
       " '제1부인',\n",
       " '빈자의 십자군',\n",
       " '멕시코',\n",
       " '지질 과산화 생성물',\n",
       " '독감',\n",
       " '양당(楊黨)',\n",
       " '슈바이츠 암 존탁',\n",
       " '퀘이커 교도였던 앨리스 페어살 스미스',\n",
       " '다수결',\n",
       " '코프먼과 저스티슨',\n",
       " '물적 성과(物的成果)',\n",
       " '제 양왕',\n",
       " \"'일곱 개의 신전 광장'\",\n",
       " '미나미 지로',\n",
       " '200,000명',\n",
       " '공산주의']"
      ]
     },
     "execution_count": 64,
     "metadata": {},
     "output_type": "execute_result"
    }
   ],
   "source": [
    "answer = valid_dataset['answers']\n",
    "print(answer[0])\n",
    "answer2 = [ans['text'][0] for ans in answer]\n",
    "answer2"
   ]
  },
  {
   "cell_type": "code",
   "execution_count": 41,
   "metadata": {},
   "outputs": [
    {
     "data": {
      "text/plain": [
       "dict_keys([43, 63, 148, 168, 204, 232])"
      ]
     },
     "execution_count": 41,
     "metadata": {},
     "output_type": "execute_result"
    }
   ],
   "source": [
    "wrong_idx.keys()"
   ]
  },
  {
   "cell_type": "code",
   "execution_count": 52,
   "metadata": {
    "collapsed": true,
    "jupyter": {
     "outputs_hidden": true
    },
    "tags": []
   },
   "outputs": [
    {
     "name": "stdout",
     "output_type": "stream",
     "text": [
      "질문 국내 화엄종의 선구자는 누구인가? 답 의상대사\n",
      "ground_truth: 이 벽화는 부석사를 창건하고 우리나라에서 화엄종을 처음 시작한 의상대사를 모시고 있는 부석사조사당(국보 제19호) 안쪽 벽면에 사천왕과 제석천, 범천을 6폭으로 나누어 그린 그림이다. 지금은 벽화가 있는 벽면 전체를 그대로 떼어 유리상자에 담아 무량수전에 보관하고 있다.\\n\\n흙벽 위에 녹색으로 바탕을 칠하고 붉은색·백색·금색 등으로 채색하였으며, 각각의 크기는 길이 205 cm, 폭 75 cm 가량이다. 양쪽의 두 천부상은 우아한 귀족풍으로 양감이 풍만하며, 가운데 사천왕은 악귀를 밟고 서서 무섭게 노려 보는 건장한 모습이다. 훼손된 부분이 많고 후대에 덧칠하여 원래의 모습이 많이 사라졌지만 율동감 넘치는 유려한 선에서 고려시대 불화의 품격을 느낄 수 있다.\\n\\n건물에서 발견된 기록을 통해 조사당을 세운 연대가 고려 우왕 3년(1377)임을 알게 되었으며, 벽화를 그린 연대도 같은 시기일 것으로 보인다. 현재 우리나라에 남아 있는 벽화 가운데 가장 오래된 작품으로 회화사적으로 매우 중요한 작품으로 평가받고 있다.\n",
      "\n",
      "most_similar: 영주 부석사 고려목판(榮州 浮石寺 高麗木板)은 부석사에 있는『화엄경』정원본 40권, 진본 60권, 주본 80권 등 3종의 대방광불화엄경을 나무판에 새긴 것이다. 대방광불화엄경은 줄여서 ‘화엄경’이라 부르기도 하는데 화엄종의 근본경전으로 법화경과 함께 한국 불교사상 확립에 가장 크게 영향을 끼친 경전이다.\n",
      "\n",
      "정원본(貞元本)은 반야가 번역한 화엄경 40권을 가리키고, 진본(晋本)은 불타발타라가 번역한 화엄경 60권을, 주본(周本)은 실차난타가 번역한 화엄경 80권을 가리킨다. 이 판은 모두 합쳐 634판이며 한 줄에 34자씩 글자를 배열한 특이한 형식이다.\n",
      "\n",
      "13∼14세기경 거란에서 불경을 수입하여 나무판에 다시 새긴 것으로 추정되며, 현재 전해지는 유일한 거란본 계열의 각판으로 매우 중요한 자료이다. 우리나라 화엄종의 창시자인 의상대사가 창건하여 화엄사상을 발전시켜 나간 부석사에 소장되어 있다는 점에서 그 가치가 더욱 크다.\n",
      "\n",
      "질문 갈라파고스 제도의 9월 날씨에 무엇이 계속 오는가? 답 가루아\n",
      "ground_truth: 비록 적도에 위치하고 있기는 하지만, 훔볼트 해류의 영향으로 차가운 바닷물을 섬 주위로 가져와 연중 잦은 가랑비를 가져온다. 날씨는 간헐적으로 엘니뇨 현상에 의해 영향을 받으며, 이 때문에 따뜻한 기온과 소나기가 내린다.\\n\\n6월의 따뜻한 우기가 끝나면 따뜻한 해류와 차가운 해류가 뒤섞이면서 바다에 풍부한 영양분이 생기고, 이에 따라 다양한 종의 동물들이 먹이활동을 하러 온다. \\n\\n7월에서 11월에 걸친 가루아(garua) 시기에는 수온이 22 °C로 상승하며, 꾸준하고 차가운 바람이 남쪽과 남동쪽에서 불어와 잦은 이슬비(가루아)가 종일 지속되며, 짙은 안개가 섬을 가린다. 따듯한 시즌인 12월에서 5월까지 평균 수온과 온도는 25 °C까지 올라가지만 바람이 전혀 없으며, 간헐적이지만 세찬 빗줄기가 내리고 해가 뜬다.\\n\\n날씨 변화는 많은 섬들의 수면을 상승시키고, 고도에 따라 기온이 점점 떨어진다. 반면 강수량은 수분의 응축으로 인해 늘어난다. 각 섬마다 고도에 뿐만 아니라 섬의 위치, 계절별로 큰 강수량의 차를 보인다.\n",
      "\n",
      "most_similar: 푸에르토아요라에는 1만명 이상의 거주민이 살고 있고, 갈라파고스 제도에서 가장 인구가 많은 섬이다. 갈라파고스에 방문하고 있는 동안 산타크루스에 있는 많은 사람들은 숙박하게 될 장소일 것이다. 이 군도에서는 가장 잘 개발된 인프라를 갖추고 있다. 갈라파고스 은행 두 개 중 더 큰 〈방코 델 파시피코〉(Banco del Pacifico)가 푸에르토아요라에 있다. 학교와 호텔, 식당, 의류점, 하드웨어 가게, 식료품점, 해양용품점, 여행용품점 그리고 나이트 클럽도 있다. 갈라파고스에서 인터넷 접속 또는 전화국이 갖춰진 수많은 사이버카페를 통해 외부 세상과 소통할 수 있는 가장 좋은 장소이기도 하다. 푸에르토아요라 응급 의료 설비는 2006년에 문을 연 새로운 병원을 포함하고 있으며, 섬에서 유일하게 고압산소실이 있다.\\n\\n찰스 다윈 재단과 갈라파고스 국립공원의 근거지이기도 한 푸에르토아요라는 갈라파고스 보존 노력의 중심지이기도 하다. 섬을 방문하는 방문자들은 섬의 역사와 보존 계획의 미래를 알기 위해 찰스 다윈 연구소를 방문할 것이다.\\n\\n푸에르토아요라는 아카데미 만 해변을 따라서 보존 지역을 가지고 있다. 이곳에는 신선한 미풍이 즐거운 날씨를 만들어 주기도 한다. 기온은 18 - 29C로 기온차가 크게 변한다. 더운 시즌은 보통 12월에서 5월까지이다.\\n\\n아카데미 만은 보통 섬을 일주하려는 보트들과 개인 요트들, 어선들로 가득 차 있는 번잡한 항구이다. 이 만은 갈색 펠리컨, 황금 가오리, 바다 이구아나, 왜가리, 용암갈매기, 아메리카군함조, 갈라파고스 바다사자, 그리고 많은 수의 푸른발 부비를 관찰할 수 있는 좋은 장소이며, 고기를 잡기 위해 물에 뛰어드는 새들의 다채로운 광경을 선사한다.\\n\\n이 섬과 이 타운에서 음료수는 할증된 요금이다. 지역민들은 물보존을 실시하며, 보통 우기동안 빗물을 모은다. 이 섬에는 담수화된 식물이 있다. 많은 시설들이 용도와 질에 따라 관계 시스템을 분리하고 있다. 예를 들어, 목욕과 사워에 사용되는 물은 마시기에는 적합하지 않다.\n",
      "\n",
      "질문 쓰치야 히로시가 마지막으로 활동한 해는? 답 1975년\n",
      "ground_truth: 우스다 고등학교 시절에는 2학년 때부터 에이스로서 활약하여 1961년 추계 호쿠신에쓰 대회 나가노현 예선에서 준결승에 진출했지만 마루코 실업고등학교한테 져서 탈락했다. 당시부터 낮게 조절된 무거운 속구는 정평이 나있어서 한 경기당 평균 10개 이상의 삼진을 빼앗았다.\\n\\n고교 졸업 후 사회인 야구팀인 산쿄 정기, 덴덴 신에쓰로부터 입단 권유를 받았지만 고마자와 대학에 진학했다. 도토 6대학 리그에서는 1, 2학년 때 두 번의 우승을 경험했지만 1년 선배인 모리타 마사히코(홋카이도척식은행), 팀 동료 이토 히사토시와 같은 좋은 투수가 있어서 눈에 띈 활약은 없었다. 1965년 춘계 리그에서 첫 등판했고 모리타가 졸업한 이후에는 이토와 ‘좌우 두 기둥’으로 리그 통산 27경기에 등판하여 11승 9패라는 성적을 올렸다. 그 외 대학 동기로는 유격수 오시타 쓰요시, 3루수 고토 가즈아키 등이 있다.\\n\\n대학 졸업 후 덴덴 도쿄에 입사하여 1967년 도시 대항 야구 대회 2차전에서는 야마다 히사시가 소속된 후지제철 가마이시를 누르는 등 2승을 거두고 준결승에 진출했다. 준결승전에서는 닛폰 석유의 히라마쓰 마사지 투수와 맞대결을 벌인 끝에 1대 2로 패했지만 우수 선수상을 수상했다. 1967년 프로 야구 드래프트 회의에서 주니치 드래건스로부터 1순위 지명을 받고 입단했다.\\n\\n1968년에 1군에 올랐지만 그 후에는 일시적으로 침체를 겪었고 프로 4년차인 1971년 4월 18일 야쿠르트 아톰스를 상대로 데뷔 첫 선발 등판을 이뤘다. 그해 5월 12일에는 두 번째 선발 등판에서 다이요 웨일스의 야마시타 리쓰오와 투수전을 펼쳐 7회 도중까지 호투한 끝에 데뷔 첫 승을 기록했다. 1972년에는 두 번의 완투, 3승을 올렸지만 1973년 시즌 도중에 미즈타니 노리히로와 함께 사토 마사오, 오쿠다 나오야의 맞트레이드로 롯데 오리온스에 이적했다. 그 후에는 등판 기회가 없어서 1975년 시즌 끝으로 선수 생활을 은퇴했다.\n",
      "\n",
      "most_similar: 은퇴 후 1975년부터 1977년까지 니혼 TV의 야구 해설위원을 맡았고, 1978년부터 1979년까지 현역 시절에 친분이 있던 히로오카 다쓰로의 지휘 하에 야쿠르트 스왈로스의 배터리 코치(수석 코치격)를 역임했다. 1980년부터 1981년까지 TBS 전속 야구 해설자를 맡았고, 1982년부터 1984년에는 역시 히로오카 감독의 지휘하에 세이부 라이온스의 수석 코치 겸 배터리 코치를 3년간 역임했다. 야쿠르트와 세이부의 코치로 있을 당시 히로오카 감독의 지휘 하에 어렵게 선수들의 사생활 관리를 실시했기 때문에 선수들로부터 ‘모리 CIA’, ‘모리 KGB’ 라고 부르는 등 여러가지 험담을 늘어놓을 정도의 미움을 받기도 했다. 최종적으로 히로오카 감독과의 갈등을 빚는 등 1984년 시즌 종료 후 세이부의 코치직을 사임했다. 후에 찰리 매뉴엘은 시사 주간지 주간아사히에서 노무라 가쓰야와의 대담을 통해 “히로오카는 좋은 감독이었지만 모리 코치는 정말 싫은 놈이었다”라고 말했다. 매뉴엘은 다음과 같이 말했다.\n",
      "\n",
      "\n",
      "\n",
      "세이부의 코치직을 사임한 후인 1985년에는 다시 해설가로 복귀하여 분카 방송의 야구 해설위원을 맡았고, 같은 해 12월에는 히로오카 다쓰로 감독이 사임하면서 차기 세이부의 감독으로 부임함과 동시에 자신의 이름도 ‘마사히코’(昌彦)에서 ‘마사아키’(祇晶)로 개명했다.\n",
      "\n",
      "세이부의 감독으로 부임한 이후 “당연한 것을 당연하게 하는 야구”라는 팀의 슬로건을 내걸어 팀 플레이와 확률을 존중해 방어를 주체로서 주루나 번트를 많이 사용하였고 기초를 거듭하여 치밀한 야구를 전개해 나갔다. 감독 부임 첫 해인 1986년에는 퍼시픽 리그 우승과 일본 시리즈 우승을 동시에 이끄는 것을 시작으로 재임 기간 동안 무려 8차례의 퍼시픽 리그 우승(1986년 ~ 1988년, 1990년 ~ 1994년)과 6차례의 일본 시리즈 우승(1986년 ~ 1988년, 1990년 ~ 1992년)을 연거푸 달성하는 등 1980년대와 1990년대의 세이부 황금 시대를 이끈 견인차 역할을 하였다. 특히 1990년부터 1994년까지의 5년 연속 리그 우승은 현재까지 퍼시픽 리그에서 이 기록이 깨지지 않고 있다.\n",
      "\n",
      "1994년 일본 시리즈에서는 요미우리와의 6차전(도쿄 돔·경기 개시 예정 시각 오후 1시)을 앞둔 정오 무렵에 요미우리 구단의 모기업인 요미우리 신문은 ‘세이부·모리 감독 사임’ 이라는 제목의 보도를 했다(교도 통신사에 의한 전달). 모리는 같은 해 마지막으로 감독직을 사임하는 것이 내심이어서 결정하고 있었지만 일본 시리즈가 끝나기 전에 감독직을 사임한다는 보도가 나온 것에 대해 쓰라림을 느끼기도 했다. \n",
      "\n",
      "모리가 감독에서 물러난 직후 세이부의 차기 감독으로 주목받고 있던 이시게 히로미치, 구도 기미야스가 FA로 후쿠오카 다이에 호크스로 이적했고 이듬해 1995년 시즌 종료 후 모리의 후임 감독이었던 히가시오 오사무가 “같은 성적이라면 베테랑보다 젊은 선수들을 기용하겠다”는 방침으로 쓰지 하쓰히코가 자유 계약(쓰지는 야쿠르트에 이적하면서 1999년까지 활약), 1996년 시즌 종료 후에는 기요하라 가즈히로가 FA로 요미우리에 이적했다. 세이부의 황금 시대를 이끌었던 주력 선수들이 퇴단하면서 주전급 선수 중에서는 이토 쓰토무, 궈타이위안, 시오자키 데쓰야, 세이부 토박이는 아니지만 가토리 요시타카만이 세이부에서 현역 생활을 했다.\n",
      "\n",
      "1995년부터 2000년까지 NHK와 닛칸 스포츠의 야구 해설 위원으로 지내는 등 평론가로 활동했고, 1998년에는 요미우리 구단 프런트의 일부가 나가시마 감독의 후임으로 추천하려고 했지만 반(反) 모리파의 OB에 의한 반대나 요미우리 신문 내부의 기대가 영향을 주었기 때문에 실현되지 않았다고 일부 주간지에 의해 보도되었다.\n",
      "\n",
      "2001년에는 요코하마 베이스타스의 감독으로 발탁되면서 다시 지도자로 복귀했다. 요코하마는 곤도 아키히토가 물러난 1995년 시즌 종료 후와 오야 아키히코가 물러난 1997년 시즌 종료 후에도 요코하마 구단 측은 모리에게 감독을 맡아달라는 요청을 하고 있어서 요코하마가 모리에게 상당히 기대하고 있었던 것을 알 수 있다. 부임 첫 해인 2001년 시즌에는 69승 4무 67패라는 성적으로 리그 종합 순위 3위를 기록했지만 이듬해인 2002년 시즌 도중인 9월 25일에 성적 부진으로 감독직에서 물러났다.\n",
      "\n",
      "요코하마 시절 감독으로서의 높은 평가를 받지 않았지만 한편으로 오가와 히로후미, 다네다 히토시 등 주력 선수들을 영입에 성공한 것 외에도 사이토 다카시를 구원 투수로 전향, 기즈카 아쓰시를 중간 계투로 전향, 아이카와 료지를 주전 포수로서 기용하는 것 등 후의 요코하마의 기초가 되는 선수의 육성과 팀의 재편성도 볼 수 있었다. 모리는 퇴임 후에 전력 차이를 메우자고 팀의 전력 보강에 움직이고 있었지만 결국 실현되지 않았다는 것을 밝히는 등 이후 한신 타이거스의 리그 우승 특집을 다룬 관련 서적에서 세이부에서는 자유롭게 시켜 주었다고 칭하는 한편 요코하마에서는 선수들의 기용하는 방식이 개입되었다라고 요코하마 구단 프런트를 비판하기도 했다.\n",
      "\n",
      "질문 1901년에 연기로 인해 타격을 받아 황폐한 마을이 되어버린 곳은? 답 마츠키 촌\n",
      "ground_truth: 그 이후, 와타라세 천에서 취수를 한 밭이나, 홍수 뒤 아시오에서 흘러나온 토사가 퇴적한 밭에서 벼가 타들어가는 피해가 속출했다. 이에 격분한 농민들이 몇 차례 봉기했다. 이때 농민 운동의 중심 인물로 다나카 쇼조가 유명하다. 또한 이 광독 피해의 원인은 와타라세 천 유역에만 머무르지 않고, 에도 천을 거쳐 도네 천을 지나 가스미가우라 호 방면까지 확대되었다. 특히 1890년 8월, 1896년 7월 21일, 8월 17일, 9월 8일의 대홍수 당시 논밭에 대한 피해가 현저했다.\\n\\n1892년 코자이 요시나오 등에 의한 조사 결과에 따르면, 광독의 주성분은 구리 화합물, 산화철, 황산이었다.\\n\\n1901년에는 아시오 정에 인접하는 마츠키 촌이 연기 피해로 인해 폐촌이 되었다. 이외에도 마츠키 촌에 인접한 쿄조 촌, 닛타모토 촌도 이 때를 전후하여 폐촌이 되었다.\\n\\n이하 대책 단락에서 후술할 공사가 1897년부터 1927년에 걸쳐 이루어지자 드러나는 광독 피해는 감소했다. 그러나 와타라세 천을 흐르는 광독이 없어진 것은 아니었다. 다른 지역과 달리 와타라세 천에서 직접 농업 용수를 쓰고 있던 군마 현 야마다 군 모리타 촌(현재의 오타시 모리타)과 그 주변에서는 다이쇼 시대 이후 반대로 광독 피해가 증가했다. 1971년에는 모리타에서 수확된 쌀에서 카드뮴이 검출되어 출하가 정지되었다. 후루카와 광업은 카드뮴 피해를 인정하고 있지 않지만, 군마 현이 이를 단정했다.\n",
      "\n",
      "most_similar: 20년 전, 세레비가 넘나드는 정체불명의 구멍에서 비밀의 힘을 얻어 엄청난 부와 권력을 쌓아온 나흐벨츠. 하지만 그것은 그 마을을 황폐화시키는 아주 끔찍한 어떤 폐해를 만들어버렸다. 그 후 나흐벨츠는 다시 한 번 그 힘을 손에 넣고자 조로아를 인질삼아 조로아크를 이용해 크라운시티를 혼란에 빠뜨린다. 마을의 수호신이라 불리는 전설의 포켓몬 라이코, 앤테이, 스이쿤으로 둔갑한 조로아크는 어쩔 수 없이 조로아를 구하기 위해 마을을 혼란에 빠뜨린다. 한편 조로아는 가까스로 나흐벨츠의 비행선에서 탈출하는데...큰일이다! 조로아크는 아직도 조로아가 나흐벨츠에게 붙잡혀 괴롭힘 당하는 인질로 있다고 알고 있다! 한편, 우리의 주인공인 지우와 친구들은 요즘 유행 스포츠 '포켓몬 바크'라는 경기를 구경하러 크라운 시티로 향하는데, 그들 앞에 나흐벨츠에게서 탈출한 조로아가 나타난다! 조로아는 온갖 재롱을 부리며 일행을 어안이벙벙하게 만드는데...지우와 친구들은 조로아와 함께 조로아크를 구하고 나흐벨츠의 야망을 막을 수 있을까?\n",
      "\n",
      "질문 그녀의 첫 작품이 데뷔한 곳은? 답 ＜젊은 근위대＞\n",
      "ground_truth: 빅토리야 토카레바는 1937년 레닌그라드(지금의 상트페테르부르크)에서 태어났다. 1958년 레닌그라드 음악대학 피아노과를 졸업하고, 어린이 음악학교에서 피아노를 가르쳤다(이때부터 소설을 쓰기 시작했다). 토카레바는 작가가 되겠다는 어릴 때부터의 꿈을 실현하기 위해 1962년 모스크바 국립영화학교 시나리오학부에 입학했고 1968년 졸업했다. 1964년 단편소설 ＜거짓 없는 하루＞를 ＜젊은 근위대＞에 발표하면서 등단했다. 그녀의 첫 번째 소설인 ＜거짓 없는 하루＞가 세상에 나왔던 1964년은 ‘해빙기’가 막을 내리던 시기였다. 그러나 빅토리야 토카레바는 성공적으로 ‘마지막 열차’에 뛰어올랐고, 이로써 대단한 관심과 주목을 받으며 작가의 삶을 시작했다. 이후로 꾸준히 고급 문학예술 잡지인 ＜신세계＞와 ＜젊음＞ 등에 작품을 발표하면서 자신의 문학적 재능을 유감없이 발휘하는데, 이는 1969년 첫 단편집 ≪없었던 것에 대하여≫가 출간되었을 때 평자들의 반응으로 나타났다. 비평가 피로고프는 “토카레바는 윤기 있는 글쓰기와 전문적 열정을 보존한 작가 정신으로 ‘문학의 상업화’라는 위기 상황을 극복한 작가”라고 극찬했으며, 유리 나기빈은 “토카레바에게는 나쁜 소설이 하나도 없다. 매우 빛나고 좋은 것만 있다”고 했다. 1990년대에 들어서면서 작가의 소설이 봇물처럼 쏟아져 나온다. 해마다 두세 권의 중·단편집이 출간되며 이른바 ‘토카레바 붐’을 일으킨다. 뿐만 아니라 “빅토리야 토카레바의 현상은 절대적으로 존재한다. 이는 다른 누구도 아닌 우리 모두의 이야기다”라는 세간의 호평을 받으며, 출간되는 즉시 거의 모두 베스트셀러가 된다. 토카레바의 소설은 현재 영어, 독일어, 이탈리아어와 프랑스어로 번역, 출간되고 있음은 물론, 거의 모든 중·단편집이 계속해서 재출간되고 있다. 작가는 현재 모스크바에 살고 있다.\n",
      "\n",
      "most_similar: 요시자와 아키호는 1984년 도쿄도에서 태어났다. 초등학교 저학년 무렵부터 아이돌 가수를 꿈꿔왔는데, 키크고 긴 다리를 가진 여성이, 하늘하늘한 치마를 입고 춤 추는 모습을 보고 선망했다고한다. 아이돌로서 동경하던 인물은 모리타카 치사토였다.  중학교 진학 후 3년간 유도부에서 활동한 경력이 있다. \n",
      "\n",
      "2002년, 그녀가 17세였을 때, 고단샤에서 발행되는 《영 매거진》을 통해 그라비아 아이돌로 데뷔했고, 이것이 탤런트로서의 첫 경력이다.  하지만 그라비아에서 별다른 인기를 얻지 못했고, 곧 묻혀버렸다 성인 비디오로 데뷔하기 전 그라비아로서의 마지막 활동은 요시다 히로유키가 촬영한 사진집 《아키호》였고, 이는 2003년 2월 발매되었다. \n",
      "\n",
      "그로부터 한 달 후, 앨리스 JAPAN과 MAX-A 두 곳의 제작사와 전속 계약을 체결하며 성인 비디오 여배우로 데뷔했다.  AV 배우로서의 데뷔 작품은 3월 28일 《천사의 꽃봉오리》라는 이름으로 앨리스 JAPAN에서 출시되었다.  4월 25일에는 MAX-A에서 《18 teens》을 발표했고,  두 제작사를 번갈아가며 한달에 한 작품 주기로 작품을 촬영했다. 그해의 X-CITY 그랑프리에서 최우수신인상 후보에 이름을 올리기도 했다.\n",
      "\n",
      "질문 1표로 간주하기 위한 의견 수렴 방식은? 답 다수결\n",
      "ground_truth: 트리부스 민회(Comitia Tributa)는 로마 공화국 사회에서 행정과 관련된 민회 중 하나이다. 부족 의회로 부족들이 소집한 모든 로마 시민들로 구성된 집합체였다. 로마 공화정 시기에 시민은 35개의 부족을 기반으로 조직되어 있었다. 4개의 로마 시내 부족과 31개의 시 외곽 부족이 있었다. 부족들은 입법, 사법, 선거와 관련된 문제에 투표하기 위해 부족 의회를 소집했다. 각 부족은 별도로 분리된 투표를 했다. 각 부족마다 다수결 득표에 의한 결정이 내려졌으며, 각 부족이 보유한 선거인 수와 관계없이 결정은 1표로 계산되었다. 일단 대다수의 부족이 주어진 방법과 같은 방법으로 투표하면 투표가 끝나고 문제가 결정되었다. \\n\\n참가 자격은 로마 시민권을 가진 상류층인 파트리키와 평민 계급인 플레브스가 동시에 국정에 참여했다. 대부분의 인원이 로마 시내에 있는 4개의 선거구(트리부스 = 본래 ‘부족’이라는 의미)에 집중되어 있으며, 여기에서 투표 결과를 좌우했다. 또한 켄투리아 민회처럼 각자의 시민들이 투표권을 가지고 있는 것은 아니었고, 각 선거구에 하나의 투표권이 주어졌다. 트리부스 민회는 포룸 로마눔에서 열린 수석 조영관, 재무관, 거기에 트리뷴 밀리툼이라는 군단 사령관의 선거를 결정했다. 또한 루키우스 코르넬리우스 술라에 의한 개혁까지 트리부스 민회에서 재판도 진행되었다.\n",
      "\n",
      "most_similar: 2010년에 새로 당선된 롭 포드 토론토 시장은 취임 당일인 2010년 12월 1일에 밀러의 트랜싯 시티 계획안을 취소하였다.  그는 대신 에글린턴-스카버러 크로스타운선 (Eglinton-Scarborough Crosstown line)이라는 이름으로 에글린턴 경전철을 완전히 지하화하기로 추진하였다. 이 노선은 3호선 스카버러선과 직결해 블랙크리크에서 매코원까지 하나의 노선으로 운행하게 되었다. 이 계획대로라면 예산은 82억 달러로 치솟게 되고 18개 정거장을 덜 짓게 되며 피어슨 공항 연장 구간도 취소된다. 대부분의 추가 예산은 12개역을 지하화하고 스카버러 RT를 새로운 경전철 노선으로 전환하는 데 들어갔다.\n",
      "\n",
      "2012년 2월 8일, 카렌 스틴츠가 이끄는 토론토 시의회 비상회의에서 포드 시장의 계획안을 찬성 25표, 반대 18표로 뒤집었다.  시의회는 원안대로 레이어드에서 킬 스트리트 사이만 지하 구간으로 짓고 나머지는 지상으로 짓게 되었다 2012년 11월 30일에 환경 영향 평가에 따라 동쪽 터널이 기존의 브렌트클리프 동쪽에서 돈밀스 동쪽으로 이전되었으나  지역 주민들의 의견을 수렴해 원상복귀하였다.  2013년 1월, 토론토 스카버러 지역의 시의원들은 에글린턴 애비뉴 구간을 계획대로 짓고 스카버러 RT 구간을 제외해달라고 주장하였고, 2013년 7월에 에글린턴-스카버러 크로스타운선 계획은 취소되고 2007년 원래 계획으로 다시 돌아갔다.\n",
      "\n"
     ]
    }
   ],
   "source": [
    "v_context = valid_dataset['context']\n",
    "for k, v in wrong_idx.items():\n",
    "    print(\"질문\", query[k],\"답\",answer[k])\n",
    "    print(\"ground_truth:\", v_context[k])\n",
    "    print()\n",
    "    print(\"most_similar:\", v[0])\n",
    "    print()"
   ]
  },
  {
   "cell_type": "code",
   "execution_count": 56,
   "metadata": {},
   "outputs": [],
   "source": [
    "test = top_k_bm25_valid[query[0]][:5]"
   ]
  },
  {
   "cell_type": "code",
   "execution_count": 57,
   "metadata": {},
   "outputs": [],
   "source": [
    "import re"
   ]
  },
  {
   "cell_type": "code",
   "execution_count": 60,
   "metadata": {},
   "outputs": [
    {
     "name": "stdout",
     "output_type": "stream",
     "text": [
      "나는 정진원이다.\n"
     ]
    }
   ],
   "source": [
    "t = \"나는    정진원이다.\"\n",
    "t = re.sub(r\"\\s+\", \" \", t)\n",
    "print(t)\n",
    "#for t in test:\n",
    "#    t = re.sub(r\"\\s+\", \" \", t)\n",
    "#    print(t)"
   ]
  },
  {
   "cell_type": "code",
   "execution_count": 65,
   "metadata": {},
   "outputs": [
    {
     "data": {
      "text/plain": [
       "{'answer_start': [274], 'text': ['\"5월의 왕\"']}"
      ]
     },
     "execution_count": 65,
     "metadata": {},
     "output_type": "execute_result"
    }
   ],
   "source": [
    "answer[10]"
   ]
  },
  {
   "cell_type": "code",
   "execution_count": null,
   "metadata": {},
   "outputs": [],
   "source": []
  }
 ],
 "metadata": {
  "interpreter": {
   "hash": "d4d1e4263499bec80672ea0156c357c1ee493ec2b1c70f0acce89fc37c4a6abe"
  },
  "kernelspec": {
   "display_name": "Python 3 (ipykernel)",
   "language": "python",
   "name": "python3"
  },
  "language_info": {
   "codemirror_mode": {
    "name": "ipython",
    "version": 3
   },
   "file_extension": ".py",
   "mimetype": "text/x-python",
   "name": "python",
   "nbconvert_exporter": "python",
   "pygments_lexer": "ipython3",
   "version": "3.8.5"
  }
 },
 "nbformat": 4,
 "nbformat_minor": 4
}
