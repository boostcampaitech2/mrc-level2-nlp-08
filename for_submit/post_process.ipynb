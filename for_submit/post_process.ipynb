{
 "cells": [
  {
   "cell_type": "code",
   "execution_count": 3,
   "id": "00c94c32-99dd-48a4-8a1a-d807b44ff6e9",
   "metadata": {},
   "outputs": [],
   "source": [
    "import os\n",
    "import json\n",
    "from collections import defaultdict\n",
    "from collections import Counter\n",
    "from datasets import load_from_disk"
   ]
  },
  {
   "cell_type": "code",
   "execution_count": 9,
   "id": "c6d656ed-c4e4-497e-a552-51aa5e46977c",
   "metadata": {},
   "outputs": [],
   "source": [
    "from konlpy.tag import Kkma, Komoran, Okt, Mecab\n",
    "\n",
    "mec = Mecab()\n",
    "okt = Okt()\n",
    "kkm = Kkma()\n",
    "kom = Komoran()"
   ]
  },
  {
   "cell_type": "code",
   "execution_count": 96,
   "id": "edb73ab1-0acc-4c8e-8a62-48f291a54ffe",
   "metadata": {},
   "outputs": [],
   "source": [
    "with open('outputs.json') as f:\n",
    "    check = json.load(f)"
   ]
  },
  {
   "cell_type": "code",
   "execution_count": 97,
   "id": "95440590-cbd1-4fb3-964c-81c1980f1eb8",
   "metadata": {},
   "outputs": [
    {
     "name": "stdout",
     "output_type": "stream",
     "text": [
      "유로니우스를 살해한 용의자가 소속된 밴드의 국적은?\n",
      "노르웨이\n",
      "이스다렌의 여인이 중심적으로 스파이 활동을 한 국가는?\n",
      "노르웨이\n",
      "할릴자드 대사와 정치적 이야기를 나눈 아프간 대통령은?\n",
      "하미드 카르자이\n",
      "경신자오단오제가 지금의 이름이 되기 직전의 명칭은 무엇이었는가?\n",
      "자인단오-한장군 놀이\n",
      "무슈 두 파리를 선발하는 기관은?\n",
      "법무성이\n",
      "법무성\n",
      "누아다가 오른손이 없는 이유는 누구 때문인가?\n",
      "스렝이\n",
      "스렝\n",
      "인간에게 불타는 느낌의 아픔을 주는 것은?\n",
      "솔레놉신이\n",
      "솔레놉신\n"
     ]
    }
   ],
   "source": [
    "for k, v in check.items():\n",
    "    if v[-1] == '이':\n",
    "        print(dataset['validation']['question'][dataset['validation']['id'].index(k)])\n",
    "        print(v)\n",
    "        \n",
    "        for word, pos in okt.pos(v):\n",
    "            if '이' in word and len(v.split())==1:\n",
    "                if pos == 'Josa' or pos == \"Suffix\":\n",
    "                   \n",
    "                    check[k] = v[:len(v)-1]\n",
    "                    print(check[k])\n"
   ]
  },
  {
   "cell_type": "code",
   "execution_count": null,
   "metadata": {},
   "outputs": [],
   "source": [
    "with open(\"outputs_postprocess.json\", \"w\", encoding=\"utf-8\") as make_file:\n",
    "        json.dump(check, make_file, indent=\"\\t\", ensure_ascii=False)"
   ]
  }
 ],
 "metadata": {
  "kernelspec": {
   "display_name": "Python 3 (ipykernel)",
   "language": "python",
   "name": "python3"
  },
  "language_info": {
   "codemirror_mode": {
    "name": "ipython",
    "version": 3
   },
   "file_extension": ".py",
   "mimetype": "text/x-python",
   "name": "python",
   "nbconvert_exporter": "python",
   "pygments_lexer": "ipython3",
   "version": "3.8.5"
  }
 },
 "nbformat": 4,
 "nbformat_minor": 5
}
