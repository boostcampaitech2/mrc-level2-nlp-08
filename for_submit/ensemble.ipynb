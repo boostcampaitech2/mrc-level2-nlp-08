{
 "cells": [
  {
   "cell_type": "code",
   "execution_count": null,
   "id": "00c94c32-99dd-48a4-8a1a-d807b44ff6e9",
   "metadata": {},
   "outputs": [],
   "source": [
    "import os\n",
    "import json\n",
    "from collections import defaultdict"
   ]
  },
  {
   "cell_type": "markdown",
   "metadata": {},
   "source": [
    "## max prob"
   ]
  },
  {
   "cell_type": "code",
   "execution_count": null,
   "id": "f0a60ef1-ecb8-4a6d-8552-1a5da1461073",
   "metadata": {},
   "outputs": [],
   "source": [
    "files = ['final_nbest/' + f + '/nbest_predictions.json' for f in os.listdir('final_nbest')]\n",
    "json_files = []\n",
    "for file in files:\n",
    "    with open(f\"{file}\") as f:\n",
    "        json_file = json.load(f)\n",
    "        json_files.append(json_file)"
   ]
  },
  {
   "cell_type": "code",
   "execution_count": null,
   "id": "f23aee64-1db3-4aa8-b30e-a85f59747c77",
   "metadata": {},
   "outputs": [],
   "source": [
    "mrc_id = list(json_files[0].keys())\n",
    "\n",
    "len(json_files[0][mrc_id[0]])"
   ]
  },
  {
   "cell_type": "code",
   "execution_count": null,
   "id": "5ec6e3d2-c5a4-493c-83ae-00793610c34a",
   "metadata": {
    "tags": []
   },
   "outputs": [],
   "source": [
    "from pprint import pprint\n",
    "\n",
    "k = 20\n",
    "mrc_id = list(json_files[0].keys())\n",
    "\n",
    "# total_answer = {}\n",
    "# for file in json_files:\n",
    "last_answer = {}\n",
    "for i in range(len(mrc_id)):\n",
    "    answer_dict = {}  \n",
    "    for j in range(k):\n",
    "\n",
    "        for file in json_files:\n",
    "\n",
    "            answer = file[mrc_id[i]][j]['text']\n",
    "            prob = file[mrc_id[i]][j][\"probability\"]\n",
    "\n",
    "            if not answer in answer_dict:\n",
    "                answer_dict[answer] = prob\n",
    "            else:\n",
    "                answer_dict[answer] += prob\n",
    "    temp = list(answer_dict.items())\n",
    "    temp.sort(key=lambda x:x[1],reverse=True)\n",
    "    last_answer[mrc_id[i]] = temp[0][0]"
   ]
  },
  {
   "cell_type": "code",
   "execution_count": null,
   "id": "4df79195-7486-4158-894e-5c4e195ec01b",
   "metadata": {},
   "outputs": [],
   "source": [
    "with open(\"ttttt/final_nbest/soft_voting_4.json\", \"w\", encoding=\"utf-8\") as make_file:\n",
    "        json.dump(last_answer, make_file, indent=\"\\t\", ensure_ascii=False)"
   ]
  },
  {
   "cell_type": "code",
   "execution_count": null,
   "id": "d51c12c0-ef7d-488d-887d-cbfe6f9294cb",
   "metadata": {},
   "outputs": [],
   "source": []
  },
  {
   "cell_type": "markdown",
   "metadata": {},
   "source": [
    "## hard voting"
   ]
  },
  {
   "cell_type": "code",
   "execution_count": null,
   "metadata": {},
   "outputs": [],
   "source": [
    "hard_vot_files = [f + '/predictions.json' for f in os.listdir('final_nbest')]\n",
    "hard_vot_json_files = []\n",
    "for file in hard_vot_files:\n",
    "    with open(f\"{file}\") as f:\n",
    "        json_file = json.load(f)\n",
    "        hard_vot_json_files.append(json_file)"
   ]
  },
  {
   "cell_type": "code",
   "execution_count": null,
   "id": "c03f4008-01a2-4971-acc8-4afc97e89ae3",
   "metadata": {},
   "outputs": [],
   "source": [
    "result = dict()\n",
    "    \n",
    "for key in mrc_id: \n",
    "    polls = defaultdict(int)\n",
    "    \n",
    "    for json_file in hard_vot_json_files:\n",
    "        predict = json_file[key]\n",
    "        polls[predict] += 1\n",
    "\n",
    "    sorted_polls = sorted(polls.items(), key=lambda x: x[1], reverse=True)\n",
    "    voted = sorted_polls[0][0]\n",
    "\n",
    "    result[key] = voted"
   ]
  },
  {
   "cell_type": "code",
   "execution_count": null,
   "id": "8eea0ee4-b4b3-4f5a-8e7a-a873637ae6a5",
   "metadata": {},
   "outputs": [],
   "source": [
    "with open(\"ttttt/final_nbest/hard_voting.json\", \"w\", encoding=\"utf-8\") as make_file:\n",
    "        json.dump(result, make_file, indent=\"\\t\", ensure_ascii=False)"
   ]
  }
 ],
 "metadata": {
  "interpreter": {
   "hash": "d4d1e4263499bec80672ea0156c357c1ee493ec2b1c70f0acce89fc37c4a6abe"
  },
  "kernelspec": {
   "display_name": "Python 3.8.5 64-bit ('base': conda)",
   "name": "python3"
  },
  "language_info": {
   "codemirror_mode": {
    "name": "ipython",
    "version": 3
   },
   "file_extension": ".py",
   "mimetype": "text/x-python",
   "name": "python",
   "nbconvert_exporter": "python",
   "pygments_lexer": "ipython3",
   "version": "3.8.5"
  }
 },
 "nbformat": 4,
 "nbformat_minor": 5
}
