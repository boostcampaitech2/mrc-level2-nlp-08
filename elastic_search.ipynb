{
 "cells": [
  {
   "cell_type": "code",
   "execution_count": 30,
   "metadata": {},
   "outputs": [],
   "source": [
    "from datasets import load_from_disk, Dataset\n",
    "from transformers import AutoTokenizer, AutoConfig\n",
    "import numpy as np\n",
    "from tqdm import tqdm, trange\n",
    "import torch\n",
    "import torch.nn.functional as F\n",
    "#from retrieval_model import BertEncoder\n",
    "from transformers import AdamW, TrainingArguments, get_linear_schedule_with_warmup\n",
    "from torch import nn\n",
    "from sklearn.feature_extraction.text import TfidfVectorizer\n",
    "import pandas as pd\n",
    "from torch.utils.data import (DataLoader, RandomSampler, TensorDataset, SequentialSampler)\n",
    "from tqdm import tqdm, trange\n",
    "import pickle\n",
    "import os, json"
   ]
  },
  {
   "cell_type": "code",
   "execution_count": 31,
   "metadata": {},
   "outputs": [],
   "source": [
    "train_dataset = load_from_disk(\"data/new_train_dataset/train\")\n",
    "valid_dataset = load_from_disk(\"data/new_train_dataset/validation\")\n",
    "wiki_dataset = pd.read_json('data/preprocess_wiki.json',orient='index') # wiki context\n",
    "data_path = \"data/\"\n",
    "context_path = \"preprocess_wiki.json\"\n",
    "with open(os.path.join(data_path, context_path), \"r\", encoding=\"utf-8\") as f:\n",
    "    wiki = json.load(f)\n",
    "\n",
    "# wiki_dataset = dict(\n",
    "#     dict.fromkeys([v[\"text\"] for v in wiki.values()])\n",
    "# ) \n",
    "\n",
    "\n",
    "test_dataset = load_from_disk('data/test_dataset/validation')\n"
   ]
  },
  {
   "cell_type": "code",
   "execution_count": 32,
   "metadata": {
    "tags": []
   },
   "outputs": [],
   "source": [
    "valid_corpus = list(set(valid_dataset['context']))\n",
    "train_corpus = list(set(train_dataset['context']))\n",
    "wiki_corpus = list(set(wiki_dataset))\n",
    "query = valid_dataset['question']\n",
    "test_query = test_dataset['question']"
   ]
  },
  {
   "cell_type": "code",
   "execution_count": 33,
   "metadata": {
    "tags": []
   },
   "outputs": [],
   "source": [
    "from elasticsearch import Elasticsearch, helpers\n",
    "import pprint  "
   ]
  },
  {
   "cell_type": "code",
   "execution_count": 34,
   "metadata": {
    "tags": []
   },
   "outputs": [],
   "source": [
    "INDEX_NAME = \"wiki_index\"\n",
    "\n",
    "INDEX_SETTINGS = {\n",
    "  \"settings\" : {\n",
    "    \"index\":{\n",
    "      \"analysis\":{\n",
    "        \"analyzer\":{\n",
    "          \"korean\":{\n",
    "            \"type\":\"custom\",\n",
    "            \"tokenizer\":\"nori_tokenizer\",\n",
    "            \"filter\": [ \"shingle\" ],\n",
    "\n",
    "          }\n",
    "        }\n",
    "      }\n",
    "    }\n",
    "  },\n",
    "  \"mappings\": {\n",
    "\n",
    "      \"properties\" : {\n",
    "        \"content\" : {\n",
    "          \"type\" : \"text\",\n",
    "          \"analyzer\": \"korean\",\n",
    "          \"search_analyzer\": \"korean\"\n",
    "        },\n",
    "        \"title\" : {\n",
    "          \"type\" : \"text\",\n",
    "          \"analyzer\": \"korean\",\n",
    "          \"search_analyzer\": \"korean\"\n",
    "        }\n",
    "      }\n",
    "\n",
    "  }\n",
    "}"
   ]
  },
  {
   "cell_type": "code",
   "execution_count": 35,
   "metadata": {},
   "outputs": [],
   "source": [
    "docs = [\n",
    "    {\n",
    "        '_index' : INDEX_NAME,\n",
    "        '_id' : wiki_dataset.iloc[i]['document_id'],\n",
    "        'title' : wiki_dataset.iloc[i]['title'],\n",
    "        'content' : wiki_dataset.iloc[i]['text']\n",
    "    }\n",
    "    for i in range(wiki_dataset.shape[0])\n",
    "]"
   ]
  },
  {
   "cell_type": "code",
   "execution_count": 36,
   "metadata": {},
   "outputs": [],
   "source": [
    "try:\n",
    "    es.transport.close()\n",
    "except:\n",
    "    pass\n",
    "es = Elasticsearch()"
   ]
  },
  {
   "cell_type": "code",
   "execution_count": 37,
   "metadata": {},
   "outputs": [
    {
     "name": "stderr",
     "output_type": "stream",
     "text": [
      "<ipython-input-37-f69669341f07>:1: ElasticsearchDeprecationWarning: Elasticsearch built-in security features are not enabled. Without authentication, your cluster could be accessible to anyone. See https://www.elastic.co/guide/en/elasticsearch/reference/7.15/security-minimal-setup.html to enable security.\n",
      "  es.info()\n"
     ]
    },
    {
     "data": {
      "text/plain": [
       "{'name': 'deeeb6a2da8a',\n",
       " 'cluster_name': 'elasticsearch',\n",
       " 'cluster_uuid': 'ITGy6aY8T8qlIhgwnVJprQ',\n",
       " 'version': {'number': '7.15.1',\n",
       "  'build_flavor': 'default',\n",
       "  'build_type': 'deb',\n",
       "  'build_hash': '83c34f456ae29d60e94d886e455e6a3409bba9ed',\n",
       "  'build_date': '2021-10-07T21:56:19.031608185Z',\n",
       "  'build_snapshot': False,\n",
       "  'lucene_version': '8.9.0',\n",
       "  'minimum_wire_compatibility_version': '6.8.0',\n",
       "  'minimum_index_compatibility_version': '6.0.0-beta1'},\n",
       " 'tagline': 'You Know, for Search'}"
      ]
     },
     "execution_count": 37,
     "metadata": {},
     "output_type": "execute_result"
    }
   ],
   "source": [
    "es.info()"
   ]
  },
  {
   "cell_type": "code",
   "execution_count": 38,
   "metadata": {},
   "outputs": [
    {
     "name": "stderr",
     "output_type": "stream",
     "text": [
      "<ipython-input-38-b31c6028f9a8>:1: ElasticsearchDeprecationWarning: Elasticsearch built-in security features are not enabled. Without authentication, your cluster could be accessible to anyone. See https://www.elastic.co/guide/en/elasticsearch/reference/7.15/security-minimal-setup.html to enable security.\n",
      "  if es.indices.exists(INDEX_NAME):\n",
      "<ipython-input-38-b31c6028f9a8>:2: ElasticsearchDeprecationWarning: Elasticsearch built-in security features are not enabled. Without authentication, your cluster could be accessible to anyone. See https://www.elastic.co/guide/en/elasticsearch/reference/7.15/security-minimal-setup.html to enable security.\n",
      "  es.indices.delete(index=INDEX_NAME)\n",
      "<ipython-input-38-b31c6028f9a8>:3: ElasticsearchDeprecationWarning: Elasticsearch built-in security features are not enabled. Without authentication, your cluster could be accessible to anyone. See https://www.elastic.co/guide/en/elasticsearch/reference/7.15/security-minimal-setup.html to enable security.\n",
      "  es.indices.create(index=INDEX_NAME, body=INDEX_SETTINGS)\n"
     ]
    },
    {
     "data": {
      "text/plain": [
       "{'acknowledged': True, 'shards_acknowledged': True, 'index': 'wiki_index'}"
      ]
     },
     "execution_count": 38,
     "metadata": {},
     "output_type": "execute_result"
    }
   ],
   "source": [
    "if es.indices.exists(INDEX_NAME):\n",
    "    es.indices.delete(index=INDEX_NAME)\n",
    "es.indices.create(index=INDEX_NAME, body=INDEX_SETTINGS)"
   ]
  },
  {
   "cell_type": "code",
   "execution_count": 39,
   "metadata": {},
   "outputs": [
    {
     "name": "stderr",
     "output_type": "stream",
     "text": [
      "/opt/conda/lib/python3.8/site-packages/elasticsearch/helpers/actions.py:122: ElasticsearchDeprecationWarning: Elasticsearch built-in security features are not enabled. Without authentication, your cluster could be accessible to anyone. See https://www.elastic.co/guide/en/elasticsearch/reference/7.15/security-minimal-setup.html to enable security.\n",
      "  resp = client.bulk(\"\\n\".join(bulk_actions) + \"\\n\", *args, **kwargs)\n"
     ]
    },
    {
     "name": "stdout",
     "output_type": "stream",
     "text": [
      "\n",
      "RESPONSE: (60613, [])\n",
      "94.50452733039856\n"
     ]
    }
   ],
   "source": [
    "import time\n",
    "start_time = time.time()\n",
    "try:\n",
    "    response = helpers.bulk(es, docs)\n",
    "    print (\"\\nRESPONSE:\", response)\n",
    "except Exception as e:\n",
    "    print(\"\\nERROR:\", e)\n",
    "    \n",
    "end_time = time.time()\n",
    "\n",
    "print(end_time-start_time)"
   ]
  },
  {
   "cell_type": "code",
   "execution_count": 40,
   "metadata": {
    "tags": []
   },
   "outputs": [],
   "source": [
    "questions = valid_dataset['question']"
   ]
  },
  {
   "cell_type": "code",
   "execution_count": 41,
   "metadata": {},
   "outputs": [],
   "source": [
    "answers = valid_dataset['answers']"
   ]
  },
  {
   "cell_type": "code",
   "execution_count": 43,
   "metadata": {},
   "outputs": [
    {
     "name": "stderr",
     "output_type": "stream",
     "text": [
      "<ipython-input-43-fba2dbb27aa2>:9: ElasticsearchDeprecationWarning: Elasticsearch built-in security features are not enabled. Without authentication, your cluster could be accessible to anyone. See https://www.elastic.co/guide/en/elasticsearch/reference/7.15/security-minimal-setup.html to enable security.\n",
      "  res = es.search(index=INDEX_NAME, q=question, size=size)\n"
     ]
    },
    {
     "name": "stdout",
     "output_type": "stream",
     "text": [
      "size : 0\n",
      "hit rate 0.0\n",
      "size : 1\n",
      "hit rate 0.7458333333333333\n",
      "size : 2\n",
      "hit rate 0.7875\n",
      "size : 3\n",
      "hit rate 0.8333333333333334\n",
      "size : 4\n",
      "hit rate 0.8583333333333333\n",
      "size : 5\n",
      "hit rate 0.8791666666666667\n",
      "size : 6\n",
      "hit rate 0.8875\n",
      "size : 7\n",
      "hit rate 0.9041666666666667\n",
      "size : 8\n",
      "hit rate 0.9166666666666666\n",
      "size : 9\n",
      "hit rate 0.9208333333333333\n"
     ]
    }
   ],
   "source": [
    "def get_hit_rate(questions, answers, size):\n",
    "    error_questions = []\n",
    "    hit_cnt = 0\n",
    "    for question, answer in zip(questions, answers):\n",
    "        # print(question)\n",
    "        # print(answer)\n",
    "        # break\n",
    "        try:\n",
    "            res = es.search(index=INDEX_NAME, q=question, size=size)\n",
    "        except Exception as e:\n",
    "            error_questions.append([e, question])\n",
    "        for hit in res['hits']['hits']:\n",
    "            if answer['text'][0] in (hit['_source']['title']+hit['_source']['content']):\n",
    "                hit_cnt += 1\n",
    "                break\n",
    "    print('size : '+str(size)+'\\nhit rate', hit_cnt/len(questions))\n",
    "    return error_questions\n",
    "# for size in range(5, 31):\n",
    "for size in range(0, 10):\n",
    "    get_hit_rate(questions, answers, size)\n"
   ]
  },
  {
   "cell_type": "code",
   "execution_count": 168,
   "metadata": {},
   "outputs": [
    {
     "data": {
      "text/plain": [
       "600"
      ]
     },
     "execution_count": 168,
     "metadata": {},
     "output_type": "execute_result"
    }
   ],
   "source": [
    "len(test_query)"
   ]
  },
  {
   "cell_type": "code",
   "execution_count": 169,
   "metadata": {},
   "outputs": [
    {
     "data": {
      "text/plain": [
       "\"유령'은 어느 행성에서 지구로 왔는가?\""
      ]
     },
     "execution_count": 169,
     "metadata": {},
     "output_type": "execute_result"
    }
   ],
   "source": [
    "test_query[0]"
   ]
  },
  {
   "cell_type": "code",
   "execution_count": 170,
   "metadata": {},
   "outputs": [
    {
     "data": {
      "text/plain": [
       "{'id': 'mrc-1-000653', 'question': \"유령'은 어느 행성에서 지구로 왔는가?\"}"
      ]
     },
     "execution_count": 170,
     "metadata": {},
     "output_type": "execute_result"
    }
   ],
   "source": [
    "test_dataset[0]"
   ]
  },
  {
   "cell_type": "code",
   "execution_count": 173,
   "metadata": {},
   "outputs": [
    {
     "name": "stderr",
     "output_type": "stream",
     "text": [
      "<ipython-input-173-335142544b8c>:6: ElasticsearchDeprecationWarning: Elasticsearch built-in security features are not enabled. Without authentication, your cluster could be accessible to anyone. See https://www.elastic.co/guide/en/elasticsearch/reference/7.15/security-minimal-setup.html to enable security.\n",
      "  res = es.search(index=INDEX_NAME, q=question, size=size)\n"
     ]
    },
    {
     "data": {
      "text/plain": [
       "([{'took': 0,\n",
       "   'timed_out': False,\n",
       "   '_shards': {'total': 1, 'successful': 1, 'skipped': 0, 'failed': 0},\n",
       "   'hits': {'total': {'value': 136, 'relation': 'eq'},\n",
       "    'max_score': 12.720648,\n",
       "    'hits': [{'_index': 'wiki_index',\n",
       "      '_type': '_doc',\n",
       "      '_id': '28707',\n",
       "      '_score': 12.720648,\n",
       "      '_source': {'title': '안녕, 절망선생 (애니메이션)',\n",
       "       'content': '대한민국에서는 정식 발매되지 않았다. * 안녕, 절망선생 :애니메이션 1기. 2007년 7월부터 9월까지의 방송을 4장에 나눠 발매했으며, 특장판과 일반판으로 나뉘여져있다. * 절망소녀찬집 :애니메이션판 다이제스트 DVD. 애니메이션 1기보다 더욱 원작에 충실하며, 히토 나미의 이야기를 중간중간에 끼워넣었다. 2008년 1월 1일 발매. * 속 안녕, 절망선생 :애니메이션 2기. 2008년 1월부터 3월까지의 방송을 4장에 나눠 발매했으며, 특장판과 일반판으로 나뉘여져있다. * 속 절망소녀찬집 :애니메이션판 다이제스트 DVD. 절망소녀찬집의 후속작이며, 애니메이션 2기의 내용보다 더욱더 원작에 충실한 내용들로 구성되어 있다. 2008년 8월 27일 발매. 특전영상으로 절망문학집, 에피소드 『은폐졸』의 오리지널 성우진 버전을 수록하였다.(원작에는 성우진 캐스팅을 바꿔서 녹음하였다.) * 옥 안녕, 절망선생 :안녕, 절망선생의 오리지널 애니메이션 DVD. 3장으로 구성되어있으며, 각각 2008년 10월 17일, 2008년 12월 10일, 2009년 2월 17일에 발매되었다. * 참 안녕, 절망선생 :애니메이션 3기. 2009년 7월부터 9월까지의 방송을 4장에 나눠 발매했으며, 특장판과 일반판으로 나뉘여져있다. * 참 안녕, 절망선생 ~ 번외편 :안녕, 절망선생의 오리지널 애니메이션 DVD. 상(上),하(下)편으로 구성되어있다. 각각 2009년 11월 17일, 2010년 2월 17일날 발매되었다. * 안녕, 절망선생 Blu - ray BOX :안녕, 절망선생의 애니메이션 1기의 블루레이판. 디스크 2매로 구성되어있으며 기간한정품이다. 2011년 3월 23일에 발매되었다. * 속 안녕, 절망선생 Blu - ray BOX :안녕, 절망선생의 애니메이션 2기의 블루레이판. 디스크 3매로 구성되어있으며 기간한정품이다. 2011년 5월 25일에 발매되었다. * 참 안녕, 절망선생 Blu - ray BOX :안녕, 절망선생의 애니메이션 3기의 블루레이판. 디스크 3매로 구성되어있으며 기간한정품이다. 2011년 7월 27일에 발매되었다.'}},\n",
       "     {'_index': 'wiki_index',\n",
       "      '_type': '_doc',\n",
       "      '_id': '28706',\n",
       "      '_score': 12.119583,\n",
       "      '_source': {'title': '안녕, 절망선생 (애니메이션)',\n",
       "       'content': '; 안녕, 절망선생 애니메이션 1기. 치바 TV등 7개의 방송국과 위성 방송국인 키즈스테이션에서 2007년 7월부터 9월까지, 또한 가고시마 TV에서 2008년 1월부터 4월까지 방송되었다. 총 12화로 구성되어있으며, 최종화는 11화에 있다. ; 속・안녕, 절망선생 애니메이션 2기에 해당된다. 2008년 1월부터 3월까지 방영하였다. 총 13화로 구성되어있다. ; 옥・안녕, 절망선생 수주한정 OAD. 통칭 2.5기라고 불린다. 스탭진은 원작과 똑같지만 원작 이상의 세밀함과, 쿠메타 코지의 과거 그림체를 사용하는 등 원작의 팬들이 즐길 수 있는 매니악한 요소들을 더 많이 집어넣었다. 또한 작화를 원작풍으로 수정하였다. 총 3화로 구성되어 있다. ; 참・안녕, 절망선생 애니메이션 3기에 해당된다. 2009년 7월부터 9월까지 BS11등 여러 방송국에서 방영되었다. 총 13화로 구성되어있다. ; 참・안녕, 절망선생 번외지 수주한정 OAD. 통칭 3.5기라고 불린다. 총 2화로 구성되어 있다.'}}]}}],\n",
       " [])"
      ]
     },
     "execution_count": 173,
     "metadata": {},
     "output_type": "execute_result"
    }
   ],
   "source": [
    "def search_query(questions, size):\n",
    "    error_queries = []\n",
    "    results = []\n",
    "    for question in questions:\n",
    "        try:\n",
    "            res = es.search(index=INDEX_NAME, q=question, size=size)\n",
    "            results.append(res)\n",
    "        except:\n",
    "            error_queries.append(question)\n",
    "    return results, error_queries\n",
    "\n",
    "res, err = search_query([\"안녕\"], 2)\n",
    "res, err"
   ]
  },
  {
   "cell_type": "code",
   "execution_count": 172,
   "metadata": {},
   "outputs": [
    {
     "name": "stderr",
     "output_type": "stream",
     "text": [
      "<ipython-input-171-73c60fbcc4a2>:6: ElasticsearchDeprecationWarning: Elasticsearch built-in security features are not enabled. Without authentication, your cluster could be accessible to anyone. See https://www.elastic.co/guide/en/elasticsearch/reference/7.15/security-minimal-setup.html to enable security.\n",
      "  res = es.search(index=INDEX_NAME, q=question, size=size)\n"
     ]
    }
   ],
   "source": [
    "res, err = search_query(test_query, 20)"
   ]
  },
  {
   "cell_type": "code",
   "execution_count": 51,
   "metadata": {},
   "outputs": [
    {
     "data": {
      "text/plain": [
       "{'_index': 'wiki_index',\n",
       " '_type': '_doc',\n",
       " '_id': '43280',\n",
       " '_score': 20.487246,\n",
       " '_source': {'title': '거대 행성',\n",
       "  'content': '목성의 대기에서 보이는 줄무늬는 적도와 평행하면서 행성을 둘러싸는 대(zone)와 띠(belt)라고 불리는 물질의 반대 순환류에 의한 것이다. 대는 밝은 줄무늬로, 대기에서 상대적으로 고도가 높은 곳에 있다. 이들은 내부의 상승 기류를 가지고 있는 고기압 영역이다. 띠는 어두운 줄무늬로, 대기에서 상대적으로 고도가 낮은 곳에 있으며, 내부의 하강 기류를 가진다. 이들은 저기압 영역이다. 이러한 구조는 지구 대기의 고기압 및 저기압 세포와 어느정도 유사하나, 국지 작은 기압 세포와 상반되는 행성 전체를 둘러싸는 위도 줄무늬로서 매우 다른 구조를 가지고 있다. 이는 행성의 빠른 자전과 근본적인 대칭으로 인한 결과로 보인다. 행성에는 국지적인 가열을 일으키는 바다나 육지가 없으며 자전 속도는 지구보다 훨씬 빠르다. 행성에는 서로 다른 크기와 색상을 갖는 점과 같은 작은 구조들이 있다. 목성에서, 그러한 특색 중에서 가장 유명한 것은 대적점으로, 적어도 300년 동안 존재해 왔다. 이러한 구조의 실체는 거대한 폭풍이다. 그러한 점 중에 일부는 적란운이기도 하다.\\x7f'}}"
      ]
     },
     "execution_count": 51,
     "metadata": {},
     "output_type": "execute_result"
    }
   ],
   "source": [
    "res[0]['hits']['hits'][0]"
   ]
  },
  {
   "cell_type": "code",
   "execution_count": 88,
   "metadata": {},
   "outputs": [
    {
     "data": {
      "text/html": [
       "<div>\n",
       "<style scoped>\n",
       "    .dataframe tbody tr th:only-of-type {\n",
       "        vertical-align: middle;\n",
       "    }\n",
       "\n",
       "    .dataframe tbody tr th {\n",
       "        vertical-align: top;\n",
       "    }\n",
       "\n",
       "    .dataframe thead th {\n",
       "        text-align: right;\n",
       "    }\n",
       "</style>\n",
       "<table border=\"1\" class=\"dataframe\">\n",
       "  <thead>\n",
       "    <tr style=\"text-align: right;\">\n",
       "      <th></th>\n",
       "      <th>id</th>\n",
       "      <th>question</th>\n",
       "      <th>contents</th>\n",
       "      <th>context</th>\n",
       "    </tr>\n",
       "  </thead>\n",
       "  <tbody>\n",
       "    <tr>\n",
       "      <th>0</th>\n",
       "      <td>mrc-1-000653</td>\n",
       "      <td>유령'은 어느 행성에서 지구로 왔는가?</td>\n",
       "      <td>[{'docs_id': '43280', 'score': 20.487246, 'tit...</td>\n",
       "      <td>목성의 대기에서 보이는 줄무늬는 적도와 평행하면서 행성을 둘러싸는 대(zone)와 ...</td>\n",
       "    </tr>\n",
       "    <tr>\n",
       "      <th>1</th>\n",
       "      <td>mrc-1-001113</td>\n",
       "      <td>용병회사의 경기가 좋아진 것은 무엇이 끝난 이후부터인가?</td>\n",
       "      <td>[{'docs_id': '20081', 'score': 23.784315, 'tit...</td>\n",
       "      <td>SK에서 방출된 이후 그는 일본을 여행하며 잠시 신변을 정리하고 있었다. 그 때 좌...</td>\n",
       "    </tr>\n",
       "    <tr>\n",
       "      <th>2</th>\n",
       "      <td>mrc-0-002191</td>\n",
       "      <td>돌푸스에게 불특정 기간동안 하원이 잠시 쉬는 것을 건의 받았던 인물은?</td>\n",
       "      <td>[{'docs_id': '20554', 'score': 46.843483, 'tit...</td>\n",
       "      <td>1933년 3월, 투표 과정의 위법성에 대한 문제제기가 불거졌다. 당시 오스트리아 ...</td>\n",
       "    </tr>\n",
       "    <tr>\n",
       "      <th>3</th>\n",
       "      <td>mrc-0-003951</td>\n",
       "      <td>마오리언어와 영어, 뉴질랜드 수화를 공식 언어로 사용하는 나라는?</td>\n",
       "      <td>[{'docs_id': '25557', 'score': 61.7281, 'title...</td>\n",
       "      <td>유럽인들의 아메리카와 오세아니아 식민지화로 인해 아메리카와 오세아니아의 문화적, 민...</td>\n",
       "    </tr>\n",
       "    <tr>\n",
       "      <th>4</th>\n",
       "      <td>mrc-1-001272</td>\n",
       "      <td>디엔비엔푸 전투에서 보응우옌잡이 상대한 국가는?</td>\n",
       "      <td>[{'docs_id': '18335', 'score': 39.044395, 'tit...</td>\n",
       "      <td>1926년 학생 시절 베트남청년혁명당에 가입했고 1930년에 학생 파업을 지지했다는...</td>\n",
       "    </tr>\n",
       "    <tr>\n",
       "      <th>...</th>\n",
       "      <td>...</td>\n",
       "      <td>...</td>\n",
       "      <td>...</td>\n",
       "      <td>...</td>\n",
       "    </tr>\n",
       "    <tr>\n",
       "      <th>595</th>\n",
       "      <td>mrc-0-002989</td>\n",
       "      <td>타입 2 가이아 메모리을 만든 집단은?</td>\n",
       "      <td>[{'docs_id': '26084', 'score': 35.11652, 'titl...</td>\n",
       "      <td>재단 X가 슈라우드(=소노자키 후미네)가 개발한 가이아 메모리의 테크놀로지를 분석,...</td>\n",
       "    </tr>\n",
       "    <tr>\n",
       "      <th>596</th>\n",
       "      <td>mrc-0-001804</td>\n",
       "      <td>장면이 정치보복에 반대하는 입장에서 처벌을 원치 않은 대상은?</td>\n",
       "      <td>[{'docs_id': '6969', 'score': 45.62529, 'title...</td>\n",
       "      <td>과거의 죄악에 대한 소급입법 적용을 반대하였다. 4.19 혁명 당시 사망한 사망자의...</td>\n",
       "    </tr>\n",
       "    <tr>\n",
       "      <th>597</th>\n",
       "      <td>mrc-0-003411</td>\n",
       "      <td>콜드게임 중 어떠한 계기로 인해 잠시 중단된 뒤, 익일에 게임이 진행되는 것은?</td>\n",
       "      <td>[{'docs_id': '25696', 'score': 40.586067, 'tit...</td>\n",
       "      <td>콜드게임(called game)이란 야구나 소프트볼 등의 운동경기에서 심판에 의하여...</td>\n",
       "    </tr>\n",
       "    <tr>\n",
       "      <th>598</th>\n",
       "      <td>mrc-0-003436</td>\n",
       "      <td>제2캐나다기갑여단이 상륙한 곳은?</td>\n",
       "      <td>[{'docs_id': '43341', 'score': 44.655956, 'tit...</td>\n",
       "      <td>주노 해변 주노 해변은 쿠르쇨르메르의 양쪽으로 뻗은 5마일 정도의 해변이었다. 제3...</td>\n",
       "    </tr>\n",
       "    <tr>\n",
       "      <th>599</th>\n",
       "      <td>mrc-0-002605</td>\n",
       "      <td>구립운석을 이루는 물질 중 널리 알려진 것은?</td>\n",
       "      <td>[{'docs_id': '15241', 'score': 44.141014, 'tit...</td>\n",
       "      <td>구립운석(球粒隕石, 콘드라이트)는 석질운석의 일종으로, 운석의 원석이 용융이나 분화...</td>\n",
       "    </tr>\n",
       "  </tbody>\n",
       "</table>\n",
       "<p>600 rows × 4 columns</p>\n",
       "</div>"
      ],
      "text/plain": [
       "               id                                      question  \\\n",
       "0    mrc-1-000653                         유령'은 어느 행성에서 지구로 왔는가?   \n",
       "1    mrc-1-001113               용병회사의 경기가 좋아진 것은 무엇이 끝난 이후부터인가?   \n",
       "2    mrc-0-002191       돌푸스에게 불특정 기간동안 하원이 잠시 쉬는 것을 건의 받았던 인물은?   \n",
       "3    mrc-0-003951          마오리언어와 영어, 뉴질랜드 수화를 공식 언어로 사용하는 나라는?   \n",
       "4    mrc-1-001272                    디엔비엔푸 전투에서 보응우옌잡이 상대한 국가는?   \n",
       "..            ...                                           ...   \n",
       "595  mrc-0-002989                         타입 2 가이아 메모리을 만든 집단은?   \n",
       "596  mrc-0-001804            장면이 정치보복에 반대하는 입장에서 처벌을 원치 않은 대상은?   \n",
       "597  mrc-0-003411  콜드게임 중 어떠한 계기로 인해 잠시 중단된 뒤, 익일에 게임이 진행되는 것은?   \n",
       "598  mrc-0-003436                            제2캐나다기갑여단이 상륙한 곳은?   \n",
       "599  mrc-0-002605                     구립운석을 이루는 물질 중 널리 알려진 것은?   \n",
       "\n",
       "                                              contents  \\\n",
       "0    [{'docs_id': '43280', 'score': 20.487246, 'tit...   \n",
       "1    [{'docs_id': '20081', 'score': 23.784315, 'tit...   \n",
       "2    [{'docs_id': '20554', 'score': 46.843483, 'tit...   \n",
       "3    [{'docs_id': '25557', 'score': 61.7281, 'title...   \n",
       "4    [{'docs_id': '18335', 'score': 39.044395, 'tit...   \n",
       "..                                                 ...   \n",
       "595  [{'docs_id': '26084', 'score': 35.11652, 'titl...   \n",
       "596  [{'docs_id': '6969', 'score': 45.62529, 'title...   \n",
       "597  [{'docs_id': '25696', 'score': 40.586067, 'tit...   \n",
       "598  [{'docs_id': '43341', 'score': 44.655956, 'tit...   \n",
       "599  [{'docs_id': '15241', 'score': 44.141014, 'tit...   \n",
       "\n",
       "                                               context  \n",
       "0    목성의 대기에서 보이는 줄무늬는 적도와 평행하면서 행성을 둘러싸는 대(zone)와 ...  \n",
       "1    SK에서 방출된 이후 그는 일본을 여행하며 잠시 신변을 정리하고 있었다. 그 때 좌...  \n",
       "2    1933년 3월, 투표 과정의 위법성에 대한 문제제기가 불거졌다. 당시 오스트리아 ...  \n",
       "3    유럽인들의 아메리카와 오세아니아 식민지화로 인해 아메리카와 오세아니아의 문화적, 민...  \n",
       "4    1926년 학생 시절 베트남청년혁명당에 가입했고 1930년에 학생 파업을 지지했다는...  \n",
       "..                                                 ...  \n",
       "595  재단 X가 슈라우드(=소노자키 후미네)가 개발한 가이아 메모리의 테크놀로지를 분석,...  \n",
       "596  과거의 죄악에 대한 소급입법 적용을 반대하였다. 4.19 혁명 당시 사망한 사망자의...  \n",
       "597  콜드게임(called game)이란 야구나 소프트볼 등의 운동경기에서 심판에 의하여...  \n",
       "598  주노 해변 주노 해변은 쿠르쇨르메르의 양쪽으로 뻗은 5마일 정도의 해변이었다. 제3...  \n",
       "599  구립운석(球粒隕石, 콘드라이트)는 석질운석의 일종으로, 운석의 원석이 용융이나 분화...  \n",
       "\n",
       "[600 rows x 4 columns]"
      ]
     },
     "execution_count": 88,
     "metadata": {},
     "output_type": "execute_result"
    }
   ],
   "source": [
    "from datasets import (load_from_disk, load_dataset, Features, \n",
    "                        Value, Sequence, DatasetDict, Dataset)\n",
    "\n",
    "k = 20\n",
    "\n",
    "test_datas = []\n",
    "for i in range(len(res)):\n",
    "    contents = []\n",
    "    passages = []\n",
    "    for j in range(k):\n",
    "        content = {\n",
    "            'docs_id': res[i]['hits']['hits'][j]['_id'],\n",
    "            'score': res[i]['hits']['hits'][j]['_score'],\n",
    "            'title': res[i]['hits']['hits'][j]['_source']['title'],\n",
    "            'content': res[i]['hits']['hits'][j]['_source']['content']\n",
    "        }\n",
    "        passage = res[i]['hits']['hits'][j]['_source']['content']\n",
    "        contents.append(content)\n",
    "        passages.append(passage)\n",
    "    test_datas.append({\n",
    "        'id': test_dataset[i]['id'],\n",
    "        'question': test_dataset[i]['question'],\n",
    "        'contents': contents,\n",
    "        'context': \" \".join([p for p in passages])\n",
    "    })\n",
    "\n",
    "# a = pd.DataFrame(test_datas)\n",
    "# a\n",
    "Dataset.from_pandas(pd.DataFrame(test_datas)).save_to_disk(f\"test_es_top_{k}.json\")"
   ]
  },
  {
   "cell_type": "code",
   "execution_count": 98,
   "metadata": {},
   "outputs": [],
   "source": [
    "Dataset.from_pandas(a).save_to_disk(f\"test_es_top_{k}\")"
   ]
  },
  {
   "cell_type": "code",
   "execution_count": 100,
   "metadata": {},
   "outputs": [
    {
     "data": {
      "text/plain": [
       "Dataset({\n",
       "    features: ['id', 'question', 'contents', 'context'],\n",
       "    num_rows: 600\n",
       "})"
      ]
     },
     "execution_count": 100,
     "metadata": {},
     "output_type": "execute_result"
    }
   ],
   "source": [
    "b = load_from_disk('test_es_top_20')\n",
    "b"
   ]
  },
  {
   "cell_type": "code",
   "execution_count": 105,
   "metadata": {},
   "outputs": [
    {
     "data": {
      "text/plain": [
       "['id', 'question', 'contents', 'context']"
      ]
     },
     "execution_count": 105,
     "metadata": {},
     "output_type": "execute_result"
    }
   ],
   "source": [
    "b.column_names"
   ]
  },
  {
   "cell_type": "code",
   "execution_count": null,
   "metadata": {
    "tags": []
   },
   "outputs": [],
   "source": []
  },
  {
   "cell_type": "code",
   "execution_count": 112,
   "metadata": {},
   "outputs": [],
   "source": [
    "a.to_csv('h.csv')"
   ]
  },
  {
   "cell_type": "code",
   "execution_count": null,
   "metadata": {},
   "outputs": [],
   "source": []
  },
  {
   "cell_type": "code",
   "execution_count": null,
   "metadata": {},
   "outputs": [],
   "source": []
  },
  {
   "cell_type": "code",
   "execution_count": 109,
   "metadata": {},
   "outputs": [
    {
     "name": "stderr",
     "output_type": "stream",
     "text": [
      "  0%|          | 0/9 [00:00<?, ?it/s]<ipython-input-109-152f200595e1>:41: ElasticsearchDeprecationWarning: Elasticsearch built-in security features are not enabled. Without authentication, your cluster could be accessible to anyone. See https://www.elastic.co/guide/en/elasticsearch/reference/7.15/security-minimal-setup.html to enable security.\n",
      "  res = es.search(index=INDEX_NAME, q=question, size=size)\n",
      " 11%|█         | 1/9 [00:13<01:46, 13.32s/it]"
     ]
    },
    {
     "name": "stdout",
     "output_type": "stream",
     "text": [
      "top 5 elastic search is finished\n",
      "top 5 dataset is made.\n",
      "top 7 elastic search is finished\n"
     ]
    },
    {
     "name": "stderr",
     "output_type": "stream",
     "text": [
      " 22%|██▏       | 2/9 [00:27<01:35, 13.61s/it]"
     ]
    },
    {
     "name": "stdout",
     "output_type": "stream",
     "text": [
      "top 7 dataset is made.\n",
      "top 10 elastic search is finished\n"
     ]
    },
    {
     "name": "stderr",
     "output_type": "stream",
     "text": [
      " 33%|███▎      | 3/9 [00:41<01:23, 13.95s/it]"
     ]
    },
    {
     "name": "stdout",
     "output_type": "stream",
     "text": [
      "top 10 dataset is made.\n",
      "top 11 elastic search is finished\n"
     ]
    },
    {
     "name": "stderr",
     "output_type": "stream",
     "text": [
      " 44%|████▍     | 4/9 [00:56<01:11, 14.22s/it]"
     ]
    },
    {
     "name": "stdout",
     "output_type": "stream",
     "text": [
      "top 11 dataset is made.\n",
      "top 12 elastic search is finished\n"
     ]
    },
    {
     "name": "stderr",
     "output_type": "stream",
     "text": [
      " 56%|█████▌    | 5/9 [01:10<00:57, 14.42s/it]"
     ]
    },
    {
     "name": "stdout",
     "output_type": "stream",
     "text": [
      "top 12 dataset is made.\n",
      "top 13 elastic search is finished\n"
     ]
    },
    {
     "name": "stderr",
     "output_type": "stream",
     "text": [
      " 67%|██████▋   | 6/9 [01:25<00:43, 14.65s/it]"
     ]
    },
    {
     "name": "stdout",
     "output_type": "stream",
     "text": [
      "top 13 dataset is made.\n",
      "top 15 elastic search is finished\n"
     ]
    },
    {
     "name": "stderr",
     "output_type": "stream",
     "text": [
      " 78%|███████▊  | 7/9 [01:41<00:29, 14.97s/it]"
     ]
    },
    {
     "name": "stdout",
     "output_type": "stream",
     "text": [
      "top 15 dataset is made.\n",
      "top 17 elastic search is finished\n"
     ]
    },
    {
     "name": "stderr",
     "output_type": "stream",
     "text": [
      " 89%|████████▉ | 8/9 [01:57<00:15, 15.26s/it]"
     ]
    },
    {
     "name": "stdout",
     "output_type": "stream",
     "text": [
      "top 17 dataset is made.\n",
      "top 18 elastic search is finished\n"
     ]
    },
    {
     "name": "stderr",
     "output_type": "stream",
     "text": [
      "100%|██████████| 9/9 [02:13<00:00, 14.84s/it]"
     ]
    },
    {
     "name": "stdout",
     "output_type": "stream",
     "text": [
      "top 18 dataset is made.\n"
     ]
    },
    {
     "name": "stderr",
     "output_type": "stream",
     "text": [
      "\n"
     ]
    }
   ],
   "source": [
    "from datasets import (load_from_disk, load_dataset, Features, \n",
    "                        Value, Sequence, DatasetDict, Dataset)\n",
    "from tqdm import tqdm\n",
    "\n",
    "test_dataset = load_from_disk('data/test_dataset/validation')\n",
    "\n",
    "def make_test_dataset(res, err, k):\n",
    "    if len(err) > 0:\n",
    "        return\n",
    "\n",
    "    test_datas = []\n",
    "    for i in range(len(res)):\n",
    "        contents = []\n",
    "        passages = []\n",
    "        for j in range(k):\n",
    "            content = {\n",
    "                'docs_id': res[i]['hits']['hits'][j]['_id'],\n",
    "                'score': res[i]['hits']['hits'][j]['_score'],\n",
    "                'title': res[i]['hits']['hits'][j]['_source']['title'],\n",
    "                'content': res[i]['hits']['hits'][j]['_source']['content']\n",
    "            }\n",
    "            passage = res[i]['hits']['hits'][j]['_source']['content']\n",
    "            contents.append(content)\n",
    "            passages.append(passage)\n",
    "        test_datas.append({\n",
    "            'id': test_dataset[i]['id'],\n",
    "            'question': test_dataset[i]['question'],\n",
    "            'contents': contents,\n",
    "            'context': \" \".join([p for p in passages])\n",
    "        })\n",
    "\n",
    "    tmp_pd =pd.DataFrame(test_datas)\n",
    "    Dataset.from_pandas(tmp_pd).save_to_disk(f\"tt/test_es_top_{k}\")\n",
    "    print(f\"top {k} dataset is made.\")\n",
    "\n",
    "def search_query(questions, size):\n",
    "    error_queries = []\n",
    "    results = []\n",
    "    for question in questions:\n",
    "        try:\n",
    "            res = es.search(index=INDEX_NAME, q=question, size=size)\n",
    "            results.append(res)\n",
    "        except:\n",
    "            error_queries.append(question)\n",
    "    print(f\"top {k} elastic search is finished\")\n",
    "    return results, error_queries\n",
    "\n",
    "\n",
    "for k in tqdm([5, 7, 10, 11, 12, 13, 15, 17, 18]):\n",
    "    res, err = search_query(test_query, k)\n",
    "    make_test_dataset(res, err, k)\n"
   ]
  },
  {
   "cell_type": "code",
   "execution_count": 110,
   "metadata": {},
   "outputs": [
    {
     "data": {
      "text/plain": [
       "Dataset({\n",
       "    features: ['id', 'question', 'contents', 'context'],\n",
       "    num_rows: 600\n",
       "})"
      ]
     },
     "execution_count": 110,
     "metadata": {},
     "output_type": "execute_result"
    }
   ],
   "source": [
    "c = load_from_disk('tt/test_es_top_20')\n",
    "c"
   ]
  },
  {
   "cell_type": "code",
   "execution_count": null,
   "metadata": {},
   "outputs": [],
   "source": []
  },
  {
   "cell_type": "code",
   "execution_count": 184,
   "metadata": {},
   "outputs": [
    {
     "name": "stdout",
     "output_type": "stream",
     "text": [
      "대통령을 포함한 미국의 행정부 견제권을 갖는 국가 기관은? 3952\n"
     ]
    },
    {
     "data": {
      "text/plain": [
       "{'id': 'mrc-1-000067',\n",
       " 'context': '미국 상의원 또는 미국 상원(United States Senate)은 양원제인 미국 의회의 상원이다. 미국 부통령이 상원의장이 된다. 각 주당 2명의 상원의원이 선출되어 100명의 상원의원으로 구성되어 있다. 임기는 6년이며, 2년마다 50개주 중 1/3씩 상원의원을 새로 선출하여 연방에 보낸다. 미국 상원은 미국 하원과는 다르게 미국 대통령을 수반으로 하는 미국 연방 행정부에 각종 동의를 하는 기관이다. 하원이 세금과 경제에 대한 권한, 대통령을 포함한 대다수의 공무원을 파면할 권한을 갖고 있는 국민을 대표하는 기관인 반면 상원은 미국의 주를 대표한다. 즉 캘리포니아주, 일리노이주 같이 주 정부와 주 의회를 대표하는 기관이다. 그로 인하여 군대의 파병, 관료의 임명에 대한 동의, 외국 조약에 대한 승인 등 신속을 요하는 권한은 모두 상원에게만 있다. 그리고 하원에 대한 견제 역할(하원의 법안을 거부할 권한 등)을 담당한다. 2년의 임기로 인하여 급진적일 수밖에 없는 하원은 지나치게 급진적인 법안을 만들기 쉽다. 대표적인 예로 건강보험 개혁 당시 하원이 미국 연방 행정부에게 퍼블릭 옵션(공공건강보험기관)의 조항이 있는 반면 상원의 경우 하원안이 지나치게 세금이 많이 든다는 이유로 퍼블릭 옵션 조항을 제외하고 비영리건강보험기관이나 보험회사가 담당하도록 한 것이다. 이 경우처럼 상원은 하원이나 내각책임제가 빠지기 쉬운 국가들의 국회처럼 걸핏하면 발생하는 의회의 비정상적인 사태를 방지하는 기관이다. 상원은 급박한 처리사항의 경우가 아니면 법안을 먼저 내는 경우가 드물고 하원이 만든 법안을 수정하여 다시 하원에 되돌려보낸다. 이러한 방식으로 단원제가 빠지기 쉬운 함정을 미리 방지하는 것이다.날짜=2017-02-05',\n",
       " 'question': '대통령을 포함한 미국의 행정부 견제권을 갖는 국가 기관은?',\n",
       " 'answers': {'text': ['하원'], 'answer_start': [229]}}"
      ]
     },
     "execution_count": 184,
     "metadata": {},
     "output_type": "execute_result"
    }
   ],
   "source": [
    "train_dataset = load_from_disk('data/new_train_dataset/train')\n",
    "train_query = train_dataset['question']\n",
    "print(train_query[0], len(train_dataset))\n",
    "train_dataset[0]"
   ]
  },
  {
   "cell_type": "code",
   "execution_count": 174,
   "metadata": {},
   "outputs": [
    {
     "name": "stdout",
     "output_type": "stream",
     "text": [
      "처음으로 부실 경영인에 대한 보상 선고를 받은 회사는? 240\n"
     ]
    },
    {
     "data": {
      "text/plain": [
       "{'id': 'mrc-0-003264',\n",
       " 'context': '순천여자고등학교 졸업, 1973년 이화여자대학교를 졸업하고 1975년 제17회 사법시험에 합격하여 판사로 임용되었고 대법원 재판연구관, 수원지법 부장판사, 사법연수원 교수, 특허법원 부장판사 등을 거쳐 능력을 인정받았다. 2003년 최종영 대법원장의 지명으로 헌법재판소 재판관을 역임하였다. 경제민주화위원회(위원장 장하성이 소액주주들을 대표해 한보철강 부실대출에 책임이 있는 이철수 전 제일은행장 등 임원 4명을 상대로 제기한 손해배상청구소송에서 서울지방법원 민사합의17부는 1998년 7월 24일에 \"한보철강에 부실 대출하여 은행에 막대한 손해를 끼친 점이 인정된다\"며 \"원고가 배상을 청구한 400억원 전액을 은행에 배상하라\"고 하면서 부실 경영인에 대한 최초의 배상 판결을 했다. 2004년 10월 신행정수도의건설을위한특별조치법 위헌 확인 소송에서 9인의 재판관 중 유일하게 각하 견해를 내었다. 소수의견에서 전효숙 재판관은 다수견해의 문제점을 지적하면서 관습헌법 법리를 부정하였다. 전효숙 재판관은 서울대학교 근대법학교육 백주년 기념관에서 열린 강연에서, 국회가 고도의 정치적인 사안을 정치로 풀기보다는 헌법재판소에 무조건 맡겨서 해결하려는 자세는 헌법재판소에게 부담스럽다며 소회를 밝힌 바 있다.',\n",
       " 'question': '처음으로 부실 경영인에 대한 보상 선고를 받은 회사는?',\n",
       " 'answers': {'text': ['한보철강'], 'answer_start': [281]}}"
      ]
     },
     "execution_count": 174,
     "metadata": {},
     "output_type": "execute_result"
    }
   ],
   "source": [
    "valid_dataset = load_from_disk('data/new_train_dataset/validation')\n",
    "valid_query = valid_dataset['question']\n",
    "print(valid_query[0], len(valid_dataset))\n",
    "valid_dataset[0]"
   ]
  },
  {
   "cell_type": "code",
   "execution_count": 321,
   "metadata": {},
   "outputs": [
    {
     "data": {
      "text/plain": [
       "{'question': '대통령을 포함한 미국의 행정부 견제권을 갖는 국가 기관은?',\n",
       " 'answers': {'answer_start': [235], 'text': ['하원']},\n",
       " 'document_id': 18293,\n",
       " 'id': 'mrc-1-000067',\n",
       " 'title': '미국 상원',\n",
       " '__index_level_0__': 42,\n",
       " 'context': '미국 상의원 또는 미국 상원(United States Senate)은 양원제인 미국 의회의 상원이다.\\\\n\\\\n미국 부통령이 상원의장이 된다. 각 주당 2명의 상원의원이 선출되어 100명의 상원의원으로 구성되어 있다. 임기는 6년이며, 2년마다 50개주 중 1/3씩 상원의원을 새로 선출하여 연방에 보낸다.\\\\n\\\\n미국 상원은 미국 하원과는 다르게 미국 대통령을 수반으로 하는 미국 연방 행정부에 각종 동의를 하는 기관이다. 하원이 세금과 경제에 대한 권한, 대통령을 포함한 대다수의 공무원을 파면할 권한을 갖고 있는 국민을 대표하는 기관인 반면 상원은 미국의 주를 대표한다. 즉 캘리포니아주, 일리노이주 같이 주 정부와 주 의회를 대표하는 기관이다. 그로 인하여 군대의 파병, 관료의 임명에 대한 동의, 외국 조약에 대한 승인 등 신속을 요하는 권한은 모두 상원에게만 있다. 그리고 하원에 대한 견제 역할(하원의 법안을 거부할 권한 등)을 담당한다. 2년의 임기로 인하여 급진적일 수밖에 없는 하원은 지나치게 급진적인 법안을 만들기 쉽다. 대표적인 예로 건강보험 개혁 당시 하원이 미국 연방 행정부에게 퍼블릭 옵션(공공건강보험기관)의 조항이 있는 반면 상원의 경우 하원안이 지나치게 세금이 많이 든다는 이유로 퍼블릭 옵션 조항을 제외하고 비영리건강보험기관이나 보험회사가 담당하도록 한 것이다. 이 경우처럼 상원은 하원이나 내각책임제가 빠지기 쉬운 국가들의 국회처럼 걸핏하면 발생하는 의회의 비정상적인 사태를 방지하는 기관이다. 상원은 급박한 처리사항의 경우가 아니면 법안을 먼저 내는 경우가 드물고 하원이 만든 법안을 수정하여 다시 하원에 되돌려보낸다. 이러한 방식으로 단원제가 빠지기 쉬운 함정을 미리 방지하는 것이다.날짜=2017-02-05'}"
      ]
     },
     "execution_count": 321,
     "metadata": {},
     "output_type": "execute_result"
    }
   ],
   "source": [
    "origin_train_dataset = load_from_disk('data/train_dataset')['train']\n",
    "origin_train_dataset[0]"
   ]
  },
  {
   "cell_type": "code",
   "execution_count": 356,
   "metadata": {},
   "outputs": [
    {
     "data": {
      "text/plain": [
       "{'question': '처음으로 부실 경영인에 대한 보상 선고를 받은 회사는?',\n",
       " 'answers': {'answer_start': [284], 'text': ['한보철강']},\n",
       " 'document_id': 9027,\n",
       " 'id': 'mrc-0-003264',\n",
       " 'title': '전효숙',\n",
       " '__index_level_0__': 2146,\n",
       " 'context': '순천여자고등학교 졸업, 1973년 이화여자대학교를 졸업하고 1975년 제17회 사법시험에 합격하여 판사로 임용되었고 대법원 재판연구관, 수원지법 부장판사, 사법연수원 교수, 특허법원 부장판사 등을 거쳐 능력을 인정받았다. 2003년 최종영 대법원장의 지명으로 헌법재판소 재판관을 역임하였다.\\\\n\\\\n경제민주화위원회(위원장 장하성이 소액주주들을 대표해 한보철강 부실대출에 책임이 있는 이철수 전 제일은행장 등 임원 4명을 상대로 제기한 손해배상청구소송에서 서울지방법원 민사합의17부는 1998년 7월 24일에 \"한보철강에 부실 대출하여 은행에 막대한 손해를 끼친 점이 인정된다\"며 \"원고가 배상을 청구한 400억원 전액을 은행에 배상하라\"고 하면서 부실 경영인에 대한 최초의 배상 판결을 했다. \\\\n\\\\n2004년 10월 신행정수도의건설을위한특별조치법 위헌 확인 소송에서 9인의 재판관 중 유일하게 각하 견해를 내었다. 소수의견에서 전효숙 재판관은 다수견해의 문제점을 지적하면서 관습헌법 법리를 부정하였다. 전효숙 재판관은 서울대학교 근대법학교육 백주년 기념관에서 열린 강연에서, 국회가 고도의 정치적인 사안을 정치로 풀기보다는 헌법재판소에 무조건 맡겨서 해결하려는 자세는 헌법재판소에게 부담스럽다며 소회를 밝힌 바 있다.'}"
      ]
     },
     "execution_count": 356,
     "metadata": {},
     "output_type": "execute_result"
    }
   ],
   "source": [
    "origin_valid_dataset = load_from_disk('data/train_dataset')['validation']\n",
    "origin_valid_dataset[0]"
   ]
  },
  {
   "cell_type": "code",
   "execution_count": 360,
   "metadata": {},
   "outputs": [
    {
     "name": "stderr",
     "output_type": "stream",
     "text": [
      "  0%|          | 0/1 [00:00<?, ?it/s]"
     ]
    },
    {
     "name": "stdout",
     "output_type": "stream",
     "text": [
      "len_valid: 240 , len_error: 0\n"
     ]
    },
    {
     "name": "stderr",
     "output_type": "stream",
     "text": [
      "100%|██████████| 1/1 [00:01<00:00,  1.23s/it]"
     ]
    },
    {
     "name": "stdout",
     "output_type": "stream",
     "text": [
      "top 100 dataset is made.\n"
     ]
    },
    {
     "name": "stderr",
     "output_type": "stream",
     "text": [
      "\n"
     ]
    },
    {
     "data": {
      "text/html": [
       "<div>\n",
       "<style scoped>\n",
       "    .dataframe tbody tr th:only-of-type {\n",
       "        vertical-align: middle;\n",
       "    }\n",
       "\n",
       "    .dataframe tbody tr th {\n",
       "        vertical-align: top;\n",
       "    }\n",
       "\n",
       "    .dataframe thead th {\n",
       "        text-align: right;\n",
       "    }\n",
       "</style>\n",
       "<table border=\"1\" class=\"dataframe\">\n",
       "  <thead>\n",
       "    <tr style=\"text-align: right;\">\n",
       "      <th></th>\n",
       "      <th>id</th>\n",
       "      <th>context</th>\n",
       "      <th>question</th>\n",
       "      <th>answers</th>\n",
       "    </tr>\n",
       "  </thead>\n",
       "  <tbody>\n",
       "    <tr>\n",
       "      <th>0</th>\n",
       "      <td>mrc-0-003264</td>\n",
       "      <td>순천여자고등학교 졸업, 1973년 이화여자대학교를 졸업하고 1975년 제17회 사법...</td>\n",
       "      <td>처음으로 부실 경영인에 대한 보상 선고를 받은 회사는?</td>\n",
       "      <td>{'answer_start': [284], 'text': ['한보철강']}</td>\n",
       "    </tr>\n",
       "    <tr>\n",
       "      <th>1</th>\n",
       "      <td>mrc-0-004762</td>\n",
       "      <td>요크 카운티 동쪽에 처음으로 여객 열차 운행이 시작한 시점은 1868년 토론토 &amp; ...</td>\n",
       "      <td>스카버러 남쪽과 코보콘그 마을의 철도 노선이 처음 연장된 연도는?</td>\n",
       "      <td>{'answer_start': [146], 'text': ['1871년']}</td>\n",
       "    </tr>\n",
       "    <tr>\n",
       "      <th>2</th>\n",
       "      <td>mrc-1-001810</td>\n",
       "      <td>촐라 정부\\n 촐라의 정부 체제는 전제군주제였으며,2001 촐라의 군주는 절대적인 ...</td>\n",
       "      <td>촌락에서 운영 위원 후보자 이름을 쓰기위해 사용된 것은?</td>\n",
       "      <td>{'answer_start': [517], 'text': ['나뭇잎']}</td>\n",
       "    </tr>\n",
       "    <tr>\n",
       "      <th>3</th>\n",
       "      <td>mrc-1-000219</td>\n",
       "      <td>프랑스의 십자군 무훈시는 1099년 예루살렘 왕국의 통치자가 된 고드프루아 드 부용...</td>\n",
       "      <td>로타이르가 백조를 구하기 위해 사용한 것은?</td>\n",
       "      <td>{'answer_start': [1109], 'text': ['금대야']}</td>\n",
       "    </tr>\n",
       "    <tr>\n",
       "      <th>4</th>\n",
       "      <td>mrc-1-000285</td>\n",
       "      <td>탈관료제화는 현대사회에서 관료제 성격이 약화되는 현상이다. 현대사회에서 관료제는 약...</td>\n",
       "      <td>의견을 자유롭게 나누는 것은 조직 내 어떤 관계에서 가능한가?</td>\n",
       "      <td>{'answer_start': [386], 'text': ['수평적 관계']}</td>\n",
       "    </tr>\n",
       "    <tr>\n",
       "      <th>...</th>\n",
       "      <td>...</td>\n",
       "      <td>...</td>\n",
       "      <td>...</td>\n",
       "      <td>...</td>\n",
       "    </tr>\n",
       "    <tr>\n",
       "      <th>235</th>\n",
       "      <td>mrc-0-000484</td>\n",
       "      <td>연나라 군대의 사령관이 악의에서 기겁으로 교체되자, 전단은 스스로 신령의 계시를 받...</td>\n",
       "      <td>전단이 연나라와의 전쟁에서 승리했을 당시 제나라의 왕은 누구인가?</td>\n",
       "      <td>{'answer_start': [1084], 'text': ['제 양왕']}</td>\n",
       "    </tr>\n",
       "    <tr>\n",
       "      <th>236</th>\n",
       "      <td>mrc-0-002095</td>\n",
       "      <td>현재 우리가 볼 수 있는 티칼의 모습은 펜실베이니아 대학교와 과테말라 정부의 협조 ...</td>\n",
       "      <td>공놀이 경기장 중 일부는 어디에 위치하고 있나?</td>\n",
       "      <td>{'answer_start': [343], 'text': [''일곱 개의 신전 광장...</td>\n",
       "    </tr>\n",
       "    <tr>\n",
       "      <th>237</th>\n",
       "      <td>mrc-0-003083</td>\n",
       "      <td>1940년 5월 1일 오전 창씨개명에 비협조적이라는 이유로 조선총독부 경무국에서 소...</td>\n",
       "      <td>창씨개명령의 시행일을 미루는 것을 수락한 인물은?</td>\n",
       "      <td>{'answer_start': [247], 'text': ['미나미 지로']}</td>\n",
       "    </tr>\n",
       "    <tr>\n",
       "      <th>238</th>\n",
       "      <td>mrc-0-002978</td>\n",
       "      <td>빌카밤바 지역은 파차쿠티 황제 때 부터 잉카 제국에 속해있던 지역이었다. 스페인 군...</td>\n",
       "      <td>망코 잉카가 쿠스코를 되찾기 위해 마련한 군사는 총 몇 명인가?</td>\n",
       "      <td>{'answer_start': [563], 'text': ['200,000명']}</td>\n",
       "    </tr>\n",
       "    <tr>\n",
       "      <th>239</th>\n",
       "      <td>mrc-1-000622</td>\n",
       "      <td>사회주의 혁명은 오로지 선진노동자계급에 기초한 계급투쟁으로서 이루어질 수 있다고 주...</td>\n",
       "      <td>마르크스주의자들의 사상은?</td>\n",
       "      <td>{'answer_start': [811], 'text': ['공산주의']}</td>\n",
       "    </tr>\n",
       "  </tbody>\n",
       "</table>\n",
       "<p>240 rows × 4 columns</p>\n",
       "</div>"
      ],
      "text/plain": [
       "               id                                            context  \\\n",
       "0    mrc-0-003264  순천여자고등학교 졸업, 1973년 이화여자대학교를 졸업하고 1975년 제17회 사법...   \n",
       "1    mrc-0-004762  요크 카운티 동쪽에 처음으로 여객 열차 운행이 시작한 시점은 1868년 토론토 & ...   \n",
       "2    mrc-1-001810  촐라 정부\\n 촐라의 정부 체제는 전제군주제였으며,2001 촐라의 군주는 절대적인 ...   \n",
       "3    mrc-1-000219  프랑스의 십자군 무훈시는 1099년 예루살렘 왕국의 통치자가 된 고드프루아 드 부용...   \n",
       "4    mrc-1-000285  탈관료제화는 현대사회에서 관료제 성격이 약화되는 현상이다. 현대사회에서 관료제는 약...   \n",
       "..            ...                                                ...   \n",
       "235  mrc-0-000484  연나라 군대의 사령관이 악의에서 기겁으로 교체되자, 전단은 스스로 신령의 계시를 받...   \n",
       "236  mrc-0-002095  현재 우리가 볼 수 있는 티칼의 모습은 펜실베이니아 대학교와 과테말라 정부의 협조 ...   \n",
       "237  mrc-0-003083  1940년 5월 1일 오전 창씨개명에 비협조적이라는 이유로 조선총독부 경무국에서 소...   \n",
       "238  mrc-0-002978  빌카밤바 지역은 파차쿠티 황제 때 부터 잉카 제국에 속해있던 지역이었다. 스페인 군...   \n",
       "239  mrc-1-000622  사회주의 혁명은 오로지 선진노동자계급에 기초한 계급투쟁으로서 이루어질 수 있다고 주...   \n",
       "\n",
       "                                 question  \\\n",
       "0          처음으로 부실 경영인에 대한 보상 선고를 받은 회사는?   \n",
       "1    스카버러 남쪽과 코보콘그 마을의 철도 노선이 처음 연장된 연도는?   \n",
       "2         촌락에서 운영 위원 후보자 이름을 쓰기위해 사용된 것은?   \n",
       "3                로타이르가 백조를 구하기 위해 사용한 것은?   \n",
       "4      의견을 자유롭게 나누는 것은 조직 내 어떤 관계에서 가능한가?   \n",
       "..                                    ...   \n",
       "235  전단이 연나라와의 전쟁에서 승리했을 당시 제나라의 왕은 누구인가?   \n",
       "236            공놀이 경기장 중 일부는 어디에 위치하고 있나?   \n",
       "237           창씨개명령의 시행일을 미루는 것을 수락한 인물은?   \n",
       "238   망코 잉카가 쿠스코를 되찾기 위해 마련한 군사는 총 몇 명인가?   \n",
       "239                        마르크스주의자들의 사상은?   \n",
       "\n",
       "                                               answers  \n",
       "0            {'answer_start': [284], 'text': ['한보철강']}  \n",
       "1           {'answer_start': [146], 'text': ['1871년']}  \n",
       "2             {'answer_start': [517], 'text': ['나뭇잎']}  \n",
       "3            {'answer_start': [1109], 'text': ['금대야']}  \n",
       "4          {'answer_start': [386], 'text': ['수평적 관계']}  \n",
       "..                                                 ...  \n",
       "235         {'answer_start': [1084], 'text': ['제 양왕']}  \n",
       "236  {'answer_start': [343], 'text': [''일곱 개의 신전 광장...  \n",
       "237        {'answer_start': [247], 'text': ['미나미 지로']}  \n",
       "238      {'answer_start': [563], 'text': ['200,000명']}  \n",
       "239          {'answer_start': [811], 'text': ['공산주의']}  \n",
       "\n",
       "[240 rows x 4 columns]"
      ]
     },
     "execution_count": 360,
     "metadata": {},
     "output_type": "execute_result"
    }
   ],
   "source": [
    "def make_train_dataset(res, err, k):\n",
    "    train_datas = []\n",
    "    for i in range(len(res)):\n",
    "        passages = []\n",
    "        count = 0\n",
    "\n",
    "        # contexts = train_dataset[i]['context']\n",
    "        contexts = origin_train_dataset[i]['context']\n",
    "        if len(res[i]['hits']['hits']) > 1:\n",
    "            for j in range(k):\n",
    "                if count == 1:\n",
    "                    break\n",
    "                if j == k - 1 and count < 1:\n",
    "                    print('k늘려라.', count, i)\n",
    "                    break\n",
    "\n",
    "                passage = res[i]['hits']['hits'][j]['_source']['content']\n",
    "                if passage != train_dataset[i]['context'] and train_dataset[i]['answers']['text'][0] not in passage:\n",
    "                    contexts += ' ' + passage\n",
    "                    count += 1\n",
    "\n",
    "        train_datas.append({\n",
    "            'id': train_dataset[i]['id'],\n",
    "            'context': contexts,\n",
    "            'question': train_dataset[i]['question'],\n",
    "            # 'answers': train_dataset[i]['answers']\n",
    "            'answers': origin_train_dataset[i]['answers']\n",
    "        })\n",
    "\n",
    "    tmp_pd =pd.DataFrame(train_datas)\n",
    "    Dataset.from_pandas(tmp_pd).save_to_disk(f\"not_include_answer_passage_train_es_top_1\")\n",
    "    print(f\"top {k} dataset is made.\")\n",
    "    return tmp_pd\n",
    "\n",
    "# def make_train_dataset(res, err, k):\n",
    "#     train_datas = []\n",
    "#     for i in range(len(res)):\n",
    "#         passages = []\n",
    "\n",
    "#         contexts = train_dataset[i]['context']\n",
    "#         if len(res[i]['hits']['hits']) > 1:\n",
    "#             for j in range(k - 1):\n",
    "#                 passage = res[i]['hits']['hits'][j]['_source']['content']\n",
    "#                 if passage != train_dataset[i]['context']:\n",
    "#                     contexts += ' ' + passage\n",
    "\n",
    "#         train_datas.append({\n",
    "#             'id': train_dataset[i]['id'],\n",
    "#             'context': contexts,\n",
    "#             'question': train_dataset[i]['question'],\n",
    "#             'answers': train_dataset[i]['answers']\n",
    "#         })\n",
    "\n",
    "#     tmp_pd =pd.DataFrame(train_datas)\n",
    "#     Dataset.from_pandas(tmp_pd).save_to_disk(f\"train_es_top_{k}\")\n",
    "#     print(f\"top {k} dataset is made.\")\n",
    "#     return tmp_pd\n",
    "\n",
    "# def make_valid_dataset(res, err, k):\n",
    "#     valid_datas = []\n",
    "#     for i in range(len(res)):\n",
    "#         passages = []\n",
    "\n",
    "#         contexts = valid_dataset[i]['context']\n",
    "#         if len(res[i]['hits']['hits']) > 1:\n",
    "#             for j in range(k - 1):\n",
    "#                 passage = res[i]['hits']['hits'][j]['_source']['content']\n",
    "#                 if passage != valid_dataset[i]['context']:\n",
    "#                     contexts += ' ' + passage\n",
    "\n",
    "#         valid_datas.append({\n",
    "#             'id': valid_dataset[i]['id'],\n",
    "#             'context': contexts,\n",
    "#             'question': valid_dataset[i]['question'],\n",
    "#             'answers': valid_dataset[i]['answers']\n",
    "#         })\n",
    "\n",
    "#     tmp_pd =pd.DataFrame(valid_datas)\n",
    "#     Dataset.from_pandas(tmp_pd).save_to_disk(f\"valid_es_top_{k}\")\n",
    "#     print(f\"top {k} dataset is made.\")\n",
    "#     return tmp_pd\n",
    "\n",
    "def make_valid_dataset(res, err, k):\n",
    "    valid_datas = []\n",
    "    for i in range(len(res)):\n",
    "        passages = []\n",
    "        count = 0\n",
    "\n",
    "        contexts = origin_valid_dataset[i]['context']\n",
    "        if len(res[i]['hits']['hits']) > 1:\n",
    "            for j in range(k):\n",
    "                if count == 19:\n",
    "                    break\n",
    "                if j == k - 1 and count < 19:\n",
    "                    print('k늘려라.', count, i)\n",
    "                    break\n",
    "\n",
    "                passage = res[i]['hits']['hits'][j]['_source']['content']\n",
    "                if passage != valid_dataset[i]['context'] and valid_dataset[i]['answers']['text'][0] not in passage:\n",
    "                    contexts += ' ' + passage\n",
    "                    count += 1\n",
    "\n",
    "        valid_datas.append({\n",
    "            'id': valid_dataset[i]['id'],\n",
    "            'context': contexts,\n",
    "            'question': valid_dataset[i]['question'],\n",
    "            'answers': origin_valid_dataset[i]['answers']\n",
    "        })\n",
    "\n",
    "    tmp_pd =pd.DataFrame(valid_datas)\n",
    "    Dataset.from_pandas(tmp_pd).save_to_disk(f\"not_include_answer_passage_valid_es_top_19\")\n",
    "    print(f\"top {k} dataset is made.\")\n",
    "    return tmp_pd\n",
    "\n",
    "\n",
    "def search_query(questions, size):\n",
    "    error_queries = []\n",
    "    results = []\n",
    "    for question in questions:\n",
    "        if question == \"11~12세기에 제작된 본존불은 보통 어떤 나라의 특징이 전파되었나요?\":\n",
    "            question = \"11\\~12세기에 제작된 본존불은 보통 어떤 나라의 특징이 전파되었나요?\"\n",
    "        if question == \"S/W 취약점 찾기 대회에서 수상한 해커그룹들이 찾은 보안 취약점의 특징은?\":\n",
    "            question = \"S\\/W 취약점 찾기 대회에서 수상한 해커그룹들이 찾은 보안 취약점의 특징은?\"\n",
    "        if question == \"병에 걸려 죽을 확률이 약 25~50%에 달하는 유형의 질병은?\":\n",
    "            question = \"병에 걸려 죽을 확률이 약 25\\~50\\%에 달하는 유형의 질병은?'\"\n",
    "        try:\n",
    "            res = es.search(index=INDEX_NAME, q=question, size=size)\n",
    "            results.append(res)\n",
    "        except:\n",
    "            error_queries.append(question)\n",
    "    print(f\"top {k} elastic search is finished\")\n",
    "    return results, error_queries\n",
    "\n",
    "\n",
    "for k in tqdm([30]):\n",
    "# for k in tqdm([5, 10, 15, 20]):\n",
    "    res, err = search_query(train_query, k)\n",
    "    print(f\"len_train: {len(res)} , len_error: {len(err)}\")\n",
    "    f = make_train_dataset(res, err, k)\n",
    "    \n",
    "    # res, err = search_query(valid_query, k)\n",
    "    # print(f\"len_valid: {len(res)} , len_error: {len(err)}\")\n",
    "    # f = make_valid_dataset(res, err, k)\n",
    "\n",
    "f"
   ]
  },
  {
   "cell_type": "code",
   "execution_count": 355,
   "metadata": {},
   "outputs": [
    {
     "data": {
      "text/plain": [
       "3952"
      ]
     },
     "execution_count": 355,
     "metadata": {},
     "output_type": "execute_result"
    }
   ],
   "source": [
    "len(res)"
   ]
  },
  {
   "cell_type": "code",
   "execution_count": null,
   "metadata": {},
   "outputs": [],
   "source": []
  },
  {
   "cell_type": "code",
   "execution_count": 274,
   "metadata": {},
   "outputs": [
    {
     "name": "stdout",
     "output_type": "stream",
     "text": [
      "18391 618\n"
     ]
    }
   ],
   "source": [
    "print(len(f['context'][0]), len(valid_dataset['context'][0]))"
   ]
  },
  {
   "cell_type": "code",
   "execution_count": 259,
   "metadata": {},
   "outputs": [
    {
     "name": "stdout",
     "output_type": "stream",
     "text": [
      "16970 705\n"
     ]
    }
   ],
   "source": [
    "print(len(f['context'][2212]), len(train_dataset['context'][2212]))"
   ]
  },
  {
   "cell_type": "code",
   "execution_count": 125,
   "metadata": {},
   "outputs": [],
   "source": [
    "Dataset.from_pandas(f).save_to_disk(f\"train_es_top_5\")"
   ]
  },
  {
   "cell_type": "code",
   "execution_count": 196,
   "metadata": {},
   "outputs": [
    {
     "name": "stdout",
     "output_type": "stream",
     "text": [
      "tt/test_es_top_20/\n",
      "tt/test_es_top_20/cache-04b809be74276a1f.arrow\n",
      "tt/test_es_top_20/cache-9486682dcd40adb0.arrow\n",
      "tt/test_es_top_20/state.json\n",
      "tt/test_es_top_20/cache-1a991d41b3904672.arrow\n",
      "tt/test_es_top_20/dataset_info.json\n",
      "tt/test_es_top_20/cache-6b0bc50ab3aa12cd.arrow\n",
      "tt/test_es_top_20/dataset.arrow\n"
     ]
    }
   ],
   "source": [
    "!tar -cvf test_es_top_20.tar 'tt/test_es_top_20'"
   ]
  },
  {
   "cell_type": "code",
   "execution_count": 182,
   "metadata": {},
   "outputs": [],
   "source": [
    "!cp 'data/new_train_dataset/dataset_dict.json' 'concat_top_5'"
   ]
  },
  {
   "cell_type": "code",
   "execution_count": 187,
   "metadata": {},
   "outputs": [],
   "source": [
    "!mkdir concat_top_20"
   ]
  },
  {
   "cell_type": "code",
   "execution_count": 189,
   "metadata": {},
   "outputs": [],
   "source": [
    "!cp 'data/new_train_dataset/dataset_dict.json' 'concat_top_20'\n",
    "!cp -rf 'concat_top_5/validation' 'concat_top_20'"
   ]
  },
  {
   "cell_type": "code",
   "execution_count": 192,
   "metadata": {},
   "outputs": [
    {
     "name": "stdout",
     "output_type": "stream",
     "text": [
      "concat_top_20/\n",
      "concat_top_20/dataset_dict.json\n",
      "concat_top_20/validation/\n",
      "concat_top_20/validation/state.json\n",
      "concat_top_20/validation/dataset_info.json\n",
      "concat_top_20/validation/dataset.arrow\n",
      "concat_top_20/.ipynb_checkpoints/\n",
      "concat_top_20/train/\n",
      "concat_top_20/train/state.json\n",
      "concat_top_20/train/dataset_info.json\n",
      "concat_top_20/train/dataset.arrow\n"
     ]
    }
   ],
   "source": [
    "!tar -cvf concat_top_20.tar concat_top_20"
   ]
  },
  {
   "cell_type": "code",
   "execution_count": 275,
   "metadata": {},
   "outputs": [
    {
     "name": "stdout",
     "output_type": "stream",
     "text": [
      "valid_es_top_20/\n",
      "valid_es_top_20/state.json\n",
      "valid_es_top_20/dataset_info.json\n",
      "valid_es_top_20/dataset.arrow\n"
     ]
    }
   ],
   "source": [
    "!tar -cvf valid_es_top_20.tar valid_es_top_20"
   ]
  },
  {
   "cell_type": "code",
   "execution_count": 262,
   "metadata": {},
   "outputs": [
    {
     "name": "stdout",
     "output_type": "stream",
     "text": [
      "tt/test_es_top_5/\n",
      "tt/test_es_top_5/state.json\n",
      "tt/test_es_top_5/dataset_info.json\n",
      "tt/test_es_top_5/cache-771a3b4aabd2c649.arrow\n",
      "tt/test_es_top_5/dataset.arrow\n"
     ]
    }
   ],
   "source": [
    "!tar -cvf test_es_top_5.tar 'tt/test_es_top_5'"
   ]
  },
  {
   "cell_type": "code",
   "execution_count": 334,
   "metadata": {},
   "outputs": [],
   "source": [
    "!mkdir train_with_origin_gt_add_top_k_passage"
   ]
  },
  {
   "cell_type": "code",
   "execution_count": 335,
   "metadata": {},
   "outputs": [],
   "source": [
    "!cp -rf not_* train_with_origin_gt_add_top_k_passage"
   ]
  },
  {
   "cell_type": "code",
   "execution_count": 336,
   "metadata": {},
   "outputs": [
    {
     "name": "stdout",
     "output_type": "stream",
     "text": [
      "train_with_origin_gt_add_top_k_passage/\n",
      "train_with_origin_gt_add_top_k_passage/not_include_answer_passage_train_es_top_19/\n",
      "train_with_origin_gt_add_top_k_passage/not_include_answer_passage_train_es_top_19/state.json\n",
      "train_with_origin_gt_add_top_k_passage/not_include_answer_passage_train_es_top_19/dataset_info.json\n",
      "train_with_origin_gt_add_top_k_passage/not_include_answer_passage_train_es_top_19/dataset.arrow\n",
      "train_with_origin_gt_add_top_k_passage/not_include_answer_passage_train_es_top_4/\n",
      "train_with_origin_gt_add_top_k_passage/not_include_answer_passage_train_es_top_4/state.json\n",
      "train_with_origin_gt_add_top_k_passage/not_include_answer_passage_train_es_top_4/dataset_info.json\n",
      "train_with_origin_gt_add_top_k_passage/not_include_answer_passage_train_es_top_4/dataset.arrow\n",
      "train_with_origin_gt_add_top_k_passage/not_include_answer_passage_train_es_top_9/\n",
      "train_with_origin_gt_add_top_k_passage/not_include_answer_passage_train_es_top_9/state.json\n",
      "train_with_origin_gt_add_top_k_passage/not_include_answer_passage_train_es_top_9/dataset_info.json\n",
      "train_with_origin_gt_add_top_k_passage/not_include_answer_passage_train_es_top_9/dataset.arrow\n",
      "train_with_origin_gt_add_top_k_passage/not_include_answer_passage_train_es_top_14/\n",
      "train_with_origin_gt_add_top_k_passage/not_include_answer_passage_train_es_top_14/state.json\n",
      "train_with_origin_gt_add_top_k_passage/not_include_answer_passage_train_es_top_14/dataset_info.json\n",
      "train_with_origin_gt_add_top_k_passage/not_include_answer_passage_train_es_top_14/dataset.arrow\n"
     ]
    }
   ],
   "source": [
    "!tar -cvf train_with_origin_gt_add_top_k_passage.tar train_with_origin_gt_add_top_k_passage"
   ]
  },
  {
   "cell_type": "code",
   "execution_count": null,
   "metadata": {},
   "outputs": [],
   "source": []
  },
  {
   "cell_type": "code",
   "execution_count": 354,
   "metadata": {},
   "outputs": [
    {
     "name": "stdout",
     "output_type": "stream",
     "text": [
      "tt/test_es_top_20/\n",
      "tt/test_es_top_20/cache-04b809be74276a1f.arrow\n",
      "tt/test_es_top_20/cache-9486682dcd40adb0.arrow\n",
      "tt/test_es_top_20/state.json\n",
      "tt/test_es_top_20/cache-1a991d41b3904672.arrow\n",
      "tt/test_es_top_20/dataset_info.json\n",
      "tt/test_es_top_20/cache-6b0bc50ab3aa12cd.arrow\n",
      "tt/test_es_top_20/dataset.arrow\n"
     ]
    }
   ],
   "source": [
    "!tar -xvf test_es_top_20.tar"
   ]
  },
  {
   "cell_type": "code",
   "execution_count": 361,
   "metadata": {},
   "outputs": [],
   "source": [
    "b1 = load_from_disk('train_with_origin_gt_add_top_k_passage/not_include_answer_passage_train_es_top_4')\n",
    "b2 = load_from_disk('valid_with_origin_gt_add_top_k_passage/not_include_answer_passage_valid_es_top_4')"
   ]
  },
  {
   "cell_type": "code",
   "execution_count": 362,
   "metadata": {},
   "outputs": [
    {
     "data": {
      "text/plain": [
       "Dataset({\n",
       "    features: ['id', 'context', 'question', 'answers'],\n",
       "    num_rows: 3952\n",
       "})"
      ]
     },
     "execution_count": 362,
     "metadata": {},
     "output_type": "execute_result"
    }
   ],
   "source": [
    "b1"
   ]
  },
  {
   "cell_type": "code",
   "execution_count": 363,
   "metadata": {},
   "outputs": [
    {
     "data": {
      "text/plain": [
       "Dataset({\n",
       "    features: ['id', 'context', 'question', 'answers'],\n",
       "    num_rows: 240\n",
       "})"
      ]
     },
     "execution_count": 363,
     "metadata": {},
     "output_type": "execute_result"
    }
   ],
   "source": [
    "b2"
   ]
  },
  {
   "cell_type": "code",
   "execution_count": 366,
   "metadata": {},
   "outputs": [
    {
     "data": {
      "text/plain": [
       "Dataset({\n",
       "    features: ['id', 'context', 'question', 'answers'],\n",
       "    num_rows: 4192\n",
       "})"
      ]
     },
     "execution_count": 366,
     "metadata": {},
     "output_type": "execute_result"
    }
   ],
   "source": [
    "b3 = datasets.concatenate_datasets([b1, b2])\n",
    "b3"
   ]
  },
  {
   "cell_type": "code",
   "execution_count": null,
   "metadata": {},
   "outputs": [],
   "source": []
  },
  {
   "cell_type": "code",
   "execution_count": 386,
   "metadata": {},
   "outputs": [
    {
     "data": {
      "text/plain": [
       "{'id': 'mrc-1-000653', 'question': \"유령'은 어느 행성에서 지구로 왔는가?\"}"
      ]
     },
     "execution_count": 386,
     "metadata": {},
     "output_type": "execute_result"
    }
   ],
   "source": [
    "test_dataset[0]"
   ]
  },
  {
   "cell_type": "code",
   "execution_count": 369,
   "metadata": {},
   "outputs": [],
   "source": [
    "import pickle\n",
    "\n",
    "with open('hybrid_retrieval_test.bin','rb') as f:\n",
    "    tett = pickle.load(f)"
   ]
  },
  {
   "cell_type": "code",
   "execution_count": 381,
   "metadata": {},
   "outputs": [],
   "source": [
    "t_q = list(tett.keys())\n",
    "t_p = list(tett.values())"
   ]
  },
  {
   "cell_type": "code",
   "execution_count": 391,
   "metadata": {},
   "outputs": [
    {
     "data": {
      "text/plain": [
       "600"
      ]
     },
     "execution_count": 391,
     "metadata": {},
     "output_type": "execute_result"
    }
   ],
   "source": [
    "len(t_p)"
   ]
  },
  {
   "cell_type": "code",
   "execution_count": 393,
   "metadata": {},
   "outputs": [
    {
     "data": {
      "text/plain": [
       "600"
      ]
     },
     "execution_count": 393,
     "metadata": {},
     "output_type": "execute_result"
    }
   ],
   "source": [
    "hb_t = []\n",
    "\n",
    "for i in range(len(t_q)):\n",
    "    hb_t.append({\n",
    "        'id': test_dataset['id'][i],\n",
    "        'question': t_q[i],\n",
    "        'context': \" \".join([p for p in t_p[i][:20]])\n",
    "    })"
   ]
  },
  {
   "cell_type": "code",
   "execution_count": 395,
   "metadata": {},
   "outputs": [],
   "source": [
    "hb =pd.DataFrame(hb_t)\n",
    "Dataset.from_pandas(hb).save_to_disk(f\"hb_k_20\")"
   ]
  },
  {
   "cell_type": "code",
   "execution_count": 396,
   "metadata": {},
   "outputs": [
    {
     "data": {
      "text/plain": [
       "Dataset({\n",
       "    features: ['id', 'question', 'context'],\n",
       "    num_rows: 600\n",
       "})"
      ]
     },
     "execution_count": 396,
     "metadata": {},
     "output_type": "execute_result"
    }
   ],
   "source": [
    "nn = load_from_disk('hb_k_20')\n",
    "nn"
   ]
  },
  {
   "cell_type": "code",
   "execution_count": 400,
   "metadata": {},
   "outputs": [
    {
     "name": "stdout",
     "output_type": "stream",
     "text": [
      "hb_k_20/\n",
      "hb_k_20/state.json\n",
      "hb_k_20/dataset_info.json\n",
      "hb_k_20/cache-4be93ff1a11523b7.arrow\n",
      "hb_k_20/dataset.arrow\n"
     ]
    }
   ],
   "source": [
    "!tar -cvf hb_k_20.tar hb_k_20"
   ]
  },
  {
   "cell_type": "code",
   "execution_count": null,
   "metadata": {},
   "outputs": [],
   "source": []
  },
  {
   "cell_type": "code",
   "execution_count": 16,
   "metadata": {},
   "outputs": [],
   "source": [
    "import pickle\n",
    "\n",
    "with open('hybrid_train_retrieval.bin','rb') as f:\n",
    "    tett = pickle.load(f)\n",
    "    \n",
    "t_q = list(tett.keys())\n",
    "t_p = list(tett.values())"
   ]
  },
  {
   "cell_type": "code",
   "execution_count": 21,
   "metadata": {},
   "outputs": [
    {
     "data": {
      "text/plain": [
       "3952"
      ]
     },
     "execution_count": 21,
     "metadata": {},
     "output_type": "execute_result"
    }
   ],
   "source": [
    "len(t_q)"
   ]
  },
  {
   "cell_type": "code",
   "execution_count": 22,
   "metadata": {},
   "outputs": [
    {
     "data": {
      "text/plain": [
       "100"
      ]
     },
     "execution_count": 22,
     "metadata": {},
     "output_type": "execute_result"
    }
   ],
   "source": [
    "len(t_p[0])"
   ]
  },
  {
   "cell_type": "code",
   "execution_count": 23,
   "metadata": {},
   "outputs": [
    {
     "data": {
      "text/plain": [
       "{'answers': {'text': ['하원'], 'answer_start': [229]},\n",
       " 'id': 'mrc-1-000067',\n",
       " 'question': '대통령을 포함한 미국의 행정부 견제권을 갖는 국가 기관은?',\n",
       " 'context': '미국 상의원 또는 미국 상원(United States Senate)은 양원제인 미국 의회의 상원이다. 미국 부통령이 상원의장이 된다. 각 주당 2명의 상원의원이 선출되어 100명의 상원의원으로 구성되어 있다. 임기는 6년이며, 2년마다 50개주 중 1/3씩 상원의원을 새로 선출하여 연방에 보낸다. 미국 상원은 미국 하원과는 다르게 미국 대통령을 수반으로 하는 미국 연방 행정부에 각종 동의를 하는 기관이다. 하원이 세금과 경제에 대한 권한, 대통령을 포함한 대다수의 공무원을 파면할 권한을 갖고 있는 국민을 대표하는 기관인 반면 상원은 미국의 주를 대표한다. 즉 캘리포니아주, 일리노이주 같이 주 정부와 주 의회를 대표하는 기관이다. 그로 인하여 군대의 파병, 관료의 임명에 대한 동의, 외국 조약에 대한 승인 등 신속을 요하는 권한은 모두 상원에게만 있다. 그리고 하원에 대한 견제 역할(하원의 법안을 거부할 권한 등)을 담당한다. 2년의 임기로 인하여 급진적일 수밖에 없는 하원은 지나치게 급진적인 법안을 만들기 쉽다. 대표적인 예로 건강보험 개혁 당시 하원이 미국 연방 행정부에게 퍼블릭 옵션(공공건강보험기관)의 조항이 있는 반면 상원의 경우 하원안이 지나치게 세금이 많이 든다는 이유로 퍼블릭 옵션 조항을 제외하고 비영리건강보험기관이나 보험회사가 담당하도록 한 것이다. 이 경우처럼 상원은 하원이나 내각책임제가 빠지기 쉬운 국가들의 국회처럼 걸핏하면 발생하는 의회의 비정상적인 사태를 방지하는 기관이다. 상원은 급박한 처리사항의 경우가 아니면 법안을 먼저 내는 경우가 드물고 하원이 만든 법안을 수정하여 다시 하원에 되돌려보낸다. 이러한 방식으로 단원제가 빠지기 쉬운 함정을 미리 방지하는 것이다.날짜=2017-02-05'}"
      ]
     },
     "execution_count": 23,
     "metadata": {},
     "output_type": "execute_result"
    }
   ],
   "source": [
    "train_dataset[0]"
   ]
  },
  {
   "cell_type": "code",
   "execution_count": 24,
   "metadata": {},
   "outputs": [],
   "source": [
    "origin_train_dataset = load_from_disk('data/train_dataset')['train']"
   ]
  },
  {
   "cell_type": "code",
   "execution_count": 25,
   "metadata": {},
   "outputs": [],
   "source": [
    "train_datas = []\n",
    "for i in range(len(t_q)):\n",
    "    passages = []\n",
    "    count = 0\n",
    "\n",
    "    # contexts = train_dataset[i]['context']\n",
    "    contexts = origin_train_dataset[i]['context']\n",
    "    for j in range(100):\n",
    "        if count == 4:\n",
    "            break\n",
    "        if j == 99 and count < 4:\n",
    "            print('k늘려라.', count, i)\n",
    "            break\n",
    "\n",
    "        passage = t_p[i][j]\n",
    "        if passage != train_dataset[i]['context'] and train_dataset[i]['answers']['text'][0] not in passage:\n",
    "            contexts += ' ' + passage\n",
    "            count += 1\n",
    "\n",
    "    train_datas.append({\n",
    "        'id': train_dataset[i]['id'],\n",
    "        'context': contexts,\n",
    "        'question': train_dataset[i]['question'],\n",
    "        # 'answers': train_dataset[i]['answers']\n",
    "        'answers': origin_train_dataset[i]['answers']\n",
    "    })\n",
    "\n",
    "tmp_pd =pd.DataFrame(train_datas)\n",
    "Dataset.from_pandas(tmp_pd).save_to_disk(f\"hb_train_k_5\")"
   ]
  },
  {
   "cell_type": "code",
   "execution_count": 26,
   "metadata": {},
   "outputs": [
    {
     "data": {
      "text/plain": [
       "Dataset({\n",
       "    features: ['id', 'context', 'question', 'answers'],\n",
       "    num_rows: 3952\n",
       "})"
      ]
     },
     "execution_count": 26,
     "metadata": {},
     "output_type": "execute_result"
    }
   ],
   "source": [
    "nn = load_from_disk('hb_train_k_5')\n",
    "nn"
   ]
  },
  {
   "cell_type": "code",
   "execution_count": 28,
   "metadata": {},
   "outputs": [
    {
     "name": "stdout",
     "output_type": "stream",
     "text": [
      "hb_train_k_5/\n",
      "hb_train_k_5/state.json\n",
      "hb_train_k_5/dataset_info.json\n",
      "hb_train_k_5/dataset.arrow\n"
     ]
    }
   ],
   "source": [
    "!tar -cvf hb_train_k_5.tar hb_train_k_5"
   ]
  },
  {
   "cell_type": "code",
   "execution_count": 29,
   "metadata": {},
   "outputs": [
    {
     "data": {
      "text/plain": [
       "3433"
      ]
     },
     "execution_count": 29,
     "metadata": {},
     "output_type": "execute_result"
    }
   ],
   "source": [
    "len(nn[0]['context'])"
   ]
  },
  {
   "cell_type": "code",
   "execution_count": null,
   "metadata": {},
   "outputs": [],
   "source": []
  },
  {
   "cell_type": "code",
   "execution_count": null,
   "metadata": {},
   "outputs": [],
   "source": []
  },
  {
   "cell_type": "code",
   "execution_count": 414,
   "metadata": {},
   "outputs": [
    {
     "data": {
      "text/html": [
       "<div>\n",
       "<style scoped>\n",
       "    .dataframe tbody tr th:only-of-type {\n",
       "        vertical-align: middle;\n",
       "    }\n",
       "\n",
       "    .dataframe tbody tr th {\n",
       "        vertical-align: top;\n",
       "    }\n",
       "\n",
       "    .dataframe thead th {\n",
       "        text-align: right;\n",
       "    }\n",
       "</style>\n",
       "<table border=\"1\" class=\"dataframe\">\n",
       "  <thead>\n",
       "    <tr style=\"text-align: right;\">\n",
       "      <th></th>\n",
       "      <th>Unnamed: 0</th>\n",
       "      <th>index</th>\n",
       "      <th>Unnamed: 0.1</th>\n",
       "      <th>context</th>\n",
       "      <th>question</th>\n",
       "      <th>answer</th>\n",
       "      <th>sts_score</th>\n",
       "      <th>mrc_answers</th>\n",
       "      <th>context_mapping_qg_to_origin</th>\n",
       "    </tr>\n",
       "  </thead>\n",
       "  <tbody>\n",
       "    <tr>\n",
       "      <th>0</th>\n",
       "      <td>0</td>\n",
       "      <td>0</td>\n",
       "      <td>1</td>\n",
       "      <td>동아대학교박물관에서 소장하고 있는 계사명 사리구는 총 4개의 용기로 구성된 조선후기...</td>\n",
       "      <td>계사명 사리구는 경상남도 울주군 어느면에서 출토되었다고 전해지는가?</td>\n",
       "      <td>웅촌면</td>\n",
       "      <td>0.418</td>\n",
       "      <td>('웅촌면', (45, 48))</td>\n",
       "      <td>3237</td>\n",
       "    </tr>\n",
       "  </tbody>\n",
       "</table>\n",
       "</div>"
      ],
      "text/plain": [
       "   Unnamed: 0  index  Unnamed: 0.1  \\\n",
       "0           0      0             1   \n",
       "\n",
       "                                             context  \\\n",
       "0  동아대학교박물관에서 소장하고 있는 계사명 사리구는 총 4개의 용기로 구성된 조선후기...   \n",
       "\n",
       "                                question answer  sts_score        mrc_answers  \\\n",
       "0  계사명 사리구는 경상남도 울주군 어느면에서 출토되었다고 전해지는가?    웅촌면      0.418  ('웅촌면', (45, 48))   \n",
       "\n",
       "   context_mapping_qg_to_origin  \n",
       "0                          3237  "
      ]
     },
     "execution_count": 414,
     "metadata": {},
     "output_type": "execute_result"
    }
   ],
   "source": [
    "qg = pd.read_csv('preprob_qg.csv')\n",
    "qg.head(1)"
   ]
  },
  {
   "cell_type": "code",
   "execution_count": 44,
   "metadata": {},
   "outputs": [
    {
     "data": {
      "text/html": [
       "<div>\n",
       "<style scoped>\n",
       "    .dataframe tbody tr th:only-of-type {\n",
       "        vertical-align: middle;\n",
       "    }\n",
       "\n",
       "    .dataframe tbody tr th {\n",
       "        vertical-align: top;\n",
       "    }\n",
       "\n",
       "    .dataframe thead th {\n",
       "        text-align: right;\n",
       "    }\n",
       "</style>\n",
       "<table border=\"1\" class=\"dataframe\">\n",
       "  <thead>\n",
       "    <tr style=\"text-align: right;\">\n",
       "      <th></th>\n",
       "      <th>Unnamed: 0</th>\n",
       "      <th>level_0</th>\n",
       "      <th>Unnamed: 0.1</th>\n",
       "      <th>index</th>\n",
       "      <th>Unnamed: 0.1.1</th>\n",
       "      <th>context</th>\n",
       "      <th>question</th>\n",
       "      <th>answer</th>\n",
       "      <th>sts_score</th>\n",
       "      <th>mrc_answers</th>\n",
       "      <th>context_mapping_qg_to_origin</th>\n",
       "    </tr>\n",
       "  </thead>\n",
       "  <tbody>\n",
       "    <tr>\n",
       "      <th>0</th>\n",
       "      <td>0</td>\n",
       "      <td>2</td>\n",
       "      <td>2</td>\n",
       "      <td>2</td>\n",
       "      <td>5</td>\n",
       "      <td>동아대학교박물관에서 소장하고 있는 계사명 사리구는 총 4개의 용기로 구성된 조선후기...</td>\n",
       "      <td>계사명 사리구는 세로로 몇 줄 쓰여있어?</td>\n",
       "      <td>세 줄</td>\n",
       "      <td>0.618</td>\n",
       "      <td>('세 줄', (132, 134))</td>\n",
       "      <td>3237</td>\n",
       "    </tr>\n",
       "  </tbody>\n",
       "</table>\n",
       "</div>"
      ],
      "text/plain": [
       "   Unnamed: 0  level_0  Unnamed: 0.1  index  Unnamed: 0.1.1  \\\n",
       "0           0        2             2      2               5   \n",
       "\n",
       "                                             context                question  \\\n",
       "0  동아대학교박물관에서 소장하고 있는 계사명 사리구는 총 4개의 용기로 구성된 조선후기...  계사명 사리구는 세로로 몇 줄 쓰여있어?   \n",
       "\n",
       "  answer  sts_score          mrc_answers  context_mapping_qg_to_origin  \n",
       "0    세 줄      0.618  ('세 줄', (132, 134))                          3237  "
      ]
     },
     "execution_count": 44,
     "metadata": {},
     "output_type": "execute_result"
    }
   ],
   "source": [
    "qg=pd.read_csv('qg_filter.csv')\n",
    "qg.head(1)"
   ]
  },
  {
   "cell_type": "code",
   "execution_count": 45,
   "metadata": {},
   "outputs": [],
   "source": [
    "qg_query = list(qg['question'])"
   ]
  },
  {
   "cell_type": "code",
   "execution_count": 46,
   "metadata": {},
   "outputs": [
    {
     "data": {
      "text/plain": [
       "{'__index_level_0__': 361,\n",
       " 'document_id': 47334,\n",
       " 'title': '계사명 사리구',\n",
       " 'answers': {'answer_start': [187], 'text': ['청화안료']},\n",
       " 'question': '승표 부부에 대해 적혀있는 명문은 무엇으로 쓰여진 것인가?',\n",
       " 'id': 'mrc-0-000533',\n",
       " 'context': '동아대학교박물관에서 소장하고 있는 계사명 사리구는 총 4개의 용기로 구성된 조선후기의 유물로, 경상남도 울주군 웅촌면 대복리에서 출토되었다고 전한다. 외함(外函)은 청화명문이 있는 백자이며, 그 안쪽에 납작한 금속제 원형 합 2점과 금속제 원통형 합 등 3점의 그릇이 봉안되어 있다.\\\\n\\\\n바깥쪽의 외함인 백자 합 동체 중앙부 표면에 청화안료로 쓴 “癸巳二月日 施主承表 兩主”라는 명문이 세로로 세 줄에 걸쳐서 쓰여 있어 조선 후기인 계사년에 시주자인 승표 부부가 발원하여 만든 것임을 알 수 있다.\\\\n\\\\n동아대학교박물관의 계사명 사리구는 정확한 제작연대는 알 수 없지만 명문 등을 통해 적어도 17세기 이후에 제작된 것으로 추정되는 작품으로, 명문이 있는 조선 후기 경상도 지역 출토 사리장엄구라는 점에서 중요한 가치를 지닌 작품으로 판단된다.\\\\n\\\\n조선 후기 사리장엄구는 아직까지 조사와 연구가 거의 이루어지지 않았으나, 이처럼 세트를 갖추어 출토된 유물은 비교적 드문 편임을 고려할 때, 이 계사명 사리장엄구는 제작연대와 발원자의 이름이 밝혀져 있으며, 지금까지 출토된 예가 드문 비교적 완전한 세트를 가진 유물이라는 점에서 조선 후기 사리장엄구 연구에 자료적 가치를 지닌 유물이다.'}"
      ]
     },
     "execution_count": 46,
     "metadata": {},
     "output_type": "execute_result"
    }
   ],
   "source": [
    "origin_train_dataset[int(qg['context_mapping_qg_to_origin'][0])]"
   ]
  },
  {
   "cell_type": "code",
   "execution_count": 47,
   "metadata": {},
   "outputs": [
    {
     "name": "stderr",
     "output_type": "stream",
     "text": [
      "  0%|          | 0/1 [00:00<?, ?it/s]<ipython-input-47-238a70ea448a>:124: ElasticsearchDeprecationWarning: Elasticsearch built-in security features are not enabled. Without authentication, your cluster could be accessible to anyone. See https://www.elastic.co/guide/en/elasticsearch/reference/7.15/security-minimal-setup.html to enable security.\n",
      "  res = es.search(index=INDEX_NAME, q=question, size=size)\n"
     ]
    },
    {
     "name": "stdout",
     "output_type": "stream",
     "text": [
      "top 100 elastic search is finished\n",
      "len_qg: 1625 , len_error: 0\n",
      "k늘려라. 2 208\n",
      "k늘려라. 0 297\n",
      "k늘려라. 0 727\n",
      "k늘려라. 2 833\n",
      "k늘려라. 3 855\n"
     ]
    },
    {
     "name": "stderr",
     "output_type": "stream",
     "text": [
      "100%|██████████| 1/1 [01:25<00:00, 85.96s/it]"
     ]
    },
    {
     "name": "stdout",
     "output_type": "stream",
     "text": [
      "top 5 concat qg dataset is made.\n",
      "[208, 297, 727, 833, 855]\n"
     ]
    },
    {
     "name": "stderr",
     "output_type": "stream",
     "text": [
      "\n"
     ]
    }
   ],
   "source": [
    "def make_qg_dataset(res, err, k):\n",
    "    qg_datas = []\n",
    "    idx = []\n",
    "    for i in range(len(res)):\n",
    "        passages = []\n",
    "        count = 0\n",
    "\n",
    "        contexts = origin_train_dataset[int(qg['context_mapping_qg_to_origin'][i])]['context']\n",
    "        if len(res[i]['hits']['hits']) > 1:\n",
    "            for j in range(k):\n",
    "                if count == 4:\n",
    "                    break\n",
    "                if j == k - 1 and count < 4:\n",
    "                    print('k늘려라.', count, i)\n",
    "                    idx.append(i)\n",
    "                    break\n",
    "\n",
    "                passage = res[i]['hits']['hits'][j]['_source']['content']\n",
    "                if passage != qg['context'][i] and qg['answer'][i] not in passage:\n",
    "                    contexts += ' ' + passage\n",
    "                    count += 1\n",
    "\n",
    "        qg_datas.append({\n",
    "            'id': 'mrc-qg-' + str(qg['index'][i]),\n",
    "            'context': contexts,\n",
    "            'question': qg['question'][i],\n",
    "            'answers': {\n",
    "                'text': [qg['answer'][i]],\n",
    "                'answer_start': [int(eval(qg['mrc_answers'][i])[1][0])]\n",
    "            }\n",
    "        })\n",
    "\n",
    "    tmp_pd =pd.DataFrame(qg_datas)\n",
    "    # Dataset.from_pandas(tmp_pd).save_to_disk(f\"qg_dataset_top_4\")\n",
    "    print(f\"top 5 concat qg dataset is made.\")\n",
    "    return tmp_pd, idx\n",
    "\n",
    "\n",
    "def search_query(questions, size):\n",
    "    error_queries = []\n",
    "    results = []\n",
    "    for question in questions:\n",
    "        if question == '궁전 중정이 있는 자리에 25명~50명 규모의 마을이 있던 시기는?':\n",
    "            question = '궁전 중정이 있는 자리에 25명\\~50명 규모의 마을이 있던 시기는?'\n",
    "        if question =='오늘날에도 볼 수 있듯 한 마을은 여러 이것으로 이뤄졌으며 서로 관계를 맺었고 일종의 족외혼 관습을 가졌다. 이들은 폐쇄된 공간에서 살았는데 그 안에서 사생활은 거의 없으며 매우 가깝게 생활했다. 선토기 신석기 시대인 기원전 7000년경에 궁전 중정이 있는 자리에는 25명~50명 규모의 마을이 있었는데 이들은 초가집을 짓고 가축을 키우고 작물을 재배했으며 불상사가 닥치면 유아를 바닥에 묻은것을 무엇이라고 하는가?':\n",
    "            question = '오늘날에도 볼 수 있듯 한 마을은 여러 이것으로 이뤄졌으며 서로 관계를 맺었고 일종의 족외혼 관습을 가졌다. 이들은 폐쇄된 공간에서 살았는데 그 안에서 사생활은 거의 없으며 매우 가깝게 생활했다. 선토기 신석기 시대인 기원전 7000년경에 궁전 중정이 있는 자리에는 25명\\~50명 규모의 마을이 있었는데 이들은 초가집을 짓고 가축을 키우고 작물을 재배했으며 불상사가 닥치면 유아를 바닥에 묻은것을 무엇이라고 하는가?'\n",
    "        if question == '200명~600명 규모의 마을이 크노소스 궁전 터와 북쪽 및 서쪽 언덕 비탈 대부분을 점유한 시기는?':\n",
    "            question = '200명\\~600명 규모의 마을이 크노소스 궁전 터와 북쪽 및 서쪽 언덕 비탈 대부분을 점유한 시기는?'\n",
    "        if question == '신석기 초기(기원전 6000년~5000년) 크노소스 궁전 터와 북쪽 및 서쪽 언덕 비탈 대부분을 점유하던 집단의 규모는?':\n",
    "            question = '신석기 초기(기원전 6000년\\~5000년) 크노소스 궁전 터와 북쪽 및 서쪽 언덕 비탈 대부분을 점유하던 집단의 규모는?'\n",
    "        if question == '선토기 신석기 시대인 기원전 7000년~6000년경에 궁전 중정이 있는 자리에는 몇명의 마을이 있었는가?':\n",
    "            question = '선토기 신석기 시대인 기원전 7000년\\~6000년경에 궁전 중정이 있는 자리에는 몇명의 마을이 있었는가?'\n",
    "        if question == '신석기 초기의 200명~600명 규모의 마을이 크노소스 궁전 터와 북쪽 그리고 어느쪽 언덕 비탈 대부분을 점유했나?':\n",
    "            question = '신석기 초기의 200명\\~600명 규모의 마을이 크노소스 궁전 터와 북쪽 그리고 어느쪽 언덕 비탈 대부분을 점유했나?'\n",
    "        if question == '기원전 7000년~6500년경으로 거슬러 올라가는 것은 연대측정법에서 무엇을 측정하기 때문인가?':\n",
    "            question = '기원전 7000년\\~6500년경으로 거슬러 올라가는 것은 연대측정법에서 무엇을 측정하기 때문인가?'\n",
    "        if question == '기원전 7000년~6000년경이 무슨 시대인가?':\n",
    "            question ='기원전 7000년\\~6000년경이 무슨 시대인가?'\n",
    "        if question == '기원전 7000년~6500년경 크레타에서는 진흙이나 돌에 새겨진 실감개와 어떤 무늬가 많이 출토되어 옷을 지어 입었음을 알 수 있는가?':\n",
    "            question = '기원전 7000년\\~6500년경 크레타에서는 진흙이나 돌에 새겨진 실감개와 어떤 무늬가 많이 출토되어 옷을 지어 입었음을 알 수 있는가?'\n",
    "        if question == '슬라브조어/공통슬라브어 시기는 크게 몇 단계로 구분할 수 있나?':\n",
    "            question = '슬라브조어\\/공통슬라브어 시기는 크게 몇 단계로 구분할 수 있나?'\n",
    "        if question == '2년마다 어느 주에서 1/3씩 상원의원을 새로 선출하여 연방에 보내는가?':\n",
    "            question = '2년마다 어느 주에서 1\\/3씩 상원의원을 새로 선출하여 연방에 보내는가?'\n",
    "        if question == '단추형의 3V 리튬 전지로서 20mm의 지름에 1.6~4mm의 두께를 가지는 것은?':\n",
    "            question = '단추형의 3V 리튬 전지로서 20mm의 지름에 1.6\\~4mm의 두께를 가지는 것은?'\n",
    "        if question == '8~9세기에 잉글랜드어를 북게르만어군의 영향을 받게 한 침입자는?':\n",
    "            question = '8\\~9세기에 잉글랜드어를 북게르만어군의 영향을 받게 한 침입자는?'\n",
    "        if question == '국부의 뿌리까지 모두 제거하는 수술을 시도한 환관지망생은 80~90%의 확률로 사망했는데 이는 어떤 수술 전의 체력이 보통사람에 비해 월등했다고 추측되는가?':\n",
    "            question = '국부의 뿌리까지 모두 제거하는 수술을 시도한 환관지망생은 80\\~90\\%의 확률로 사망했는데 이는 어떤 수술 전의 체력이 보통사람에 비해 월등했다고 추측되는가?'\n",
    "        if question == '바순에 중점을 둔 안단테의 3/4박자는?':\n",
    "            question = '바순에 중점을 둔 안단테의 3\\/4박자는?'\n",
    "        if question == '안단테 가장조 3/4박자에서 클라리넷은 몇 분 음표로 펼침화음적 상하행을 반복하는가?':\n",
    "            question = '안단테 가장조 3\\/4박자에서 클라리넷은 몇 분 음표로 펼침화음적 상하행을 반복하는가?'\n",
    "        if question == '안단테 가장조 3/4박자는 앞 악장과는 달리 무엇에 중점을 두고있는가?':\n",
    "            question = '안단테 가장조 3\\/4박자는 앞 악장과는 달리 무엇에 중점을 두고있는가?'\n",
    "        if question == '이마나가가 상시 140km/h대를 측정한 게 몇 학년 때야?':\n",
    "            question = '이마나가가 상시 140km\\/h대를 측정한 게 몇 학년 때야?'\n",
    "        if question == '2000년 김성근은 MBC/LG 선수 출신 최초로 LG트윈스에서 어떤 직책을 맡았는가?':\n",
    "            question = '2000년 김성근은 MBC\\/LG 선수 출신 최초로 LG트윈스에서 어떤 직책을 맡았는가?'\n",
    "        if question == '뇌전증환자의 30~40%는 장기간 발작이 없는 경우 무엇을 중단해도 재발이 없는 완치 상태가 되는가?':\n",
    "            question = '뇌전증환자의 30\\~40\\%는 장기간 발작이 없는 경우 무엇을 중단해도 재발이 없는 완치 상태가 되는가?'\n",
    "        if question == '마우리츠는 9월 28~29일 어디로 진격해 소집군인들을 해산시켰는가?':\n",
    "            question = '마우리츠는 9월 28\\~29일 어디로 진격해 소집군인들을 해산시켰는가?'\n",
    "        if question == '마리암 여왕이 1029/1930년에 방문한 곳은 어디인가?':\n",
    "            question = '마리암 여왕이 1029\\/1930년에 방문한 곳은 어디인가?'\n",
    "        if question == '김동한의 사망 몇 주년을 기념한 동상/기념비 제막식이 열렸는가?':\n",
    "            question = '김동한의 사망 몇 주년을 기념한 동상\\/기념비 제막식이 열렸는가?'\n",
    "        if question == '김동한의 사망 2주기를 기념한 동상/기념비 제막식에서 좌담회 사회를 맡은 사람은?':\n",
    "            question = '김동한의 사망 2주기를 기념한 동상\\/기념비 제막식에서 좌담회 사회를 맡은 사람은?'\n",
    "        if question == '론도 알레그로 마 논 트로포 바장조 6/8박자에서 마지막에 유니즌과 함께 힘차게 모티브A를 반복하는 악기는?':\n",
    "            question = '론도 알레그로 마 논 트로포 바장조 6\\/8박자에서 마지막에 유니즌과 함께 힘차게 모티브A를 반복하는 악기는?'\n",
    "        if question == '론도 알레그로 마 논 트로포 바장조 6/8박자는 서두 몇 마디에서 제시되는 소재가 악장을 완전히 지배하는가?':\n",
    "            question = '론도 알레그로 마 논 트로포 바장조 6\\/8박자는 서두 몇 마디에서 제시되는 소재가 악장을 완전히 지배하는가?'\n",
    "        if question == '론도 알레그로 마 논 트로포 바장조 6/8박자에서 A의 반행형을 연주하는 악기는?':\n",
    "            question = '론도 알레그로 마 논 트로포 바장조 6\\/8박자에서 A의 반행형을 연주하는 악기는?'\n",
    "        if question == '론도 알레그로 마 논 트로포 바장조 6/8박자에서 4마디에서 제시되는 소재가 악장을 완전히 지배하고 있는 부분은?':\n",
    "            question = '론도 알레그로 마 논 트로포 바장조 6\\/8박자에서 4마디에서 제시되는 소재가 악장을 완전히 지배하고 있는 부분은?'\n",
    "        if question == '1940년대와 50년대 초에 들어서면서 베이/블루어가 어느 노선 못지 않게 주요 환승 지점으로 발돋움했는가?':\n",
    "            question = '1940년대와 50년대 초에 들어서면서 베이\\/블루어가 어느 노선 못지 않게 주요 환승 지점으로 발돋움했는가?'\n",
    "        if question == '적외선 뱃머리 충격파가 100km/s의 온도에서 이동하는 가스의 속도는?':\n",
    "            question = '적외선 뱃머리 충격파가 100km\\/s의 온도에서 이동하는 가스의 속도는?'\n",
    "        if question == 'Arch. Simancas, E° Flandes, 559. }}는 몇년도에 발표된 것인가?':\n",
    "            question = 'Arch. Simancas, E\\° Flandes, 559. \\}\\}는 몇년도에 발표된 것인가?'\n",
    "        if question == '비타민 A는 몇년에 2~3번 주어야 하는가?':\n",
    "            question = '비타민 A는 몇년에 2\\~3번 주어야 하는가?'\n",
    "        if question == '삼척기줄다리기는 차츰 규모가 커지면서 7~8일 경이면 무슨 줄다리기 운동으로 번지나?':\n",
    "            question = '삼척기줄다리기는 차츰 규모가 커지면서 7\\~8일 경이면 무슨 줄다리기 운동으로 번지나?'\n",
    "        if question == '자신의 죽기전 병석에서 힐에게 [전투준비]를 요구한 사람은?':\n",
    "            question = '자신의 죽기전 병석에서 힐에게 \\[전투준비\\]를 요구한 사람은?'\n",
    "        if question == '2003년 운정1동~3동 지역을 지정하여 개발하기 시작한 곳은 어디인가?':\n",
    "            question = '2003년 운정1동\\~3동 지역을 지정하여 개발하기 시작한 곳은 어디인가?'\n",
    "        if question == '정부가 2기 신도시 개발 지역으로 운정1동~3동 지역을 지정한 해는?':\n",
    "            question = '정부가 2기 신도시 개발 지역으로 운정1동\\~3동 지역을 지정한 해는?'\n",
    "        if question == '대한민국의 은둔형 외톨이가 2~30만 명 존재한다는 보고서가 나온 해는?':\n",
    "            question = '대한민국의 은둔형 외톨이가 2\\~30만 명 존재한다는 보고서가 나온 해는?'\n",
    "        if question == '2008년 보고서에 따르면 어느 나라에 은둔형 외톨이가 2~30만 명 존재한다고 나타났는가?':\n",
    "            question = '2008년 보고서에 따르면 어느 나라에 은둔형 외톨이가 2\\~30만 명 존재한다고 나타났는가?'\n",
    "        if question == '이륙 활주시 추력 레버 TO/GA 스위치를 누른 사람은?':\n",
    "            question = '이륙 활주시 추력 레버 TO\\/GA 스위치를 누른 사람은?'\n",
    "        if question == '1904년 2월 8일~9일 밤, 여순항에서 러시아 함대에 대한 기습 공격을 시작한 군대는?':\n",
    "            question = '1904년 2월 8일\\~9일 밤, 여순항에서 러시아 함대에 대한 기습 공격을 시작한 군대는?'\n",
    "        try:\n",
    "            res = es.search(index=INDEX_NAME, q=question, size=size)\n",
    "            results.append(res)\n",
    "        except:\n",
    "            error_queries.append(question)\n",
    "    print(f\"top {k} elastic search is finished\")\n",
    "    return results, error_queries\n",
    "\n",
    "\n",
    "for k in tqdm([100]):\n",
    "    res, err = search_query(qg_query, k)\n",
    "    print(f\"len_qg: {len(res)} , len_error: {len(err)}\")\n",
    "    f, iiii2 = make_qg_dataset(res, err, k)\n",
    "\n",
    "# print(len(res), len(err))\n",
    "# f\n",
    "print(iiii2)"
   ]
  },
  {
   "cell_type": "code",
   "execution_count": 48,
   "metadata": {},
   "outputs": [
    {
     "data": {
      "text/plain": [
       "1620"
      ]
     },
     "execution_count": 48,
     "metadata": {},
     "output_type": "execute_result"
    }
   ],
   "source": [
    "iiii3 = [i for i in range(len(f)) if i not in iiii2]\n",
    "len(iiii3)"
   ]
  },
  {
   "cell_type": "code",
   "execution_count": 49,
   "metadata": {},
   "outputs": [
    {
     "data": {
      "text/plain": [
       "5"
      ]
     },
     "execution_count": 49,
     "metadata": {},
     "output_type": "execute_result"
    }
   ],
   "source": [
    "len(iiii2)"
   ]
  },
  {
   "cell_type": "code",
   "execution_count": 50,
   "metadata": {},
   "outputs": [
    {
     "data": {
      "text/html": [
       "<div>\n",
       "<style scoped>\n",
       "    .dataframe tbody tr th:only-of-type {\n",
       "        vertical-align: middle;\n",
       "    }\n",
       "\n",
       "    .dataframe tbody tr th {\n",
       "        vertical-align: top;\n",
       "    }\n",
       "\n",
       "    .dataframe thead th {\n",
       "        text-align: right;\n",
       "    }\n",
       "</style>\n",
       "<table border=\"1\" class=\"dataframe\">\n",
       "  <thead>\n",
       "    <tr style=\"text-align: right;\">\n",
       "      <th></th>\n",
       "      <th>answers</th>\n",
       "      <th>context</th>\n",
       "      <th>id</th>\n",
       "      <th>question</th>\n",
       "    </tr>\n",
       "  </thead>\n",
       "  <tbody>\n",
       "    <tr>\n",
       "      <th>0</th>\n",
       "      <td>{'text': ['세 줄'], 'answer_start': [132]}</td>\n",
       "      <td>동아대학교박물관에서 소장하고 있는 계사명 사리구는 총 4개의 용기로 구성된 조선후기...</td>\n",
       "      <td>mrc-qg-2</td>\n",
       "      <td>계사명 사리구는 세로로 몇 줄 쓰여있어?</td>\n",
       "    </tr>\n",
       "    <tr>\n",
       "      <th>1</th>\n",
       "      <td>{'text': ['베토벤'], 'answer_start': [83]}</td>\n",
       "      <td>자신의 후견자 겸 제자인 루돌프 대공을 위해, 1809년에 프랑스 군대의 포격이 쏟...</td>\n",
       "      <td>mrc-qg-14</td>\n",
       "      <td>교향곡 다장조를 작곡한 사람이 누구야?</td>\n",
       "    </tr>\n",
       "    <tr>\n",
       "      <th>2</th>\n",
       "      <td>{'text': ['삼국유사'], 'answer_start': [33]}</td>\n",
       "      <td>고조선의 도읍지는 여러 차례 이동한 것으로 기록되어 있다. 《삼국유사》는 《고기》를...</td>\n",
       "      <td>mrc-qg-34</td>\n",
       "      <td>단군왕검이 1천 5백년간 나라를 다스렸다고 기록된 책은?</td>\n",
       "    </tr>\n",
       "    <tr>\n",
       "      <th>3</th>\n",
       "      <td>{'text': ['5 mm'], 'answer_start': [200]}</td>\n",
       "      <td>너비아니(nubianie)는 궁중식 불고기로 알려진 한국 요리이다. 쇠고기를 칼로 ...</td>\n",
       "      <td>mrc-qg-53</td>\n",
       "      <td>쇠고기의 두께를 알려줘?</td>\n",
       "    </tr>\n",
       "    <tr>\n",
       "      <th>4</th>\n",
       "      <td>{'text': ['삼손'], 'answer_start': [13]}</td>\n",
       "      <td>삼손은 단 지파의 히브리인으로 그의 어머니 하술렐보니(Hazelelponit)에 의...</td>\n",
       "      <td>mrc-qg-67</td>\n",
       "      <td>나실인이 되기로 서약된 사람은?</td>\n",
       "    </tr>\n",
       "    <tr>\n",
       "      <th>...</th>\n",
       "      <td>...</td>\n",
       "      <td>...</td>\n",
       "      <td>...</td>\n",
       "      <td>...</td>\n",
       "    </tr>\n",
       "    <tr>\n",
       "      <th>1615</th>\n",
       "      <td>{'text': ['국민'], 'answer_start': [162]}</td>\n",
       "      <td>1947년 6월 미군정 사령관 존 하지는 이승만에게 이승만과 김구가 계획 중이라는 ...</td>\n",
       "      <td>mrc-qg-23783</td>\n",
       "      <td>여운형이 최우선으로 생각했던 것은?</td>\n",
       "    </tr>\n",
       "    <tr>\n",
       "      <th>1616</th>\n",
       "      <td>{'text': ['남쪽'], 'answer_start': [83]}</td>\n",
       "      <td>전날 밤부터 난지도쪽으로 한강을 도하한 1개 연대 규모의 북한군이 오류동 정면으로 ...</td>\n",
       "      <td>mrc-qg-23784</td>\n",
       "      <td>북한군이 공격에 앞서 비행장쪽에서 그들의 보병에 화력을 지원하던 전차 2대를 야음을...</td>\n",
       "    </tr>\n",
       "    <tr>\n",
       "      <th>1617</th>\n",
       "      <td>{'text': ['소련'], 'answer_start': [64]}</td>\n",
       "      <td>1969년에 연정에 합의한 사민당과 자유민주당의 사회자유 연정은 기존 외교 정책에서...</td>\n",
       "      <td>mrc-qg-23785</td>\n",
       "      <td>1969년 사민당과 자유민주당의 사회자유 연정이 우호적 입장을 취한 나라는 동독과 ...</td>\n",
       "    </tr>\n",
       "    <tr>\n",
       "      <th>1618</th>\n",
       "      <td>{'text': ['미국'], 'answer_start': [37]}</td>\n",
       "      <td>오이 샌드위치는 영국이 기원인 샌드위치의 하나이다. 현대의 다른 종류의 오이샌드위치...</td>\n",
       "      <td>mrc-qg-23786</td>\n",
       "      <td>현대의 오이샌드위치는 대부분 어느 나라에서 만들어지나요?</td>\n",
       "    </tr>\n",
       "    <tr>\n",
       "      <th>1619</th>\n",
       "      <td>{'text': ['고대'], 'answer_start': [343]}</td>\n",
       "      <td>\"역번역\"이란 번역된 문장을 다시 원문의 언어로 참고나 주석 없이 되돌리도록 하는 ...</td>\n",
       "      <td>mrc-qg-23787</td>\n",
       "      <td>아람어 원어론의 지지자들은 신약성서가 원래 아람어로 쓰여졌다고 보는 근거를 어디에 ...</td>\n",
       "    </tr>\n",
       "  </tbody>\n",
       "</table>\n",
       "<p>1620 rows × 4 columns</p>\n",
       "</div>"
      ],
      "text/plain": [
       "                                        answers  \\\n",
       "0      {'text': ['세 줄'], 'answer_start': [132]}   \n",
       "1       {'text': ['베토벤'], 'answer_start': [83]}   \n",
       "2      {'text': ['삼국유사'], 'answer_start': [33]}   \n",
       "3     {'text': ['5 mm'], 'answer_start': [200]}   \n",
       "4        {'text': ['삼손'], 'answer_start': [13]}   \n",
       "...                                         ...   \n",
       "1615    {'text': ['국민'], 'answer_start': [162]}   \n",
       "1616     {'text': ['남쪽'], 'answer_start': [83]}   \n",
       "1617     {'text': ['소련'], 'answer_start': [64]}   \n",
       "1618     {'text': ['미국'], 'answer_start': [37]}   \n",
       "1619    {'text': ['고대'], 'answer_start': [343]}   \n",
       "\n",
       "                                                context            id  \\\n",
       "0     동아대학교박물관에서 소장하고 있는 계사명 사리구는 총 4개의 용기로 구성된 조선후기...      mrc-qg-2   \n",
       "1     자신의 후견자 겸 제자인 루돌프 대공을 위해, 1809년에 프랑스 군대의 포격이 쏟...     mrc-qg-14   \n",
       "2     고조선의 도읍지는 여러 차례 이동한 것으로 기록되어 있다. 《삼국유사》는 《고기》를...     mrc-qg-34   \n",
       "3     너비아니(nubianie)는 궁중식 불고기로 알려진 한국 요리이다. 쇠고기를 칼로 ...     mrc-qg-53   \n",
       "4     삼손은 단 지파의 히브리인으로 그의 어머니 하술렐보니(Hazelelponit)에 의...     mrc-qg-67   \n",
       "...                                                 ...           ...   \n",
       "1615  1947년 6월 미군정 사령관 존 하지는 이승만에게 이승만과 김구가 계획 중이라는 ...  mrc-qg-23783   \n",
       "1616  전날 밤부터 난지도쪽으로 한강을 도하한 1개 연대 규모의 북한군이 오류동 정면으로 ...  mrc-qg-23784   \n",
       "1617  1969년에 연정에 합의한 사민당과 자유민주당의 사회자유 연정은 기존 외교 정책에서...  mrc-qg-23785   \n",
       "1618  오이 샌드위치는 영국이 기원인 샌드위치의 하나이다. 현대의 다른 종류의 오이샌드위치...  mrc-qg-23786   \n",
       "1619  \"역번역\"이란 번역된 문장을 다시 원문의 언어로 참고나 주석 없이 되돌리도록 하는 ...  mrc-qg-23787   \n",
       "\n",
       "                                               question  \n",
       "0                                계사명 사리구는 세로로 몇 줄 쓰여있어?  \n",
       "1                                 교향곡 다장조를 작곡한 사람이 누구야?  \n",
       "2                       단군왕검이 1천 5백년간 나라를 다스렸다고 기록된 책은?  \n",
       "3                                         쇠고기의 두께를 알려줘?  \n",
       "4                                     나실인이 되기로 서약된 사람은?  \n",
       "...                                                 ...  \n",
       "1615                                여운형이 최우선으로 생각했던 것은?  \n",
       "1616  북한군이 공격에 앞서 비행장쪽에서 그들의 보병에 화력을 지원하던 전차 2대를 야음을...  \n",
       "1617  1969년 사민당과 자유민주당의 사회자유 연정이 우호적 입장을 취한 나라는 동독과 ...  \n",
       "1618                    현대의 오이샌드위치는 대부분 어느 나라에서 만들어지나요?  \n",
       "1619  아람어 원어론의 지지자들은 신약성서가 원래 아람어로 쓰여졌다고 보는 근거를 어디에 ...  \n",
       "\n",
       "[1620 rows x 4 columns]"
      ]
     },
     "execution_count": 50,
     "metadata": {},
     "output_type": "execute_result"
    }
   ],
   "source": [
    "qgqg = f.loc[iiii3]\n",
    "# ii = [i for i in range(len(qgqg))]\n",
    "ii = list(qgqg['id'])\n",
    "cc = list(qgqg['context'])\n",
    "qqu = list(qgqg['question'])\n",
    "aan = list(qgqg['answers'])\n",
    "qgqg2 = pd.DataFrame(data={'answers': aan, 'context': cc, 'id': ii, 'question': qqu})\n",
    "qgqg2"
   ]
  },
  {
   "cell_type": "code",
   "execution_count": 53,
   "metadata": {},
   "outputs": [],
   "source": [
    "from datasets import (load_from_disk, load_dataset, Features, \n",
    "                        Value, Sequence, DatasetDict, Dataset)\n",
    "from tqdm import tqdm\n",
    "\n",
    "fs = Features({'answers': Sequence(feature={'text': Value(dtype='string', id=None), 'answer_start': Value(dtype='int64', id=None)}, length=-1, id=None),\n",
    "                'context': Value(dtype='string', id=None),\n",
    "                'id': Value(dtype='string', id=None),\n",
    "                'question': Value(dtype='string', id=None)})\n",
    "Dataset.from_pandas(qgqg2, features=fs).save_to_disk(f\"qg_filters\")"
   ]
  },
  {
   "cell_type": "code",
   "execution_count": 483,
   "metadata": {},
   "outputs": [
    {
     "name": "stdout",
     "output_type": "stream",
     "text": [
      "qg_dataset_top_4/\n",
      "qg_dataset_top_4/state.json\n",
      "qg_dataset_top_4/dataset_info.json\n",
      "qg_dataset_top_4/dataset.arrow\n"
     ]
    }
   ],
   "source": [
    "!tar -cvf qg_dataset_top_4.tar qg_dataset_top_4"
   ]
  },
  {
   "cell_type": "code",
   "execution_count": 54,
   "metadata": {},
   "outputs": [
    {
     "data": {
      "text/plain": [
       "Dataset({\n",
       "    features: ['answers', 'context', 'id', 'question'],\n",
       "    num_rows: 1620\n",
       "})"
      ]
     },
     "execution_count": 54,
     "metadata": {},
     "output_type": "execute_result"
    }
   ],
   "source": [
    "bba = load_from_disk('qg_filters')\n",
    "bba"
   ]
  },
  {
   "cell_type": "code",
   "execution_count": 55,
   "metadata": {},
   "outputs": [
    {
     "data": {
      "text/plain": [
       "Dataset({\n",
       "    features: ['answers', 'context', 'id', 'question'],\n",
       "    num_rows: 3952\n",
       "})"
      ]
     },
     "execution_count": 55,
     "metadata": {},
     "output_type": "execute_result"
    }
   ],
   "source": [
    "train_dataset"
   ]
  },
  {
   "cell_type": "code",
   "execution_count": 56,
   "metadata": {},
   "outputs": [
    {
     "name": "stdout",
     "output_type": "stream",
     "text": [
      "mrc-qg-2 mrc-1-000067\n"
     ]
    }
   ],
   "source": [
    "print(bba[0]['id'], train_dataset[0]['id'])"
   ]
  },
  {
   "cell_type": "code",
   "execution_count": 57,
   "metadata": {},
   "outputs": [],
   "source": [
    "h1h = load_from_disk('train_with_origin_gt_add_top_k_passage/not_include_answer_passage_train_es_top_4')"
   ]
  },
  {
   "cell_type": "code",
   "execution_count": 58,
   "metadata": {},
   "outputs": [
    {
     "data": {
      "text/plain": [
       "Dataset({\n",
       "    features: ['id', 'context', 'question', 'answers'],\n",
       "    num_rows: 3952\n",
       "})"
      ]
     },
     "execution_count": 58,
     "metadata": {},
     "output_type": "execute_result"
    }
   ],
   "source": [
    "h1h"
   ]
  },
  {
   "cell_type": "code",
   "execution_count": 59,
   "metadata": {},
   "outputs": [
    {
     "data": {
      "text/html": [
       "<div>\n",
       "<style scoped>\n",
       "    .dataframe tbody tr th:only-of-type {\n",
       "        vertical-align: middle;\n",
       "    }\n",
       "\n",
       "    .dataframe tbody tr th {\n",
       "        vertical-align: top;\n",
       "    }\n",
       "\n",
       "    .dataframe thead th {\n",
       "        text-align: right;\n",
       "    }\n",
       "</style>\n",
       "<table border=\"1\" class=\"dataframe\">\n",
       "  <thead>\n",
       "    <tr style=\"text-align: right;\">\n",
       "      <th></th>\n",
       "      <th>answers</th>\n",
       "      <th>context</th>\n",
       "      <th>id</th>\n",
       "      <th>question</th>\n",
       "    </tr>\n",
       "  </thead>\n",
       "  <tbody>\n",
       "    <tr>\n",
       "      <th>0</th>\n",
       "      <td>{'answer_start': [235], 'text': ['하원']}</td>\n",
       "      <td>미국 상의원 또는 미국 상원(United States Senate)은 양원제인 미국...</td>\n",
       "      <td>mrc-1-000067</td>\n",
       "      <td>대통령을 포함한 미국의 행정부 견제권을 갖는 국가 기관은?</td>\n",
       "    </tr>\n",
       "    <tr>\n",
       "      <th>1</th>\n",
       "      <td>{'answer_start': [212], 'text': ['《경영의 실제》']}</td>\n",
       "      <td>'근대적 경영학' 또는 '고전적 경영학'에서 현대적 경영학으로 전환되는 시기는 19...</td>\n",
       "      <td>mrc-0-004397</td>\n",
       "      <td>현대적 인사조직관리의 시발점이 된 책은?</td>\n",
       "    </tr>\n",
       "    <tr>\n",
       "      <th>2</th>\n",
       "      <td>{'answer_start': [510], 'text': ['백성']}</td>\n",
       "      <td>강희제는 강화된 황권으로 거의 황제 중심의 독단적으로 나라를 이끌어 갔기에 자칫 전...</td>\n",
       "      <td>mrc-1-000362</td>\n",
       "      <td>강희제가 1717년에 쓴 글은 누구를 위해 쓰여졌는가?</td>\n",
       "    </tr>\n",
       "    <tr>\n",
       "      <th>3</th>\n",
       "      <td>{'answer_start': [625], 'text': ['중국']}</td>\n",
       "      <td>불상을 모시기 위해 나무나 돌, 쇠 등을 깎아 일반적인 건축물보다 작은 규모로 만든...</td>\n",
       "      <td>mrc-0-001510</td>\n",
       "      <td>11~12세기에 제작된 본존불은 보통 어떤 나라의 특징이 전파되었나요?</td>\n",
       "    </tr>\n",
       "    <tr>\n",
       "      <th>4</th>\n",
       "      <td>{'answer_start': [30], 'text': ['4개']}</td>\n",
       "      <td>동아대학교박물관에서 소장하고 있는 계사명 사리구는 총 4개의 용기로 구성된 조선후기...</td>\n",
       "      <td>mrc-0-000823</td>\n",
       "      <td>명문이 적힌 유물을 구성하는 그릇의 총 개수는?</td>\n",
       "    </tr>\n",
       "    <tr>\n",
       "      <th>...</th>\n",
       "      <td>...</td>\n",
       "      <td>...</td>\n",
       "      <td>...</td>\n",
       "      <td>...</td>\n",
       "    </tr>\n",
       "    <tr>\n",
       "      <th>3947</th>\n",
       "      <td>{'answer_start': [317], 'text': ['지질 구조']}</td>\n",
       "      <td>이오의 산\\n이오의 산 목록\\n 이오에는 100~150개의 산이 있다. 이들 산의 ...</td>\n",
       "      <td>mrc-0-005285</td>\n",
       "      <td>대부분의 이오의 산이 형성되는데 영향을 끼친 것은?</td>\n",
       "    </tr>\n",
       "    <tr>\n",
       "      <th>3948</th>\n",
       "      <td>{'answer_start': [616], 'text': ['뉴저지']}</td>\n",
       "      <td>애니의 고군분투 뉴욕 입성기!!\\n\\n인류학자가 꿈인 21살 소녀 '애니(스칼렛 요...</td>\n",
       "      <td>mrc-1-000699</td>\n",
       "      <td>애니는 어디서 태어났는가?</td>\n",
       "    </tr>\n",
       "    <tr>\n",
       "      <th>3949</th>\n",
       "      <td>{'answer_start': [255], 'text': ['칼 에케르트']}</td>\n",
       "      <td>1842년에 작곡가이자 지휘자인 오토 니콜라이가 빈 궁정 오페라극장 소속 관현악단을...</td>\n",
       "      <td>mrc-0-003429</td>\n",
       "      <td>1854년에 니콜라이의 뒤를 이어 상임 지휘자로서 활동한 인물은?</td>\n",
       "    </tr>\n",
       "    <tr>\n",
       "      <th>3950</th>\n",
       "      <td>{'answer_start': [476], 'text': ['슬라브 신화']}</td>\n",
       "      <td>원어는 고대 그리스어까지 거슬러 올라간다. 영어 문헌에 이 말이 나타나기 시작한 것...</td>\n",
       "      <td>mrc-0-003956</td>\n",
       "      <td>드래곤의 암수 구분이 있는 신화는?</td>\n",
       "    </tr>\n",
       "    <tr>\n",
       "      <th>3951</th>\n",
       "      <td>{'answer_start': [189], 'text': ['크리스토포 알하우스']}</td>\n",
       "      <td>2008년 2월 28일 실시된 2008년 함부르크 주의회 선거에서 기민련은 과반수 ...</td>\n",
       "      <td>mrc-0-003589</td>\n",
       "      <td>올레 폰 보이스트 이후에 시장으로 임명된 사람은 누구인가?</td>\n",
       "    </tr>\n",
       "  </tbody>\n",
       "</table>\n",
       "<p>3952 rows × 4 columns</p>\n",
       "</div>"
      ],
      "text/plain": [
       "                                              answers  \\\n",
       "0             {'answer_start': [235], 'text': ['하원']}   \n",
       "1       {'answer_start': [212], 'text': ['《경영의 실제》']}   \n",
       "2             {'answer_start': [510], 'text': ['백성']}   \n",
       "3             {'answer_start': [625], 'text': ['중국']}   \n",
       "4              {'answer_start': [30], 'text': ['4개']}   \n",
       "...                                               ...   \n",
       "3947       {'answer_start': [317], 'text': ['지질 구조']}   \n",
       "3948         {'answer_start': [616], 'text': ['뉴저지']}   \n",
       "3949      {'answer_start': [255], 'text': ['칼 에케르트']}   \n",
       "3950      {'answer_start': [476], 'text': ['슬라브 신화']}   \n",
       "3951  {'answer_start': [189], 'text': ['크리스토포 알하우스']}   \n",
       "\n",
       "                                                context            id  \\\n",
       "0     미국 상의원 또는 미국 상원(United States Senate)은 양원제인 미국...  mrc-1-000067   \n",
       "1     '근대적 경영학' 또는 '고전적 경영학'에서 현대적 경영학으로 전환되는 시기는 19...  mrc-0-004397   \n",
       "2     강희제는 강화된 황권으로 거의 황제 중심의 독단적으로 나라를 이끌어 갔기에 자칫 전...  mrc-1-000362   \n",
       "3     불상을 모시기 위해 나무나 돌, 쇠 등을 깎아 일반적인 건축물보다 작은 규모로 만든...  mrc-0-001510   \n",
       "4     동아대학교박물관에서 소장하고 있는 계사명 사리구는 총 4개의 용기로 구성된 조선후기...  mrc-0-000823   \n",
       "...                                                 ...           ...   \n",
       "3947  이오의 산\\n이오의 산 목록\\n 이오에는 100~150개의 산이 있다. 이들 산의 ...  mrc-0-005285   \n",
       "3948  애니의 고군분투 뉴욕 입성기!!\\n\\n인류학자가 꿈인 21살 소녀 '애니(스칼렛 요...  mrc-1-000699   \n",
       "3949  1842년에 작곡가이자 지휘자인 오토 니콜라이가 빈 궁정 오페라극장 소속 관현악단을...  mrc-0-003429   \n",
       "3950  원어는 고대 그리스어까지 거슬러 올라간다. 영어 문헌에 이 말이 나타나기 시작한 것...  mrc-0-003956   \n",
       "3951  2008년 2월 28일 실시된 2008년 함부르크 주의회 선거에서 기민련은 과반수 ...  mrc-0-003589   \n",
       "\n",
       "                                     question  \n",
       "0            대통령을 포함한 미국의 행정부 견제권을 갖는 국가 기관은?  \n",
       "1                      현대적 인사조직관리의 시발점이 된 책은?  \n",
       "2              강희제가 1717년에 쓴 글은 누구를 위해 쓰여졌는가?  \n",
       "3     11~12세기에 제작된 본존불은 보통 어떤 나라의 특징이 전파되었나요?  \n",
       "4                  명문이 적힌 유물을 구성하는 그릇의 총 개수는?  \n",
       "...                                       ...  \n",
       "3947             대부분의 이오의 산이 형성되는데 영향을 끼친 것은?  \n",
       "3948                           애니는 어디서 태어났는가?  \n",
       "3949     1854년에 니콜라이의 뒤를 이어 상임 지휘자로서 활동한 인물은?  \n",
       "3950                      드래곤의 암수 구분이 있는 신화는?  \n",
       "3951         올레 폰 보이스트 이후에 시장으로 임명된 사람은 누구인가?  \n",
       "\n",
       "[3952 rows x 4 columns]"
      ]
     },
     "execution_count": 59,
     "metadata": {},
     "output_type": "execute_result"
    }
   ],
   "source": [
    "iis = []\n",
    "ccs = []\n",
    "qqs = []\n",
    "aas = []\n",
    "\n",
    "iis = h1h['id']\n",
    "ccs = h1h['context']\n",
    "qqs = h1h['question']\n",
    "aas = h1h['answers']\n",
    "qgqg3 = pd.DataFrame(data={'answers': aas, 'context': ccs, 'id': iis, 'question': qqs})\n",
    "qgqg3"
   ]
  },
  {
   "cell_type": "code",
   "execution_count": 60,
   "metadata": {},
   "outputs": [
    {
     "data": {
      "text/html": [
       "<div>\n",
       "<style scoped>\n",
       "    .dataframe tbody tr th:only-of-type {\n",
       "        vertical-align: middle;\n",
       "    }\n",
       "\n",
       "    .dataframe tbody tr th {\n",
       "        vertical-align: top;\n",
       "    }\n",
       "\n",
       "    .dataframe thead th {\n",
       "        text-align: right;\n",
       "    }\n",
       "</style>\n",
       "<table border=\"1\" class=\"dataframe\">\n",
       "  <thead>\n",
       "    <tr style=\"text-align: right;\">\n",
       "      <th></th>\n",
       "      <th>answers</th>\n",
       "      <th>context</th>\n",
       "      <th>id</th>\n",
       "      <th>question</th>\n",
       "    </tr>\n",
       "  </thead>\n",
       "  <tbody>\n",
       "    <tr>\n",
       "      <th>0</th>\n",
       "      <td>{'answer_start': [235], 'text': ['하원']}</td>\n",
       "      <td>미국 상의원 또는 미국 상원(United States Senate)은 양원제인 미국...</td>\n",
       "      <td>mrc-1-000067</td>\n",
       "      <td>대통령을 포함한 미국의 행정부 견제권을 갖는 국가 기관은?</td>\n",
       "    </tr>\n",
       "    <tr>\n",
       "      <th>1</th>\n",
       "      <td>{'answer_start': [212], 'text': ['《경영의 실제》']}</td>\n",
       "      <td>'근대적 경영학' 또는 '고전적 경영학'에서 현대적 경영학으로 전환되는 시기는 19...</td>\n",
       "      <td>mrc-0-004397</td>\n",
       "      <td>현대적 인사조직관리의 시발점이 된 책은?</td>\n",
       "    </tr>\n",
       "    <tr>\n",
       "      <th>2</th>\n",
       "      <td>{'answer_start': [510], 'text': ['백성']}</td>\n",
       "      <td>강희제는 강화된 황권으로 거의 황제 중심의 독단적으로 나라를 이끌어 갔기에 자칫 전...</td>\n",
       "      <td>mrc-1-000362</td>\n",
       "      <td>강희제가 1717년에 쓴 글은 누구를 위해 쓰여졌는가?</td>\n",
       "    </tr>\n",
       "    <tr>\n",
       "      <th>3</th>\n",
       "      <td>{'answer_start': [625], 'text': ['중국']}</td>\n",
       "      <td>불상을 모시기 위해 나무나 돌, 쇠 등을 깎아 일반적인 건축물보다 작은 규모로 만든...</td>\n",
       "      <td>mrc-0-001510</td>\n",
       "      <td>11~12세기에 제작된 본존불은 보통 어떤 나라의 특징이 전파되었나요?</td>\n",
       "    </tr>\n",
       "    <tr>\n",
       "      <th>4</th>\n",
       "      <td>{'answer_start': [30], 'text': ['4개']}</td>\n",
       "      <td>동아대학교박물관에서 소장하고 있는 계사명 사리구는 총 4개의 용기로 구성된 조선후기...</td>\n",
       "      <td>mrc-0-000823</td>\n",
       "      <td>명문이 적힌 유물을 구성하는 그릇의 총 개수는?</td>\n",
       "    </tr>\n",
       "    <tr>\n",
       "      <th>...</th>\n",
       "      <td>...</td>\n",
       "      <td>...</td>\n",
       "      <td>...</td>\n",
       "      <td>...</td>\n",
       "    </tr>\n",
       "    <tr>\n",
       "      <th>5567</th>\n",
       "      <td>{'text': ['국민'], 'answer_start': [162]}</td>\n",
       "      <td>1947년 6월 미군정 사령관 존 하지는 이승만에게 이승만과 김구가 계획 중이라는 ...</td>\n",
       "      <td>mrc-qg-23783</td>\n",
       "      <td>여운형이 최우선으로 생각했던 것은?</td>\n",
       "    </tr>\n",
       "    <tr>\n",
       "      <th>5568</th>\n",
       "      <td>{'text': ['남쪽'], 'answer_start': [83]}</td>\n",
       "      <td>전날 밤부터 난지도쪽으로 한강을 도하한 1개 연대 규모의 북한군이 오류동 정면으로 ...</td>\n",
       "      <td>mrc-qg-23784</td>\n",
       "      <td>북한군이 공격에 앞서 비행장쪽에서 그들의 보병에 화력을 지원하던 전차 2대를 야음을...</td>\n",
       "    </tr>\n",
       "    <tr>\n",
       "      <th>5569</th>\n",
       "      <td>{'text': ['소련'], 'answer_start': [64]}</td>\n",
       "      <td>1969년에 연정에 합의한 사민당과 자유민주당의 사회자유 연정은 기존 외교 정책에서...</td>\n",
       "      <td>mrc-qg-23785</td>\n",
       "      <td>1969년 사민당과 자유민주당의 사회자유 연정이 우호적 입장을 취한 나라는 동독과 ...</td>\n",
       "    </tr>\n",
       "    <tr>\n",
       "      <th>5570</th>\n",
       "      <td>{'text': ['미국'], 'answer_start': [37]}</td>\n",
       "      <td>오이 샌드위치는 영국이 기원인 샌드위치의 하나이다. 현대의 다른 종류의 오이샌드위치...</td>\n",
       "      <td>mrc-qg-23786</td>\n",
       "      <td>현대의 오이샌드위치는 대부분 어느 나라에서 만들어지나요?</td>\n",
       "    </tr>\n",
       "    <tr>\n",
       "      <th>5571</th>\n",
       "      <td>{'text': ['고대'], 'answer_start': [343]}</td>\n",
       "      <td>\"역번역\"이란 번역된 문장을 다시 원문의 언어로 참고나 주석 없이 되돌리도록 하는 ...</td>\n",
       "      <td>mrc-qg-23787</td>\n",
       "      <td>아람어 원어론의 지지자들은 신약성서가 원래 아람어로 쓰여졌다고 보는 근거를 어디에 ...</td>\n",
       "    </tr>\n",
       "  </tbody>\n",
       "</table>\n",
       "<p>5572 rows × 4 columns</p>\n",
       "</div>"
      ],
      "text/plain": [
       "                                            answers  \\\n",
       "0           {'answer_start': [235], 'text': ['하원']}   \n",
       "1     {'answer_start': [212], 'text': ['《경영의 실제》']}   \n",
       "2           {'answer_start': [510], 'text': ['백성']}   \n",
       "3           {'answer_start': [625], 'text': ['중국']}   \n",
       "4            {'answer_start': [30], 'text': ['4개']}   \n",
       "...                                             ...   \n",
       "5567        {'text': ['국민'], 'answer_start': [162]}   \n",
       "5568         {'text': ['남쪽'], 'answer_start': [83]}   \n",
       "5569         {'text': ['소련'], 'answer_start': [64]}   \n",
       "5570         {'text': ['미국'], 'answer_start': [37]}   \n",
       "5571        {'text': ['고대'], 'answer_start': [343]}   \n",
       "\n",
       "                                                context            id  \\\n",
       "0     미국 상의원 또는 미국 상원(United States Senate)은 양원제인 미국...  mrc-1-000067   \n",
       "1     '근대적 경영학' 또는 '고전적 경영학'에서 현대적 경영학으로 전환되는 시기는 19...  mrc-0-004397   \n",
       "2     강희제는 강화된 황권으로 거의 황제 중심의 독단적으로 나라를 이끌어 갔기에 자칫 전...  mrc-1-000362   \n",
       "3     불상을 모시기 위해 나무나 돌, 쇠 등을 깎아 일반적인 건축물보다 작은 규모로 만든...  mrc-0-001510   \n",
       "4     동아대학교박물관에서 소장하고 있는 계사명 사리구는 총 4개의 용기로 구성된 조선후기...  mrc-0-000823   \n",
       "...                                                 ...           ...   \n",
       "5567  1947년 6월 미군정 사령관 존 하지는 이승만에게 이승만과 김구가 계획 중이라는 ...  mrc-qg-23783   \n",
       "5568  전날 밤부터 난지도쪽으로 한강을 도하한 1개 연대 규모의 북한군이 오류동 정면으로 ...  mrc-qg-23784   \n",
       "5569  1969년에 연정에 합의한 사민당과 자유민주당의 사회자유 연정은 기존 외교 정책에서...  mrc-qg-23785   \n",
       "5570  오이 샌드위치는 영국이 기원인 샌드위치의 하나이다. 현대의 다른 종류의 오이샌드위치...  mrc-qg-23786   \n",
       "5571  \"역번역\"이란 번역된 문장을 다시 원문의 언어로 참고나 주석 없이 되돌리도록 하는 ...  mrc-qg-23787   \n",
       "\n",
       "                                               question  \n",
       "0                      대통령을 포함한 미국의 행정부 견제권을 갖는 국가 기관은?  \n",
       "1                                현대적 인사조직관리의 시발점이 된 책은?  \n",
       "2                        강희제가 1717년에 쓴 글은 누구를 위해 쓰여졌는가?  \n",
       "3               11~12세기에 제작된 본존불은 보통 어떤 나라의 특징이 전파되었나요?  \n",
       "4                            명문이 적힌 유물을 구성하는 그릇의 총 개수는?  \n",
       "...                                                 ...  \n",
       "5567                                여운형이 최우선으로 생각했던 것은?  \n",
       "5568  북한군이 공격에 앞서 비행장쪽에서 그들의 보병에 화력을 지원하던 전차 2대를 야음을...  \n",
       "5569  1969년 사민당과 자유민주당의 사회자유 연정이 우호적 입장을 취한 나라는 동독과 ...  \n",
       "5570                    현대의 오이샌드위치는 대부분 어느 나라에서 만들어지나요?  \n",
       "5571  아람어 원어론의 지지자들은 신약성서가 원래 아람어로 쓰여졌다고 보는 근거를 어디에 ...  \n",
       "\n",
       "[5572 rows x 4 columns]"
      ]
     },
     "execution_count": 60,
     "metadata": {},
     "output_type": "execute_result"
    }
   ],
   "source": [
    "qgqg = f.loc[iiii3]\n",
    "ii = list(bba['id'])\n",
    "cc = list(bba['context'])\n",
    "qqu = list(bba['question'])\n",
    "aan = list(bba['answers'])\n",
    "\n",
    "aas.extend(aan)\n",
    "ccs.extend(cc)\n",
    "iis.extend(ii)\n",
    "qqs.extend(qqu)\n",
    "\n",
    "qgqg4 = pd.DataFrame(data={'answers': aas, 'context': ccs, 'id': iis, 'question': qqs})\n",
    "qgqg4"
   ]
  },
  {
   "cell_type": "code",
   "execution_count": 565,
   "metadata": {},
   "outputs": [],
   "source": [
    "!rm -rf qg_dataset_top_4"
   ]
  },
  {
   "cell_type": "code",
   "execution_count": 61,
   "metadata": {},
   "outputs": [],
   "source": [
    "Dataset.from_pandas(qgqg4).save_to_disk(f\"qg_filters\")"
   ]
  },
  {
   "cell_type": "code",
   "execution_count": 62,
   "metadata": {},
   "outputs": [
    {
     "name": "stdout",
     "output_type": "stream",
     "text": [
      "qg_filters/\n",
      "qg_filters/state.json\n",
      "qg_filters/dataset_info.json\n",
      "qg_filters/dataset.arrow\n"
     ]
    }
   ],
   "source": [
    "!tar -cvf qg_filters.tar qg_filters"
   ]
  },
  {
   "cell_type": "code",
   "execution_count": 63,
   "metadata": {},
   "outputs": [
    {
     "data": {
      "text/plain": [
       "Dataset({\n",
       "    features: ['answers', 'context', 'id', 'question'],\n",
       "    num_rows: 5572\n",
       "})"
      ]
     },
     "execution_count": 63,
     "metadata": {},
     "output_type": "execute_result"
    }
   ],
   "source": [
    "hhhhhh = load_from_disk('qg_filters')\n",
    "hhhhhh"
   ]
  },
  {
   "cell_type": "code",
   "execution_count": null,
   "metadata": {},
   "outputs": [],
   "source": []
  }
 ],
 "metadata": {
  "interpreter": {
   "hash": "d4d1e4263499bec80672ea0156c357c1ee493ec2b1c70f0acce89fc37c4a6abe"
  },
  "kernelspec": {
   "display_name": "Python 3 (ipykernel)",
   "language": "python",
   "name": "python3"
  },
  "language_info": {
   "codemirror_mode": {
    "name": "ipython",
    "version": 3
   },
   "file_extension": ".py",
   "mimetype": "text/x-python",
   "name": "python",
   "nbconvert_exporter": "python",
   "pygments_lexer": "ipython3",
   "version": "3.8.5"
  }
 },
 "nbformat": 4,
 "nbformat_minor": 4
}
