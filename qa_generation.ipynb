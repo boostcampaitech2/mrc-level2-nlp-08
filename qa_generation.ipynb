{
 "cells": [
  {
   "cell_type": "markdown",
   "id": "bdd55f40-b7a9-4492-aea0-da722f135ea1",
   "metadata": {},
   "source": [
    "Train Data qa_generation"
   ]
  },
  {
   "cell_type": "code",
   "execution_count": 6,
   "id": "80a32dd5-51cb-4918-a557-8ea7942f859d",
   "metadata": {},
   "outputs": [],
   "source": [
    "import json\n",
    "import random\n",
    "import numpy as np\n",
    "import pandas as pd\n",
    "from tqdm import tqdm, trange\n",
    "from pprint import pprint\n",
    "\n",
    "from sklearn.feature_extraction.text import TfidfVectorizer\n",
    "\n",
    "import torch\n",
    "from torch.utils.data import DataLoader, TensorDataset\n",
    "import torch.nn.functional as F\n",
    "\n",
    "from datasets import load_dataset\n",
    "from transformers import (\n",
    "    AutoTokenizer,\n",
    "    RobertaModel, RobertaPreTrainedModel,\n",
    "    AdamW, get_linear_schedule_with_warmup,\n",
    "    TrainingArguments,\n",
    ")\n",
    "from datasets import load_from_disk\n",
    "\n",
    "train_dataset = load_from_disk('data/train_dataset/train/')\n",
    "valid_dataset = load_from_disk('data/train_dataset/validation/')"
   ]
  },
  {
   "cell_type": "code",
   "execution_count": 11,
   "id": "d50b2297-733d-4f20-b934-1100af6f09e8",
   "metadata": {},
   "outputs": [
    {
     "data": {
      "text/plain": [
       "{'title': '미국 상원',\n",
       " 'answers': {'answer_start': [235], 'text': ['하원']},\n",
       " 'context': '미국 상의원 또는 미국 상원(United States Senate)은 양원제인 미국 의회의 상원이다.\\\\n\\\\n미국 부통령이 상원의장이 된다. 각 주당 2명의 상원의원이 선출되어 100명의 상원의원으로 구성되어 있다. 임기는 6년이며, 2년마다 50개주 중 1/3씩 상원의원을 새로 선출하여 연방에 보낸다.\\\\n\\\\n미국 상원은 미국 하원과는 다르게 미국 대통령을 수반으로 하는 미국 연방 행정부에 각종 동의를 하는 기관이다. 하원이 세금과 경제에 대한 권한, 대통령을 포함한 대다수의 공무원을 파면할 권한을 갖고 있는 국민을 대표하는 기관인 반면 상원은 미국의 주를 대표한다. 즉 캘리포니아주, 일리노이주 같이 주 정부와 주 의회를 대표하는 기관이다. 그로 인하여 군대의 파병, 관료의 임명에 대한 동의, 외국 조약에 대한 승인 등 신속을 요하는 권한은 모두 상원에게만 있다. 그리고 하원에 대한 견제 역할(하원의 법안을 거부할 권한 등)을 담당한다. 2년의 임기로 인하여 급진적일 수밖에 없는 하원은 지나치게 급진적인 법안을 만들기 쉽다. 대표적인 예로 건강보험 개혁 당시 하원이 미국 연방 행정부에게 퍼블릭 옵션(공공건강보험기관)의 조항이 있는 반면 상원의 경우 하원안이 지나치게 세금이 많이 든다는 이유로 퍼블릭 옵션 조항을 제외하고 비영리건강보험기관이나 보험회사가 담당하도록 한 것이다. 이 경우처럼 상원은 하원이나 내각책임제가 빠지기 쉬운 국가들의 국회처럼 걸핏하면 발생하는 의회의 비정상적인 사태를 방지하는 기관이다. 상원은 급박한 처리사항의 경우가 아니면 법안을 먼저 내는 경우가 드물고 하원이 만든 법안을 수정하여 다시 하원에 되돌려보낸다. 이러한 방식으로 단원제가 빠지기 쉬운 함정을 미리 방지하는 것이다.날짜=2017-02-05',\n",
       " '__index_level_0__': 42,\n",
       " 'document_id': 18293,\n",
       " 'question': '대통령을 포함한 미국의 행정부 견제권을 갖는 국가 기관은?',\n",
       " 'id': 'mrc-1-000067'}"
      ]
     },
     "execution_count": 11,
     "metadata": {},
     "output_type": "execute_result"
    }
   ],
   "source": [
    "train_dataset[0]"
   ]
  },
  {
   "cell_type": "code",
   "execution_count": 14,
   "id": "004bde5d-74ed-4770-a7f4-28958121709a",
   "metadata": {},
   "outputs": [
    {
     "data": {
      "text/plain": [
       "3952"
      ]
     },
     "execution_count": 14,
     "metadata": {},
     "output_type": "execute_result"
    }
   ],
   "source": [
    "len(train_dataset['context'])"
   ]
  },
  {
   "cell_type": "code",
   "execution_count": 15,
   "id": "b7127794-b9ee-4f36-995f-00cd959419b1",
   "metadata": {},
   "outputs": [
    {
     "name": "stderr",
     "output_type": "stream",
     "text": [
      "[Korean Sentence Splitter]: Initializing Kss...\n",
      "\n",
      "\n"
     ]
    }
   ],
   "source": [
    "from pororo import Pororo\n",
    "ner = Pororo(task=\"ner\", lang=\"ko\")"
   ]
  },
  {
   "cell_type": "code",
   "execution_count": 23,
   "id": "c8ad6d04-a81e-48ad-a630-48a68f86c3b9",
   "metadata": {
    "tags": []
   },
   "outputs": [],
   "source": [
    "a = ner(train_dataset[0]['context'])"
   ]
  },
  {
   "cell_type": "code",
   "execution_count": 32,
   "id": "c92a7cba-c12b-4c87-b8a6-57ba0b48fe22",
   "metadata": {},
   "outputs": [
    {
     "data": {
      "text/plain": [
       "[('국민', 'CIVILIZATION'),\n",
       " ('캘리포니아주', 'LOCATION'),\n",
       " ('2년마다', 'DATE'),\n",
       " ('수반', 'CIVILIZATION'),\n",
       " ('내각책임제', 'CIVILIZATION'),\n",
       " ('양원제', 'CIVILIZATION'),\n",
       " ('상원', 'ORGANIZATION'),\n",
       " ('의장', 'OCCUPATION'),\n",
       " ('50개주', 'QUANTITY'),\n",
       " ('2년', 'DATE'),\n",
       " ('2명', 'QUANTITY'),\n",
       " ('의원', 'OCCUPATION'),\n",
       " ('국회', 'ORGANIZATION'),\n",
       " ('미국', 'COUNTRY'),\n",
       " ('공무원', 'OCCUPATION'),\n",
       " ('2017-02-05', 'DATE'),\n",
       " ('100명', 'QUANTITY'),\n",
       " ('연방 행정부', 'ORGANIZATION'),\n",
       " ('상의원', 'CIVILIZATION'),\n",
       " ('하원', 'ORGANIZATION'),\n",
       " ('퍼블릭 옵션', 'CIVILIZATION'),\n",
       " ('1/3씩', 'QUANTITY'),\n",
       " ('관료', 'OCCUPATION'),\n",
       " ('대통령', 'CIVILIZATION'),\n",
       " ('정부', 'ORGANIZATION'),\n",
       " ('단', 'CIVILIZATION'),\n",
       " ('부통령', 'OCCUPATION'),\n",
       " ('일리노이주', 'LOCATION'),\n",
       " ('6년', 'DATE'),\n",
       " ('원제', 'CIVILIZATION')]"
      ]
     },
     "execution_count": 32,
     "metadata": {},
     "output_type": "execute_result"
    }
   ],
   "source": [
    "ner_pairs = tuple(set(a))\n",
    "ner_list = []\n",
    "\n",
    "# ner tags\n",
    "# PS\": \"PERSON\",\"LC\": \"LOCATION\",\"OG\": \"ORGANIZATION\",\"AF\": \"ARTIFACT\",\n",
    "# \"DT\": \"DATE\",\"TI\": \"TIME\",\"CV\": \"CIVILIZATION\",\"AM\": \"ANIMAL\",\n",
    "# \"PT\": \"PLANT\",\"QT\": \"QUANTITY\",\"FD\": \"STUDY_FIELD\",\n",
    "# \"TR\": \"THEORY\",\"EV\": \"EVENT\",\"MT\": \"MATERIAL\",\"TM\": \"TERM\",\n",
    "\n",
    "for k, v in a:\n",
    "    if v != 'O':\n",
    "        ner_list.append((k, v))\n",
    "list(set(ner_list))"
   ]
  },
  {
   "cell_type": "code",
   "execution_count": null,
   "id": "d0c2a534-4409-489f-b6aa-f8eab8fc6080",
   "metadata": {},
   "outputs": [],
   "source": []
  },
  {
   "cell_type": "code",
   "execution_count": null,
   "id": "8db1140d-b0ad-4e53-8b16-84f144cf8b26",
   "metadata": {},
   "outputs": [],
   "source": []
  },
  {
   "cell_type": "code",
   "execution_count": null,
   "id": "dc5f2b61-8d07-44c0-abd2-1090c40524e9",
   "metadata": {},
   "outputs": [],
   "source": []
  },
  {
   "cell_type": "code",
   "execution_count": null,
   "id": "5b62e76c-58cb-44c9-a5c5-79962394e2ab",
   "metadata": {},
   "outputs": [],
   "source": []
  },
  {
   "cell_type": "code",
   "execution_count": null,
   "id": "de23a434-1a3f-4764-9417-8419665ef5ee",
   "metadata": {},
   "outputs": [],
   "source": [
    "# pororo ner, gptgeneration으로 문장생성후 pororo semantic_textual_similarity 로 q,p 유사도 낮은거위주로 넣기\n",
    "# pororo sentence embedding으로 dense retrieval 해보기\n",
    "\n",
    "# pororo paraphrase, question generation # pororo qg는 korquad기반임.. ㅜ \n",
    "# pg는 multilingual internal dataset seq2seq bart\n",
    "\n",
    "# pororo summarization으로 paraphrase만 요약해서 어그멘테이션 해보기"
   ]
  },
  {
   "cell_type": "code",
   "execution_count": null,
   "id": "9a068390-4a1c-46cd-bea6-9ad7045758aa",
   "metadata": {},
   "outputs": [],
   "source": []
  },
  {
   "cell_type": "code",
   "execution_count": null,
   "id": "9fe27958-47de-4d84-9caf-079049c7a6a0",
   "metadata": {},
   "outputs": [],
   "source": []
  },
  {
   "cell_type": "code",
   "execution_count": null,
   "id": "421e8802-fb00-4a9e-9735-cf49b06b1f80",
   "metadata": {},
   "outputs": [],
   "source": []
  },
  {
   "cell_type": "code",
   "execution_count": 2,
   "id": "fb43a75c-a746-49bb-9038-36776821e373",
   "metadata": {},
   "outputs": [
    {
     "data": {
      "text/html": [
       "<div>\n",
       "<style scoped>\n",
       "    .dataframe tbody tr th:only-of-type {\n",
       "        vertical-align: middle;\n",
       "    }\n",
       "\n",
       "    .dataframe tbody tr th {\n",
       "        vertical-align: top;\n",
       "    }\n",
       "\n",
       "    .dataframe thead th {\n",
       "        text-align: right;\n",
       "    }\n",
       "</style>\n",
       "<table border=\"1\" class=\"dataframe\">\n",
       "  <thead>\n",
       "    <tr style=\"text-align: right;\">\n",
       "      <th></th>\n",
       "      <th>text</th>\n",
       "      <th>corpus_source</th>\n",
       "      <th>url</th>\n",
       "      <th>domain</th>\n",
       "      <th>title</th>\n",
       "      <th>author</th>\n",
       "      <th>html</th>\n",
       "      <th>document_id</th>\n",
       "    </tr>\n",
       "  </thead>\n",
       "  <tbody>\n",
       "    <tr>\n",
       "      <th>0</th>\n",
       "      <td>이 문서는 나라 목록이며, 전 세계 206개 나라의 각 현황과 주권 승인 정보를 개...</td>\n",
       "      <td>위키피디아</td>\n",
       "      <td>TODO</td>\n",
       "      <td>NaN</td>\n",
       "      <td>나라 목록</td>\n",
       "      <td>NaN</td>\n",
       "      <td>NaN</td>\n",
       "      <td>0</td>\n",
       "    </tr>\n",
       "    <tr>\n",
       "      <th>1</th>\n",
       "      <td>이 목록에 실린 국가 기준은 1933년 몬테비데오 협약 1장을 참고로 하였다. 협정...</td>\n",
       "      <td>위키피디아</td>\n",
       "      <td>TODO</td>\n",
       "      <td>NaN</td>\n",
       "      <td>나라 목록</td>\n",
       "      <td>NaN</td>\n",
       "      <td>NaN</td>\n",
       "      <td>1</td>\n",
       "    </tr>\n",
       "    <tr>\n",
       "      <th>2</th>\n",
       "      <td>현 서울특별시 종로구 서린동 (구 일제 강점기 경기도 경성부 서린정) 출신이다. 친...</td>\n",
       "      <td>위키피디아</td>\n",
       "      <td>TODO</td>\n",
       "      <td>NaN</td>\n",
       "      <td>백남준</td>\n",
       "      <td>NaN</td>\n",
       "      <td>NaN</td>\n",
       "      <td>2</td>\n",
       "    </tr>\n",
       "    <tr>\n",
       "      <th>3</th>\n",
       "      <td>아오조라 문고(靑空文庫, あおぞらぶんこ|아오조라 분고)는 ‘일본어판 구텐베르크 프로...</td>\n",
       "      <td>위키피디아</td>\n",
       "      <td>TODO</td>\n",
       "      <td>NaN</td>\n",
       "      <td>아오조라 문고</td>\n",
       "      <td>NaN</td>\n",
       "      <td>NaN</td>\n",
       "      <td>3</td>\n",
       "    </tr>\n",
       "    <tr>\n",
       "      <th>4</th>\n",
       "      <td>저자 사망 이후 50년이 지나 저작권이 소멸한 메이지 시대부터 쇼와 시대 초기까지의...</td>\n",
       "      <td>위키피디아</td>\n",
       "      <td>TODO</td>\n",
       "      <td>NaN</td>\n",
       "      <td>아오조라 문고</td>\n",
       "      <td>NaN</td>\n",
       "      <td>NaN</td>\n",
       "      <td>4</td>\n",
       "    </tr>\n",
       "    <tr>\n",
       "      <th>...</th>\n",
       "      <td>...</td>\n",
       "      <td>...</td>\n",
       "      <td>...</td>\n",
       "      <td>...</td>\n",
       "      <td>...</td>\n",
       "      <td>...</td>\n",
       "      <td>...</td>\n",
       "      <td>...</td>\n",
       "    </tr>\n",
       "    <tr>\n",
       "      <th>60608</th>\n",
       "      <td>오키나와 현립 박물관·미술관( , Okinawa Prefectural Museum ...</td>\n",
       "      <td>위키피디아</td>\n",
       "      <td>None</td>\n",
       "      <td>NaN</td>\n",
       "      <td>오키나와 현립 박물관·미술관</td>\n",
       "      <td>NaN</td>\n",
       "      <td>NaN</td>\n",
       "      <td>60608</td>\n",
       "    </tr>\n",
       "    <tr>\n",
       "      <th>60609</th>\n",
       "      <td>1936년 7월, 오키나와현 교육위원회 부설 향토 박물관(沖縄県教育会附設郷土博物館)...</td>\n",
       "      <td>위키피디아</td>\n",
       "      <td>None</td>\n",
       "      <td>NaN</td>\n",
       "      <td>오키나와 현립 박물관·미술관</td>\n",
       "      <td>NaN</td>\n",
       "      <td>NaN</td>\n",
       "      <td>60609</td>\n",
       "    </tr>\n",
       "    <tr>\n",
       "      <th>60610</th>\n",
       "      <td>박물관은 개관 10주년이되는 2017년에 관의 애칭 및 마스코트를 일반인에게 공모했...</td>\n",
       "      <td>위키피디아</td>\n",
       "      <td>None</td>\n",
       "      <td>NaN</td>\n",
       "      <td>오키나와 현립 박물관·미술관</td>\n",
       "      <td>NaN</td>\n",
       "      <td>NaN</td>\n",
       "      <td>60610</td>\n",
       "    </tr>\n",
       "    <tr>\n",
       "      <th>60611</th>\n",
       "      <td>단결권 및 단체교섭권 협약(Right to Organise and Collectiv...</td>\n",
       "      <td>위키피디아</td>\n",
       "      <td>None</td>\n",
       "      <td>NaN</td>\n",
       "      <td>단결권 및 단체교섭권 협약</td>\n",
       "      <td>NaN</td>\n",
       "      <td>NaN</td>\n",
       "      <td>60611</td>\n",
       "    </tr>\n",
       "    <tr>\n",
       "      <th>60612</th>\n",
       "      <td>이 협약은 부당노동행위 제도를 규율하고 있다. 협약 제1조에서 반노동조합 차별행위로...</td>\n",
       "      <td>위키피디아</td>\n",
       "      <td>None</td>\n",
       "      <td>NaN</td>\n",
       "      <td>단결권 및 단체교섭권 협약</td>\n",
       "      <td>NaN</td>\n",
       "      <td>NaN</td>\n",
       "      <td>60612</td>\n",
       "    </tr>\n",
       "  </tbody>\n",
       "</table>\n",
       "<p>60613 rows × 8 columns</p>\n",
       "</div>"
      ],
      "text/plain": [
       "                                                    text corpus_source   url  \\\n",
       "0      이 문서는 나라 목록이며, 전 세계 206개 나라의 각 현황과 주권 승인 정보를 개...         위키피디아  TODO   \n",
       "1      이 목록에 실린 국가 기준은 1933년 몬테비데오 협약 1장을 참고로 하였다. 협정...         위키피디아  TODO   \n",
       "2      현 서울특별시 종로구 서린동 (구 일제 강점기 경기도 경성부 서린정) 출신이다. 친...         위키피디아  TODO   \n",
       "3      아오조라 문고(靑空文庫, あおぞらぶんこ|아오조라 분고)는 ‘일본어판 구텐베르크 프로...         위키피디아  TODO   \n",
       "4      저자 사망 이후 50년이 지나 저작권이 소멸한 메이지 시대부터 쇼와 시대 초기까지의...         위키피디아  TODO   \n",
       "...                                                  ...           ...   ...   \n",
       "60608  오키나와 현립 박물관·미술관( , Okinawa Prefectural Museum ...         위키피디아  None   \n",
       "60609  1936년 7월, 오키나와현 교육위원회 부설 향토 박물관(沖縄県教育会附設郷土博物館)...         위키피디아  None   \n",
       "60610  박물관은 개관 10주년이되는 2017년에 관의 애칭 및 마스코트를 일반인에게 공모했...         위키피디아  None   \n",
       "60611  단결권 및 단체교섭권 협약(Right to Organise and Collectiv...         위키피디아  None   \n",
       "60612  이 협약은 부당노동행위 제도를 규율하고 있다. 협약 제1조에서 반노동조합 차별행위로...         위키피디아  None   \n",
       "\n",
       "       domain            title  author  html  document_id  \n",
       "0         NaN            나라 목록     NaN   NaN            0  \n",
       "1         NaN            나라 목록     NaN   NaN            1  \n",
       "2         NaN              백남준     NaN   NaN            2  \n",
       "3         NaN          아오조라 문고     NaN   NaN            3  \n",
       "4         NaN          아오조라 문고     NaN   NaN            4  \n",
       "...       ...              ...     ...   ...          ...  \n",
       "60608     NaN  오키나와 현립 박물관·미술관     NaN   NaN        60608  \n",
       "60609     NaN  오키나와 현립 박물관·미술관     NaN   NaN        60609  \n",
       "60610     NaN  오키나와 현립 박물관·미술관     NaN   NaN        60610  \n",
       "60611     NaN   단결권 및 단체교섭권 협약     NaN   NaN        60611  \n",
       "60612     NaN   단결권 및 단체교섭권 협약     NaN   NaN        60612  \n",
       "\n",
       "[60613 rows x 8 columns]"
      ]
     },
     "execution_count": 2,
     "metadata": {},
     "output_type": "execute_result"
    }
   ],
   "source": [
    "import pandas as pd\n",
    "\n",
    "wiki = pd.read_json('data/wikipedia_documents.json', orient='index')\n",
    "wiki"
   ]
  },
  {
   "cell_type": "code",
   "execution_count": 4,
   "id": "62804065-2237-48b8-bffc-f3c575b8a0a7",
   "metadata": {},
   "outputs": [
    {
     "data": {
      "text/plain": [
       "56737"
      ]
     },
     "execution_count": 4,
     "metadata": {},
     "output_type": "execute_result"
    }
   ],
   "source": [
    "len(wiki['text'].unique())"
   ]
  },
  {
   "cell_type": "code",
   "execution_count": 5,
   "id": "92e84506-d1d4-42b6-8fc9-cf653f77215b",
   "metadata": {},
   "outputs": [
    {
     "name": "stdout",
     "output_type": "stream",
     "text": [
      "Cloning into 'qa_generation'...\n",
      "remote: Enumerating objects: 125, done.\u001b[K\n",
      "remote: Counting objects: 100% (125/125), done.\u001b[K\n",
      "remote: Compressing objects: 100% (72/72), done.\u001b[K\n",
      "remote: Total 125 (delta 54), reused 105 (delta 39), pack-reused 0\u001b[K\n",
      "Receiving objects: 100% (125/125), 926.44 KiB | 2.68 MiB/s, done.\n",
      "Resolving deltas: 100% (54/54), done.\n"
     ]
    }
   ],
   "source": [
    "!git clone https://github.com/codertimo/KorQuAD-Question-Generation qa_generation"
   ]
  },
  {
   "cell_type": "code",
   "execution_count": null,
   "id": "11941ef3-fd85-4d24-af00-e93245073e34",
   "metadata": {},
   "outputs": [],
   "source": []
  },
  {
   "cell_type": "code",
   "execution_count": null,
   "id": "d619496e-296c-4796-9afb-3dc522d6d4ac",
   "metadata": {},
   "outputs": [],
   "source": []
  },
  {
   "cell_type": "code",
   "execution_count": null,
   "id": "482a1511-b92d-4e5d-871b-2eb5c5df72ef",
   "metadata": {},
   "outputs": [],
   "source": []
  },
  {
   "cell_type": "markdown",
   "id": "ba8e60cb-58ce-4103-b461-dfed7a286e70",
   "metadata": {},
   "source": [
    "하겸님의 question <-> title 추가"
   ]
  },
  {
   "cell_type": "code",
   "execution_count": null,
   "id": "82162412-647f-4cb6-ab7e-8b4219c5fe51",
   "metadata": {},
   "outputs": [],
   "source": [
    "texts = []\n",
    "titles = []\n",
    "\n",
    "for i in range(len(wiki_df)):\n",
    "    wiki_context = wiki_df['text'][i]\n",
    "    wiki_title = wiki_df['title'][i]\n",
    "\n",
    "    if wiki_title in wiki_context:\n",
    "        texts.append(wiki_context)\n",
    "        titles.append(wiki_title)\n",
    "\n",
    "wiki_qa_df = pd.DataFrame(data={'text':texts,'title':titles})\n",
    "wiki_qa_df.head()"
   ]
  },
  {
   "cell_type": "code",
   "execution_count": null,
   "id": "7acf2cd9-6b6b-431e-ad22-a35967708d1a",
   "metadata": {},
   "outputs": [],
   "source": [
    "def load_wiki_dataset(dataset_path):\n",
    "    wiki_data_frame = pd.read_csv(dataset_path)\n",
    "    examples = []\n",
    "    for idx in range(len(wiki_data_frame)):\n",
    "        text = wiki_data_frame[\"text\"][idx]\n",
    "        title = wiki_data_frame[\"title\"][idx]\n",
    "\n",
    "        example = QAExample(text, title)\n",
    "        examples.append(example)\n",
    "    return examples"
   ]
  },
  {
   "cell_type": "code",
   "execution_count": null,
   "id": "b2b10b8e-3988-4548-ba73-5fb24cd42928",
   "metadata": {},
   "outputs": [],
   "source": [
    "import sys\n",
    "sys.path.append(\"..\")\n",
    "import random\n",
    "from argparse import ArgumentParser\n",
    "\n",
    "import torch\n",
    "from tokenizers import SentencePieceBPETokenizer\n",
    "from torch.utils.data import DataLoader\n",
    "from tqdm import tqdm\n",
    "from transformers import GPT2LMHeadModel, AutoModelWithLMHead, AutoTokenizer\n",
    "\n",
    "from korquad_qg.config import QGConfig\n",
    "from korquad_qg.dataset import (MAX_QUESTION_SPACE, MIN_QUESTION_SPACE, QGDecodingDataset, load_wiki_dataset)\n",
    "\n",
    "model = AutoModelWithLMHead.from_pretrained(\"kykim/gpt3-kor-small_based_on_gpt2\")\n",
    "# model.load_state_dict(torch.load('/opt/ml/KorQuAD-Question-Generation/model/QG_kogpt2.pth', map_location=\"cpu\"))\n",
    "\n",
    "device = torch.device(\"cuda:0\" if torch.cuda.is_available() else \"cpu\")\n",
    "model = model.to(device)\n",
    "\n",
    "tokenizer = SentencePieceBPETokenizer.from_file(\n",
    "    vocab_filename=\"../tokenizer/vocab.json\", merges_filename=\"../tokenizer/merges.txt\", add_prefix_space=False\n",
    ")\n",
    "\n",
    "examples = load_wiki_dataset('/opt/ml/data/wiki_text_title.csv')\n",
    "random.shuffle(examples)\n",
    "dataset = QGDecodingDataset(examples, tokenizer, 512)\n",
    "dataloader = DataLoader(dataset, batch_size=1)\n",
    "\n",
    "model = model.to(device)\n",
    "model.eval()\n",
    "\n",
    "generated_results = []\n",
    "\n",
    "for i, batch in tqdm(enumerate(dataloader), desc=\"generate\", total=len(dataloader)):\n",
    "    input_ids, attention_mask = (v.to(device) for v in batch)\n",
    "    origin_seq_len = input_ids.size(-1)\n",
    "\n",
    "    decoded_sequences = model.generate(\n",
    "        input_ids=input_ids,\n",
    "        attention_mask=attention_mask,\n",
    "        max_length=origin_seq_len + MAX_QUESTION_SPACE,\n",
    "        min_length=origin_seq_len + MIN_QUESTION_SPACE,\n",
    "        pad_token_id=0,\n",
    "        bos_token_id=1,\n",
    "        eos_token_id=2,\n",
    "        num_beams=5,\n",
    "        repetition_penalty=1.3,\n",
    "        no_repeat_ngram_size=3,\n",
    "        num_return_sequences=1,\n",
    "    )\n",
    "\n",
    "    for decoded_tokens in decoded_sequences.tolist():\n",
    "        decoded_question_text = tokenizer.decode(decoded_tokens[origin_seq_len:])\n",
    "        decoded_question_text = decoded_question_text.split(\"</s>\")[0].replace(\"<s>\", \"\")\n",
    "        generated_results.append(\n",
    "            (examples[i].context, examples[i].answer, examples[i].question, decoded_question_text)\n",
    "        )\n",
    "\n",
    "with open('test.tsv', \"w\") as f:\n",
    "    for context, answer, question, generated_question in generated_results:\n",
    "        f.write(f\"{generated_question}\\t{answer}\\t{context}\\n\")"
   ]
  }
 ],
 "metadata": {
  "kernelspec": {
   "display_name": "Python 3 (ipykernel)",
   "language": "python",
   "name": "python3"
  },
  "language_info": {
   "codemirror_mode": {
    "name": "ipython",
    "version": 3
   },
   "file_extension": ".py",
   "mimetype": "text/x-python",
   "name": "python",
   "nbconvert_exporter": "python",
   "pygments_lexer": "ipython3",
   "version": "3.8.5"
  }
 },
 "nbformat": 4,
 "nbformat_minor": 5
}
