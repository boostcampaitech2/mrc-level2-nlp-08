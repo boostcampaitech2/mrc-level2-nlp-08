{
 "cells": [
  {
   "cell_type": "code",
   "execution_count": 1,
   "metadata": {},
   "outputs": [],
   "source": [
    "from datasets import load_from_disk, Dataset\n",
    "from tqdm import tqdm, trange\n",
    "import pandas as pd\n",
    "import pickle"
   ]
  },
  {
   "cell_type": "code",
   "execution_count": 2,
   "metadata": {},
   "outputs": [],
   "source": [
    "# tf-idf로 retrieval한 상위 100개의 query - context 묶음\n",
    "with open('/opt/ml/data/tfidf_fit_train.bin', \"rb\") as file:\n",
    "    tf_idf_pairs = pickle.load(file)"
   ]
  },
  {
   "cell_type": "code",
   "execution_count": 3,
   "metadata": {},
   "outputs": [],
   "source": [
    "train_dataset = load_from_disk(\"/opt/ml/data/train_dataset/train/\")"
   ]
  },
  {
   "cell_type": "code",
   "execution_count": null,
   "metadata": {},
   "outputs": [],
   "source": [
    "tf_idf_pairs[train_dataset['question'][0]][0:5] # 확인"
   ]
  },
  {
   "cell_type": "code",
   "execution_count": 20,
   "metadata": {},
   "outputs": [
    {
     "name": "stderr",
     "output_type": "stream",
     "text": [
      "100%|██████████| 3952/3952 [09:15<00:00,  7.12it/s]\n"
     ]
    }
   ],
   "source": [
    "new_context = []\n",
    "for i in tqdm(range(len(train_dataset))):\n",
    "    train_context = train_dataset['context'][i] # ground truth\n",
    "    query = train_dataset['question'][i] # query\n",
    "    sim_context = tf_idf_pairs[query] # tf - idf context list\n",
    "    answer = train_dataset['answers'][i]['text'][0]\n",
    "    \n",
    "    cnt = 4 # 추가할 갯수\n",
    "    sim_context_idx = 0\n",
    "    sim_top_k = [train_context]\n",
    "\n",
    "    while cnt != 0:\n",
    "        if train_context != sim_context[sim_context_idx] and not (answer in sim_context[sim_context_idx]):\n",
    "            # 비슷한 context를 추가하되 정답을 포함하지 않는 문장을 추가한다.\n",
    "            sim_top_k.append(sim_context[sim_context_idx])\n",
    "            cnt -= 1\n",
    "        sim_context_idx += 1\n",
    "        if sim_context_idx == 100: # index를 넘어가면 break\n",
    "            break\n",
    "    add_sim_context = ' '.join(sim_top_k)\n",
    "    new_context.append(add_sim_context)"
   ]
  },
  {
   "cell_type": "code",
   "execution_count": 21,
   "metadata": {},
   "outputs": [],
   "source": [
    "train_df = train_dataset.to_pandas()\n",
    "train_df['context'] = new_context"
   ]
  },
  {
   "cell_type": "code",
   "execution_count": 22,
   "metadata": {},
   "outputs": [
    {
     "data": {
      "text/plain": [
       "'미국 상의원 또는 미국 상원(United States Senate)은 양원제인 미국 의회의 상원이다.\\\\n\\\\n미국 부통령이 상원의장이 된다. 각 주당 2명의 상원의원이 선출되어 100명의 상원의원으로 구성되어 있다. 임기는 6년이며, 2년마다 50개주 중 1/3씩 상원의원을 새로 선출하여 연방에 보낸다.\\\\n\\\\n미국 상원은 미국 하원과는 다르게 미국 대통령을 수반으로 하는 미국 연방 행정부에 각종 동의를 하는 기관이다. 하원이 세금과 경제에 대한 권한, 대통령을 포함한 대다수의 공무원을 파면할 권한을 갖고 있는 국민을 대표하는 기관인 반면 상원은 미국의 주를 대표한다. 즉 캘리포니아주, 일리노이주 같이 주 정부와 주 의회를 대표하는 기관이다. 그로 인하여 군대의 파병, 관료의 임명에 대한 동의, 외국 조약에 대한 승인 등 신속을 요하는 권한은 모두 상원에게만 있다. 그리고 하원에 대한 견제 역할(하원의 법안을 거부할 권한 등)을 담당한다. 2년의 임기로 인하여 급진적일 수밖에 없는 하원은 지나치게 급진적인 법안을 만들기 쉽다. 대표적인 예로 건강보험 개혁 당시 하원이 미국 연방 행정부에게 퍼블릭 옵션(공공건강보험기관)의 조항이 있는 반면 상원의 경우 하원안이 지나치게 세금이 많이 든다는 이유로 퍼블릭 옵션 조항을 제외하고 비영리건강보험기관이나 보험회사가 담당하도록 한 것이다. 이 경우처럼 상원은 하원이나 내각책임제가 빠지기 쉬운 국가들의 국회처럼 걸핏하면 발생하는 의회의 비정상적인 사태를 방지하는 기관이다. 상원은 급박한 처리사항의 경우가 아니면 법안을 먼저 내는 경우가 드물고 하원이 만든 법안을 수정하여 다시 하원에 되돌려보낸다. 이러한 방식으로 단원제가 빠지기 쉬운 함정을 미리 방지하는 것이다.날짜=2017-02-05 국회에 관해 규정하는 헌법 제4장의 첫 조문이다.\\n\\n본조에서 말하는 \"국권\"이란 국가가 갖는 지배권을 포괄적으로 나타내는 국가 권력, 곧 국가의 통치권을 의미한다. 국권은 일반적으로 입법권·행정권·사법권의 3권으로 분류되지만, 그 중에서도 주권자인 국민의 의사를 직접 반영하는 기관으로서 국회를 \"최고 기관\"으로 규정한 것이다. 다만, 최고 기관이라 해서 타 기관의 감시와 통제를 받지 않는 것은 아니며 권력 분립 원칙에 따라 국회에 대한 행정권, 사법권의 견제를 받는다.\\n\\n또한 일본 전체 국민을 대표하는 기관을 국회로 규정함으로써, 국회는 일본의 유일한 입법 기관의 지위를 가지고 있다. 일본 제국 헌법 하에서 입법권은 천황의 권한에 속했으며, 제국의회는 천황의 입법 행위를 보좌하는 기관에 불과했다.\\n\\n여기서 \"유일한 입법 기관\"의 의미로는 다음과 같은 해석이 있다.\\n* 국회 중심 입법 원칙 : 국회가 국가의 입법권을 독점한다는 원칙\\n* 국회 단독 입법 원칙 : 국회의 입법은 다른 기관의 간섭 없이 이루어진다는 원칙\\n\\n또한 국회의 입법에 벗어나지 않는 범위 내에서 행정 기관은 정령 등의 규칙 제정권을 가지며(헌법 제73조 제6호), 최고재판소는 소송에 관한 절차, 변호사 및 재판소에 관한 내부 규율 및 사법 사무 처리에 관한 사항에 대한 규칙 제정권(헌법 제77조 제1항)을 가진다. 통일주체국민회의는 1972년 10월 17일 10월 유신으로 제4공화국이 출범하면서 헌법에 따라 구성된 간접민주주의 기관이다. 가장 중요한 기능은 유신헌법의 핵심인 대통령의 간접 선거 기능을 담당한 것이다. 1973년 8월부터 약칭은 국민회의로 정해졌다. 국민회의는 전국의 각 지역구에서 국민의 직접 선거로 선출된 대의원들로 구성되었는데, 통일주체국민회의 대의원들은 비공식적으로 통대라는 약칭으로 불리었다.\\n\\n유신헌법 제3장에 의하면 통일주체국민회의는 국가의 정상기관(頂上機關)이자 주권적 수임 기관으로서, 조국의 평화적 통일을 촉진하기 위한 국민의 총의가 모인 곳이다. 따라서 6년의 임기를 가진 이 기관의 대의원은 국민의 직접선거로 선출되며, 대통령을 선출하고 국회의원 정수의 3분의 1(유신정우회)을 선출하며, 국회의 헌법 개정안을 최종 의결하고 통일 정책을 심의하는 기능을 갖고 있다.\\n\\n신민당은 제9대 대통령 선거를 앞두고 정당이 대통령 후보를 지명하고, 대의원 선거에 출마하는 대의원 후보들은 지지하는 대통령 후보를 정하고 선거를 치르게 하는 미국의 대통령 선거인 선거 방식의 통일주체국민회의 대의원 선거법 개정안을 내기도 하였으나 이루어지지 않았다. \\n\\n사실상  박정희 대통령의 거수기 노릇을 하던 이 기관은 1979년 10월 26일 그가 암살되자 그 후임 대통령인 최규하와 전두환을 형식적으로 선출해주는 역할을 맡은 뒤, 이듬해 제5공화국 헌법 발효와 함께 해체되었다. 그 후 대통령간선제를 담당하는 기관은 대통령 선거인단으로 교체되었으며, 사무처와 인적구성 및 대통령 직속 통일 관련 기구로써의 역할은 \\'평화통일정책자문회의\\'를 거쳐 민주평화통일자문회의로 이어지고 있다. 통일주체국민회의는 1972년 10월 17일 10월 유신으로 제4공화국이 출범하면서 헌법에 따라 구성된 간접민주주의 기관이다. 가장 중요한 기능은 유신헌법의 핵심인 대통령의 간접 선거 기능을 담당한 것이다. 1973년 8월부터 약칭은 국민회의로 정해졌다. 국민회의는 전국의 각 지역구에서 국민의 직접 선거로 선출된 대의원들로 구성되었는데, 통일주체국민회의 대의원들은 비공식적으로 통대라는 약칭으로 불리었다.\\\\n\\\\n유신헌법 제3장에 의하면 통일주체국민회의는 국가의 정상기관(頂上機關)이자 주권적 수임 기관으로서, 조국의 평화적 통일을 촉진하기 위한 국민의 총의가 모인 곳이다. 따라서 6년의 임기를 가진 이 기관의 대의원은 국민의 직접선거로 선출되며, 대통령을 선출하고 국회의원 정수의 3분의 1(유신정우회)을 선출하며, 국회의 헌법 개정안을 최종 의결하고 통일 정책을 심의하는 기능을 갖고 있다.\\\\n\\\\n신민당은 제9대 대통령 선거를 앞두고 정당이 대통령 후보를 지명하고, 대의원 선거에 출마하는 대의원 후보들은 지지하는 대통령 후보를 정하고 선거를 치르게 하는 미국의 대통령 선거인 선거 방식의 통일주체국민회의 대의원 선거법 개정안을 내기도 하였으나 이루어지지 않았다. \\\\n\\\\n사실상 박정희 대통령의 거수기 노릇을 하던 이 기관은 1979년 10월 26일 그가 암살되자 그 후임 대통령인 최규하와 전두환을 형식적으로 선출해주는 역할을 맡은 뒤, 이듬해 제5공화국 헌법 발효와 함께 해체되었다. 그 후 대통령간선제를 담당하는 기관은 대통령 선거인단으로 교체되었으며, 사무처와 인적구성 및 대통령 직속 통일 관련 기구로써의 역할은 \\'평화통일정책자문회의\\'를 거쳐 민주평화통일자문회의로 이어지고 있다. 이하의 국가들은 의회에서 행정부 수반을 선출한다는 점에서 내각제와 닮았다. 그리고 이들 국가들 중 상당수는 행정부 수반이 의회해산권을 갖고, 의회는 내각불신임권을 갖는데 이점 역시 내각제와 닮았다. 하지만 내각제와 달리 의회에서 선출되는 자는 행정부 수반의 지위 뿐만 아니라 국가 원수의 지위도 가진다. 그래서 의회에서 선출되는 자의 직위는 총리가 아니라, 대통령이다. 이처럼 1인이 행정부 수반과 국가 원수의 지위를 겸한다는 점에서 대통령중심제와 닮았다. 이상과 같은 이유로 이들 국가들의 정부 형태는 대통령제와 내각제의 절충형이지만, 행정 권한이 2인에게로 분리되어 있지 않으므로 이원집정부제는 아니다.\\n\\n \\n* 나우루\\n* 남아프리카 공화국\\n* 마셜 제도\\n* 마카오\\n* 미얀마\\n* 미크로네시아 연방\\n* 보츠와나\\n* 산마리노\\n* 수리남\\n* 키리바시\\n* 홍콩'"
      ]
     },
     "execution_count": 22,
     "metadata": {},
     "output_type": "execute_result"
    }
   ],
   "source": [
    "train_df['context'][0] # 확인"
   ]
  },
  {
   "cell_type": "code",
   "execution_count": 23,
   "metadata": {},
   "outputs": [
    {
     "name": "stdout",
     "output_type": "stream",
     "text": [
      "done\n"
     ]
    }
   ],
   "source": [
    "# save datasets\n",
    "new_train_dataset = Dataset.from_pandas(train_df)\n",
    "new_train_dataset.save_to_disk('/opt/ml/data/train_dataset/tf_idf_train')\n",
    "print('done')"
   ]
  },
  {
   "cell_type": "code",
   "execution_count": null,
   "metadata": {},
   "outputs": [],
   "source": []
  }
 ],
 "metadata": {
  "interpreter": {
   "hash": "d4d1e4263499bec80672ea0156c357c1ee493ec2b1c70f0acce89fc37c4a6abe"
  },
  "kernelspec": {
   "display_name": "Python 3.8.5 64-bit ('base': conda)",
   "name": "python3"
  },
  "language_info": {
   "codemirror_mode": {
    "name": "ipython",
    "version": 3
   },
   "file_extension": ".py",
   "mimetype": "text/x-python",
   "name": "python",
   "nbconvert_exporter": "python",
   "pygments_lexer": "ipython3",
   "version": "3.8.5"
  },
  "orig_nbformat": 4
 },
 "nbformat": 4,
 "nbformat_minor": 2
}
