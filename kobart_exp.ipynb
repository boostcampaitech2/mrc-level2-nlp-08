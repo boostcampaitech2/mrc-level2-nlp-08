{
 "cells": [
  {
   "cell_type": "code",
   "execution_count": 1,
   "metadata": {},
   "outputs": [],
   "source": [
    "import os\n",
    "\n",
    "from transformers import(\n",
    "    AutoConfig,\n",
    "    AutoTokenizer,\n",
    "    AutoModelForSeq2SeqLM,\n",
    ")"
   ]
  },
  {
   "cell_type": "code",
   "execution_count": 3,
   "metadata": {},
   "outputs": [],
   "source": [
    "from datasets import Dataset, load_from_disk\n",
    "tokenizer = AutoTokenizer.from_pretrained(\"hyunwoongko/kobart\")"
   ]
  },
  {
   "cell_type": "code",
   "execution_count": 7,
   "metadata": {},
   "outputs": [],
   "source": [
    "model_name = \"hyunwoongko/kobart\"\n",
    "data_path = \"/opt/ml/train_with_origin_gt_add_top_k_passage/not_include_answer_passage_train_es_top_4\"\n",
    "\n",
    "dpath = \"../../data/new_train_dataset/train\""
   ]
  },
  {
   "cell_type": "code",
   "execution_count": 12,
   "metadata": {},
   "outputs": [],
   "source": [
    "dataset = load_from_disk(dpath)\n",
    "original = load_from_disk(data_path)"
   ]
  },
  {
   "cell_type": "code",
   "execution_count": 20,
   "metadata": {},
   "outputs": [],
   "source": [
    "ex = dataset['context'][0]"
   ]
  },
  {
   "cell_type": "code",
   "execution_count": 22,
   "metadata": {},
   "outputs": [],
   "source": [
    "model_inputs = tokenizer(\n",
    "        ex,\n",
    "        truncation=True,\n",
    "        max_length=100,\n",
    "        stride=50,\n",
    "        return_overflowing_tokens=True,\n",
    "        return_offsets_mapping=True,\n",
    "    )"
   ]
  },
  {
   "cell_type": "code",
   "execution_count": 32,
   "metadata": {},
   "outputs": [
    {
     "name": "stdout",
     "output_type": "stream",
     "text": [
      "하원 229 231\n"
     ]
    }
   ],
   "source": [
    "ans = dataset['answers'][0]['text'][0]\n",
    "ans_start = dataset['answers'][0]['answer_start'][0]\n",
    "ans_end = ans_start + len(ans)\n",
    "print(ans, ans_start, ans_end)"
   ]
  },
  {
   "cell_type": "code",
   "execution_count": 44,
   "metadata": {},
   "outputs": [
    {
     "name": "stdout",
     "output_type": "stream",
     "text": [
      "구\n",
      "구성되어 있다. 임기는 6년이며, 2년마다 50개주 중 1/3씩 상원의원을 새로 선출하여 연방에 보낸다. 미국 상원은 미국 하원과는 다르게 미국 대통령을 수반으로 하는 미국 연방 행정부에 각종 동의를 하는 기관이다. 하원이 세금과 경제에 대한 권한, 대통령을 포함한 대다수의 공무원을 파면할 권한을 갖고 있는 국민을 대표하는 기관인 반면 상원은 미국의 주를 대표한다. 즉 캘리포니아주, 일리노이주 같이 주 정부와 주 의회를 대표하는 기관이다. 그로 인하여\n"
     ]
    },
    {
     "data": {
      "text/plain": [
       "[(107, 112),\n",
       " (112, 116),\n",
       " (116, 118),\n",
       " (118, 120),\n",
       " (120, 123),\n",
       " (123, 126),\n",
       " (126, 129),\n",
       " (129, 131),\n",
       " (131, 134),\n",
       " (134, 135),\n",
       " (135, 136),\n",
       " (136, 138),\n",
       " (138, 140),\n",
       " (140, 141),\n",
       " (141, 142),\n",
       " (142, 143),\n",
       " (143, 145),\n",
       " (145, 147),\n",
       " (147, 149),\n",
       " (149, 152),\n",
       " (152, 155),\n",
       " (155, 157),\n",
       " (157, 160),\n",
       " (160, 161),\n",
       " (161, 164),\n",
       " (164, 166),\n",
       " (166, 169),\n",
       " (169, 171),\n",
       " (171, 173),\n",
       " (173, 176),\n",
       " (176, 178),\n",
       " (178, 179),\n",
       " (179, 181),\n",
       " (181, 185),\n",
       " (185, 188),\n",
       " (188, 193),\n",
       " (193, 195),\n",
       " (195, 196),\n",
       " (196, 198),\n",
       " (198, 201),\n",
       " (201, 204),\n",
       " (204, 207),\n",
       " (207, 211),\n",
       " (211, 212),\n",
       " (212, 215),\n",
       " (215, 219),\n",
       " (219, 222),\n",
       " (222, 225),\n",
       " (225, 228),\n",
       " (228, 230),\n",
       " (230, 232),\n",
       " (232, 235),\n",
       " (235, 236),\n",
       " (236, 240),\n",
       " (240, 243),\n",
       " (243, 246),\n",
       " (246, 247),\n",
       " (247, 252),\n",
       " (252, 256),\n",
       " (256, 259),\n",
       " (259, 261),\n",
       " (261, 264),\n",
       " (264, 266),\n",
       " (266, 268),\n",
       " (268, 269),\n",
       " (269, 270),\n",
       " (270, 274),\n",
       " (274, 277),\n",
       " (277, 280),\n",
       " (280, 284),\n",
       " (284, 289),\n",
       " (289, 292),\n",
       " (292, 293),\n",
       " (293, 296),\n",
       " (296, 298),\n",
       " (298, 300),\n",
       " (300, 304),\n",
       " (304, 306),\n",
       " (306, 307),\n",
       " (307, 310),\n",
       " (310, 313),\n",
       " (313, 315),\n",
       " (315, 321),\n",
       " (321, 323),\n",
       " (323, 325),\n",
       " (325, 326),\n",
       " (326, 327),\n",
       " (327, 328),\n",
       " (328, 329),\n",
       " (329, 332),\n",
       " (332, 334),\n",
       " (334, 338),\n",
       " (338, 340),\n",
       " (340, 342),\n",
       " (342, 344),\n",
       " (344, 349),\n",
       " (349, 352),\n",
       " (352, 355),\n",
       " (355, 358),\n",
       " (358, 362)]"
      ]
     },
     "execution_count": 44,
     "metadata": {},
     "output_type": "execute_result"
    }
   ],
   "source": [
    "print(tokenizer.decode(model_inputs[\"input_ids\"][0])[108])\n",
    "print(tokenizer.decode(model_inputs[\"input_ids\"][1]))\n",
    "model_inputs['offset_mapping'][1]"
   ]
  },
  {
   "cell_type": "code",
   "execution_count": 47,
   "metadata": {},
   "outputs": [
    {
     "name": "stdout",
     "output_type": "stream",
     "text": [
      "229 231\n",
      "0 230\n",
      "229 231\n",
      "107 362\n",
      "229 231\n",
      "230 471\n",
      "229 231\n",
      "362 592\n",
      "229 231\n",
      "471 709\n",
      "229 231\n",
      "592 836\n",
      "229 231\n",
      "709 938\n",
      "229 231\n",
      "836 1066\n",
      "229 231\n",
      "938 1183\n",
      "229 231\n",
      "1066 1302\n",
      "229 231\n",
      "1183 1418\n",
      "229 231\n",
      "1302 1538\n",
      "229 231\n",
      "1418 1669\n",
      "229 231\n",
      "1538 1786\n",
      "229 231\n",
      "1669 1900\n",
      "229 231\n",
      "1786 2014\n",
      "229 231\n",
      "1900 2147\n",
      "229 231\n",
      "2014 2250\n",
      "229 231\n",
      "2147 2385\n",
      "229 231\n",
      "2250 2499\n",
      "229 231\n",
      "2385 2627\n",
      "229 231\n",
      "2499 2633\n"
     ]
    }
   ],
   "source": [
    "for index, sample_mapping in enumerate(model_inputs[\"overflow_to_sample_mapping\"]):\n",
    "    answer_start, answer_end = dataset['answers'][sample_mapping]['answer_start'][0], dataset['answers'][sample_mapping]['answer_start'][0] + len(dataset['answers'][sample_mapping]['text'][0])\n",
    "    context_start, context_end = model_inputs[\"offset_mapping\"][index][0][0], model_inputs[\"offset_mapping\"][index][-1][1]\n",
    "    print(answer_start, answer_end)\n",
    "    print(context_start, context_end)"
   ]
  }
 ],
 "metadata": {
  "interpreter": {
   "hash": "d4d1e4263499bec80672ea0156c357c1ee493ec2b1c70f0acce89fc37c4a6abe"
  },
  "kernelspec": {
   "display_name": "Python 3.8.12 64-bit ('base': conda)",
   "name": "python3"
  },
  "language_info": {
   "codemirror_mode": {
    "name": "ipython",
    "version": 3
   },
   "file_extension": ".py",
   "mimetype": "text/x-python",
   "name": "python",
   "nbconvert_exporter": "python",
   "pygments_lexer": "ipython3",
   "version": "3.8.12"
  }
 },
 "nbformat": 4,
 "nbformat_minor": 4
}
