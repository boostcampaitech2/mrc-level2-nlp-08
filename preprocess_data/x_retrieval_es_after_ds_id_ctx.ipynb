{
 "cells": [
  {
   "cell_type": "code",
   "execution_count": 1,
   "metadata": {},
   "outputs": [],
   "source": [
    "import sys\n",
    "sys.path.append(\"..\")\n",
    "from datasets import load_from_disk, Dataset\n",
    "from transformers import AutoTokenizer\n",
    "import numpy as np\n",
    "from tqdm import tqdm, trange\n",
    "import torch\n",
    "import torch.nn.functional as F\n",
    "from retrieval_model import BertEncoder\n",
    "from torch import nn\n",
    "import pandas as pd\n",
    "from torch.utils.data import (DataLoader, RandomSampler, TensorDataset, SequentialSampler)\n",
    "from tqdm import tqdm, trange\n",
    "import pickle"
   ]
  },
  {
   "cell_type": "code",
   "execution_count": 2,
   "metadata": {},
   "outputs": [],
   "source": [
    "p_encoder = BertEncoder.from_pretrained(\"/opt/ml/mrc-level2-nlp-08/retrieval/p_encoder\")\n",
    "q_encoder = BertEncoder.from_pretrained(\"/opt/ml/mrc-level2-nlp-08/retrieval/q_encoder\")\n",
    "tokenizer =  AutoTokenizer.from_pretrained(\"klue/bert-base\")\n",
    "if torch.cuda.is_available():\n",
    "        p_encoder.cuda()\n",
    "        q_encoder.cuda()"
   ]
  },
  {
   "cell_type": "code",
   "execution_count": null,
   "metadata": {},
   "outputs": [],
   "source": [
    "with open('/opt/ml/data/wiki_context_id_pair.bin','rb') as f:\n",
    "    wiki_context_id = pickle.load(f)\n",
    "with open('/opt/ml/data/wiki_id_context_pair.bin','rb') as f:\n",
    "    wiki_id_context = pickle.load(f)"
   ]
  },
  {
   "cell_type": "code",
   "execution_count": 48,
   "metadata": {},
   "outputs": [],
   "source": [
    "def get_relevant_doc(q_encoder, p_encoder, query, id_context, elastic_score_dict,k=100):\n",
    "    with torch.no_grad():\n",
    "        p_encoder.eval()\n",
    "        q_encoder.eval()\n",
    "\n",
    "        q_seqs_val = tokenizer([query], padding=\"max_length\", truncation=True, return_tensors='pt').to('cuda')\n",
    "        #q_emb = q_encoder(**q_seqs_val).to('cpu')  #(num_query, emb_dim)\n",
    "        q_emb = q_encoder(**q_seqs_val)\n",
    "\n",
    "        p_embs = []\n",
    "        # for p in context:\n",
    "        #     p = tokenizer(p, padding=\"max_length\", truncation=True, return_tensors='pt').to('cuda')\n",
    "        #     p_emb = p_encoder(**p).to('cpu').numpy()\n",
    "        #     p_embs.append(p_emb)\n",
    "        context = list(map(lambda x: x[1],id_context))\n",
    "        \n",
    "        p_seqs = tokenizer(context, padding=\"max_length\", truncation=True, return_tensors='pt')\n",
    "        \n",
    "        dataset = TensorDataset(\n",
    "            p_seqs[\"input_ids\"],\n",
    "            p_seqs[\"attention_mask\"],\n",
    "            p_seqs[\"token_type_ids\"]\n",
    "        )\n",
    "        sampler = SequentialSampler(dataset)\n",
    "        dataloader = DataLoader(\n",
    "            dataset,\n",
    "            sampler=sampler,\n",
    "            batch_size=100\n",
    "        )\n",
    "        for _, batch in enumerate(dataloader):\n",
    "            batch = tuple(t.cuda() for t in batch)\n",
    "\n",
    "            p_inputs = {\n",
    "                \"input_ids\": batch[0],\n",
    "                \"attention_mask\": batch[1],\n",
    "                \"token_type_ids\": batch[2]\n",
    "            }\n",
    "            \n",
    "            #outputs = p_encoder(**p_inputs).to(\"cpu\").numpy()\n",
    "            outputs = p_encoder(**p_inputs)\n",
    "            #print(outputs.size())\n",
    "            p_embs.extend(outputs.unsqueeze(0))\n",
    "\n",
    "    #p_embs = torch.Tensor(p_embs).squeeze()  # (num_passage, emb_dim)\n",
    "   # p_embs = torch.Tensor(p_embs)\n",
    "    p_embs = torch.cat(p_embs)\n",
    "    #print(p_embs.size())\n",
    "    dot_prod_scores = torch.matmul(q_emb, torch.transpose(p_embs, 0, 1))\n",
    "    elastic_score = torch.Tensor([elastic_score_dict[query]]).cuda()\n",
    "\n",
    "    \n",
    "    #weight_score = weight * dot_prod_scores\n",
    "    #print(weight_score[0][0])\n",
    "    temp_score = elastic_score + dot_prod_scores\n",
    "    # print(dot_prod_scores)\n",
    "    # print(dot_prod_scores.size())\n",
    "    # print(temp_score)\n",
    "    \n",
    "    #rank = torch.argsort(dot_prod_scores, dim=1, descending=True).squeeze()\n",
    "    rank = torch.argsort(temp_score, dim=1, descending=True).squeeze()\n",
    "    #print(rank)\n",
    "\n",
    "    return_context = []\n",
    "    for i in range(k):\n",
    "        return_context.append(id_context[rank[i]])\n",
    "    \n",
    "    return dot_prod_scores.squeeze(), return_context #,rank[:k]"
   ]
  },
  {
   "cell_type": "code",
   "execution_count": 4,
   "metadata": {},
   "outputs": [],
   "source": [
    "with open('/opt/ml/data/elastic_train_id_ctx.bin','rb') as f:\n",
    "    elastic_valid = pickle.load(f)\n",
    "with open('/opt/ml/data/elastic_train_id_ctx_score.bin','rb') as f:\n",
    "    elastic_valid_score = pickle.load(f)"
   ]
  },
  {
   "cell_type": "code",
   "execution_count": 50,
   "metadata": {},
   "outputs": [],
   "source": [
    "import re"
   ]
  },
  {
   "cell_type": "code",
   "execution_count": 51,
   "metadata": {},
   "outputs": [],
   "source": [
    "def preprocess(text):\n",
    "    text = re.sub(r'\\n', ' ', text)\n",
    "    text = re.sub(r'\\\\n', ' ', text) # remove newline character\n",
    "    text = re.sub(r'\\s+', ' ', text) # remove continuous spaces\n",
    "    text = re.sub(r'#', ' ', text)\n",
    "\n",
    "    return text"
   ]
  },
  {
   "cell_type": "code",
   "execution_count": 52,
   "metadata": {},
   "outputs": [],
   "source": [
    "wiki_dataset = pd.read_json('/opt/ml/data/wikipedia_documents.json',orient='index')"
   ]
  },
  {
   "cell_type": "code",
   "execution_count": 53,
   "metadata": {},
   "outputs": [],
   "source": [
    "wiki_dataset['text'] = wiki_dataset['text'].apply(preprocess)\n",
    "wiki_dataset = wiki_dataset.drop_duplicates(['text','title'],ignore_index=True) "
   ]
  },
  {
   "cell_type": "code",
   "execution_count": 6,
   "metadata": {},
   "outputs": [],
   "source": [
    "querys = list(elastic_valid.keys())"
   ]
  },
  {
   "cell_type": "code",
   "execution_count": 54,
   "metadata": {},
   "outputs": [],
   "source": [
    "with open('/opt/ml/data/hybrid_train_retrieval.bin','rb') as f:\n",
    "    hy = pickle.load(f)"
   ]
  },
  {
   "cell_type": "code",
   "execution_count": 55,
   "metadata": {},
   "outputs": [
    {
     "name": "stderr",
     "output_type": "stream",
     "text": [
      "100%|██████████| 3952/3952 [39:00<00:00,  1.69it/s]\n"
     ]
    }
   ],
   "source": [
    "hybrid_train_id_ctx = {}\n",
    "for i in tqdm(range(len(querys))):\n",
    "    q = querys[i]\n",
    "    ctxs = hy[q]\n",
    "    top_n_id_text = []\n",
    "    for ctx in ctxs:\n",
    "        wiki_id = wiki_dataset['document_id'][wiki_dataset['text'] == ctx]\n",
    "        top_n_id_text.append((wiki_id, ctx))\n",
    "    hybrid_train_id_ctx[q] = top_n_id_text\n",
    "    \n"
   ]
  },
  {
   "cell_type": "code",
   "execution_count": null,
   "metadata": {},
   "outputs": [],
   "source": [
    "with open('/opt/ml/data/hybrid_train_id_ctx.bin', \"wb\") as file:\n",
    "    pickle.dump(hybrid_train_id_ctx, file)"
   ]
  }
 ],
 "metadata": {
  "interpreter": {
   "hash": "d4d1e4263499bec80672ea0156c357c1ee493ec2b1c70f0acce89fc37c4a6abe"
  },
  "kernelspec": {
   "display_name": "Python 3.8.5 64-bit ('base': conda)",
   "name": "python3"
  },
  "language_info": {
   "codemirror_mode": {
    "name": "ipython",
    "version": 3
   },
   "file_extension": ".py",
   "mimetype": "text/x-python",
   "name": "python",
   "nbconvert_exporter": "python",
   "pygments_lexer": "ipython3",
   "version": "3.8.5"
  },
  "orig_nbformat": 4
 },
 "nbformat": 4,
 "nbformat_minor": 2
}
