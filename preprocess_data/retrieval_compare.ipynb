{
 "cells": [
  {
   "cell_type": "code",
   "execution_count": 1,
   "metadata": {},
   "outputs": [],
   "source": [
    "from datasets import load_from_disk, Dataset\n",
    "from transformers import AutoTokenizer, AutoConfig\n",
    "import numpy as np\n",
    "from tqdm import tqdm, trange\n",
    "import torch\n",
    "import torch.nn.functional as F\n",
    "from retrieval_model import BertEncoder\n",
    "from transformers import AdamW, TrainingArguments, get_linear_schedule_with_warmup\n",
    "from torch import nn\n",
    "from sklearn.feature_extraction.text import TfidfVectorizer\n",
    "import pandas as pd\n",
    "from torch.utils.data import (DataLoader, RandomSampler, TensorDataset, SequentialSampler)\n",
    "from tqdm import tqdm, trange\n",
    "import pickle\n",
    "import re"
   ]
  },
  {
   "cell_type": "code",
   "execution_count": 2,
   "metadata": {},
   "outputs": [],
   "source": [
    "valid_dataset = load_from_disk(\"/opt/ml/data/train_dataset/validation\")"
   ]
  },
  {
   "cell_type": "code",
   "execution_count": 3,
   "metadata": {},
   "outputs": [],
   "source": [
    "with open('/opt/ml/data/elastic_valid_100.bin','rb') as f:\n",
    "    elastic_valid = pickle.load(f)\n",
    "with open('/opt/ml/data/dense_valid_retrieval.bin','rb') as f:\n",
    "    dense_valid = pickle.load(f)"
   ]
  },
  {
   "cell_type": "code",
   "execution_count": 4,
   "metadata": {},
   "outputs": [],
   "source": [
    "query = valid_dataset['question']\n",
    "context = valid_dataset['context']"
   ]
  },
  {
   "cell_type": "code",
   "execution_count": 5,
   "metadata": {},
   "outputs": [],
   "source": [
    "def preprocess(text):\n",
    "    text = re.sub(r'\\n', ' ', text)\n",
    "    text = re.sub(r'\\\\n', ' ', text) # remove newline character\n",
    "    text = re.sub(r'\\s+', ' ', text) # remove continuous spaces\n",
    "    text = re.sub(r'#', ' ', text)\n",
    "    return text"
   ]
  },
  {
   "cell_type": "code",
   "execution_count": 6,
   "metadata": {},
   "outputs": [
    {
     "name": "stdout",
     "output_type": "stream",
     "text": [
      "score_top_k :  1\n",
      "elastic ACC :  0.7166666666666667\n",
      "Dense ACC :  0.2708333333333333\n",
      "\n",
      "score_top_k :  5\n",
      "elastic ACC :  0.8583333333333333\n",
      "Dense ACC :  0.43333333333333335\n",
      "\n",
      "score_top_k :  10\n",
      "elastic ACC :  0.9\n",
      "Dense ACC :  0.5166666666666667\n",
      "\n",
      "score_top_k :  20\n",
      "elastic ACC :  0.9375\n",
      "Dense ACC :  0.6\n",
      "\n",
      "score_top_k :  50\n",
      "elastic ACC :  0.9541666666666667\n",
      "Dense ACC :  0.7041666666666667\n",
      "\n"
     ]
    }
   ],
   "source": [
    "\n",
    "top_k_list = [1 ,5, 10, 20, 50]\n",
    "\n",
    "for top_k in top_k_list:\n",
    "    tfdif_acc = 0\n",
    "    dense_acc = 0\n",
    "    for i in range(len(query)):\n",
    "        q = query[i]\n",
    "        ground_truth = preprocess(context[i])\n",
    "        if ground_truth in elastic_valid[q][:top_k]:\n",
    "            tfdif_acc += 1\n",
    "        if ground_truth in dense_valid[q][:top_k]:\n",
    "            dense_acc += 1\n",
    "    print('score_top_k : ', top_k)\n",
    "    print('elastic ACC : ', tfdif_acc / len(query))\n",
    "    print('Dense ACC : ', dense_acc / len(query))\n",
    "    print()\n"
   ]
  },
  {
   "cell_type": "code",
   "execution_count": null,
   "metadata": {},
   "outputs": [],
   "source": []
  }
 ],
 "metadata": {
  "interpreter": {
   "hash": "d4d1e4263499bec80672ea0156c357c1ee493ec2b1c70f0acce89fc37c4a6abe"
  },
  "kernelspec": {
   "display_name": "Python 3.8.5 64-bit ('base': conda)",
   "name": "python3"
  },
  "language_info": {
   "codemirror_mode": {
    "name": "ipython",
    "version": 3
   },
   "file_extension": ".py",
   "mimetype": "text/x-python",
   "name": "python",
   "nbconvert_exporter": "python",
   "pygments_lexer": "ipython3",
   "version": "3.8.5"
  },
  "orig_nbformat": 4
 },
 "nbformat": 4,
 "nbformat_minor": 2
}
