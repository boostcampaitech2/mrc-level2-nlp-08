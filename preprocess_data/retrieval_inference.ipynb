{
 "cells": [
  {
   "cell_type": "code",
   "execution_count": 1,
   "metadata": {},
   "outputs": [],
   "source": [
    "import sys\n",
    "sys.path.append(\"..\")\n",
    "from datasets import load_from_disk, Dataset\n",
    "from transformers import AutoTokenizer, AutoConfig\n",
    "import numpy as np\n",
    "from tqdm import tqdm, trange\n",
    "import random\n",
    "import torch\n",
    "import torch.nn.functional as F\n",
    "from retrieval_model import BertEncoder\n",
    "from torch import nn\n",
    "import pandas as pd\n",
    "from torch.utils.data import (DataLoader, RandomSampler, TensorDataset, SequentialSampler)\n",
    "from tqdm import tqdm, trange\n",
    "import pickle"
   ]
  },
  {
   "cell_type": "code",
   "execution_count": 2,
   "metadata": {},
   "outputs": [],
   "source": [
    "torch.manual_seed(42)\n",
    "torch.cuda.manual_seed(42)\n",
    "np.random.seed(42)\n",
    "random.seed(42)"
   ]
  },
  {
   "cell_type": "code",
   "execution_count": 3,
   "metadata": {},
   "outputs": [],
   "source": [
    "# DPR model load\n",
    "p_encoder = BertEncoder.from_pretrained(\"/opt/ml/mrc-level2-nlp-08/retrieval/p_encoder\")\n",
    "q_encoder = BertEncoder.from_pretrained(\"/opt/ml/mrc-level2-nlp-08/retrieval/q_encoder\")\n",
    "tokenizer =  AutoTokenizer.from_pretrained(\"klue/bert-base\")"
   ]
  },
  {
   "cell_type": "code",
   "execution_count": 4,
   "metadata": {},
   "outputs": [],
   "source": [
    "#train_dataset = load_from_disk(\"/opt/ml/data/train_dataset/train/\")\n",
    "#query_dataset = load_from_disk(\"../data/test_dataset/validation\") # test query\n",
    "#wiki_dataset = pd.read_json('../data/wikipedia_documents.json',orient='index') # wiki context\n",
    "#wiki_dataset = pd.read_csv('/opt/ml/data/preprocess_wiki_doc.csv')\n",
    "#train_dataset = load_from_disk(\"/opt/ml/data/train_dataset/new_validation/\")\n",
    "#origin_valid = load_from_disk(\"/opt/ml/data/train_dataset/validation/\")"
   ]
  },
  {
   "cell_type": "code",
   "execution_count": 5,
   "metadata": {},
   "outputs": [],
   "source": [
    "wiki_dataset = pd.read_csv('/opt/ml/data/preprocess_wiki_doc.csv')\n",
    "query_dataset = load_from_disk(\"/opt/ml/data/train_dataset/validation/\")"
   ]
  },
  {
   "cell_type": "code",
   "execution_count": 6,
   "metadata": {},
   "outputs": [],
   "source": [
    "# num = 7\n",
    "# print(train_dataset['question'][num])\n",
    "# print(origin_valid['context'][num])\n",
    "# print('---------------')\n",
    "# print(train_dataset['context'][num])\n"
   ]
  },
  {
   "cell_type": "code",
   "execution_count": 7,
   "metadata": {},
   "outputs": [],
   "source": [
    "#train_corpus = list(set([example for example in train_dataset['context']]))\n",
    "wiki_corpus = list(set([example_wiki for example_wiki in wiki_dataset['text']]))\n",
    "query = query_dataset['question']"
   ]
  },
  {
   "cell_type": "code",
   "execution_count": 8,
   "metadata": {},
   "outputs": [
    {
     "name": "stdout",
     "output_type": "stream",
     "text": [
      "240\n",
      "55963\n"
     ]
    }
   ],
   "source": [
    "print(len(query))\n",
    "print(len(wiki_corpus))"
   ]
  },
  {
   "cell_type": "code",
   "execution_count": 9,
   "metadata": {},
   "outputs": [
    {
     "name": "stderr",
     "output_type": "stream",
     "text": [
      "Iteration: 100%|██████████| 1749/1749 [09:39<00:00,  3.02it/s]\n"
     ]
    }
   ],
   "source": [
    "eval_batch_size = 32\n",
    "def to_cuda(batch):\n",
    "  return tuple(t.cuda() for t in batch)\n",
    "if torch.cuda.is_available():\n",
    "    p_encoder.cuda()\n",
    "    q_encoder.cuda()\n",
    "\n",
    "# Construt dataloader\n",
    "train_p_seqs = tokenizer(wiki_corpus, padding=\"max_length\", truncation=True, return_tensors='pt')\n",
    "valid_dataset = TensorDataset(\n",
    "    train_p_seqs[\"input_ids\"],\n",
    "    train_p_seqs[\"attention_mask\"],\n",
    "    train_p_seqs[\"token_type_ids\"]\n",
    ")\n",
    "valid_sampler = SequentialSampler(valid_dataset)\n",
    "valid_dataloader = DataLoader(\n",
    "    valid_dataset,\n",
    "    sampler=valid_sampler,\n",
    "    batch_size=eval_batch_size\n",
    ")\n",
    "\n",
    "# Inference using the passage encoder to get dense embeddeings\n",
    "p_embs = []\n",
    "\n",
    "with torch.no_grad():\n",
    "\n",
    "    epoch_iterator = tqdm(\n",
    "        valid_dataloader,\n",
    "        desc=\"Iteration\",\n",
    "        position=0,\n",
    "        leave=True\n",
    "    )\n",
    "    p_encoder.eval()\n",
    "\n",
    "    for _, batch in enumerate(epoch_iterator):\n",
    "        batch = tuple(t.cuda() for t in batch)\n",
    "\n",
    "        p_inputs = {\n",
    "            \"input_ids\": batch[0],\n",
    "            \"attention_mask\": batch[1],\n",
    "            \"token_type_ids\": batch[2]\n",
    "        }\n",
    "        \n",
    "        outputs = p_encoder(**p_inputs).to(\"cpu\").numpy()\n",
    "        p_embs.extend(outputs)\n",
    "\n",
    "torch.cuda.empty_cache()"
   ]
  },
  {
   "cell_type": "code",
   "execution_count": 16,
   "metadata": {},
   "outputs": [
    {
     "name": "stderr",
     "output_type": "stream",
     "text": [
      "Iteration: 100%|██████████| 8/8 [00:00<00:00, 26.88it/s]"
     ]
    },
    {
     "name": "stdout",
     "output_type": "stream",
     "text": [
      "done\n"
     ]
    },
    {
     "name": "stderr",
     "output_type": "stream",
     "text": [
      "\n"
     ]
    }
   ],
   "source": [
    "train_q_seqs = tokenizer(\n",
    "    query,\n",
    "    max_length=64,\n",
    "    padding=\"max_length\",\n",
    "    truncation=True,\n",
    "    return_tensors=\"pt\"\n",
    ")\n",
    "\n",
    "query_dataset = TensorDataset(\n",
    "    train_q_seqs[\"input_ids\"],\n",
    "    train_q_seqs[\"attention_mask\"],\n",
    "    train_q_seqs[\"token_type_ids\"]\n",
    ")\n",
    "\n",
    "query_sampler = SequentialSampler(query_dataset)\n",
    "query_dataloader = DataLoader(\n",
    "    query_dataset,\n",
    "    sampler=query_sampler,\n",
    "    batch_size=eval_batch_size\n",
    ")\n",
    "\n",
    "q_embs = []\n",
    "\n",
    "with torch.no_grad():\n",
    "\n",
    "    epoch_iterator = tqdm(\n",
    "        query_dataloader,\n",
    "        desc=\"Iteration\",\n",
    "        position=0,\n",
    "        leave=True\n",
    "    )\n",
    "    q_encoder.eval()\n",
    "\n",
    "    for _, batch in enumerate(epoch_iterator):\n",
    "        batch = tuple(t.cuda() for t in batch)\n",
    "\n",
    "        q_inputs = {\n",
    "            \"input_ids\": batch[0],\n",
    "            \"attention_mask\": batch[1],\n",
    "            \"token_type_ids\": batch[2]\n",
    "        }\n",
    "        \n",
    "        outputs = q_encoder(**q_inputs).to(\"cpu\").numpy()\n",
    "        q_embs.extend(outputs)\n",
    "\n",
    "torch.cuda.empty_cache()\n",
    "print('done')"
   ]
  },
  {
   "cell_type": "code",
   "execution_count": 17,
   "metadata": {},
   "outputs": [
    {
     "name": "stdout",
     "output_type": "stream",
     "text": [
      "(55963, 768)\n",
      "(240, 768)\n"
     ]
    }
   ],
   "source": [
    "p_embs = np.array(p_embs)\n",
    "q_embs = np.array(q_embs)\n",
    "\n",
    "print(p_embs.shape)\n",
    "print(q_embs.shape)"
   ]
  },
  {
   "cell_type": "code",
   "execution_count": 18,
   "metadata": {},
   "outputs": [],
   "source": [
    "if torch.cuda.is_available():\n",
    "    p_embs_cuda = torch.Tensor(p_embs).to('cuda')\n",
    "    q_embs_cuda = torch.Tensor(q_embs).to('cuda')\n",
    "\n",
    "dot_prod_scores = torch.matmul(q_embs_cuda, torch.transpose(p_embs_cuda, 0, 1))\n",
    "rank = torch.argsort(dot_prod_scores, dim=1, descending=True).squeeze()"
   ]
  },
  {
   "cell_type": "code",
   "execution_count": 19,
   "metadata": {},
   "outputs": [
    {
     "name": "stderr",
     "output_type": "stream",
     "text": [
      "100%|██████████| 240/240 [00:00<00:00, 484.03it/s]\n"
     ]
    }
   ],
   "source": [
    "dense_p_retrieval_result = {}\n",
    "idx = 0\n",
    "for i in tqdm(range(len(query))):\n",
    "    p_list = []\n",
    "    q = query[i]\n",
    "    for j in range(100):\n",
    "        p_list.append(wiki_corpus[rank[idx][j]])\n",
    "    dense_p_retrieval_result[q] = p_list\n",
    "    idx += 1"
   ]
  },
  {
   "cell_type": "code",
   "execution_count": 20,
   "metadata": {},
   "outputs": [],
   "source": [
    "with open(\"/opt/ml/data/dense_valid_retrieval.bin\", \"wb\") as file:\n",
    "    pickle.dump(dense_p_retrieval_result,file)\n",
    "\n",
    "\n",
    "# dense_n_retrieval_result = {}\n",
    "# idx = 0\n",
    "# for i in tqdm(range(len(query))):\n",
    "#     p_list = []\n",
    "#     q = query[i]\n",
    "#     for j in range(10000,10004):\n",
    "#         p_list.append(wiki_corpus[rank[idx][j]])\n",
    "#     dense_n_retrieval_result[q] = p_list\n",
    "#     idx += 1"
   ]
  },
  {
   "cell_type": "code",
   "execution_count": 21,
   "metadata": {},
   "outputs": [
    {
     "name": "stdout",
     "output_type": "stream",
     "text": [
      "반대동맹이 공산당과 갈라서겠다고 얘기한 날은 언제인가?\n"
     ]
    },
    {
     "data": {
      "text/plain": [
       "['반대동맹이 기동대의 위력을 목격한 1967년은 70년 안보로 이어지는 일본의 학생운동 절정기와 겹쳐 있었다. 혁신정당의 당리당략질에 절망하면서 국가권력에 대항할 방법을 모색하던 반대동맹은 측량말뚝 저지투쟁과 같은 시기에 발생한 하네다 사건 때 기동대와 대결한 신좌파 학생운동권에 기대를 걸고 “지원단체는 당파를 불문하고 받는다”는 자세를 취했다.group=주해|하네다 사건에 반대동맹 청년행동대 여러 명이 참여해 신좌파 학생들의 실력투쟁을 목격하고 왔다 한편 반국가권력투쟁을 내건 신좌파 각 정파에 있어서도 산리즈카 투쟁은 베트남전쟁 반전운동과group=주해|신좌파는 신도쿄 국제공항을 “일제의 해외침략기지”・“군사공항”으로 규정하고 투쟁대상으로 삼았다. 개항 이후의 사용 양태를 생각해 보면 엉뚱한 소리로 들리지만, 베트남전쟁 당시에는 하네다공항에 다수의 미군 전세기가 날아와 군사사용의 부정을 포함한 각각의 주장을 확인하는 각서를 교환한 적이 있고, 현재에도 연료부족을 이유로 미군 전세기가 임시착륙했을 때 상세한 명시와 군사미사용 재인을 항공회사가 요구하는 등 강한 감시하에 있다. 또한 반대동맹 키타하라파는 지금도 나리타 제3활주로 건설 움직임을 군사전용을 위한 것이라면서 집회참가를 호소하고 있다. 사토 내각에 대한 반발의 상징적 대상으로 보았기에, 쌍방의 기대가 일치했다 이듬해인 1968년 2월 26일 및 3월 10일, 나리타 시내에서 공항공단 분실에 돌입을 도모한 학생집단과 기동대 사이에 격렬한 충돌이 벌어졌다(나리타 데모 사건). 그전까지 신좌파에게 회의적이거나 폭력행사를 우려하던 반대파 주민들은 적극항쟁을 발휘한 학생들을 집에 초대해 환대했다. 2월 26일 충돌에서 반대동맹 대표 토무라 잇사쿠가 기동대에 구타당해 부상당한 것을 계기로 반대동맹은 무장투쟁 노선의 신좌파 정파인 중핵파・공산동・사청동 해방파가 주도하는 삼파전학련의 전폭적 지원을 받게 되었다 현지에서는 “전학련의 건투를 빈다”는 현수막이 각지에 붙고, “학생들만 맞게 두다니” “나가 먼저 혈제(血祭)에 오르겠다” 등 혈기에 찬 반대파 주민들의 열광은 “아줌마와 청년과 노인들 사이에서는, 농민을 위해 피를 흘려 투쟁한 중핵(파)이 대인기” 등으로 보도되었다 반대동맹은 신좌파 각파의 지원을 받으면서group=주해|단, 신좌파 중에서도 계급투쟁 지상주의의 혁마르파는 산리즈카 투쟁을 “소부르주아 농민의 자기보신”이라고 야유하고 안게바를 벌이거나 지역 식당에서 무전취식을 하는 등 소행이 나빴기 때문에 1970년 1월 반대동맹 간부회에서 “현지투쟁에 주체적으로 참여하지 않고 타파에 대한 비방만을 목적으로 했다”며 운동에서 추방되었다. 그 뒤 혁마르파는 산리즈카 투쟁에 대한 방해공작을 계속하고 있다}} 농성・공항공단 직원으로부터 강탈한 수색공구의 파손・투석・바리케이드 구축・공항 관계자에 대한 괴롭힘 등group=주해|밤부터 아침까지 공항공단 직원댁의 툇마루에 주저앉아 “빨리 (직원의 출신지)로 돌아가면 좋을텐데” “마누라도 아이도 귀여울 텐데”라고 큰소리로 떠들거나, 주택 근처에서부터 노골적 감시를 계속하거나, “토지도둑놈,” “이러다가는 미안해질 것”이라고 전화를 하는 등, 괴롭힘은 당사자 뿐 아니라 그 가족도 피폐하게 만드는 식으로 진행되었다. 후년이 되자 현관 앞에 동물 사체나 인분을 투척하는 등 괴롭힘은 더욱 음습해졌다. 뿐만 아니라 현관에 등유관을 놓고 “집을 폭파하겠다,” “아이들이 귀엽더라,” “차 탈 때 조심해라” 고 협박전화를 걸어 가족에게 직접 위해를 가할 수 있음을 내비쳤다. group=주해|공항 개항 전, 공항직원을 위해 공항공단이 마련한 셔틀버스가 있었는데, 외관상 공단 버스임이 드러나지 않도록 행선지도 표시되지 않았고 안이 들여다보이지 않도록 특수유리창이 설치되었으며 탑승장은 눈에 띄지 않는 곳에 있었고 미리 표를 구매한 사람만 탈 수 있었다. 이것은 공항반대파의 표적이 되는 것을 피하기 위한 조치였으며, 루트나 승강장도 자주 변경할 정도로 주의를 기울였다. }} 다양한 수단을 이용하여 공항공단과 경찰기동대를 상대로 실력으로 맞섰다 개항까지의 투쟁은 공공의 적인 일본 정부에 타격을 줄 목적과 토무라 대표의 지도하에, 현지에 승선한 신좌파 각파의 활동가들과 고촌・개척부락의 반대파 주민group=주해|원래 보수적인 농민이 많은 공항반대파 중에는 공항문제 이전에는 자민당의 표몰이를 하던 자민당 당원 출신도 있었다. 보수적인 농민과 신좌파의 조합의 상징적 장면으로, 1968년 4월 18일 궁내청 청원이 이루어졌을 때 노인행동대장이 “메이지 대제의 위업을 달성한 시모후사 어료목장의 존속을 호소한다”는 현수막을 들고, “나무편조금강”이라고 진언이 적힌 어깨띠를 두르고, 옷깃에는 신좌파 학생들에게 받은 모택동 배지를 단 멋진 행각에 학생들이 충격을 받아 아연하거나 조소했다는 일화가 있다. group=주해|본래 고촌과 개척부락 간에는 차별의식이 있어왔는데, 용지 안에 분포하는 개척부락에서 “우리들이 당사자・주인공”이라는 의식이 점차로 용지 밖의 고촌에 대해 향하게 되었다. 등이 서로 협력 또는 이용해가면서 오월동주의 형태로 활동을 행하는 것이었다 반대동맹은 위와 같이 다양한 신좌파 정파들을 받아들임으로써 무투파 지원자들을 대동원해 정부세력과 맞서는 데는 성공했다. 그러나 이후 신좌파 정파간의 반목과 신좌파들과의 관계성의 성격에 대한 지역주민간의 의견차이를 낳으며 반대동맹은 분열되고 투쟁은 수렁으로 흘러가게 된다.',\n",
       " '2차 합작으로 국민당 정부는 이제까지 불법화했던 공산당을 합법화했다. 공산당의 합법적인 지위를 인정하고 정치범을 석방하였으며 1938년 일종의 민주의회인 국민참정회를 설치하여 국민당 1당 독재에서 벗어나 공산당을 비롯한 다른 당파, 각계인사들을 참여시켰다. 반면 공산당은 토지개혁의 중지, 소비에트 정부 해체, 국민당 정부의 통치를 받는 지방정부로의 편입(사실상 자치) 등을 골자로 하는 국민당의 제안을 받아들였다. 그리고 공산군인 홍군은 국민혁명군 제8로군(八路軍)과 국민혁명군 신편제4군(新四軍)으로 재편성되었다. 팔로군과 신사군은 국민혁명군 소속이긴 하지만 독자적으로 작전권과 지휘권을 가졌고 장제스의 지시를 받지 않았다. 대일 항전초기에 장제스의 국민혁명군이 일본군의 기계화 병력에 패배하고 후퇴를 거듭했다. 그러나 팔로군과 신사군 등 특유의 유격 전술로 일본군 후방에서 활약하면서 주력 부대를 고스란히 살릴 수 있었고 그 세력을 넓혀갔다. 공산당의 세력이 점차 강해지자 위기를 느낀 장제스는 1938년 10월 우한 함락을 계기로 공산당에 비협조적으로 나왔고 은근하게 때로는 노골적으로 공산당을 탄압하기 시작했다. 1940년 12월 장제스는 신사군을 안후이성과 장쑤성에서 소개하라는 명령을 내렸고 이에 신사군 장교들이 반발하자 국민혁명군을 동원하여 포위 공격한 신사군 사건이 발생하였다. 이로써 양측의 긴장관계는 점차 악화되었고 서로를 믿지 않게 되었다. 1945년 8월 15일 일본의 패망으로 종전되자 국민당과 공산당은 일본의 점령지에 대한 배분을 둘러싸고 무력충돌을 하게 되고 합작이 결렬되었다. 만주를 비롯한 중국 북부에서는 공산당이 우세하였는데 결국 제2차 내전으로 이어졌다.',\n",
       " \"초기에 모인 당원들은 대부분 공산주의 계통의 교수들과 투쟁심이 강한 노동운동가들이었기에 당의 확대는 매우 조직적이고 안정적이었다. 1960년대 중반에 이르러서는 전국적인 조직이 완비되었으며, 당비 관리 체계가 명확해지게 된다. 이 시기에 특정 할렘가에서 벌어지는 유혈 사태와 인종차별에 대항하기 위해 자체적인 '당 할렘 방어위원회'(Harlem Defense Council)가 조직됐다. 또한, '5월 2일 운동'(M2M)을 결성하여 베트남 전쟁에 대한 반전 운동에서 제일 과격하고 선동적인 문구를 제작하여 수많은 학생가에 배포했으며, 반전 투쟁에서 최전선에 섰다. 1960년대 후반에는 마오쩌둥의 문화대혁명 노선을 지지했으며, 이 시기부터 진보노동당은 미국 혁명공산당과 함께 마오쩌둥주의자 정당이라는 인식이 생기게 된다. 그러나, 중소 분쟁이 과열되는 동시에 마오쩌둥이 소비에트 연방에 대해 노골적으로 반대하고 미국과 새로운 외교 개척을 하려는 움직임이 일자 곧장 중국에 대한 비판 입장을 내놓는다. 이 입장은 1972년 리처드 닉슨이 중화인민공화국을 방문하면서 더욱 굳어지게 되었다. 그리고 더불에 중국에 수정주의가 도래할 가능성이 있다는 인식이 생기게 된다. 진보노동당은 공식적으로 중화인민공화국의 친미 행위를 비판했으며, 이는 마오쩌둥에 대한 비판으로도 이어졌다. 1976년부터는 흑표당과 연합을 하여 공산주의자들과 흑인해방운동 세력의 연계를 시도했으며, '인종차별 철폐 위원회'를 조직하여 주류 백인 사회에 저항하였다. 현재까지 진보노동당은 미국 내 반수정주의자들 중에서 제일 신뢰성이 높은 당으로 인식되고 있으며, 기존의 마르크스-레닌주의 원칙을 고수하고 마오쩌둥과 이오시프 스탈린의 정치를 연구하여 새로운 혁명 이론을 창조하는 데에 기여하고 있다. 또한, 이들은 조선민주주의인민공화국에 대한 미국의 제국주의 정책을 맹렬히 비판하며, 이 당의 멤버들은 과거부터 쿠바, 조선민주주의인민공화국 등을 방문해왔으며, 한반도 통일 문제에 적극적인 관심을 갖고 주체사상을 연구하는 것으로 알려져 있다. 이들은 소련 붕괴 후 미국 공산당이 타협주의와 의회주의 노선을 따르고 있다고 비판하고 있으며, 사회주의국가라고 할지라도 수정주의 노선에 기댄 공산당에 의해 지배될 경우 가차없이 비판한다.\",\n",
       " '현대 사회에서 권력을 잡지 못 한 공산당의 경우는 사실상 대중 정당의 역할을 하고 있다. 그러나, 몇몇 공산당의 경우는 의회주의를 극도로 멀리하여 불법지하활동을 감행하는데, 이러한 경우에는 대중 정당이 아닌, 투쟁 지도의 중축을 담당하는 엘리트 집단으로 기능한다. 또한, 현재 존재하는 사회주의국가의 공산당은 대중 정당이 아니며, 노동자 중 우수한 능력이 인증된 자에 한해서만 가입할 수 있다. 중화인민공화국의 경우는 2001년부터 자본가의 입당도 허락하고 있다. 블라디미르 레닌의 조직 이론에 따라, 공산당에 가입한 당원은 중앙위원회를 선출할 자격을 가지며, 동시에 중앙위원회 위원이 될 수 있는 피선거권을 갖고 있다. 그리고 당원은 비당원에 비해 높은 권리를 누리는 대신에 생활 면에서 엄격해야 하며, 스스로의 정예화를 위해 자기노력을 게을리해서는 안 된다. 대표적으로, 조선민주주의인민공화국은 로동당원의 도덕성 강화에 치중하는 사업을 벌이기도 한다. 특히, 예술영화인 《생명의 기사》, 《인민이 너를 아는가》, 《자신에게 물어보라》 등을 통해 당원이 갖춰야 할 자세와 희생 정신을 선전하고 있다. 공산주의 정당에 대한 레닌의 정예주의는 역설적이게도 공산당이 전체주의국가에서 독단적 엘리트 집단으로 변질될 가능성 부여하였다. 초기에 공산당이 등장하였을 때 주요 지지 기반은 산업노동자, 빈농과 혁명적 지식인이었는데, 특히 러시아 볼세비키당의 경우는 당원의 20%가 귀족에서 자진적으로 이탈한 혁명적 지식인이었다. 냉전 시기의 경우도 또한 산업노동자와 혁명적 지식인을 주요 지지 기반으로 삼고 있었다. 1991년 소비에트 연방 붕괴 이후에는 오히려 지지 기반으로서 산업노동자 계층을 상대적으로 잃었으며, 사회적 빈곤층과 혁명적 지식인이라는 두 축을 형성하고 있다.',\n",
       " '노동당 강령에 따르면 노동당은 산업노동자, 농민, 중소상인에 기초한 계급노선을 바탕으로 한 정당이며, 미국 및 일본과 같은 제국주의 및 제국주의 하수 국가에게 국체를 맡기는 부르주아 민주주의에 반대하는 전형적인 공산주의 정당이다. 국제 협력 기구로는 반수정주의 기구인 국제공산주의세미나(2014년에 공산당-노동자당 국제 회의로 통합)에 가입했으며, 아시아 내 반제국주의 통일전선 연락책인 아시아공동행동에 소속된 정당이기도 하다. 정책적인 면에서는 재통일 노선 및 반제국주의에 기초한 외교 노선 확립, 노동자, 농민, 중소상인에 대한 복리증진, 빈부격차 해소를 강하게 주장하고 있고, 부분적으로는 여성 및 환경 운동에도 기여를 하고 있다. 중화인민공화국 정부와 중화민국 정부 간의 충돌에 대해 중지할 것을 요구하며, 양안간의 평화 유지를 주장한다. 당세가 약한 이들은 1990년대 당시 국내 정치적 측면에서 온건 개혁 정당인 민주진보당과 연대하는 경우도 일부 있었지만, 엄밀히 말하여 범록 또는 범람 둘 중 하나에 포함되지 않는 제3정당에 해당한다. 특히, 반중적이며 미국과 일본에 대해 우호적인 민주진보당과 달리 미국과 일본을 \"제국주의 국가\"라며 적대시하며, 타이완 분리주의보다는 대륙과의 통일론을 적극 지지한다는 점에서 민주진보당과 대립하는 국면이 잦아졌다. 이 양상은 민주진보당이 2000년대에 신자유주의 정책을 도입함에 따라 더욱 격화되었다. 노동당이 추구하는 반제국주의와 범록연맹 급진파들이 추구하는 반제국주의는 큰 차이가 있는데 범록연맹 급진파를 포함한 대만 민족주의들의 반제국주의는 중화인민공화국 혹은 중국 정체성 자체를 중화 제국주의(Chinese imperialism)의 산물이며 이러한 중화 제국주의에 대한 반감을 가지며 대만 민족주의를 위협하는 제국주의적 중국 패권을 약화시키기 위한 대항마로써 미국과 일본의 대단히 호의적이기 때문에 전통적인 친중화인민공화국 정당인 노동당이 추구하는 반제국주의의 방향성과는 엄청난 차이가 있다. 재통일을 주장하는 동시에 타이완 독립에 반대한다는 점에서 중국 국민당과 유사한 점이 있으나, 국민당은 중화인민공화국을 적대시하며 몰아내는 흡수통일을 지지하며, 노동당은 중화민국과 중화인민공화국과의 화합을 통해 통일된 중국을 건설하는 것이 목표라는 것에서 본질적으로는 전혀 다르다. 그렇기 때문에 국민당은 우익으로 분류한다면, 노동당은 좌익으로 분류한다.']"
      ]
     },
     "execution_count": 21,
     "metadata": {},
     "output_type": "execute_result"
    }
   ],
   "source": [
    "idx = 14\n",
    "print(query[idx])\n",
    "dense_p_retrieval_result[query[idx]][:5]"
   ]
  },
  {
   "cell_type": "code",
   "execution_count": 32,
   "metadata": {},
   "outputs": [],
   "source": []
  },
  {
   "cell_type": "code",
   "execution_count": null,
   "metadata": {},
   "outputs": [],
   "source": []
  }
 ],
 "metadata": {
  "interpreter": {
   "hash": "d4d1e4263499bec80672ea0156c357c1ee493ec2b1c70f0acce89fc37c4a6abe"
  },
  "kernelspec": {
   "display_name": "Python 3.8.5 64-bit ('base': conda)",
   "name": "python3"
  },
  "language_info": {
   "codemirror_mode": {
    "name": "ipython",
    "version": 3
   },
   "file_extension": ".py",
   "mimetype": "text/x-python",
   "name": "python",
   "nbconvert_exporter": "python",
   "pygments_lexer": "ipython3",
   "version": "3.8.5"
  },
  "orig_nbformat": 4
 },
 "nbformat": 4,
 "nbformat_minor": 2
}
