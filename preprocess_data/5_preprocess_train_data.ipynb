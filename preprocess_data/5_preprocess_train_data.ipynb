{
 "cells": [
  {
   "cell_type": "code",
   "execution_count": 1,
   "metadata": {},
   "outputs": [],
   "source": [
    "from datasets import load_from_disk, Dataset\n",
    "from tqdm import tqdm, trange\n",
    "import pandas as pd\n",
    "import pickle\n",
    "import re"
   ]
  },
  {
   "cell_type": "code",
   "execution_count": 2,
   "metadata": {},
   "outputs": [],
   "source": [
    "# doc-id - context\n",
    "with open(\"/opt/ml/data/wiki_id_context_pair.bin\", \"rb\") as f:\n",
    "    wiki_id_context = pickle.load(f)\n",
    "# context - doc_id\n",
    "with open(\"/opt/ml/data/wiki_context_id_pair.bin\", \"rb\") as f:\n",
    "    wiki_context_id = pickle.load(f)\n",
    "# retrieval한 비슷한 query - doc id dictionary\n",
    "with open('/opt/ml/data/elastic_train_1000.bin', \"rb\") as file:\n",
    "    trian_query_ids = pickle.load(file)\n",
    "# with open('/opt/ml/data/hybrid_train_retrieval_1000.bin', \"rb\") as file:\n",
    "#     trian_query_ids = pickle.load(file)"
   ]
  },
  {
   "cell_type": "code",
   "execution_count": 3,
   "metadata": {},
   "outputs": [],
   "source": [
    "def preprocess(text):\n",
    "    text = re.sub(r'\\n', ' ', text)\n",
    "    text = re.sub(r'\\\\n', ' ', text) # remove newline character\n",
    "    text = re.sub(r'\\s+', ' ', text) # remove continuous spaces\n",
    "    text = re.sub(r'#', ' ', text)\n",
    "    return text\n",
    "#나중 실험을 위한..."
   ]
  },
  {
   "cell_type": "code",
   "execution_count": 4,
   "metadata": {},
   "outputs": [],
   "source": [
    "train_dataset = load_from_disk(\"/opt/ml/data/new_train_dataset/train\").to_pandas() # 전처리된 데이터를 테스트로 활용\n",
    "origin_train_dataset = load_from_disk(\"/opt/ml/data/train_dataset/train\").to_pandas()"
   ]
  },
  {
   "cell_type": "code",
   "execution_count": 5,
   "metadata": {},
   "outputs": [],
   "source": [
    "wiki_ids = []\n",
    "\n",
    "for i in range(len(train_dataset)):\n",
    "    ctx = train_dataset['context'][i] # context\n",
    "    wiki_ids.append(wiki_context_id[ctx]) # 미리 저장해둔 dict으로 wiki doc id를 찾음\n",
    "\n",
    "train_dataset['doc_id'] = wiki_ids\n"
   ]
  },
  {
   "cell_type": "code",
   "execution_count": 6,
   "metadata": {},
   "outputs": [],
   "source": [
    "train_in_wiki_ids = train_dataset['doc_id'].values.tolist()\n",
    "train_in_wiki_ids = {k:i for i, k in enumerate(train_in_wiki_ids)}"
   ]
  },
  {
   "cell_type": "code",
   "execution_count": 7,
   "metadata": {},
   "outputs": [
    {
     "name": "stderr",
     "output_type": "stream",
     "text": [
      "100%|██████████| 3952/3952 [00:00<00:00, 20596.10it/s]\n"
     ]
    }
   ],
   "source": [
    "new_context = []\n",
    "\n",
    "for i in tqdm(range(len(train_dataset))):\n",
    "\n",
    "    train_context = train_dataset['context'][i] # ground truth\n",
    "    \n",
    "    query = train_dataset['question'][i] # query\n",
    "    ctx_wiki_ids = trian_query_ids[query] # hybrid[query] = doc_ids\n",
    "    answer = train_dataset['answers'][i]['text'][0]\n",
    "    \n",
    "    cnt = 4 # 추가할 갯수\n",
    "    #sim_top_k = [origin_train_dataset['context'][i]]\n",
    "    sim_top_k = [train_context]\n",
    "\n",
    "    pre_ground = train_context\n",
    "    # pre_ground = preprocess(train_context) # 전처리 안됬을 경우\n",
    "    # sim_top_k = [pre_ground]\n",
    "\n",
    "    idx = 0\n",
    "\n",
    "    while cnt != 0:\n",
    "        concat_cxt = wiki_id_context[ctx_wiki_ids[idx]] # id 를 cxt로 변환\n",
    "\n",
    "        if pre_ground != concat_cxt and not (answer in concat_cxt) and not (ctx_wiki_ids[idx] in train_in_wiki_ids):\n",
    "            # 비슷한 context를 추가하되 정답을 포함하지 않는 문장을 추가한다.\n",
    "            sim_top_k.append(concat_cxt)\n",
    "            cnt -= 1\n",
    "            train_in_wiki_ids[ctx_wiki_ids[idx]] = 0 #최대한 많은 passage를 보게하기 위해\n",
    "        idx += 1\n",
    "        if idx == 1000: # index를 넘어가면 break\n",
    "            break\n",
    "    add_sim_context = ' '.join(sim_top_k)\n",
    "    new_context.append(add_sim_context)"
   ]
  },
  {
   "cell_type": "code",
   "execution_count": 8,
   "metadata": {},
   "outputs": [
    {
     "data": {
      "text/plain": [
       "19148"
      ]
     },
     "execution_count": 8,
     "metadata": {},
     "output_type": "execute_result"
    }
   ],
   "source": [
    "len(train_in_wiki_ids.keys())"
   ]
  },
  {
   "cell_type": "code",
   "execution_count": 9,
   "metadata": {},
   "outputs": [],
   "source": [
    "train_df = load_from_disk(\"/opt/ml/data/new_train_dataset/train\").to_pandas()\n",
    "#train_df = origin_train_dataset\n",
    "train_df['context'] = new_context"
   ]
  },
  {
   "cell_type": "code",
   "execution_count": 10,
   "metadata": {},
   "outputs": [
    {
     "name": "stderr",
     "output_type": "stream",
     "text": [
      "100%|██████████| 3952/3952 [00:00<00:00, 10087.73it/s]\n"
     ]
    }
   ],
   "source": [
    "# wiki_ids = []\n",
    "\n",
    "# for i in range(len(train_dataset)):\n",
    "#     ctx = train_dataset['context'][i] # context\n",
    "#     wiki_ids.append(wiki_context_id[ctx]) # 미리 저장해둔 dict으로 wiki doc id를 찾음\n",
    "\n",
    "# train_dataset['doc_id'] = wiki_ids\n",
    "\n",
    "# train_in_wiki_ids = train_dataset['doc_id'].values.tolist()\n",
    "# train_in_wiki_ids = {k:i for i, k in enumerate(train_in_wiki_ids)}\n",
    "\n",
    "\n",
    "new_context = []\n",
    "\n",
    "for i in tqdm(range(len(train_dataset))):\n",
    "\n",
    "    train_context = train_dataset['context'][i] # ground truth\n",
    "    \n",
    "    query = train_dataset['question'][i] # query\n",
    "    ctx_wiki_ids = trian_query_ids[query] # hybrid[query] = doc_ids\n",
    "    answer = train_dataset['answers'][i]['text'][0]\n",
    "    \n",
    "    cnt = 4 # 추가할 갯수\n",
    "    sim_top_k = [origin_train_dataset['context'][i]]\n",
    "    #sim_top_k = [train_context]\n",
    "\n",
    "    pre_ground = train_context\n",
    "    # pre_ground = preprocess(train_context) # 전처리 안됬을 경우\n",
    "    # sim_top_k = [pre_ground]\n",
    "\n",
    "    idx = 0\n",
    "\n",
    "    while cnt != 0:\n",
    "        concat_cxt = wiki_id_context[ctx_wiki_ids[idx]] # id 를 cxt로 변환\n",
    "\n",
    "        if pre_ground != concat_cxt and not (answer in concat_cxt) and not (ctx_wiki_ids[idx] in train_in_wiki_ids):\n",
    "            # 비슷한 context를 추가하되 정답을 포함하지 않는 문장을 추가한다.\n",
    "            sim_top_k.append(concat_cxt)\n",
    "            cnt -= 1\n",
    "            train_in_wiki_ids[ctx_wiki_ids[idx]] = 0 #최대한 많은 passage를 보게하기 위해\n",
    "        idx += 1\n",
    "        if idx == 1000: # index를 넘어가면 break\n",
    "            break\n",
    "    add_sim_context = ' '.join(sim_top_k)\n",
    "    new_context.append(add_sim_context)\n"
   ]
  },
  {
   "cell_type": "code",
   "execution_count": 12,
   "metadata": {},
   "outputs": [
    {
     "data": {
      "text/plain": [
       "34956"
      ]
     },
     "execution_count": 12,
     "metadata": {},
     "output_type": "execute_result"
    }
   ],
   "source": [
    "len(train_in_wiki_ids.keys())"
   ]
  },
  {
   "cell_type": "code",
   "execution_count": 13,
   "metadata": {},
   "outputs": [],
   "source": [
    "train_origin_df = load_from_disk(\"/opt/ml/data/train_dataset/train\").to_pandas()\n",
    "#train_df = origin_train_dataset\n",
    "train_origin_df['context'] = new_context\n",
    "train_origin_df = train_origin_df[train_df.columns]"
   ]
  },
  {
   "cell_type": "code",
   "execution_count": 14,
   "metadata": {},
   "outputs": [
    {
     "data": {
      "text/html": [
       "<div>\n",
       "<style scoped>\n",
       "    .dataframe tbody tr th:only-of-type {\n",
       "        vertical-align: middle;\n",
       "    }\n",
       "\n",
       "    .dataframe tbody tr th {\n",
       "        vertical-align: top;\n",
       "    }\n",
       "\n",
       "    .dataframe thead th {\n",
       "        text-align: right;\n",
       "    }\n",
       "</style>\n",
       "<table border=\"1\" class=\"dataframe\">\n",
       "  <thead>\n",
       "    <tr style=\"text-align: right;\">\n",
       "      <th></th>\n",
       "      <th>answers</th>\n",
       "      <th>context</th>\n",
       "      <th>id</th>\n",
       "      <th>question</th>\n",
       "    </tr>\n",
       "  </thead>\n",
       "  <tbody>\n",
       "    <tr>\n",
       "      <th>0</th>\n",
       "      <td>{'answer_start': [229], 'text': ['하원']}</td>\n",
       "      <td>미국 상의원 또는 미국 상원(United States Senate)은 양원제인 미국...</td>\n",
       "      <td>mrc-1-000067</td>\n",
       "      <td>대통령을 포함한 미국의 행정부 견제권을 갖는 국가 기관은?</td>\n",
       "    </tr>\n",
       "    <tr>\n",
       "      <th>1</th>\n",
       "      <td>{'answer_start': [212], 'text': ['《경영의 실제》']}</td>\n",
       "      <td>'근대적 경영학' 또는 '고전적 경영학'에서 현대적 경영학으로 전환되는 시기는 19...</td>\n",
       "      <td>mrc-0-004397</td>\n",
       "      <td>현대적 인사조직관리의 시발점이 된 책은?</td>\n",
       "    </tr>\n",
       "    <tr>\n",
       "      <th>2</th>\n",
       "      <td>{'answer_start': [503], 'text': ['백성']}</td>\n",
       "      <td>강희제는 강화된 황권으로 거의 황제 중심의 독단적으로 나라를 이끌어 갔기에 자칫 전...</td>\n",
       "      <td>mrc-1-000362</td>\n",
       "      <td>강희제가 1717년에 쓴 글은 누구를 위해 쓰여졌는가?</td>\n",
       "    </tr>\n",
       "    <tr>\n",
       "      <th>3</th>\n",
       "      <td>{'answer_start': [615], 'text': ['중국']}</td>\n",
       "      <td>불상을 모시기 위해 나무나 돌, 쇠 등을 깎아 일반적인 건축물보다 작은 규모로 만든...</td>\n",
       "      <td>mrc-0-001510</td>\n",
       "      <td>11~12세기에 제작된 본존불은 보통 어떤 나라의 특징이 전파되었나요?</td>\n",
       "    </tr>\n",
       "    <tr>\n",
       "      <th>4</th>\n",
       "      <td>{'answer_start': [30], 'text': ['4개']}</td>\n",
       "      <td>동아대학교박물관에서 소장하고 있는 계사명 사리구는 총 4개의 용기로 구성된 조선후기...</td>\n",
       "      <td>mrc-0-000823</td>\n",
       "      <td>명문이 적힌 유물을 구성하는 그릇의 총 개수는?</td>\n",
       "    </tr>\n",
       "  </tbody>\n",
       "</table>\n",
       "</div>"
      ],
      "text/plain": [
       "                                         answers  \\\n",
       "0        {'answer_start': [229], 'text': ['하원']}   \n",
       "1  {'answer_start': [212], 'text': ['《경영의 실제》']}   \n",
       "2        {'answer_start': [503], 'text': ['백성']}   \n",
       "3        {'answer_start': [615], 'text': ['중국']}   \n",
       "4         {'answer_start': [30], 'text': ['4개']}   \n",
       "\n",
       "                                             context            id  \\\n",
       "0  미국 상의원 또는 미국 상원(United States Senate)은 양원제인 미국...  mrc-1-000067   \n",
       "1  '근대적 경영학' 또는 '고전적 경영학'에서 현대적 경영학으로 전환되는 시기는 19...  mrc-0-004397   \n",
       "2  강희제는 강화된 황권으로 거의 황제 중심의 독단적으로 나라를 이끌어 갔기에 자칫 전...  mrc-1-000362   \n",
       "3  불상을 모시기 위해 나무나 돌, 쇠 등을 깎아 일반적인 건축물보다 작은 규모로 만든...  mrc-0-001510   \n",
       "4  동아대학교박물관에서 소장하고 있는 계사명 사리구는 총 4개의 용기로 구성된 조선후기...  mrc-0-000823   \n",
       "\n",
       "                                  question  \n",
       "0         대통령을 포함한 미국의 행정부 견제권을 갖는 국가 기관은?  \n",
       "1                   현대적 인사조직관리의 시발점이 된 책은?  \n",
       "2           강희제가 1717년에 쓴 글은 누구를 위해 쓰여졌는가?  \n",
       "3  11~12세기에 제작된 본존불은 보통 어떤 나라의 특징이 전파되었나요?  \n",
       "4               명문이 적힌 유물을 구성하는 그릇의 총 개수는?  "
      ]
     },
     "execution_count": 14,
     "metadata": {},
     "output_type": "execute_result"
    }
   ],
   "source": [
    "train_df.head()"
   ]
  },
  {
   "cell_type": "code",
   "execution_count": 15,
   "metadata": {},
   "outputs": [
    {
     "data": {
      "text/html": [
       "<div>\n",
       "<style scoped>\n",
       "    .dataframe tbody tr th:only-of-type {\n",
       "        vertical-align: middle;\n",
       "    }\n",
       "\n",
       "    .dataframe tbody tr th {\n",
       "        vertical-align: top;\n",
       "    }\n",
       "\n",
       "    .dataframe thead th {\n",
       "        text-align: right;\n",
       "    }\n",
       "</style>\n",
       "<table border=\"1\" class=\"dataframe\">\n",
       "  <thead>\n",
       "    <tr style=\"text-align: right;\">\n",
       "      <th></th>\n",
       "      <th>answers</th>\n",
       "      <th>context</th>\n",
       "      <th>id</th>\n",
       "      <th>question</th>\n",
       "    </tr>\n",
       "  </thead>\n",
       "  <tbody>\n",
       "    <tr>\n",
       "      <th>0</th>\n",
       "      <td>{'answer_start': [235], 'text': ['하원']}</td>\n",
       "      <td>미국 상의원 또는 미국 상원(United States Senate)은 양원제인 미국...</td>\n",
       "      <td>mrc-1-000067</td>\n",
       "      <td>대통령을 포함한 미국의 행정부 견제권을 갖는 국가 기관은?</td>\n",
       "    </tr>\n",
       "    <tr>\n",
       "      <th>1</th>\n",
       "      <td>{'answer_start': [212], 'text': ['《경영의 실제》']}</td>\n",
       "      <td>'근대적 경영학' 또는 '고전적 경영학'에서 현대적 경영학으로 전환되는 시기는 19...</td>\n",
       "      <td>mrc-0-004397</td>\n",
       "      <td>현대적 인사조직관리의 시발점이 된 책은?</td>\n",
       "    </tr>\n",
       "    <tr>\n",
       "      <th>2</th>\n",
       "      <td>{'answer_start': [510], 'text': ['백성']}</td>\n",
       "      <td>강희제는 강화된 황권으로 거의 황제 중심의 독단적으로 나라를 이끌어 갔기에 자칫 전...</td>\n",
       "      <td>mrc-1-000362</td>\n",
       "      <td>강희제가 1717년에 쓴 글은 누구를 위해 쓰여졌는가?</td>\n",
       "    </tr>\n",
       "    <tr>\n",
       "      <th>3</th>\n",
       "      <td>{'answer_start': [625], 'text': ['중국']}</td>\n",
       "      <td>불상을 모시기 위해 나무나 돌, 쇠 등을 깎아 일반적인 건축물보다 작은 규모로 만든...</td>\n",
       "      <td>mrc-0-001510</td>\n",
       "      <td>11~12세기에 제작된 본존불은 보통 어떤 나라의 특징이 전파되었나요?</td>\n",
       "    </tr>\n",
       "    <tr>\n",
       "      <th>4</th>\n",
       "      <td>{'answer_start': [30], 'text': ['4개']}</td>\n",
       "      <td>동아대학교박물관에서 소장하고 있는 계사명 사리구는 총 4개의 용기로 구성된 조선후기...</td>\n",
       "      <td>mrc-0-000823</td>\n",
       "      <td>명문이 적힌 유물을 구성하는 그릇의 총 개수는?</td>\n",
       "    </tr>\n",
       "  </tbody>\n",
       "</table>\n",
       "</div>"
      ],
      "text/plain": [
       "                                         answers  \\\n",
       "0        {'answer_start': [235], 'text': ['하원']}   \n",
       "1  {'answer_start': [212], 'text': ['《경영의 실제》']}   \n",
       "2        {'answer_start': [510], 'text': ['백성']}   \n",
       "3        {'answer_start': [625], 'text': ['중국']}   \n",
       "4         {'answer_start': [30], 'text': ['4개']}   \n",
       "\n",
       "                                             context            id  \\\n",
       "0  미국 상의원 또는 미국 상원(United States Senate)은 양원제인 미국...  mrc-1-000067   \n",
       "1  '근대적 경영학' 또는 '고전적 경영학'에서 현대적 경영학으로 전환되는 시기는 19...  mrc-0-004397   \n",
       "2  강희제는 강화된 황권으로 거의 황제 중심의 독단적으로 나라를 이끌어 갔기에 자칫 전...  mrc-1-000362   \n",
       "3  불상을 모시기 위해 나무나 돌, 쇠 등을 깎아 일반적인 건축물보다 작은 규모로 만든...  mrc-0-001510   \n",
       "4  동아대학교박물관에서 소장하고 있는 계사명 사리구는 총 4개의 용기로 구성된 조선후기...  mrc-0-000823   \n",
       "\n",
       "                                  question  \n",
       "0         대통령을 포함한 미국의 행정부 견제권을 갖는 국가 기관은?  \n",
       "1                   현대적 인사조직관리의 시발점이 된 책은?  \n",
       "2           강희제가 1717년에 쓴 글은 누구를 위해 쓰여졌는가?  \n",
       "3  11~12세기에 제작된 본존불은 보통 어떤 나라의 특징이 전파되었나요?  \n",
       "4               명문이 적힌 유물을 구성하는 그릇의 총 개수는?  "
      ]
     },
     "execution_count": 15,
     "metadata": {},
     "output_type": "execute_result"
    }
   ],
   "source": [
    "train_origin_df.head()"
   ]
  },
  {
   "cell_type": "code",
   "execution_count": 16,
   "metadata": {},
   "outputs": [
    {
     "name": "stdout",
     "output_type": "stream",
     "text": [
      "done\n"
     ]
    }
   ],
   "source": [
    "# save datasets\n",
    "new_train_dataset = Dataset.from_pandas(train_df)\n",
    "#new_train_dataset.save_to_disk(\"/opt/ml/data/new_train_dataset/train_pre_es_no_dup_wiki\")\n",
    "print('done')"
   ]
  },
  {
   "cell_type": "code",
   "execution_count": 17,
   "metadata": {},
   "outputs": [
    {
     "name": "stdout",
     "output_type": "stream",
     "text": [
      "done\n"
     ]
    }
   ],
   "source": [
    "origin_train_dataset = Dataset.from_pandas(train_origin_df)\n",
    "#origin_train_dataset.save_to_disk(\"/opt/ml/data/new_train_dataset/train_ori_es_no_dup_wiki\")\n",
    "print('done')"
   ]
  },
  {
   "cell_type": "code",
   "execution_count": 22,
   "metadata": {},
   "outputs": [
    {
     "name": "stdout",
     "output_type": "stream",
     "text": [
      "done\n"
     ]
    }
   ],
   "source": [
    "concat_train = pd.concat([train_df,train_origin_df],ignore_index=True)\n",
    "concat_train_dataset = Dataset.from_pandas(concat_train)\n",
    "concat_train_dataset.save_to_disk(\"/opt/ml/data/new_train_dataset/train_concat_es_no_dup_more_wiki\")\n",
    "print('done')"
   ]
  },
  {
   "cell_type": "code",
   "execution_count": 23,
   "metadata": {},
   "outputs": [
    {
     "data": {
      "text/plain": [
       "7904"
      ]
     },
     "execution_count": 23,
     "metadata": {},
     "output_type": "execute_result"
    }
   ],
   "source": [
    "len(concat_train)"
   ]
  },
  {
   "cell_type": "code",
   "execution_count": 21,
   "metadata": {},
   "outputs": [
    {
     "data": {
      "text/plain": [
       "3952"
      ]
     },
     "execution_count": 21,
     "metadata": {},
     "output_type": "execute_result"
    }
   ],
   "source": [
    "len(train_df)"
   ]
  },
  {
   "cell_type": "code",
   "execution_count": 20,
   "metadata": {},
   "outputs": [
    {
     "data": {
      "text/plain": [
       "7904"
      ]
     },
     "execution_count": 20,
     "metadata": {},
     "output_type": "execute_result"
    }
   ],
   "source": [
    "tt = load_from_disk(\"/opt/ml/data/new_train_dataset/train_concat_es_no_dup_wiki\")\n",
    "len(tt)"
   ]
  },
  {
   "cell_type": "code",
   "execution_count": 99,
   "metadata": {},
   "outputs": [
    {
     "data": {
      "text/plain": [
       "array([229], dtype=int32)"
      ]
     },
     "execution_count": 99,
     "metadata": {},
     "output_type": "execute_result"
    }
   ],
   "source": [
    "train_dataset['answers'][0]['answer_start']"
   ]
  },
  {
   "cell_type": "code",
   "execution_count": 100,
   "metadata": {},
   "outputs": [
    {
     "data": {
      "text/html": [
       "<div>\n",
       "<style scoped>\n",
       "    .dataframe tbody tr th:only-of-type {\n",
       "        vertical-align: middle;\n",
       "    }\n",
       "\n",
       "    .dataframe tbody tr th {\n",
       "        vertical-align: top;\n",
       "    }\n",
       "\n",
       "    .dataframe thead th {\n",
       "        text-align: right;\n",
       "    }\n",
       "</style>\n",
       "<table border=\"1\" class=\"dataframe\">\n",
       "  <thead>\n",
       "    <tr style=\"text-align: right;\">\n",
       "      <th></th>\n",
       "      <th>answers</th>\n",
       "      <th>context</th>\n",
       "      <th>id</th>\n",
       "      <th>question</th>\n",
       "    </tr>\n",
       "  </thead>\n",
       "  <tbody>\n",
       "    <tr>\n",
       "      <th>0</th>\n",
       "      <td>{'answer_start': [229], 'text': ['하원']}</td>\n",
       "      <td>미국 상의원 또는 미국 상원(United States Senate)은 양원제인 미국...</td>\n",
       "      <td>mrc-1-000067</td>\n",
       "      <td>대통령을 포함한 미국의 행정부 견제권을 갖는 국가 기관은?</td>\n",
       "    </tr>\n",
       "    <tr>\n",
       "      <th>1</th>\n",
       "      <td>{'answer_start': [212], 'text': ['《경영의 실제》']}</td>\n",
       "      <td>'근대적 경영학' 또는 '고전적 경영학'에서 현대적 경영학으로 전환되는 시기는 19...</td>\n",
       "      <td>mrc-0-004397</td>\n",
       "      <td>현대적 인사조직관리의 시발점이 된 책은?</td>\n",
       "    </tr>\n",
       "    <tr>\n",
       "      <th>2</th>\n",
       "      <td>{'answer_start': [503], 'text': ['백성']}</td>\n",
       "      <td>강희제는 강화된 황권으로 거의 황제 중심의 독단적으로 나라를 이끌어 갔기에 자칫 전...</td>\n",
       "      <td>mrc-1-000362</td>\n",
       "      <td>강희제가 1717년에 쓴 글은 누구를 위해 쓰여졌는가?</td>\n",
       "    </tr>\n",
       "    <tr>\n",
       "      <th>3</th>\n",
       "      <td>{'answer_start': [615], 'text': ['중국']}</td>\n",
       "      <td>불상을 모시기 위해 나무나 돌, 쇠 등을 깎아 일반적인 건축물보다 작은 규모로 만든...</td>\n",
       "      <td>mrc-0-001510</td>\n",
       "      <td>11~12세기에 제작된 본존불은 보통 어떤 나라의 특징이 전파되었나요?</td>\n",
       "    </tr>\n",
       "    <tr>\n",
       "      <th>4</th>\n",
       "      <td>{'answer_start': [30], 'text': ['4개']}</td>\n",
       "      <td>동아대학교박물관에서 소장하고 있는 계사명 사리구는 총 4개의 용기로 구성된 조선후기...</td>\n",
       "      <td>mrc-0-000823</td>\n",
       "      <td>명문이 적힌 유물을 구성하는 그릇의 총 개수는?</td>\n",
       "    </tr>\n",
       "  </tbody>\n",
       "</table>\n",
       "</div>"
      ],
      "text/plain": [
       "                                         answers  \\\n",
       "0        {'answer_start': [229], 'text': ['하원']}   \n",
       "1  {'answer_start': [212], 'text': ['《경영의 실제》']}   \n",
       "2        {'answer_start': [503], 'text': ['백성']}   \n",
       "3        {'answer_start': [615], 'text': ['중국']}   \n",
       "4         {'answer_start': [30], 'text': ['4개']}   \n",
       "\n",
       "                                             context            id  \\\n",
       "0  미국 상의원 또는 미국 상원(United States Senate)은 양원제인 미국...  mrc-1-000067   \n",
       "1  '근대적 경영학' 또는 '고전적 경영학'에서 현대적 경영학으로 전환되는 시기는 19...  mrc-0-004397   \n",
       "2  강희제는 강화된 황권으로 거의 황제 중심의 독단적으로 나라를 이끌어 갔기에 자칫 전...  mrc-1-000362   \n",
       "3  불상을 모시기 위해 나무나 돌, 쇠 등을 깎아 일반적인 건축물보다 작은 규모로 만든...  mrc-0-001510   \n",
       "4  동아대학교박물관에서 소장하고 있는 계사명 사리구는 총 4개의 용기로 구성된 조선후기...  mrc-0-000823   \n",
       "\n",
       "                                  question  \n",
       "0         대통령을 포함한 미국의 행정부 견제권을 갖는 국가 기관은?  \n",
       "1                   현대적 인사조직관리의 시발점이 된 책은?  \n",
       "2           강희제가 1717년에 쓴 글은 누구를 위해 쓰여졌는가?  \n",
       "3  11~12세기에 제작된 본존불은 보통 어떤 나라의 특징이 전파되었나요?  \n",
       "4               명문이 적힌 유물을 구성하는 그릇의 총 개수는?  "
      ]
     },
     "execution_count": 100,
     "metadata": {},
     "output_type": "execute_result"
    }
   ],
   "source": [
    "train_df.head()"
   ]
  },
  {
   "cell_type": "code",
   "execution_count": 75,
   "metadata": {},
   "outputs": [],
   "source": [
    "train_dataset = load_from_disk(\"/opt/ml/data/new_train_dataset/train\").to_pandas() # 전처리된 데이터를 테스트로 활용\n",
    "origin_train_dataset = load_from_disk(\"/opt/ml/data/new_train_dataset/train_origin_concat_no_dup_wiki\").to_pandas()\n",
    "validation =  load_from_disk(\"/opt/ml/data/new_train_dataset/validation\").to_pandas()"
   ]
  },
  {
   "cell_type": "code",
   "execution_count": 76,
   "metadata": {},
   "outputs": [
    {
     "data": {
      "text/plain": [
       "'순천여자고등학교 졸업, 1973년 이화여자대학교를 졸업하고 1975년 제17회 사법시험에 합격하여 판사로 임용되었고 대법원 재판연구관, 수원지법 부장판사, 사법연수원 교수, 특허법원 부장판사 등을 거쳐 능력을 인정받았다. 2003년 최종영 대법원장의 지명으로 헌법재판소 재판관을 역임하였다. 경제민주화위원회(위원장 장하성이 소액주주들을 대표해 한보철강 부실대출에 책임이 있는 이철수 전 제일은행장 등 임원 4명을 상대로 제기한 손해배상청구소송에서 서울지방법원 민사합의17부는 1998년 7월 24일에 \"한보철강에 부실 대출하여 은행에 막대한 손해를 끼친 점이 인정된다\"며 \"원고가 배상을 청구한 400억원 전액을 은행에 배상하라\"고 하면서 부실 경영인에 대한 최초의 배상 판결을 했다. 2004년 10월 신행정수도의건설을위한특별조치법 위헌 확인 소송에서 9인의 재판관 중 유일하게 각하 견해를 내었다. 소수의견에서 전효숙 재판관은 다수견해의 문제점을 지적하면서 관습헌법 법리를 부정하였다. 전효숙 재판관은 서울대학교 근대법학교육 백주년 기념관에서 열린 강연에서, 국회가 고도의 정치적인 사안을 정치로 풀기보다는 헌법재판소에 무조건 맡겨서 해결하려는 자세는 헌법재판소에게 부담스럽다며 소회를 밝힌 바 있다.'"
      ]
     },
     "execution_count": 76,
     "metadata": {},
     "output_type": "execute_result"
    }
   ],
   "source": [
    "validation['context'][0]"
   ]
  },
  {
   "cell_type": "code",
   "execution_count": 77,
   "metadata": {},
   "outputs": [],
   "source": [
    "train_dataset = load_from_disk(\"/opt/ml/data/new_train_dataset/train_origin_concat_no_duplication\").to_pandas()\n",
    "train_dataset_old = load_from_disk('/opt/ml/data/train_dataset/elastic_train').to_pandas()\n",
    "valid_dataset = load_from_disk(\"/opt/ml/data/train_dataset/validation\").to_pandas()"
   ]
  },
  {
   "cell_type": "code",
   "execution_count": 78,
   "metadata": {},
   "outputs": [
    {
     "data": {
      "text/plain": [
       "'순천여자고등학교 졸업, 1973년 이화여자대학교를 졸업하고 1975년 제17회 사법시험에 합격하여 판사로 임용되었고 대법원 재판연구관, 수원지법 부장판사, 사법연수원 교수, 특허법원 부장판사 등을 거쳐 능력을 인정받았다. 2003년 최종영 대법원장의 지명으로 헌법재판소 재판관을 역임하였다.\\\\n\\\\n경제민주화위원회(위원장 장하성이 소액주주들을 대표해 한보철강 부실대출에 책임이 있는 이철수 전 제일은행장 등 임원 4명을 상대로 제기한 손해배상청구소송에서 서울지방법원 민사합의17부는 1998년 7월 24일에 \"한보철강에 부실 대출하여 은행에 막대한 손해를 끼친 점이 인정된다\"며 \"원고가 배상을 청구한 400억원 전액을 은행에 배상하라\"고 하면서 부실 경영인에 대한 최초의 배상 판결을 했다. \\\\n\\\\n2004년 10월 신행정수도의건설을위한특별조치법 위헌 확인 소송에서 9인의 재판관 중 유일하게 각하 견해를 내었다. 소수의견에서 전효숙 재판관은 다수견해의 문제점을 지적하면서 관습헌법 법리를 부정하였다. 전효숙 재판관은 서울대학교 근대법학교육 백주년 기념관에서 열린 강연에서, 국회가 고도의 정치적인 사안을 정치로 풀기보다는 헌법재판소에 무조건 맡겨서 해결하려는 자세는 헌법재판소에게 부담스럽다며 소회를 밝힌 바 있다.'"
      ]
     },
     "execution_count": 78,
     "metadata": {},
     "output_type": "execute_result"
    }
   ],
   "source": [
    "valid_dataset['context'][0]"
   ]
  },
  {
   "cell_type": "code",
   "execution_count": 101,
   "metadata": {},
   "outputs": [
    {
     "data": {
      "text/plain": [
       "'강희제는 강화된 황권으로 거의 황제 중심의 독단적으로 나라를 이끌어 갔기에 자칫 전제 독재의 가능성이 보일 수도 있었으나, 스스로 황권을 조절하고 정치의 일부는 재상들이나 대신들과 의논하였으며 당시 궁핍하게 살고 있는 한족들의 사정을 잘 알고 있던 한족 대신들의 의견을 수용하여 정책을 실행하고 선정을 베풀었다. 프랑스의 예수회 선교사 부베는 루이 14세에게 다음과 같이 보고하였다. 강희제는 세상에서 가장 부유한 군주입니다. 그럼에도 황제인 그의 생활용품들은 사치스러움과 화려함과는 거리가 멀다 못해 소박하기 그지없습니다. 역대 제왕들 가운데 전례없는 일입니다. 강희제 스스로도 자신이 직접 쓴 《근검록》에서 다음과 같이 쓰고 있다 모든 비용은 백성들의 피땀으로 얻어진 것이니 주인된 황제로서 절제하고 절제함은 당연한 것이 아닌가 이런 강희제의 인자한 정치는 한족이 만주족의 청나라를 지지하게 만드는 데에 크게 일조하였다. 1717년(강희 56년) 강희제는 〈고별상유〉(告別上諭), 즉 마지막으로 백성들에게 바치는 글을 남겼는데 강희제는 “한 가지 일에 부지런하지 않으면 온 천하에 근심을 끼치고, 한 순간에 부지런하지 않으면 천추만대에 우환거리를 남긴다.”라고 역설하였다. 또한 “제왕이 천하를 다스림에 능력이 있는 자를 가까이 두고, 백성들의 세금을 낮추어 주어야 하며, 백성들의 마음을 하나로 묶고, 위태로움이 생기기 전에 나라를 보호하며, 혼란이 있기 전에 이를 먼저 파악하여 잘 다스리고, 관대하고 엄격함의 조화를 이루어 나라를 위한 계책을 도모해야 한다.”라고 후대의 황제에게도 이를 훈계하였다. 강희제는 황제로서 자식과 같은 백성들에게 이런 당부의 말을 남겨 황제로서의 도리를 다하려 하였다.'"
      ]
     },
     "execution_count": 101,
     "metadata": {},
     "output_type": "execute_result"
    }
   ],
   "source": [
    "train_dataset['context'][2]"
   ]
  },
  {
   "cell_type": "code",
   "execution_count": 84,
   "metadata": {},
   "outputs": [
    {
     "data": {
      "text/plain": [
       "'강희제는 강화된 황권으로 거의 황제 중심의 독단적으로 나라를 이끌어 갔기에 자칫 전제 독재의 가능성이 보일 수도 있었으나, 스스로 황권을 조절하고 정치의 일부는 재상들이나 대신들과 의논하였으며 당시 궁핍하게 살고 있는 한족들의 사정을 잘 알고 있던 한족 대신들의 의견을 수용하여 정책을 실행하고 선정을 베풀었다. 프랑스의 예수회 선교사 부베는 루이 14세에게 다음과 같이 보고하였다. \\\\n강희제는 세상에서 가장 부유한 군주입니다. 그럼에도 황제인 그의 생활용품들은 사치스러움과 화려함과는 거리가 멀다 못해 소박하기 그지없습니다. 역대 제왕들 가운데 전례없는 일입니다.\\\\n강희제 스스로도 자신이 직접 쓴 《근검록》에서 다음과 같이 쓰고 있다\\\\n모든 비용은 백성들의 피땀으로 얻어진 것이니 주인된 황제로서 절제하고 절제함은 당연한 것이 아닌가\\\\n\\\\n이런 강희제의 인자한 정치는 한족이 만주족의 청나라를 지지하게 만드는 데에 크게 일조하였다. 1717년(강희 56년) 강희제는 〈고별상유〉(告別上諭), 즉 마지막으로 백성들에게 바치는 글을 남겼는데 강희제는 “한 가지 일에 부지런하지 않으면 온 천하에 근심을 끼치고, 한 순간에 부지런하지 않으면 천추만대에 우환거리를 남긴다.”라고 역설하였다. 또한 “제왕이 천하를 다스림에 능력이 있는 자를 가까이 두고, 백성들의 세금을 낮추어 주어야 하며, 백성들의 마음을 하나로 묶고, 위태로움이 생기기 전에 나라를 보호하며, 혼란이 있기 전에 이를 먼저 파악하여 잘 다스리고, 관대하고 엄격함의 조화를 이루어 나라를 위한 계책을 도모해야 한다.”라고 후대의 황제에게도 이를 훈계하였다. 강희제는 황제로서 자식과 같은 백성들에게 이런 당부의 말을 남겨 황제로서의 도리를 다하려 하였다. 몽골 초원은 홍타이지 이후 청나라의 지배를 받고 있었으나, 조공을 올리고 자치권을 인정받았다. 이미 1675년(강희 14년) 차하르 부족이 당시 삼번의 난으로 청나라에 생긴 혼란을 틈타 중원으로 쳐들어왔다. 이에 노한 강희제는 몽골을 내몽골과 외몽골로 나누어서 부족 간의 규합을 막으려 하였다. 몽골이 청나라에 복속된 지 수십 년이 지나고, 몽골의 여러 부족 중 일부는 절대 복종하고 일부는 표면적으로나마 청나라에 충성을 바쳤다. 그러나 그중 몽골의 한 부족인 오이라트 부족에 뿌리를 둔 초로스 칸가 출신의 중가르 부족의 칸인 갈단이 세력을 모아 몽골과 티베트를 통일하여 라마 제국을 건설할 포부를 품고 청나라에 대항할 조짐을 보였다. 이미 갈단은 1677년(강희 16년) 오이라트 부족을 통합하고 1682년(강희 21년)에는 타림 분지까지 점령하였다. 그런 다음 이들은 동투르키스탄을 점령하였고 이제 청나라가 다스리는 중원을 노렸다. 준가르는 자신들이 군사를 일으킨 명분으로 옛 원나라의 대칸은 만주인이 아닌 몽골인으로 옹립해야 한다고 주장하였다. 준가르는 청나라를 견제한 러시아와 티베트에 원조를 받기도 하였는데 심지어 티베트의 달라이 라마 5세는 갈단에게 보슈그투 칸, 즉 대칸의 직함을 내렸다. 또한 1688년(강희 27년), 준가르는 몽골 초원의 다른 부족인 할하 부족의 땅을 점령하고 거의 모든 부족민을 죽였다. 살아남은 할하족은 고비 사막을 넘어 강희제에게 군사적 원조를 요청하였다. 준가르의 군사들이 청나라의 영토를 침략하자, 1690년(강희 29년) 7월 강희제는 자신의 이복형이자 순치제의 차남 유친왕 복전(裕親王 福全)과 이복동생이며 순치제의 5남 공친왕 상녕(恭親王 常寧) 등을 대동하고 친히 팔기군을 이끌고 몽골로 원정길에 올랐다. 이것은 명나라의 영락제 이후 황제가 최초로 친히 고비 사막을 넘어 몽골 원정을 감행한 원정이며 중국 역사상 황제가 군사를 이끌고 나간 마지막 친정이었다. 강희제는 울란 부퉁에서 갈단의 군대와 마주쳤다. 이 원정에서 강희제는 할하족의 공식적인 합병 서약과 충성 서약을 받았다. 강희제는 몽골의 복속에 매우 만족하여 \"옛날의 진은 돌과 흙으로 만리장성을 쌓았지만 짐은 객이객에게 은혜를 배풀어 그보다 더 견고한 성을 쌓았다\"고 말했다. 뒤이어 청군은 준가르군과 내몽골에서 맞붙었으나 전염병과 계속되는 패배로 사령관이었던 이복 형제들에게 책임을 묻고 군사를 물려 북경으로 환도하였다. 강희제 자신도 전염병에 걸려서 한동안 고생하였다. 그러나 1696년(강희 35년)에 강희제는 8만의 팔기군 군사를 이끌고 몽골로 진입, 차오모도 전투에서 준가르군과 싸워 대승하였다. 패한 갈단은 이듬해인 1697년(강희 36년)에 알타이 산맥 기슭에서 음독자살하였다. 강희제 치세 후기인 1712년(강희 51년), 강희제는 준가르 부족을 견제하기 위해 만주 귀족 툴리센을 남러시아 볼가강 하류에 살던 투르구트(Torghut)족에게 사절로 보냈다. 이러한 강희제의 강한 견제에도 준가르 부족은 여전히 기회를 노리고 있었으며, 1717년(강희 56년)에 준가르 부족의 신임 칸이자 갈단의 조카 체왕 아랍단은 6천 명의 적은 군사를 이끌고 과거 동맹이었던 티베트를 점령하였다. 준가르군은 수장 달라이 라마라 칭하던 티베트의 왕 랍장을 폐위시킨 뒤 살해하였고 1718년(강희 57년)에 청군을 격파하였다 준가르군은 여전히 그 세력이 막강하였으나 1720년(강희 59년)에 강희제가 보낸 팔기군의 대대적인 원정에 준가르군은 결국 패퇴하였고 티베트에 원정 온 체왕 아랍단은 몽골로 돌아가 은둔하였다. 그 이듬해인 1721년(강희 60년)에 청군은 켈장 갸초를 모시고 와서 제7대 달라이 라마로 만들고 티베트를 청나라의 영토에 정식 편입시켜 티베트는 안정되었다. 하지만, 준가르 세력은 청군의 티베트 원정 이후 결정타를 맞았으나 완전히 멸하지는 않았다. 강희제의 손자인 건륭제 때에야 위구르와 함께 청군에게 항복하여 그 세력이 완전히 와해되었다. 몽골 초원은 홍타이지 이후 청나라의 지배를 받고 있었으나, 조공을 올리고 자치권을 인정받았다. 이미 1675년(강희 14년) 차하르 부족이 당시 삼번의 난으로 청나라에 생긴 혼란을 틈타 중원으로 쳐들어왔다. 이에 노한 강희제는 몽골을 내몽골과 외몽골로 나누어서 부족 간의 규합을 막으려 하였다. 몽골이 청나라에 복속된 지 수십 년이 지나고, 몽골의 여러 부족 중 일부는 절대 복종하고 일부는 표면적으로나마 청나라에 충성을 바쳤다. 그러나 그중 몽골의 한 부족인 오이라트 부족에 뿌리를 둔 초로스 칸가 출신의 중가르 부족의 칸인 갈단이 세력을 모아 몽골과 티베트를 통일하여 라마 제국을 건설할 포부를 품고 청나라에 대항할 조짐을 보였다. 이미 갈단은 1677년(강희 16년) 오이라트 부족을 통합하고 1682년(강희 21년)에는 타림 분지까지 점령하였다. 그런 다음 이들은 동투르키스탄을 점령하였고 이제 청나라가 다스리는 중원을 노렸다. 준가르는 자신들이 군사를 일으킨 명분으로 옛 원나라의 대칸은 만주인이 아닌 몽골인으로 옹립해야 한다고 주장하였다. 준가르는 청나라를 견제한 러시아와 티베트에 원조를 받기도 하였는데 심지어 티베트의 달라이 라마 5세는 갈단에게 보슈그투 칸, 즉 대칸의 직함을 내렸다. 또한 1688년(강희 27년), 준가르는 몽골 초원의 다른 부족인 할하 부족의 땅을 점령하고 거의 모든 부족민을 죽였다. 살아남은 할하족은 고비 사막을 넘어 강희제에게 군사적 원조를 요청하였다. 준가르의 군사들이 청나라의 영토를 침략하자, 1690년(강희 29년) 7월 강희제는 자신의 이복형이자 순치제의 차남 유친왕 복전(裕親王 福全)과 이복동생이며 순치제의 5남 공친왕 상녕(恭親王 常寧) 등을 대동하고 친히 팔기군을 이끌고 몽골로 원정길에 올랐다. 이것은 명나라의 영락제 이후 황제가 최초로 친히 고비 사막을 넘어 몽골 원정을 감행한 원정이며 중국 역사상 황제가 군사를 이끌고 나간 마지막 친정이었다. 강희제는 울란 부퉁에서 갈단의 군대와 마주쳤다. 이 원정에서 강희제는 할하족의 공식적인 합병 서약과 충성 서약을 받았다. 강희제는 몽골의 복속에 매우 만족하여 \"옛날의 진은 돌과 흙으로 만리장성을 쌓았지만 짐은 객이객에게 은혜를 배풀어 그보다 더 견고한 성을 쌓았다\"고 말했다. 뒤이어 청군은 준가르군과 내몽골에서 맞붙었으나 전염병과 계속되는 패배로 사령관이었던 이복 형제들에게 책임을 묻고 군사를 물려 북경으로 환도하였다. 강희제 자신도 전염병에 걸려서 한동안 고생하였다. 그러나 1696년(강희 35년)에 강희제는 8만의 팔기군 군사를 이끌고 몽골로 진입, 차오모도 전투에서 준가르군과 싸워 대승하였다. 패한 갈단은 이듬해인 1697년(강희 36년)에 알타이 산맥 기슭에서 음독자살하였다. 강희제 치세 후기인 1712년(강희 51년), 강희제는 준가르 부족을 견제하기 위해 만주 귀족 툴리센을 남러시아 볼가강 하류에 살던 투르구트(Torghut)족에게 사절로 보냈다. 이러한 강희제의 강한 견제에도 준가르 부족은 여전히 기회를 노리고 있었으며, 1717년(강희 56년)에 준가르 부족의 신임 칸이자 갈단의 조카 체왕 아랍단은 6천 명의 적은 군사를 이끌고 과거 동맹이었던 티베트를 점령하였다. 준가르군은 수장 달라이 라마라 칭하던 티베트의 왕 랍장을 폐위시킨 뒤 살해하였고 1718년(강희 57년)에 청군을 격파하였다 준가르군은 여전히 그 세력이 막강하였으나 1720년(강희 59년)에 강희제가 보낸 팔기군의 대대적인 원정에 준가르군은 결국 패퇴하였고 티베트에 원정 온 체왕 아랍단은 몽골로 돌아가 은둔하였다. 그 이듬해인 1721년(강희 60년)에 청군은 켈장 갸초를 모시고 와서 제7대 달라이 라마로 만들고 티베트를 청나라의 영토에 정식 편입시켜 티베트는 안정되었다. 하지만, 준가르 세력은 청군의 티베트 원정 이후 결정타를 맞았으나 완전히 멸하지는 않았다. 강희제의 손자인 건륭제 때에야 위구르와 함께 청군에게 항복하여 그 세력이 완전히 와해되었다. 효혜장황후는 몽골 과이심 보르지긴(박이제길특) 씨족으로, 그녀의 증조부인 채상(寨桑)은 청나라의 개국황제이자 2대 황제인 숭덕제의 정통 황후인 효단문황후의 오빠이자 숭덕제의 후궁이었지만 순치제의 생모로서 사후에 황후로 추존된 효장문황후의 아버지이며, 조부 오극선은 효장문황후와 민혜공화원비의 오빠이자 순치제의 첫 황후였던 폐후 박이제길특씨의 아버지다. 순치제는 모후(母后)인 효장문황후의 압권으로 순치 8년(1651년)에 황후로 맞이한 외사촌 누이인 폐후 박이제길특씨와 불화하여 결국 2년 뒤인 순치 10년(1653년)에 그녀를 폐후하여 후궁인 정비(靜妃)로 강봉하였다. 이에 효장문황후는 질녀 폐후 박이제길특씨를 대신하여 다음 해인 순치 11년(1654년) 5월에 조카 작이제(폐후의 오빠)의 두 딸을 입궁시켜 순치제의 후궁(妃)로 삼았다가 다음 달인 6월에 이 자매 중 언니를 황후로 책봉하였는데, 이 여인이 바로 효혜장황후이다. 그러나 그녀 역시 순치제의 사랑을 얻지 못했으며, 2년 뒤 순치제의 일생일대의 연인인 동악비가 등장하여 위태로운 황후 생활을 연명하다가 동악비의 사망과 이어진 순치제의 급서 로 순치제의 서3남 강희제가 황위에 올라 황태후로 봉숭되어 극진한 대우를 받았다. 1717년 궁전에서 76세로 사망하였다. 후사는 없다. 봉서재(鳳棲齋)는 조선시대 중기 결성장씨(結城張氏)인 장원주(張元胄, 1634~1700)가 지은 서당(書堂)이다. 장원주는 육영재(毓英齋, 세종특별자치시 향토문화유산 제39호)를 지은 장훈(張訓, 1568~1609)의 후손으로 충청도 연기현 동이면(燕岐縣 東二面,, 현재 세종특별자치시 연동면 노송리)에서 태어나 자랐으며, 나이가 들어 외가(外家)가 있던 연기현 북이면(北二面, 현재 세종특별자치시 연서면 고복리)에 봉서재를 지었다. 그가 죽은 후인 1717년(숙종 43)에 집안에 요역(徭役)을 면제받는 상(復戶)을 받을 만큼 효심(孝心)이 깊었으며, 결성장씨 후손들뿐만 아니라 인근지역의 가난한 이의 자식들까지 대가 없이 글을 가르쳐 주었다고 한다. 일제강점기까지 서당의 기능은 유지되었는데 1906년(고종 43)에는 당시 봉서재의 훈장이었던 류인철에 의해 신식교육을 위한 동광학교(東光學校)가 봉서재에 만들어지기도 하였다. 현재 봉서재의 위치는 일제강점기인 1918년 장원주의 후손 장기칠(張箕七, 1850~1937)에 의해 옮겨진 것으로 본래는 북쪽으로 약 500m 떨어진 곳에 있었다고 하며, 2003년 다시 지어진 것이다. 봉서재의 동쪽 뒤편에는 장원주의 묘가 있다. 봉서재는 정면 4칸, 측면 2칸의 규모로 팔작지붕을 하고 있다. 정면에 걸려있는 ‘鳳棲齋(봉서재)’ 현판(懸板)은 독립운동가인 홍일섭(洪日燮, 1878~1935)이 쓴 것이며, 내부에는 1918년 장기칠이 쓴 ‘鳳棲齋記(봉서재기)’와 1922년 류인철이 기록한 ‘鳳棲齋移建記(봉서재이건기’, 그리고 지역의 유림(儒林)들이 지은 시(詩) 10여 편이 전해진다. 또 서당운영을 위해 조직된 서당계(書堂契)와 남의 논밭을 빌려서 경작(耕作)한 대가를 지불한 도조기(賭租記)가 남아있어 당시의 운영방법과 상황을 알 수 있다.'"
      ]
     },
     "execution_count": 84,
     "metadata": {},
     "output_type": "execute_result"
    }
   ],
   "source": [
    "train_dataset_old['context'][2]"
   ]
  },
  {
   "cell_type": "code",
   "execution_count": null,
   "metadata": {},
   "outputs": [],
   "source": []
  }
 ],
 "metadata": {
  "interpreter": {
   "hash": "d4d1e4263499bec80672ea0156c357c1ee493ec2b1c70f0acce89fc37c4a6abe"
  },
  "kernelspec": {
   "display_name": "Python 3.8.5 64-bit ('base': conda)",
   "name": "python3"
  },
  "language_info": {
   "codemirror_mode": {
    "name": "ipython",
    "version": 3
   },
   "file_extension": ".py",
   "mimetype": "text/x-python",
   "name": "python",
   "nbconvert_exporter": "python",
   "pygments_lexer": "ipython3",
   "version": "3.8.5"
  },
  "orig_nbformat": 4
 },
 "nbformat": 4,
 "nbformat_minor": 2
}
