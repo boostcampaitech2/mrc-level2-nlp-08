{
 "cells": [
  {
   "cell_type": "code",
   "execution_count": 23,
   "metadata": {},
   "outputs": [],
   "source": [
    "import sys\n",
    "from datasets import load_from_disk\n",
    "import pickle"
   ]
  },
  {
   "cell_type": "code",
   "execution_count": 24,
   "metadata": {},
   "outputs": [],
   "source": [
    "valid_dataset = load_from_disk(\"/opt/ml/data/new_train_dataset/validation\")"
   ]
  },
  {
   "cell_type": "code",
   "execution_count": 25,
   "metadata": {},
   "outputs": [],
   "source": [
    "with open('/opt/ml/data/wiki_context_id_pair.bin','rb') as f:\n",
    "    wiki_context_id = pickle.load(f)\n",
    "with open('/opt/ml/data/wiki_id_context_pair.bin','rb') as f:\n",
    "    wiki_id_context = pickle.load(f)"
   ]
  },
  {
   "cell_type": "code",
   "execution_count": 31,
   "metadata": {},
   "outputs": [],
   "source": [
    "with open('/opt/ml/data/elastic_valid_200.bin','rb') as f:\n",
    "    elastic_valid = pickle.load(f)\n",
    "# with open('/opt/ml/data/elastic_valid_100.bin','rb') as f:\n",
    "#     elastic_valid2 = pickle.load(f)\n",
    "with open('/opt/ml/data/dense_valid_retrieval.bin','rb') as f:\n",
    "    dense_valid = pickle.load(f)\n",
    "with open(\"/opt/ml/data/hybrid_valid_retrieval_1.bin\",'rb') as f:\n",
    "    hybrid_valid = pickle.load(f)\n",
    "# "
   ]
  },
  {
   "cell_type": "code",
   "execution_count": 32,
   "metadata": {},
   "outputs": [],
   "source": [
    "# with open('/opt/ml/data/hybrid_valid_retrieval_1.bin','rb') as f:\n",
    "#     hw1 = pickle.load(f)\n",
    "# with open('/opt/ml/data/hybrid_valid_retrieval_2.bin','rb') as f:\n",
    "#     hw11 = pickle.load(f)\n",
    "# with open('/opt/ml/data/hybrid_valid_retrieval_3.bin','rb') as f:\n",
    "#     hw09 = pickle.load(f)\n",
    "# with open(\"/opt/ml/data/hybrid_valid_retrieval_12.bin\",'rb') as f:\n",
    "#     hw12 = pickle.load(f)\n",
    "# with open(\"/opt/ml/data/hybrid_valid_retrieval_08.bin\",'rb') as f:\n",
    "#     hw08 = pickle.load(f)"
   ]
  },
  {
   "cell_type": "code",
   "execution_count": 33,
   "metadata": {},
   "outputs": [],
   "source": [
    "query = valid_dataset['question']\n",
    "context = valid_dataset['context']"
   ]
  },
  {
   "cell_type": "code",
   "execution_count": 34,
   "metadata": {},
   "outputs": [
    {
     "name": "stdout",
     "output_type": "stream",
     "text": [
      "score_top_k :  1\n",
      "elastic ACC :  0.7166666666666667\n",
      "Hybrid ACC : 0.7791666666666667\n",
      "\n",
      "score_top_k :  5\n",
      "elastic ACC :  0.8625\n",
      "Hybrid ACC : 0.9166666666666666\n",
      "\n",
      "score_top_k :  10\n",
      "elastic ACC :  0.9125\n",
      "Hybrid ACC : 0.95\n",
      "\n",
      "score_top_k :  15\n",
      "elastic ACC :  0.925\n",
      "Hybrid ACC : 0.9583333333333334\n",
      "\n",
      "score_top_k :  20\n",
      "elastic ACC :  0.9375\n",
      "Hybrid ACC : 0.9666666666666667\n",
      "\n",
      "score_top_k :  25\n",
      "elastic ACC :  0.9416666666666667\n",
      "Hybrid ACC : 0.9666666666666667\n",
      "\n",
      "score_top_k :  30\n",
      "elastic ACC :  0.95\n",
      "Hybrid ACC : 0.9708333333333333\n",
      "\n"
     ]
    }
   ],
   "source": [
    "top_k_list = [1,5,10,15,20,25,30]\n",
    "\n",
    "for top_k in top_k_list:\n",
    "    elastic_acc = 0\n",
    "    dense_acc = 0\n",
    "    hybrid_acc = 0\n",
    "    #hybrid_weight_acc = 0\n",
    "    for i in range(len(query)):\n",
    "        q = query[i]\n",
    "        ground_truth = context[i]\n",
    "\n",
    "        dense_top_k = []\n",
    "        for j in range(top_k):\n",
    "            dense_top_k.append(wiki_id_context[dense_valid[q][j]])\n",
    "\n",
    "        elastic_top_k = []\n",
    "        for j in range(top_k):\n",
    "            elastic_top_k.append(wiki_id_context[elastic_valid[q][j]])\n",
    "        \n",
    "        hybrid_top_k = []\n",
    "        for j in range(top_k):\n",
    "            hybrid_top_k.append(wiki_id_context[hybrid_valid[q][j]])\n",
    "            \n",
    "        if ground_truth in elastic_top_k:\n",
    "            elastic_acc += 1\n",
    "        # if ground_truth in elastic_valid2[q][:top_k]:\n",
    "        #     tfdif_acc2 += 1\n",
    "        if ground_truth in dense_top_k:\n",
    "            dense_acc += 1\n",
    "        if ground_truth in hybrid_top_k:\n",
    "            hybrid_acc += 1\n",
    "        # if ground_truth in hybrid_weight_valid[q][:top_k]:\n",
    "        #     hybrid_weight_acc += 1\n",
    "\n",
    "    print('score_top_k : ', top_k)\n",
    "    print('elastic ACC : ', elastic_acc / len(query))\n",
    "    # print('elastic2 ACC : ', tfdif_acc2 / len(query))\n",
    "    #print('Dense ACC : ', dense_acc / len(query))\n",
    "    print('Hybrid ACC :',hybrid_acc / len(query))\n",
    "    #print('Hybrid_W ACC :',hybrid_weight_acc / len(query))\n",
    "    print()"
   ]
  },
  {
   "cell_type": "code",
   "execution_count": 46,
   "metadata": {},
   "outputs": [
    {
     "name": "stdout",
     "output_type": "stream",
     "text": [
      "score_top_k :  1\n",
      "Weight 0.8 ACC :  0.7583333333333333\n",
      "Weight 0.9 ACC :  0.75\n",
      "Weight 1.0 ACC :  0.7458333333333333\n",
      "Weight 1.1 ACC :  0.7541666666666667\n",
      "Weight 1.2 ACC :  0.75\n",
      "\n",
      "score_top_k :  5\n",
      "Weight 0.8 ACC :  0.9208333333333333\n",
      "Weight 0.9 ACC :  0.9208333333333333\n",
      "Weight 1.0 ACC :  0.9166666666666666\n",
      "Weight 1.1 ACC :  0.9166666666666666\n",
      "Weight 1.2 ACC :  0.9125\n",
      "\n",
      "score_top_k :  10\n",
      "Weight 0.8 ACC :  0.9458333333333333\n",
      "Weight 0.9 ACC :  0.9458333333333333\n",
      "Weight 1.0 ACC :  0.9416666666666667\n",
      "Weight 1.1 ACC :  0.9416666666666667\n",
      "Weight 1.2 ACC :  0.9416666666666667\n",
      "\n",
      "score_top_k :  15\n",
      "Weight 0.8 ACC :  0.9583333333333334\n",
      "Weight 0.9 ACC :  0.9583333333333334\n",
      "Weight 1.0 ACC :  0.9583333333333334\n",
      "Weight 1.1 ACC :  0.9541666666666667\n",
      "Weight 1.2 ACC :  0.9541666666666667\n",
      "\n",
      "score_top_k :  20\n",
      "Weight 0.8 ACC :  0.9625\n",
      "Weight 0.9 ACC :  0.9625\n",
      "Weight 1.0 ACC :  0.9625\n",
      "Weight 1.1 ACC :  0.9625\n",
      "Weight 1.2 ACC :  0.9625\n",
      "\n"
     ]
    }
   ],
   "source": [
    "top_k_list = [1,5,10,15,20]\n",
    "\n",
    "for top_k in top_k_list:\n",
    "    hw08_acc = 0\n",
    "    hw09_acc = 0\n",
    "    hw1_acc = 0\n",
    "    hw11_acc = 0\n",
    "    hw12_acc = 0\n",
    "\n",
    "    #hybrid_weight_acc = 0\n",
    "    for i in range(len(query)):\n",
    "        q = query[i]\n",
    "        ground_truth = context[i]\n",
    "        \n",
    "        hy08_topk = []\n",
    "        for j in range(top_k):\n",
    "            hy08_topk.append(wiki_id_context[hw08[q][j]])\n",
    "\n",
    "        hy09_topk = []\n",
    "        for j in range(top_k):\n",
    "            hy09_topk.append(wiki_id_context[hw09[q][j]])\n",
    "\n",
    "        hy1_topk = []\n",
    "        for j in range(top_k):\n",
    "            hy1_topk.append(wiki_id_context[hw1[q][j]])\n",
    "\n",
    "        hy11_topk = []\n",
    "        for j in range(top_k):\n",
    "            hy11_topk.append(wiki_id_context[hw11[q][j]])\n",
    "\n",
    "        hy12_topk = []\n",
    "        for j in range(top_k):\n",
    "            hy12_topk.append(wiki_id_context[hw12[q][j]])\n",
    "            \n",
    "        if ground_truth in hy08_topk:\n",
    "            hw08_acc += 1\n",
    "\n",
    "        if ground_truth in hy09_topk:\n",
    "            hw09_acc += 1\n",
    "\n",
    "        if ground_truth in hy1_topk:\n",
    "            hw1_acc += 1\n",
    "\n",
    "        if ground_truth in hy11_topk:\n",
    "            hw11_acc += 1\n",
    "\n",
    "        if ground_truth in hy12_topk:\n",
    "            hw12_acc += 1\n",
    "        # if ground_truth in hybrid_weight_valid[q][:top_k]:\n",
    "        #     hybrid_weight_acc += 1\n",
    "\n",
    "    print('score_top_k : ', top_k)\n",
    "    print('Weight 0.8 ACC : ', hw08_acc / len(query))\n",
    "    print('Weight 0.9 ACC : ', hw09_acc / len(query))\n",
    "    print('Weight 1.0 ACC : ', hw1_acc / len(query))\n",
    "    print('Weight 1.1 ACC : ', hw11_acc / len(query))\n",
    "    print('Weight 1.2 ACC : ', hw12_acc / len(query))\n",
    "    print()\n"
   ]
  },
  {
   "cell_type": "code",
   "execution_count": 8,
   "metadata": {},
   "outputs": [
    {
     "data": {
      "text/plain": [
       "'score_top_k :  1\\nelastic ACC :  0.7166666666666667\\nDense ACC :  0.2875\\nHybrid ACC : 0.775\\nHybrid_W ACC : 0.7708333333333334\\n\\nscore_top_k :  5\\nelastic ACC :  0.8583333333333333\\nDense ACC :  0.4583333333333333\\nHybrid ACC : 0.9\\nHybrid_W ACC : 0.9\\n\\nscore_top_k :  10\\nelastic ACC :  0.9\\nDense ACC :  0.5458333333333333\\nHybrid ACC : 0.95\\nHybrid_W ACC : 0.95\\n\\nscore_top_k :  15\\nelastic ACC :  0.925\\nDense ACC :  0.575\\nHybrid ACC : 0.9583333333333334\\nHybrid_W ACC : 0.9583333333333334\\n\\nscore_top_k :  20\\nelastic ACC :  0.9375\\nDense ACC :  0.6\\nHybrid ACC : 0.9666666666666667\\nHybrid_W ACC : 0.9666666666666667\\n\\nscore_top_k :  50\\nelastic ACC :  0.9541666666666667\\nDense ACC :  0.7208333333333333\\nHybrid ACC : 0.975\\nHybrid_W ACC : 0.9791666666666666'"
      ]
     },
     "execution_count": 8,
     "metadata": {},
     "output_type": "execute_result"
    }
   ],
   "source": [
    "'''score_top_k :  1\n",
    "elastic ACC :  0.7166666666666667\n",
    "Dense ACC :  0.2875\n",
    "Hybrid ACC : 0.775\n",
    "Hybrid_W ACC : 0.7708333333333334\n",
    "\n",
    "score_top_k :  5\n",
    "elastic ACC :  0.8583333333333333\n",
    "Dense ACC :  0.4583333333333333\n",
    "Hybrid ACC : 0.9\n",
    "Hybrid_W ACC : 0.9\n",
    "\n",
    "score_top_k :  10\n",
    "elastic ACC :  0.9\n",
    "Dense ACC :  0.5458333333333333\n",
    "Hybrid ACC : 0.95\n",
    "Hybrid_W ACC : 0.95\n",
    "\n",
    "score_top_k :  15\n",
    "elastic ACC :  0.925\n",
    "Dense ACC :  0.575\n",
    "Hybrid ACC : 0.9583333333333334\n",
    "Hybrid_W ACC : 0.9583333333333334\n",
    "\n",
    "score_top_k :  20\n",
    "elastic ACC :  0.9375\n",
    "Dense ACC :  0.6\n",
    "Hybrid ACC : 0.9666666666666667\n",
    "Hybrid_W ACC : 0.9666666666666667\n",
    "\n",
    "score_top_k :  50\n",
    "elastic ACC :  0.9541666666666667\n",
    "Dense ACC :  0.7208333333333333\n",
    "Hybrid ACC : 0.975\n",
    "Hybrid_W ACC : 0.9791666666666666'''"
   ]
  }
 ],
 "metadata": {
  "interpreter": {
   "hash": "d4d1e4263499bec80672ea0156c357c1ee493ec2b1c70f0acce89fc37c4a6abe"
  },
  "kernelspec": {
   "display_name": "Python 3.8.5 64-bit ('base': conda)",
   "name": "python3"
  },
  "language_info": {
   "codemirror_mode": {
    "name": "ipython",
    "version": 3
   },
   "file_extension": ".py",
   "mimetype": "text/x-python",
   "name": "python",
   "nbconvert_exporter": "python",
   "pygments_lexer": "ipython3",
   "version": "3.8.5"
  },
  "orig_nbformat": 4
 },
 "nbformat": 4,
 "nbformat_minor": 2
}
