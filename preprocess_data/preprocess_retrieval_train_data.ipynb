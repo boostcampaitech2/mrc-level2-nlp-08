{
 "cells": [
  {
   "cell_type": "code",
   "execution_count": 51,
   "metadata": {},
   "outputs": [],
   "source": [
    "import pandas as pd\n",
    "from datasets import load_from_disk, Dataset\n",
    "import pickle"
   ]
  },
  {
   "cell_type": "code",
   "execution_count": 52,
   "metadata": {},
   "outputs": [],
   "source": [
    "qg_data = pd.read_csv('/opt/ml/data/wiki_qg.tsv', names = ['question', 'answers', 'context'],sep ='\\t') # qg data load\n",
    "train_data = load_from_disk('/opt/ml/data/new_train_dataset/train').to_pandas() # preprocess train data load"
   ]
  },
  {
   "cell_type": "code",
   "execution_count": 53,
   "metadata": {},
   "outputs": [],
   "source": [
    "context_query = {k:v for k,v in zip(train_data['context'],train_data['question'])}"
   ]
  },
  {
   "cell_type": "code",
   "execution_count": 54,
   "metadata": {},
   "outputs": [
    {
     "data": {
      "text/html": [
       "<div>\n",
       "<style scoped>\n",
       "    .dataframe tbody tr th:only-of-type {\n",
       "        vertical-align: middle;\n",
       "    }\n",
       "\n",
       "    .dataframe tbody tr th {\n",
       "        vertical-align: top;\n",
       "    }\n",
       "\n",
       "    .dataframe thead th {\n",
       "        text-align: right;\n",
       "    }\n",
       "</style>\n",
       "<table border=\"1\" class=\"dataframe\">\n",
       "  <thead>\n",
       "    <tr style=\"text-align: right;\">\n",
       "      <th></th>\n",
       "      <th>question</th>\n",
       "      <th>answers</th>\n",
       "      <th>context</th>\n",
       "    </tr>\n",
       "  </thead>\n",
       "  <tbody>\n",
       "    <tr>\n",
       "      <th>0</th>\n",
       "      <td>생물학에서는 최종 전자전달체를 무엇이라고 부르는가?</td>\n",
       "      <td>전자수용체</td>\n",
       "      <td>전자수용체의 예로는 산소, 질산, 철(III), 망간(IV), 황산, 이산화 탄소 ...</td>\n",
       "    </tr>\n",
       "    <tr>\n",
       "      <th>1</th>\n",
       "      <td>1947년 미국생물학자 윌리엄킹 그레고리가 주장한 것은 무엇인가?</td>\n",
       "      <td>오리너구리</td>\n",
       "      <td>처음에 오리너구리와 그 밖의 단공류들은 연구된 것이 거의 없어서 19세기 내내 이들...</td>\n",
       "    </tr>\n",
       "    <tr>\n",
       "      <th>2</th>\n",
       "      <td>한국철도기술연구원에서 개발한 새로운 형태의 철도차량은 무엇인가?</td>\n",
       "      <td>병용 궤도</td>\n",
       "      <td>병용 궤도(倂用軌道) 혹은 노면 궤도(路面軌道)란 도로상에 부설된 궤도를 의미한다....</td>\n",
       "    </tr>\n",
       "    <tr>\n",
       "      <th>3</th>\n",
       "      <td>1991년 룩셈부르크 축구 클럽의 이름은 무엇인가?</td>\n",
       "      <td>F91 뒤들랑주</td>\n",
       "      <td>F91 뒤들랑주는 룩셈부르크의 축구 클럽으로, 1991년 설립되었다. F91 뒤들랑...</td>\n",
       "    </tr>\n",
       "    <tr>\n",
       "      <th>4</th>\n",
       "      <td>러시아 제국이 나폴레옹 전쟁 기간동안 일시적으로 프랑스 동맹국이 된 전쟁은?</td>\n",
       "      <td>나폴레옹 전쟁</td>\n",
       "      <td>러시아 원정|시베리아 러시아 제국은 나폴레옹 전쟁 기간 동안 일시적으로 프랑스의 동...</td>\n",
       "    </tr>\n",
       "  </tbody>\n",
       "</table>\n",
       "</div>"
      ],
      "text/plain": [
       "                                     question   answers  \\\n",
       "0                생물학에서는 최종 전자전달체를 무엇이라고 부르는가?     전자수용체   \n",
       "1        1947년 미국생물학자 윌리엄킹 그레고리가 주장한 것은 무엇인가?     오리너구리   \n",
       "2         한국철도기술연구원에서 개발한 새로운 형태의 철도차량은 무엇인가?     병용 궤도   \n",
       "3                1991년 룩셈부르크 축구 클럽의 이름은 무엇인가?  F91 뒤들랑주   \n",
       "4  러시아 제국이 나폴레옹 전쟁 기간동안 일시적으로 프랑스 동맹국이 된 전쟁은?   나폴레옹 전쟁   \n",
       "\n",
       "                                             context  \n",
       "0  전자수용체의 예로는 산소, 질산, 철(III), 망간(IV), 황산, 이산화 탄소 ...  \n",
       "1  처음에 오리너구리와 그 밖의 단공류들은 연구된 것이 거의 없어서 19세기 내내 이들...  \n",
       "2  병용 궤도(倂用軌道) 혹은 노면 궤도(路面軌道)란 도로상에 부설된 궤도를 의미한다....  \n",
       "3  F91 뒤들랑주는 룩셈부르크의 축구 클럽으로, 1991년 설립되었다. F91 뒤들랑...  \n",
       "4  러시아 원정|시베리아 러시아 제국은 나폴레옹 전쟁 기간 동안 일시적으로 프랑스의 동...  "
      ]
     },
     "execution_count": 54,
     "metadata": {},
     "output_type": "execute_result"
    }
   ],
   "source": [
    "qg_data.head()"
   ]
  },
  {
   "cell_type": "code",
   "execution_count": 55,
   "metadata": {},
   "outputs": [
    {
     "data": {
      "text/html": [
       "<div>\n",
       "<style scoped>\n",
       "    .dataframe tbody tr th:only-of-type {\n",
       "        vertical-align: middle;\n",
       "    }\n",
       "\n",
       "    .dataframe tbody tr th {\n",
       "        vertical-align: top;\n",
       "    }\n",
       "\n",
       "    .dataframe thead th {\n",
       "        text-align: right;\n",
       "    }\n",
       "</style>\n",
       "<table border=\"1\" class=\"dataframe\">\n",
       "  <thead>\n",
       "    <tr style=\"text-align: right;\">\n",
       "      <th></th>\n",
       "      <th>answers</th>\n",
       "      <th>context</th>\n",
       "      <th>id</th>\n",
       "      <th>question</th>\n",
       "    </tr>\n",
       "  </thead>\n",
       "  <tbody>\n",
       "    <tr>\n",
       "      <th>0</th>\n",
       "      <td>{'answer_start': [229], 'text': ['하원']}</td>\n",
       "      <td>미국 상의원 또는 미국 상원(United States Senate)은 양원제인 미국...</td>\n",
       "      <td>mrc-1-000067</td>\n",
       "      <td>대통령을 포함한 미국의 행정부 견제권을 갖는 국가 기관은?</td>\n",
       "    </tr>\n",
       "    <tr>\n",
       "      <th>1</th>\n",
       "      <td>{'answer_start': [212], 'text': ['《경영의 실제》']}</td>\n",
       "      <td>'근대적 경영학' 또는 '고전적 경영학'에서 현대적 경영학으로 전환되는 시기는 19...</td>\n",
       "      <td>mrc-0-004397</td>\n",
       "      <td>현대적 인사조직관리의 시발점이 된 책은?</td>\n",
       "    </tr>\n",
       "    <tr>\n",
       "      <th>2</th>\n",
       "      <td>{'answer_start': [503], 'text': ['백성']}</td>\n",
       "      <td>강희제는 강화된 황권으로 거의 황제 중심의 독단적으로 나라를 이끌어 갔기에 자칫 전...</td>\n",
       "      <td>mrc-1-000362</td>\n",
       "      <td>강희제가 1717년에 쓴 글은 누구를 위해 쓰여졌는가?</td>\n",
       "    </tr>\n",
       "    <tr>\n",
       "      <th>3</th>\n",
       "      <td>{'answer_start': [615], 'text': ['중국']}</td>\n",
       "      <td>불상을 모시기 위해 나무나 돌, 쇠 등을 깎아 일반적인 건축물보다 작은 규모로 만든...</td>\n",
       "      <td>mrc-0-001510</td>\n",
       "      <td>11~12세기에 제작된 본존불은 보통 어떤 나라의 특징이 전파되었나요?</td>\n",
       "    </tr>\n",
       "    <tr>\n",
       "      <th>4</th>\n",
       "      <td>{'answer_start': [30], 'text': ['4개']}</td>\n",
       "      <td>동아대학교박물관에서 소장하고 있는 계사명 사리구는 총 4개의 용기로 구성된 조선후기...</td>\n",
       "      <td>mrc-0-000823</td>\n",
       "      <td>명문이 적힌 유물을 구성하는 그릇의 총 개수는?</td>\n",
       "    </tr>\n",
       "  </tbody>\n",
       "</table>\n",
       "</div>"
      ],
      "text/plain": [
       "                                         answers  \\\n",
       "0        {'answer_start': [229], 'text': ['하원']}   \n",
       "1  {'answer_start': [212], 'text': ['《경영의 실제》']}   \n",
       "2        {'answer_start': [503], 'text': ['백성']}   \n",
       "3        {'answer_start': [615], 'text': ['중국']}   \n",
       "4         {'answer_start': [30], 'text': ['4개']}   \n",
       "\n",
       "                                             context            id  \\\n",
       "0  미국 상의원 또는 미국 상원(United States Senate)은 양원제인 미국...  mrc-1-000067   \n",
       "1  '근대적 경영학' 또는 '고전적 경영학'에서 현대적 경영학으로 전환되는 시기는 19...  mrc-0-004397   \n",
       "2  강희제는 강화된 황권으로 거의 황제 중심의 독단적으로 나라를 이끌어 갔기에 자칫 전...  mrc-1-000362   \n",
       "3  불상을 모시기 위해 나무나 돌, 쇠 등을 깎아 일반적인 건축물보다 작은 규모로 만든...  mrc-0-001510   \n",
       "4  동아대학교박물관에서 소장하고 있는 계사명 사리구는 총 4개의 용기로 구성된 조선후기...  mrc-0-000823   \n",
       "\n",
       "                                  question  \n",
       "0         대통령을 포함한 미국의 행정부 견제권을 갖는 국가 기관은?  \n",
       "1                   현대적 인사조직관리의 시발점이 된 책은?  \n",
       "2           강희제가 1717년에 쓴 글은 누구를 위해 쓰여졌는가?  \n",
       "3  11~12세기에 제작된 본존불은 보통 어떤 나라의 특징이 전파되었나요?  \n",
       "4               명문이 적힌 유물을 구성하는 그릇의 총 개수는?  "
      ]
     },
     "execution_count": 55,
     "metadata": {},
     "output_type": "execute_result"
    }
   ],
   "source": [
    "train_data.head()"
   ]
  },
  {
   "cell_type": "code",
   "execution_count": 56,
   "metadata": {},
   "outputs": [],
   "source": [
    "for i in range(len(qg_data)):\n",
    "    if not qg_data['context'][i] in context_query:\n",
    "        context_query[qg_data['context'][i]] = qg_data['question'][i] # context가 중복이 안되있으면 추가"
   ]
  },
  {
   "cell_type": "code",
   "execution_count": 57,
   "metadata": {},
   "outputs": [],
   "source": [
    "context_list = list(context_query.keys())\n",
    "query_list = list(context_query.values())"
   ]
  },
  {
   "cell_type": "code",
   "execution_count": 58,
   "metadata": {},
   "outputs": [
    {
     "name": "stdout",
     "output_type": "stream",
     "text": [
      "27956\n",
      "27956\n"
     ]
    }
   ],
   "source": [
    "print(len(context_list))\n",
    "print(len(query_list))"
   ]
  },
  {
   "cell_type": "code",
   "execution_count": 59,
   "metadata": {},
   "outputs": [
    {
     "name": "stdout",
     "output_type": "stream",
     "text": [
      "대통령을 포함한 미국의 행정부 견제권을 갖는 국가 기관은?\n",
      "\n",
      "미국 상의원 또는 미국 상원(United States Senate)은 양원제인 미국 의회의 상원이다. 미국 부통령이 상원의장이 된다. 각 주당 2명의 상원의원이 선출되어 100명의 상원의원으로 구성되어 있다. 임기는 6년이며, 2년마다 50개주 중 1/3씩 상원의원을 새로 선출하여 연방에 보낸다. 미국 상원은 미국 하원과는 다르게 미국 대통령을 수반으로 하는 미국 연방 행정부에 각종 동의를 하는 기관이다. 하원이 세금과 경제에 대한 권한, 대통령을 포함한 대다수의 공무원을 파면할 권한을 갖고 있는 국민을 대표하는 기관인 반면 상원은 미국의 주를 대표한다. 즉 캘리포니아주, 일리노이주 같이 주 정부와 주 의회를 대표하는 기관이다. 그로 인하여 군대의 파병, 관료의 임명에 대한 동의, 외국 조약에 대한 승인 등 신속을 요하는 권한은 모두 상원에게만 있다. 그리고 하원에 대한 견제 역할(하원의 법안을 거부할 권한 등)을 담당한다. 2년의 임기로 인하여 급진적일 수밖에 없는 하원은 지나치게 급진적인 법안을 만들기 쉽다. 대표적인 예로 건강보험 개혁 당시 하원이 미국 연방 행정부에게 퍼블릭 옵션(공공건강보험기관)의 조항이 있는 반면 상원의 경우 하원안이 지나치게 세금이 많이 든다는 이유로 퍼블릭 옵션 조항을 제외하고 비영리건강보험기관이나 보험회사가 담당하도록 한 것이다. 이 경우처럼 상원은 하원이나 내각책임제가 빠지기 쉬운 국가들의 국회처럼 걸핏하면 발생하는 의회의 비정상적인 사태를 방지하는 기관이다. 상원은 급박한 처리사항의 경우가 아니면 법안을 먼저 내는 경우가 드물고 하원이 만든 법안을 수정하여 다시 하원에 되돌려보낸다. 이러한 방식으로 단원제가 빠지기 쉬운 함정을 미리 방지하는 것이다.날짜=2017-02-05\n"
     ]
    }
   ],
   "source": [
    "print(query_list[0])\n",
    "print()\n",
    "print(context_list[0])"
   ]
  },
  {
   "cell_type": "code",
   "execution_count": 60,
   "metadata": {},
   "outputs": [],
   "source": [
    "retrieval_train_add_wiki = pd.DataFrame({\"context\" : context_list, \"question\": query_list})"
   ]
  },
  {
   "cell_type": "code",
   "execution_count": 63,
   "metadata": {},
   "outputs": [
    {
     "data": {
      "text/plain": [
       "<bound method DataFrame.to_feather of                                                  context  \\\n",
       "0      미국 상의원 또는 미국 상원(United States Senate)은 양원제인 미국...   \n",
       "1      '근대적 경영학' 또는 '고전적 경영학'에서 현대적 경영학으로 전환되는 시기는 19...   \n",
       "2      강희제는 강화된 황권으로 거의 황제 중심의 독단적으로 나라를 이끌어 갔기에 자칫 전...   \n",
       "3      불상을 모시기 위해 나무나 돌, 쇠 등을 깎아 일반적인 건축물보다 작은 규모로 만든...   \n",
       "4      동아대학교박물관에서 소장하고 있는 계사명 사리구는 총 4개의 용기로 구성된 조선후기...   \n",
       "...                                                  ...   \n",
       "27951  장하준(張夏準, 1963년 10월 7일 - )은 대한민국의 경제학자이자 영국 케임브...   \n",
       "27952  도리아나무타기캥거루(Dendrolagus dorianus)는 캥거루과에 속하는 나무...   \n",
       "27953  금성 범씨(錦城范氏)의 시조 범승조(范承祖)는 중국 낭야(瑯琊) 사람으로 원(元)나...   \n",
       "27954  2.9|N|126|55|33|E|type:edu|display=title 홍익대학교...   \n",
       "27955  1990년 1월에, 세가는 백만부 이상이 팔릴 게임과 알렉스 키드를 대체할 회사 마...   \n",
       "\n",
       "                                        question  \n",
       "0               대통령을 포함한 미국의 행정부 견제권을 갖는 국가 기관은?  \n",
       "1                         현대적 인사조직관리의 시발점이 된 책은?  \n",
       "2                        강희제가 소박한 사람이라며 칭찬한 인물은?  \n",
       "3        11~12세기에 제작된 본존불은 보통 어떤 나라의 특징이 전파되었나요?  \n",
       "4               승표 부부에 대해 적혀있는 명문은 무엇으로 쓰여진 것인가?  \n",
       "...                                          ...  \n",
       "27951                  영국 케임브리지대학교 경제학 부교수의 이름은?  \n",
       "27952  뉴기니 섬의 해발 고도 800~3600m 지역에서 발견된 유대류의 이름은?  \n",
       "27953                         금성의 범승조는 누구의 시조인가?  \n",
       "27954                         홍대입구에 있는 대학교의 이름은?  \n",
       "27955                  2001년 컴파일도산으로 인해 생겨난 이름은?  \n",
       "\n",
       "[27956 rows x 2 columns]>"
      ]
     },
     "execution_count": 63,
     "metadata": {},
     "output_type": "execute_result"
    }
   ],
   "source": [
    "retrieval_train_add_wiki.to_feather"
   ]
  },
  {
   "cell_type": "code",
   "execution_count": 65,
   "metadata": {},
   "outputs": [],
   "source": [
    "retrieval_train_add_wiki_datasets = Dataset.from_pandas(retrieval_train_add_wiki)\n",
    "retrieval_train_add_wiki_datasets.save_to_disk('/opt/ml/data/train_dataset/retrieval_train_add_wiki_qg')"
   ]
  }
 ],
 "metadata": {
  "interpreter": {
   "hash": "d4d1e4263499bec80672ea0156c357c1ee493ec2b1c70f0acce89fc37c4a6abe"
  },
  "kernelspec": {
   "display_name": "Python 3.8.5 64-bit ('base': conda)",
   "name": "python3"
  },
  "language_info": {
   "codemirror_mode": {
    "name": "ipython",
    "version": 3
   },
   "file_extension": ".py",
   "mimetype": "text/x-python",
   "name": "python",
   "nbconvert_exporter": "python",
   "pygments_lexer": "ipython3",
   "version": "3.8.5"
  },
  "orig_nbformat": 4
 },
 "nbformat": 4,
 "nbformat_minor": 2
}
