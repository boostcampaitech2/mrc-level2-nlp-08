{
 "cells": [
  {
   "cell_type": "code",
   "execution_count": 1,
   "metadata": {},
   "outputs": [],
   "source": [
    "import json"
   ]
  },
  {
   "cell_type": "code",
   "execution_count": 28,
   "metadata": {},
   "outputs": [],
   "source": [
    "# with open(\"nbest_predictions.json\", encoding=\"utf-8\") as json_file:\n",
    "#     json_data = json.load(json_file)\n",
    "# with open(\"predictions.json\", encoding=\"utf-8\") as json_file:\n",
    "#     raw_answer = json.load(json_file)\n",
    "\n",
    "# with open(\"sota_nbest.json\", encoding=\"utf-8\") as json_file:\n",
    "with open(\"/opt/ml/develop/ttttt/hb_k_20/nbest_predictions.json\", encoding=\"utf-8\") as json_file:\n",
    "    json_data = json.load(json_file)\n",
    "with open(\"/opt/ml/develop/ttttt/hb_k_20/predictions.json\", encoding=\"utf-8\") as json_file:\n",
    "    raw_answer = json.load(json_file)"
   ]
  },
  {
   "cell_type": "code",
   "execution_count": 29,
   "metadata": {},
   "outputs": [],
   "source": [
    "mrc_id = list(json_data.keys())"
   ]
  },
  {
   "cell_type": "code",
   "execution_count": 30,
   "metadata": {},
   "outputs": [],
   "source": [
    "last_answer = {}\n",
    "for i in range(len(mrc_id)):\n",
    "    answer_dict = {}  \n",
    "    for j in range(len(json_data[mrc_id[i]])):\n",
    "        answer = json_data[mrc_id[i]][j]['text']\n",
    "        prob = json_data[mrc_id[i]][j][\"probability\"]\n",
    "\n",
    "        if not answer in answer_dict:\n",
    "            answer_dict[answer] = prob\n",
    "        else:\n",
    "            answer_dict[answer] += prob\n",
    "    temp = list(answer_dict.items())\n",
    "    temp.sort(key=lambda x:x[1],reverse=True)\n",
    "    last_answer[mrc_id[i]] = temp[0][0]\n"
   ]
  },
  {
   "cell_type": "code",
   "execution_count": 31,
   "metadata": {},
   "outputs": [
    {
     "name": "stdout",
     "output_type": "stream",
     "text": [
      "mrc-0-000140 :  레이프 세거스탐  ->  오코 카무\n",
      "mrc-1-001332 :  제거스탐  ->  레이프 세거스탐\n",
      "mrc-0-004017 :  운항부주의, 방수구(放水口) 부족  ->  정원 초과\n",
      "mrc-0-002716 :  <개선(凱旋)>  ->  ≪지에코초≫\n",
      "mrc-1-000387 :  독일 DFN  ->  국가기관\n",
      "mrc-1-000267 :  지상 2층  ->  2층\n",
      "mrc-0-003501 :  해적계열과 백병전특화계열  ->  이들 계열 직업\n"
     ]
    }
   ],
   "source": [
    "for i in range(len(mrc_id)):\n",
    "    if last_answer[mrc_id[i]] != raw_answer[mrc_id[i]]:\n",
    "        print(mrc_id[i],': ',raw_answer[mrc_id[i]], ' -> ', last_answer[mrc_id[i]])"
   ]
  },
  {
   "cell_type": "code",
   "execution_count": 32,
   "metadata": {},
   "outputs": [],
   "source": [
    "with open(\"proprecessing_predictions.json\", \"w\", encoding=\"utf-8\") as make_file:\n",
    "        json.dump(last_answer, make_file, indent=\"\\t\", ensure_ascii=False)"
   ]
  },
  {
   "cell_type": "code",
   "execution_count": 33,
   "metadata": {},
   "outputs": [],
   "source": [
    "temp.sort(key=lambda x:x[1],reverse=True)"
   ]
  },
  {
   "cell_type": "code",
   "execution_count": 34,
   "metadata": {},
   "outputs": [
    {
     "data": {
      "text/plain": [
       "[('수수께끼의 콘드률', 0.944307804107666),\n",
       " ('콘드률', 0.05293656059075147),\n",
       " ('수수께끼의 콘드', 0.001019174582324922),\n",
       " ('수수께끼', 0.0005353409214876592),\n",
       " ('의 콘드률', 0.0004267139302100986),\n",
       " ('률', 0.0002067189197987318),\n",
       " ('드률', 0.00011781544162658975),\n",
       " ('수수께끼의 콘', 0.00010568676952971146),\n",
       " ('미세구조의 먼지', 6.761701661162078e-05),\n",
       " ('구립운석을 구성하는 성분 중 유명한 것은 수수께끼의 콘드률', 6.63630198687315e-05),\n",
       " ('콘드', 5.706709998776205e-05),\n",
       " ('수수께끼의 콘드률로', 5.655181303154677e-05),\n",
       " ('은 수수께끼의 콘드률', 5.4766649554949254e-05),\n",
       " ('수수께끼의', 2.183789729315322e-05),\n",
       " ('미세구조의 먼지로 구성되는데 그것은 암석의 맥석으로 존재하거나 각각의 콘드률', 6.7914520514023025e-06),\n",
       " ('콘', 5.917765520280227e-06),\n",
       " ('콘드률로', 3.1665279038861627e-06),\n",
       " ('실리케이트 광물의 고립된 입자들이 풍부하다. 구립운석의 나머지는 미세구조의 먼지', 2.1366420241974993e-06),\n",
       " ('먼지', 1.847577891567198e-06)]"
      ]
     },
     "execution_count": 34,
     "metadata": {},
     "output_type": "execute_result"
    }
   ],
   "source": [
    "temp"
   ]
  },
  {
   "cell_type": "code",
   "execution_count": null,
   "metadata": {},
   "outputs": [],
   "source": []
  },
  {
   "cell_type": "code",
   "execution_count": null,
   "metadata": {},
   "outputs": [],
   "source": []
  }
 ],
 "metadata": {
  "interpreter": {
   "hash": "d4d1e4263499bec80672ea0156c357c1ee493ec2b1c70f0acce89fc37c4a6abe"
  },
  "kernelspec": {
   "display_name": "Python 3 (ipykernel)",
   "language": "python",
   "name": "python3"
  },
  "language_info": {
   "codemirror_mode": {
    "name": "ipython",
    "version": 3
   },
   "file_extension": ".py",
   "mimetype": "text/x-python",
   "name": "python",
   "nbconvert_exporter": "python",
   "pygments_lexer": "ipython3",
   "version": "3.8.5"
  }
 },
 "nbformat": 4,
 "nbformat_minor": 4
}
