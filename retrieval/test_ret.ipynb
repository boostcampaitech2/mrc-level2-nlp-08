{
 "cells": [
  {
   "cell_type": "code",
   "execution_count": 17,
   "metadata": {},
   "outputs": [],
   "source": [
    "from retrieval import SparseRetrieval\n",
    "from transformers import AutoTokenizer\n",
    "from datasets import load_from_disk\n",
    "import pickle"
   ]
  },
  {
   "cell_type": "code",
   "execution_count": 2,
   "metadata": {},
   "outputs": [
    {
     "name": "stderr",
     "output_type": "stream",
     "text": [
      "Token indices sequence length is longer than the specified maximum sequence length for this model (1131 > 512). Running this sequence through the model will result in indexing errors\n",
      "/opt/conda/lib/python3.8/site-packages/elasticsearch/connection/base.py:209: ElasticsearchWarning: Elasticsearch built-in security features are not enabled. Without authentication, your cluster could be accessible to anyone. See https://www.elastic.co/guide/en/elasticsearch/reference/7.15/security-minimal-setup.html to enable security.\n",
      "  warnings.warn(message, category=ElasticsearchWarning)\n"
     ]
    }
   ],
   "source": [
    "tokenizer = AutoTokenizer.from_pretrained('klue/bert-base')\n",
    "elastic = SparseRetrieval(tokenizer=tokenizer)"
   ]
  },
  {
   "cell_type": "code",
   "execution_count": 14,
   "metadata": {},
   "outputs": [],
   "source": [
    "valid_dataset = load_from_disk('/opt/ml/data/test_dataset/validation').to_pandas()\n",
    "querys = valid_dataset['question']"
   ]
  },
  {
   "cell_type": "code",
   "execution_count": 15,
   "metadata": {},
   "outputs": [
    {
     "name": "stdout",
     "output_type": "stream",
     "text": [
      "[44632, 39131, 49784, 43137, 25404]\n",
      "[16.454752, 15.421627, 15.076581, 14.694883, 14.593898]\n",
      "모린의 직업은 퍼스널 쇼퍼이다. 파리에 머물며 유명 모델인 키라의 옷이나 액세서리를 대신 쇼핑해준다. 쌍둥이 오빠인 루이스는 희귀한 심장 질환으로 최근 세상을 떠났고, 모린 또한 같은 병으로 언제 죽을지 알 수 없다. 또 남매는 유령의 존재를 믿고 영매가 가능하였다(또는 그렇게 믿었다). 하지만 모린의 남자친구 게리는 사후세계를 믿지 않고, 모린에게 일을 관두고 프랑스를 떠나 자신이 있는 오만으로 오라고 한다. 모린은 루이스의 저택에 간다. 루이스와 함께 살던 연인 라라가 저택을 팔기 전에, 모린으로 하여금 집에 유령이 있는지 알아봐달라고 부탁한 것이었다. 구매자들과 이야기하면서 모린은 '힐마 아프 클린트'라는, 영적인 세계를 그린 스웨덴 화가에 대해 알게 된다. 키라의 옷을 사들고 키라의 맨션으로 간 모린은 그곳에서 키라의 불륜 상대라는 잉고라는 남자와 만난다. 잉고는 모린과 이야기하면서, 키라가 남편에게 불륜을 들킬까봐 자기와 헤어지려고 하고 있다고 걱정한다. 키라는 전화통화를 하느라 바빠 모린은 그냥 돌아간다. 며칠 후 모린은 루이스의 저택에서 홀로 하룻밤을 보내면서 유령의 기척을 느낀다. 루이스냐고 외쳤지만, 여자 유령의 형체가 나타나고 모린은 깜짝 놀라 저택을 뛰쳐나가 버린다. 키라의 옷을 구매하러 런던을 오가는 길에, 모린은 익명의 누군가가 보낸 문자 메시지를 받는다. 루이스냐고 물었지만 메시지는 답을 해주지 않는다. 모린은 계속해서 메시지를 하는데, 메시지는 모린의 모든 행동을 알고 있고 모린의 속내를 꿰뚫어 보았다. 모린은 공포 영화의 두려워 하는 여주인공을 무서워 했고, 또 고용주인 키라의 옷을 직접 입어보고 싶어 하는 은밀한 욕구를 갖고 있었다. 결국 키라가 집을 비운 날 모린은 그 집에서 키라의 드레스를 입어보고, 옷을 입은 자신의 사진을 찍어 메시지로 보내고, 침대 위에 누워 자위행위를 한다. 모린이 잠들기 전에 일전의 여자 유령이 나타난다. 다음날 모린은 루이스의 저택에는 더 이상 유령이 없다고 말한다. 메시지는 어느 날 어느 호텔의 방을 예약했다며 모린에게 다녀오게 한다. 방에는 아무도 없었고, 모린이 체크인한 사람을 알아보니 이름은 모린의 이름으로 되어 있었고 그게 누군지는 알 수 없었다. 이후 모린이 키라의 값비싼 패물을 가지고 키라의 집을 찾아가자 그곳에는 피범벅이 된 키라의 시체가 있었다. 모린은 시체와, 또 다시 나타난 유령의 형상에 놀라 달아났다가 다시 돌아와 경찰에 신고한다. 그 와중에 패물이 어디론가 사라졌고, 형사는 모린을 의심한다. 패물은 나중에 모린의 집에서 발견된다. 메시지는 모린에게 호텔 방에 패물을 가져다 두라고 한다. 모린이 있는 호텔 방에 누군가가 방문한다. 그 다음, 아무도 없이 호텔 문이 열렸다 닫히고, 잉고가 호텔에서 나와 떠나려다가 경찰에게 체포된다. 잉고는 키라를 살해했다고 자백한다. 사건 이후 모린은 라라의 새 남자친구라는 어윈과 만난다. 어윈은 루이스의 친구였다면서, 루이스의 자리를 빼앗은 것 같아 미안하다고 한다. 어윈이 떠나고 혼자 있는 모린의 뒤로 바람이 불고 허공에서 유리잔이 떨어져 깨진다. 시간이 흘러 모린은 게리를 좇아 오만의 산간지역에 도착한다. 게리가 잡아준 여관 방에 도착하니, 또 다시 이상한 소리와 함께 허공에서 유리잔이 떨어져 깨진다. 모린은 질문을 하고 흔들림 한 번에 긍정, 흔들림 두 번에 부정의 대답을 얻는다. 모린이 '루이스야?'라고 묻자 대답이 없고, '아니면 그냥 내 자신?'이냐고 묻자 한 번 흔들린다.\n"
     ]
    }
   ],
   "source": [
    "doc_ids, scores = elastic.get_topk_doc_id_and_score('유령은 어느 행성에서 왔는가?',5)\n",
    "print(doc_ids)\n",
    "print(scores)\n",
    "print(elastic.wiki_id_context_dict[doc_ids[0]])"
   ]
  },
  {
   "cell_type": "code",
   "execution_count": 16,
   "metadata": {},
   "outputs": [
    {
     "name": "stderr",
     "output_type": "stream",
     "text": [
      "100%|██████████| 600/600 [00:13<00:00, 45.71it/s]"
     ]
    },
    {
     "name": "stdout",
     "output_type": "stream",
     "text": [
      "[43280, 47081, 35064, 24024, 42242]\n",
      "[20.487246, 20.10372, 19.851677, 19.529999, 18.778242]\n"
     ]
    },
    {
     "name": "stderr",
     "output_type": "stream",
     "text": [
      "\n"
     ]
    }
   ],
   "source": [
    "query_ids, query_scores = elastic.get_topk_doc_id_and_score_for_querys(querys,5)\n",
    "print(query_ids[querys[0]])\n",
    "print(query_scores[querys[0]])"
   ]
  },
  {
   "cell_type": "code",
   "execution_count": null,
   "metadata": {},
   "outputs": [],
   "source": [
    "with open(\"es_q_ids.bin\", \"wb\") as file:\n",
    "    pickle.dump(query_ids, file)\n",
    "with open(\"es_q_scores.bin\", \"wb\") as file:\n",
    "    pickle.dump(query_scores, file)"
   ]
  }
 ],
 "metadata": {
  "interpreter": {
   "hash": "d4d1e4263499bec80672ea0156c357c1ee493ec2b1c70f0acce89fc37c4a6abe"
  },
  "kernelspec": {
   "display_name": "Python 3.8.5 64-bit ('base': conda)",
   "name": "python3"
  },
  "language_info": {
   "codemirror_mode": {
    "name": "ipython",
    "version": 3
   },
   "file_extension": ".py",
   "mimetype": "text/x-python",
   "name": "python",
   "nbconvert_exporter": "python",
   "pygments_lexer": "ipython3",
   "version": "3.8.5"
  },
  "orig_nbformat": 4
 },
 "nbformat": 4,
 "nbformat_minor": 2
}
