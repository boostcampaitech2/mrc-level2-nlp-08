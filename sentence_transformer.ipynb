{
 "cells": [
  {
   "cell_type": "code",
   "execution_count": 31,
   "metadata": {},
   "outputs": [],
   "source": [
    "import numpy as np\n",
    "from sentence_transformers import SentenceTransformer\n",
    "import datasets\n",
    "from datasets import load_from_disk\n",
    "from sklearn.metrics.pairwise import cosine_similarity\n",
    "import pickle\n",
    "from sentence_transformers import SentenceTransformer, InputExample, losses, evaluation\n",
    "from torch.utils.data import DataLoader"
   ]
  },
  {
   "cell_type": "code",
   "execution_count": 1,
   "metadata": {},
   "outputs": [],
   "source": [
    "td = load_from_disk(\"../train_with_origin_gt_add_top_k_passage/not_include_answer_passage_train_es_top_4\")\n",
    "vd = load_from_disk(\"../valid_with_origin_gt_add_top_k_passage/not_include_answer_passage_valid_es_top_4\")\n",
    "\n",
    "model = SentenceTransformer(\"KR-SBERT/KR-SBERT-V40K-klueNLI-augSTS\")\n",
    "\n"
   ]
  },
  {
   "cell_type": "code",
   "execution_count": 2,
   "metadata": {},
   "outputs": [],
   "source": [
    "import json\n",
    "\n",
    "with open('../data/preprocess_wiki.json', \"r\", encoding=\"utf-8\") as f:\n",
    "    wiki = json.load(f)"
   ]
  },
  {
   "cell_type": "code",
   "execution_count": 3,
   "metadata": {},
   "outputs": [
    {
     "data": {
      "text/plain": [
       "Dataset({\n",
       "    features: ['question', 'id'],\n",
       "    num_rows: 600\n",
       "})"
      ]
     },
     "execution_count": 3,
     "metadata": {},
     "output_type": "execute_result"
    }
   ],
   "source": [
    "with open('../hybrid_test_retrieval_v3.bin','rb') as f:\n",
    "    hb_v3 = pickle.load(f)\n",
    "\n",
    "with open('../elastic_test_500.bin', 'rb') as f:\n",
    "    es_500 = pickle.load(f)\n",
    "\n",
    "test_dataset = load_from_disk('../data/test_dataset')['validation']\n",
    "test_dataset"
   ]
  },
  {
   "cell_type": "code",
   "execution_count": 6,
   "metadata": {},
   "outputs": [],
   "source": [
    "with open('../data/sparse_embedding.bin', 'rb') as f:\n",
    "    sparse_embedding = pickle.load(f)\n",
    "with open('../data/tfidv.bin', 'rb') as f:\n",
    "    tfidfv = pickle.load(f)\n",
    "\n",
    "k = 500\n",
    "\n",
    "queries = test_dataset['question']\n",
    "query_vec = tfidfv.transform(queries)\n",
    "# assert np.sum(query_vec) != 0, \"오류가 발생했습니다. 이 오류는 보통 query에 vectorizer의 vocab에 없는 단어만 존재하는 경우 발생합니다.\"\n",
    "\n",
    "result = query_vec * sparse_embedding.T\n",
    "result = result.toarray()\n",
    "\n",
    "doc_scores = []\n",
    "doc_indices = []\n",
    "for i in range(result.shape[0]):\n",
    "    sorted_result = np.argsort(result[i, :])[::-1]\n",
    "    doc_scores.append(result[i, :][sorted_result].tolist()[:k])\n",
    "    doc_indices.append(sorted_result.tolist()[:k])"
   ]
  },
  {
   "cell_type": "code",
   "execution_count": 7,
   "metadata": {},
   "outputs": [],
   "source": [
    "question_embedding = model.encode(queries)"
   ]
  },
  {
   "cell_type": "code",
   "execution_count": 9,
   "metadata": {},
   "outputs": [
    {
     "data": {
      "text/plain": [
       "(600, 768)"
      ]
     },
     "execution_count": 9,
     "metadata": {},
     "output_type": "execute_result"
    }
   ],
   "source": [
    "question_embedding.shape"
   ]
  },
  {
   "cell_type": "code",
   "execution_count": 55,
   "metadata": {},
   "outputs": [],
   "source": [
    "t_q = list(es_500.keys())\n",
    "t_p = list(es_500.values())"
   ]
  },
  {
   "cell_type": "code",
   "execution_count": 22,
   "metadata": {},
   "outputs": [
    {
     "data": {
      "text/plain": [
       "500"
      ]
     },
     "execution_count": 22,
     "metadata": {},
     "output_type": "execute_result"
    }
   ],
   "source": [
    "len(t_p[0])"
   ]
  },
  {
   "cell_type": "code",
   "execution_count": 53,
   "metadata": {},
   "outputs": [],
   "source": [
    "def cos_sim(q_emb, p_emb):\n",
    "    return np.dot(q_emb, p_emb) / (np.linalg.norm(q_emb) * np.linalg.norm(p_emb))"
   ]
  },
  {
   "cell_type": "code",
   "execution_count": null,
   "metadata": {},
   "outputs": [],
   "source": [
    "for i in range(30):\n",
    "    q_emb = model.encode(t_q[0])\n",
    "    p_emb = model.encode(wiki[str(t_p[0][i])]['text'])\n",
    "    print(np.dot(q_emb, p_emb) / (np.linalg.norm(q_emb) * np.linalg.norm(p_emb)))"
   ]
  },
  {
   "cell_type": "code",
   "execution_count": 58,
   "metadata": {},
   "outputs": [
    {
     "name": "stderr",
     "output_type": "stream",
     "text": [
      "100%|██████████| 600/600 [1:16:01<00:00,  7.60s/it]\n"
     ]
    }
   ],
   "source": [
    "from tqdm import tqdm\n",
    "\n",
    "ranks = []\n",
    "for i in tqdm(range(len(t_q))):\n",
    "    q_emb = model.encode(t_q[i])\n",
    "    \n",
    "    rank = []\n",
    "    for j in range(len(t_p[i])):\n",
    "        p_emb = model.encode(wiki[str(t_p[i][j])]['text'])\n",
    "        rank.append(cos_sim(q_emb, p_emb))\n",
    "    \n",
    "    ranks.append(rank)"
   ]
  },
  {
   "cell_type": "code",
   "execution_count": 69,
   "metadata": {},
   "outputs": [
    {
     "data": {
      "text/plain": [
       "43280"
      ]
     },
     "execution_count": 69,
     "metadata": {},
     "output_type": "execute_result"
    }
   ],
   "source": [
    "t_p[0][0]"
   ]
  },
  {
   "cell_type": "code",
   "execution_count": 105,
   "metadata": {},
   "outputs": [],
   "source": []
  },
  {
   "cell_type": "code",
   "execution_count": null,
   "metadata": {},
   "outputs": [],
   "source": []
  },
  {
   "cell_type": "code",
   "execution_count": null,
   "metadata": {},
   "outputs": [],
   "source": []
  },
  {
   "cell_type": "markdown",
   "metadata": {},
   "source": [
    "## only passage rank"
   ]
  },
  {
   "cell_type": "code",
   "execution_count": 62,
   "metadata": {},
   "outputs": [],
   "source": [
    "tmp = ranks"
   ]
  },
  {
   "cell_type": "code",
   "execution_count": 73,
   "metadata": {},
   "outputs": [
    {
     "data": {
      "text/plain": [
       "43280"
      ]
     },
     "execution_count": 73,
     "metadata": {},
     "output_type": "execute_result"
    }
   ],
   "source": [
    "t_p[0][0]"
   ]
  },
  {
   "cell_type": "code",
   "execution_count": 74,
   "metadata": {},
   "outputs": [],
   "source": [
    "passage_rank = {}\n",
    "for i in range(len(tmp)):\n",
    "    id_rank_table = {}\n",
    "    for doc_id, score in zip(t_p[i], tmp[i]):\n",
    "        id_rank_table[doc_id] = score\n",
    "    passage_rank[i] = id_rank_table"
   ]
  },
  {
   "cell_type": "code",
   "execution_count": 80,
   "metadata": {},
   "outputs": [
    {
     "data": {
      "text/plain": [
       "dict"
      ]
     },
     "execution_count": 80,
     "metadata": {},
     "output_type": "execute_result"
    }
   ],
   "source": [
    "type(passage_rank[0])"
   ]
  },
  {
   "cell_type": "code",
   "execution_count": null,
   "metadata": {},
   "outputs": [],
   "source": [
    "# a = passage_rank[0]\n",
    "\n",
    "for i in range(len(passage_rank)):\n",
    "    passage_rank[i] = dict(sorted(passage_rank[i].items(), key=lambda x : x[1], reverse=True))\n"
   ]
  },
  {
   "cell_type": "code",
   "execution_count": 165,
   "metadata": {},
   "outputs": [
    {
     "data": {
      "text/html": [
       "<div>\n",
       "<style scoped>\n",
       "    .dataframe tbody tr th:only-of-type {\n",
       "        vertical-align: middle;\n",
       "    }\n",
       "\n",
       "    .dataframe tbody tr th {\n",
       "        vertical-align: top;\n",
       "    }\n",
       "\n",
       "    .dataframe thead th {\n",
       "        text-align: right;\n",
       "    }\n",
       "</style>\n",
       "<table border=\"1\" class=\"dataframe\">\n",
       "  <thead>\n",
       "    <tr style=\"text-align: right;\">\n",
       "      <th></th>\n",
       "      <th>id</th>\n",
       "      <th>question</th>\n",
       "      <th>context</th>\n",
       "    </tr>\n",
       "  </thead>\n",
       "  <tbody>\n",
       "    <tr>\n",
       "      <th>0</th>\n",
       "      <td>mrc-1-000653</td>\n",
       "      <td>유령'은 어느 행성에서 지구로 왔는가?</td>\n",
       "      <td>이 정의는 엄밀해야 할 정의가 모호성을 띄고 있다는 점에서 비판을 많이 받았다. 천...</td>\n",
       "    </tr>\n",
       "    <tr>\n",
       "      <th>1</th>\n",
       "      <td>mrc-1-001113</td>\n",
       "      <td>용병회사의 경기가 좋아진 것은 무엇이 끝난 이후부터인가?</td>\n",
       "      <td>여범규 감독이 새로 부임하고 K리그 챌린지에서 리그를 시작한 광주는 루시오, 김은선...</td>\n",
       "    </tr>\n",
       "    <tr>\n",
       "      <th>2</th>\n",
       "      <td>mrc-0-002191</td>\n",
       "      <td>돌푸스에게 불특정 기간동안 하원이 잠시 쉬는 것을 건의 받았던 인물은?</td>\n",
       "      <td>하원 회의장은 궁전의 북쪽 끝에 위치해 있다. 방의 크기는 14*20.7m이고, 상...</td>\n",
       "    </tr>\n",
       "    <tr>\n",
       "      <th>3</th>\n",
       "      <td>mrc-0-003951</td>\n",
       "      <td>마오리언어와 영어, 뉴질랜드 수화를 공식 언어로 사용하는 나라는?</td>\n",
       "      <td>외국어(外國語)는 'foreign language'에 해당하는 말인데, 이 말의 문...</td>\n",
       "    </tr>\n",
       "    <tr>\n",
       "      <th>4</th>\n",
       "      <td>mrc-1-001272</td>\n",
       "      <td>디엔비엔푸 전투에서 보응우옌잡이 상대한 국가는?</td>\n",
       "      <td>이 성의 수도인 뚜옌꽝은 이 지역에서 벌어진 전투의 풍부한 역사를 가지고 있다. 가...</td>\n",
       "    </tr>\n",
       "    <tr>\n",
       "      <th>...</th>\n",
       "      <td>...</td>\n",
       "      <td>...</td>\n",
       "      <td>...</td>\n",
       "    </tr>\n",
       "    <tr>\n",
       "      <th>595</th>\n",
       "      <td>mrc-0-002989</td>\n",
       "      <td>타입 2 가이아 메모리을 만든 집단은?</td>\n",
       "      <td>재단 X가 슈라우드(=소노자키 후미네)가 개발한 가이아 메모리의 테크놀로지를 분석,...</td>\n",
       "    </tr>\n",
       "    <tr>\n",
       "      <th>596</th>\n",
       "      <td>mrc-0-001804</td>\n",
       "      <td>장면이 정치보복에 반대하는 입장에서 처벌을 원치 않은 대상은?</td>\n",
       "      <td>이명박 정부의 중간평가 성격이 짙은 것으로 평가되는 지방선거에서 한나라당은 패배를 ...</td>\n",
       "    </tr>\n",
       "    <tr>\n",
       "      <th>597</th>\n",
       "      <td>mrc-0-003411</td>\n",
       "      <td>콜드게임 중 어떠한 계기로 인해 잠시 중단된 뒤, 익일에 게임이 진행되는 것은?</td>\n",
       "      <td>콜드게임(called game)이란 야구나 소프트볼 등의 운동경기에서 심판에 의하여...</td>\n",
       "    </tr>\n",
       "    <tr>\n",
       "      <th>598</th>\n",
       "      <td>mrc-0-003436</td>\n",
       "      <td>제2캐나다기갑여단이 상륙한 곳은?</td>\n",
       "      <td>제2캐나다보병사단이 주력 부대로 투입되기 직전이자 영국에 도착하여 편성을 바꾼지 약...</td>\n",
       "    </tr>\n",
       "    <tr>\n",
       "      <th>599</th>\n",
       "      <td>mrc-0-002605</td>\n",
       "      <td>구립운석을 이루는 물질 중 널리 알려진 것은?</td>\n",
       "      <td>구립운석(球粒隕石, 콘드라이트)는 석질운석의 일종으로, 운석의 원석이 용융이나 분화...</td>\n",
       "    </tr>\n",
       "  </tbody>\n",
       "</table>\n",
       "<p>600 rows × 3 columns</p>\n",
       "</div>"
      ],
      "text/plain": [
       "               id                                      question  \\\n",
       "0    mrc-1-000653                         유령'은 어느 행성에서 지구로 왔는가?   \n",
       "1    mrc-1-001113               용병회사의 경기가 좋아진 것은 무엇이 끝난 이후부터인가?   \n",
       "2    mrc-0-002191       돌푸스에게 불특정 기간동안 하원이 잠시 쉬는 것을 건의 받았던 인물은?   \n",
       "3    mrc-0-003951          마오리언어와 영어, 뉴질랜드 수화를 공식 언어로 사용하는 나라는?   \n",
       "4    mrc-1-001272                    디엔비엔푸 전투에서 보응우옌잡이 상대한 국가는?   \n",
       "..            ...                                           ...   \n",
       "595  mrc-0-002989                         타입 2 가이아 메모리을 만든 집단은?   \n",
       "596  mrc-0-001804            장면이 정치보복에 반대하는 입장에서 처벌을 원치 않은 대상은?   \n",
       "597  mrc-0-003411  콜드게임 중 어떠한 계기로 인해 잠시 중단된 뒤, 익일에 게임이 진행되는 것은?   \n",
       "598  mrc-0-003436                            제2캐나다기갑여단이 상륙한 곳은?   \n",
       "599  mrc-0-002605                     구립운석을 이루는 물질 중 널리 알려진 것은?   \n",
       "\n",
       "                                               context  \n",
       "0    이 정의는 엄밀해야 할 정의가 모호성을 띄고 있다는 점에서 비판을 많이 받았다. 천...  \n",
       "1    여범규 감독이 새로 부임하고 K리그 챌린지에서 리그를 시작한 광주는 루시오, 김은선...  \n",
       "2    하원 회의장은 궁전의 북쪽 끝에 위치해 있다. 방의 크기는 14*20.7m이고, 상...  \n",
       "3    외국어(外國語)는 'foreign language'에 해당하는 말인데, 이 말의 문...  \n",
       "4    이 성의 수도인 뚜옌꽝은 이 지역에서 벌어진 전투의 풍부한 역사를 가지고 있다. 가...  \n",
       "..                                                 ...  \n",
       "595  재단 X가 슈라우드(=소노자키 후미네)가 개발한 가이아 메모리의 테크놀로지를 분석,...  \n",
       "596  이명박 정부의 중간평가 성격이 짙은 것으로 평가되는 지방선거에서 한나라당은 패배를 ...  \n",
       "597  콜드게임(called game)이란 야구나 소프트볼 등의 운동경기에서 심판에 의하여...  \n",
       "598  제2캐나다보병사단이 주력 부대로 투입되기 직전이자 영국에 도착하여 편성을 바꾼지 약...  \n",
       "599  구립운석(球粒隕石, 콘드라이트)는 석질운석의 일종으로, 운석의 원석이 용융이나 분화...  \n",
       "\n",
       "[600 rows x 3 columns]"
      ]
     },
     "execution_count": 165,
     "metadata": {},
     "output_type": "execute_result"
    }
   ],
   "source": [
    "import pandas as pd\n",
    "\n",
    "hb_t = []\n",
    "\n",
    "for i in range(len(t_q)):\n",
    "    hb_t.append({\n",
    "        'id': test_dataset['id'][i],\n",
    "        'question': t_q[i],\n",
    "        'context': \" \".join([wiki[str(p)]['text'] for p in list(list(passage_rank.values())[i].keys())[:20]])\n",
    "    })\n",
    "hb =pd.DataFrame(hb_t)\n",
    "hb\n"
   ]
  },
  {
   "cell_type": "code",
   "execution_count": 169,
   "metadata": {},
   "outputs": [],
   "source": [
    "from datasets import Dataset\n",
    "\n",
    "Dataset.from_pandas(hb).save_to_disk(f\"sentence_transformer_k_20\")"
   ]
  },
  {
   "cell_type": "code",
   "execution_count": null,
   "metadata": {},
   "outputs": [],
   "source": []
  },
  {
   "cell_type": "code",
   "execution_count": 89,
   "metadata": {},
   "outputs": [
    {
     "data": {
      "text/plain": [
       "17009"
      ]
     },
     "execution_count": 89,
     "metadata": {},
     "output_type": "execute_result"
    }
   ],
   "source": [
    "len(hb['context'][0])"
   ]
  },
  {
   "cell_type": "code",
   "execution_count": 90,
   "metadata": {},
   "outputs": [
    {
     "data": {
      "text/plain": [
       "24058"
      ]
     },
     "execution_count": 90,
     "metadata": {},
     "output_type": "execute_result"
    }
   ],
   "source": [
    "a = load_from_disk('../hb_k_20_v3')\n",
    "len(a[0]['context'])"
   ]
  },
  {
   "cell_type": "code",
   "execution_count": 98,
   "metadata": {},
   "outputs": [
    {
     "data": {
      "text/plain": [
       "43280"
      ]
     },
     "execution_count": 98,
     "metadata": {},
     "output_type": "execute_result"
    }
   ],
   "source": [
    "(list(es_500.values())[0])[0]"
   ]
  },
  {
   "cell_type": "code",
   "execution_count": 110,
   "metadata": {},
   "outputs": [],
   "source": [
    "passage_rank_for_save = {t_q[k]: v for k, v in passage_rank.items()}"
   ]
  },
  {
   "cell_type": "code",
   "execution_count": 111,
   "metadata": {},
   "outputs": [],
   "source": [
    "with open('passage_rank_using_sentence_transformer.pickle', 'wb') as f:\n",
    "    pickle.dump(passage_rank_for_save, f, pickle.HIGHEST_PROTOCOL)"
   ]
  },
  {
   "cell_type": "code",
   "execution_count": 116,
   "metadata": {},
   "outputs": [],
   "source": [
    "with open('passage_rank_using_sentence_transformer.pickle', 'rb') as f:\n",
    "    d = pickle.load(f)"
   ]
  },
  {
   "cell_type": "markdown",
   "metadata": {},
   "source": [
    "## hybrid filtering for sentence transformers"
   ]
  },
  {
   "cell_type": "code",
   "execution_count": 128,
   "metadata": {},
   "outputs": [],
   "source": [
    "t_q = list(hb_v3.keys())\n",
    "t_p = list(hb_v3.values())"
   ]
  },
  {
   "cell_type": "code",
   "execution_count": 131,
   "metadata": {},
   "outputs": [
    {
     "name": "stderr",
     "output_type": "stream",
     "text": [
      "100%|██████████| 600/600 [22:31<00:00,  2.25s/it]\n"
     ]
    }
   ],
   "source": [
    "from tqdm import tqdm\n",
    "\n",
    "hb_ranks = []\n",
    "for i in tqdm(range(len(t_q))):\n",
    "    q_emb = model.encode(t_q[i])\n",
    "    \n",
    "    hb_rank = []\n",
    "    for j in range(len(t_p[i])):\n",
    "        p_emb = model.encode(wiki[str(t_p[i][j])]['text'])\n",
    "        hb_rank.append(cos_sim(q_emb, p_emb))\n",
    "    \n",
    "    hb_ranks.append(hb_rank)"
   ]
  },
  {
   "cell_type": "code",
   "execution_count": 132,
   "metadata": {},
   "outputs": [],
   "source": [
    "tmp_hb = hb_ranks\n",
    "tmp_hb_rank = {}\n",
    "for i in range(len(tmp_hb)):\n",
    "    id_rank_table = {}\n",
    "    for doc_id, score in zip(t_p[i], tmp_hb[i]):\n",
    "        id_rank_table[doc_id] = score\n",
    "    tmp_hb_rank[i] = id_rank_table\n",
    "\n",
    "for i in range(len(tmp_hb_rank)):\n",
    "    tmp_hb_rank[i] = dict(sorted(tmp_hb_rank[i].items(), key=lambda x : x[1], reverse=True))"
   ]
  },
  {
   "cell_type": "code",
   "execution_count": 164,
   "metadata": {},
   "outputs": [
    {
     "data": {
      "text/html": [
       "<div>\n",
       "<style scoped>\n",
       "    .dataframe tbody tr th:only-of-type {\n",
       "        vertical-align: middle;\n",
       "    }\n",
       "\n",
       "    .dataframe tbody tr th {\n",
       "        vertical-align: top;\n",
       "    }\n",
       "\n",
       "    .dataframe thead th {\n",
       "        text-align: right;\n",
       "    }\n",
       "</style>\n",
       "<table border=\"1\" class=\"dataframe\">\n",
       "  <thead>\n",
       "    <tr style=\"text-align: right;\">\n",
       "      <th></th>\n",
       "      <th>id</th>\n",
       "      <th>question</th>\n",
       "      <th>context</th>\n",
       "    </tr>\n",
       "  </thead>\n",
       "  <tbody>\n",
       "    <tr>\n",
       "      <th>0</th>\n",
       "      <td>mrc-1-000653</td>\n",
       "      <td>유령'은 어느 행성에서 지구로 왔는가?</td>\n",
       "      <td>이 정의는 엄밀해야 할 정의가 모호성을 띄고 있다는 점에서 비판을 많이 받았다. 천...</td>\n",
       "    </tr>\n",
       "    <tr>\n",
       "      <th>1</th>\n",
       "      <td>mrc-1-001113</td>\n",
       "      <td>용병회사의 경기가 좋아진 것은 무엇이 끝난 이후부터인가?</td>\n",
       "      <td>여범규 감독이 새로 부임하고 K리그 챌린지에서 리그를 시작한 광주는 루시오, 김은선...</td>\n",
       "    </tr>\n",
       "    <tr>\n",
       "      <th>2</th>\n",
       "      <td>mrc-0-002191</td>\n",
       "      <td>돌푸스에게 불특정 기간동안 하원이 잠시 쉬는 것을 건의 받았던 인물은?</td>\n",
       "      <td>하원 회의장은 궁전의 북쪽 끝에 위치해 있다. 방의 크기는 14*20.7m이고, 상...</td>\n",
       "    </tr>\n",
       "    <tr>\n",
       "      <th>3</th>\n",
       "      <td>mrc-0-003951</td>\n",
       "      <td>마오리언어와 영어, 뉴질랜드 수화를 공식 언어로 사용하는 나라는?</td>\n",
       "      <td>외국어(外國語)는 'foreign language'에 해당하는 말인데, 이 말의 문...</td>\n",
       "    </tr>\n",
       "    <tr>\n",
       "      <th>4</th>\n",
       "      <td>mrc-1-001272</td>\n",
       "      <td>디엔비엔푸 전투에서 보응우옌잡이 상대한 국가는?</td>\n",
       "      <td>과거 홍강 삼각주의 중심부에 자리 잡고 있었지만, 과거에는 타이빈성은 3개의 큰 강...</td>\n",
       "    </tr>\n",
       "    <tr>\n",
       "      <th>...</th>\n",
       "      <td>...</td>\n",
       "      <td>...</td>\n",
       "      <td>...</td>\n",
       "    </tr>\n",
       "    <tr>\n",
       "      <th>595</th>\n",
       "      <td>mrc-0-002989</td>\n",
       "      <td>타입 2 가이아 메모리을 만든 집단은?</td>\n",
       "      <td>재단 X가 슈라우드(=소노자키 후미네)가 개발한 가이아 메모리의 테크놀로지를 분석,...</td>\n",
       "    </tr>\n",
       "    <tr>\n",
       "      <th>596</th>\n",
       "      <td>mrc-0-001804</td>\n",
       "      <td>장면이 정치보복에 반대하는 입장에서 처벌을 원치 않은 대상은?</td>\n",
       "      <td>이명박 정부의 중간평가 성격이 짙은 것으로 평가되는 지방선거에서 한나라당은 패배를 ...</td>\n",
       "    </tr>\n",
       "    <tr>\n",
       "      <th>597</th>\n",
       "      <td>mrc-0-003411</td>\n",
       "      <td>콜드게임 중 어떠한 계기로 인해 잠시 중단된 뒤, 익일에 게임이 진행되는 것은?</td>\n",
       "      <td>콜드게임(called game)이란 야구나 소프트볼 등의 운동경기에서 심판에 의하여...</td>\n",
       "    </tr>\n",
       "    <tr>\n",
       "      <th>598</th>\n",
       "      <td>mrc-0-003436</td>\n",
       "      <td>제2캐나다기갑여단이 상륙한 곳은?</td>\n",
       "      <td>제2캐나다보병사단이 주력 부대로 투입되기 직전이자 영국에 도착하여 편성을 바꾼지 약...</td>\n",
       "    </tr>\n",
       "    <tr>\n",
       "      <th>599</th>\n",
       "      <td>mrc-0-002605</td>\n",
       "      <td>구립운석을 이루는 물질 중 널리 알려진 것은?</td>\n",
       "      <td>구립운석(球粒隕石, 콘드라이트)는 석질운석의 일종으로, 운석의 원석이 용융이나 분화...</td>\n",
       "    </tr>\n",
       "  </tbody>\n",
       "</table>\n",
       "<p>600 rows × 3 columns</p>\n",
       "</div>"
      ],
      "text/plain": [
       "               id                                      question  \\\n",
       "0    mrc-1-000653                         유령'은 어느 행성에서 지구로 왔는가?   \n",
       "1    mrc-1-001113               용병회사의 경기가 좋아진 것은 무엇이 끝난 이후부터인가?   \n",
       "2    mrc-0-002191       돌푸스에게 불특정 기간동안 하원이 잠시 쉬는 것을 건의 받았던 인물은?   \n",
       "3    mrc-0-003951          마오리언어와 영어, 뉴질랜드 수화를 공식 언어로 사용하는 나라는?   \n",
       "4    mrc-1-001272                    디엔비엔푸 전투에서 보응우옌잡이 상대한 국가는?   \n",
       "..            ...                                           ...   \n",
       "595  mrc-0-002989                         타입 2 가이아 메모리을 만든 집단은?   \n",
       "596  mrc-0-001804            장면이 정치보복에 반대하는 입장에서 처벌을 원치 않은 대상은?   \n",
       "597  mrc-0-003411  콜드게임 중 어떠한 계기로 인해 잠시 중단된 뒤, 익일에 게임이 진행되는 것은?   \n",
       "598  mrc-0-003436                            제2캐나다기갑여단이 상륙한 곳은?   \n",
       "599  mrc-0-002605                     구립운석을 이루는 물질 중 널리 알려진 것은?   \n",
       "\n",
       "                                               context  \n",
       "0    이 정의는 엄밀해야 할 정의가 모호성을 띄고 있다는 점에서 비판을 많이 받았다. 천...  \n",
       "1    여범규 감독이 새로 부임하고 K리그 챌린지에서 리그를 시작한 광주는 루시오, 김은선...  \n",
       "2    하원 회의장은 궁전의 북쪽 끝에 위치해 있다. 방의 크기는 14*20.7m이고, 상...  \n",
       "3    외국어(外國語)는 'foreign language'에 해당하는 말인데, 이 말의 문...  \n",
       "4    과거 홍강 삼각주의 중심부에 자리 잡고 있었지만, 과거에는 타이빈성은 3개의 큰 강...  \n",
       "..                                                 ...  \n",
       "595  재단 X가 슈라우드(=소노자키 후미네)가 개발한 가이아 메모리의 테크놀로지를 분석,...  \n",
       "596  이명박 정부의 중간평가 성격이 짙은 것으로 평가되는 지방선거에서 한나라당은 패배를 ...  \n",
       "597  콜드게임(called game)이란 야구나 소프트볼 등의 운동경기에서 심판에 의하여...  \n",
       "598  제2캐나다보병사단이 주력 부대로 투입되기 직전이자 영국에 도착하여 편성을 바꾼지 약...  \n",
       "599  구립운석(球粒隕石, 콘드라이트)는 석질운석의 일종으로, 운석의 원석이 용융이나 분화...  \n",
       "\n",
       "[600 rows x 3 columns]"
      ]
     },
     "execution_count": 164,
     "metadata": {},
     "output_type": "execute_result"
    }
   ],
   "source": [
    "hhh_t = []\n",
    "for i in range(len(t_q)):\n",
    "    hhh_t.append({\n",
    "        'id': test_dataset['id'][i],\n",
    "        'question': t_q[i],\n",
    "        'context': \" \".join([wiki[str(p)]['text'] for p in list(list(tmp_hb_rank.values())[i].keys())[:20]])\n",
    "    })\n",
    "hhh_t =pd.DataFrame(hhh_t)\n",
    "hhh_t"
   ]
  },
  {
   "cell_type": "code",
   "execution_count": 175,
   "metadata": {},
   "outputs": [],
   "source": [
    "hb_rank_for_save = {t_q[k]: v for k, v in tmp_hb_rank.items()}\n",
    "\n",
    "with open('hybrid_filtering_using_sentence_transformer.pickle', 'wb') as f:\n",
    "    pickle.dump(hb_rank_for_save, f, pickle.HIGHEST_PROTOCOL)"
   ]
  },
  {
   "cell_type": "code",
   "execution_count": 177,
   "metadata": {},
   "outputs": [
    {
     "data": {
      "text/plain": [
       "100"
      ]
     },
     "execution_count": 177,
     "metadata": {},
     "output_type": "execute_result"
    }
   ],
   "source": [
    "with open('hybrid_filtering_using_sentence_transformer.pickle', 'rb') as f:\n",
    "    dd = pickle.load(f)\n",
    "len(list(dd.values())[0])"
   ]
  },
  {
   "cell_type": "code",
   "execution_count": 168,
   "metadata": {},
   "outputs": [
    {
     "data": {
      "text/plain": [
       "(16290, 18156)"
      ]
     },
     "execution_count": 168,
     "metadata": {},
     "output_type": "execute_result"
    }
   ],
   "source": [
    "len(hb['context'][0]), len(hhh_t['context'][0])"
   ]
  },
  {
   "cell_type": "code",
   "execution_count": 172,
   "metadata": {},
   "outputs": [],
   "source": [
    "Dataset.from_pandas(hhh_t).save_to_disk(f\"sentence_transformer_k_20_hybrid_v3\")"
   ]
  },
  {
   "cell_type": "code",
   "execution_count": 174,
   "metadata": {},
   "outputs": [
    {
     "data": {
      "text/plain": [
       "24058"
      ]
     },
     "execution_count": 174,
     "metadata": {},
     "output_type": "execute_result"
    }
   ],
   "source": [
    "yyy = load_from_disk('../hb_k_20_v3')\n",
    "len(yyy[0]['context'])"
   ]
  },
  {
   "cell_type": "code",
   "execution_count": null,
   "metadata": {},
   "outputs": [],
   "source": []
  }
 ],
 "metadata": {
  "interpreter": {
   "hash": "d4d1e4263499bec80672ea0156c357c1ee493ec2b1c70f0acce89fc37c4a6abe"
  },
  "kernelspec": {
   "display_name": "Python 3.8.5 64-bit ('base': conda)",
   "name": "python3"
  },
  "language_info": {
   "codemirror_mode": {
    "name": "ipython",
    "version": 3
   },
   "file_extension": ".py",
   "mimetype": "text/x-python",
   "name": "python",
   "nbconvert_exporter": "python",
   "pygments_lexer": "ipython3",
   "version": "3.8.5"
  },
  "orig_nbformat": 4
 },
 "nbformat": 4,
 "nbformat_minor": 2
}
