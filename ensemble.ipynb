{
 "cells": [
  {
   "cell_type": "code",
   "execution_count": 5,
   "id": "00c94c32-99dd-48a4-8a1a-d807b44ff6e9",
   "metadata": {},
   "outputs": [],
   "source": [
    "import os\n",
    "import json\n",
    "from collections import defaultdict"
   ]
  },
  {
   "cell_type": "code",
   "execution_count": 1,
   "id": "feeb5766-ed9d-4aa8-a7ed-f35c0132c516",
   "metadata": {},
   "outputs": [
    {
     "data": {
      "text/plain": [
       "['versionup_lstm_concat3_1024_512_256_checkpoint-999',\n",
       " 'hb_k_20_v5',\n",
       " 'versionup_gru_concat3_1024_512_256_checkpoint-999',\n",
       " 'versionup_cnn_1024_drop_0_3_checkpoint-999',\n",
       " 'versionup_transformer_encoder_nlayer6_nhead4_checkpoint-999',\n",
       " 'versionup_cnn_512_drop_0_3_checkpoint-999',\n",
       " 'versionup_cnn_256_lstm_1024_drop_0_3_checkpoint-999',\n",
       " 'versionup_transformer_encoder_nlayer6_nhead8_checkpoint-999',\n",
       " 'hb_k_20_v3',\n",
       " 'versionup_cnn_256_lstm_512_drop_0_3_checkpoint-999',\n",
       " 'soft_voting.json',\n",
       " 'versionup_transformer_encoder_nlayer8_nhead16_checkpoint-999',\n",
       " 'hb_k_20_v2',\n",
       " 'hb_k_20_v6',\n",
       " 'versionup_cnn_2048_drop_0_3_checkpoint-999',\n",
       " 'hb_k_20_v4']"
      ]
     },
     "execution_count": 1,
     "metadata": {},
     "output_type": "execute_result"
    }
   ],
   "source": [
    "os.listdir('ttttt/final_nbest')"
   ]
  },
  {
   "cell_type": "code",
   "execution_count": 43,
   "metadata": {},
   "outputs": [
    {
     "data": {
      "text/plain": [
       "30"
      ]
     },
     "execution_count": 43,
     "metadata": {},
     "output_type": "execute_result"
    }
   ],
   "source": [
    "total = [\n",
    " '/opt/ml/nbest_predictions/67_080_hb_k_20_v2',\n",
    " '/opt/ml/nbest_predictions/67_080_sota_frozen_weight_train_head_with_cnn_out256_drop0_5_with_sota_train_data_checkpoint-1665',\n",
    " '/opt/ml/nbest_predictions/66_670_sota_frozen_weight_train_head_with_cnn_out64_drop0_5_with_sota_train_data_checkpoint-999',\n",
    " '/opt/ml/nbest_predictions/64_580_not_include_answer_passage_train_es_top_1',\n",
    " '/opt/ml/nbest_predictions/65_000_top_10_concat_hb_k_20_3epoch',\n",
    " '/opt/ml/nbest_predictions/65_830_hb_k_20',\n",
    " '/opt/ml/nbest_predictions/66_670_hb_k_50_v2',\n",
    " '/opt/ml/nbest_predictions/66_670_sota_frozen_weight_train_head_with_cnn_out128_drop0_5_with_sota_train_data_checkpoint-999',\n",
    " '/opt/ml/nbest_predictions/65_000_with_transformers_2layer_4mha_3epoch',\n",
    "#  '/opt/ml/nbest_predictions/62_920_topk_14_2epoch_hb_k_20',\n",
    " '/opt/ml/nbest_predictions/65_000_sota_frozen_weight_train_only_head_qg_title_concat_16596',\n",
    "#  '/opt/ml/nbest_predictions/64_170_not_include_answer_passage_train_es_top_2',\n",
    " '/opt/ml/nbest_predictions/67_080_roberta_electra_666',\n",
    "#  '/opt/ml/nbest_predictions/64_170_concat_5_gt_elasticsearch_k20',\n",
    "#  '/opt/ml/nbest_predictions/64_170_hb_train_no_train_wiki_passage_top_5_no_include_answer',\n",
    "#  '/opt/ml/nbest_predictions/64_580_sota_frozen_weight_train_only_head_qg_title_concat_1383',\n",
    " '/opt/ml/nbest_predictions/65_830_sota_frozen_weight_train_only_head_qg_title_no_concat_checkpoint-624',\n",
    " '/opt/ml/nbest_predictions/65_830_hb_k_10_v2',\n",
    " '/opt/ml/nbest_predictions/65_830_frozen_head_qg_add_sentence_shuffle',\n",
    " '/opt/ml/nbest_predictions_v2/69_170_torch_version_up',\n",
    " '/opt/ml/nbest_predictions_v2/66_670_total_fold_infer',\n",
    " '/opt/ml/nbest_predictions_v2/67_920_hb_k_35_v3',\n",
    " '/opt/ml/nbest_predictions_v2/67_080_hp_search_5epoch_best',\n",
    " '/opt/ml/nbest_predictions_v2/68_750_encoder_head_torch_v1100',\n",
    " '/opt/ml/nbest_predictions_v2/69_170_torch_versionup_hb_k20_v4',\n",
    " '/opt/ml/nbest_predictions_v2/67_080_roberta_electra_666',\n",
    " '/opt/ml/nbest_predictions_v2/67_080_hb_k_100_v3',\n",
    " '/opt/ml/nbest_predictions_v2/67_080_encoder_head_torch_v190',\n",
    " '/opt/ml/nbest_predictions_v2/69_580_torch_versionup_hb_k20_v3',\n",
    " '/opt/ml/nbest_predictions_v2/68_750_torch_version_up_hb_v5',\n",
    "#  '/opt/ml/develop/ttttt/final_nbest/versionup_lstm_concat3_1024_512_256_checkpoint-999',\n",
    " '/opt/ml/develop/ttttt/final_nbest/hb_k_20_v5',\n",
    "#  '/opt/ml/develop/ttttt/final_nbest/versionup_gru_concat3_1024_512_256_checkpoint-999',\n",
    "#  '/opt/ml/develop/ttttt/final_nbest/versionup_cnn_1024_drop_0_3_checkpoint-999',\n",
    "#  '/opt/ml/develop/ttttt/final_nbest/versionup_transformer_encoder_nlayer6_nhead4_checkpoint-999',\n",
    "#  '/opt/ml/develop/ttttt/final_nbest/versionup_cnn_512_drop_0_3_checkpoint-999',\n",
    "#  '/opt/ml/develop/ttttt/final_nbest/versionup_cnn_256_lstm_1024_drop_0_3_checkpoint-999',\n",
    "#  '/opt/ml/develop/ttttt/final_nbest/versionup_transformer_encoder_nlayer6_nhead8_checkpoint-999',\n",
    " '/opt/ml/develop/ttttt/final_nbest/hb_k_20_v3',\n",
    "#  '/opt/ml/develop/ttttt/final_nbest/versionup_cnn_256_lstm_512_drop_0_3_checkpoint-999',\n",
    "#  '/opt/ml/develop/ttttt/final_nbest/versionup_transformer_encoder_nlayer8_nhead16_checkpoint-999',\n",
    " '/opt/ml/develop/ttttt/final_nbest/hb_k_20_v2',\n",
    " '/opt/ml/develop/ttttt/final_nbest/hb_k_20_v6',\n",
    "#  '/opt/ml/develop/ttttt/final_nbest/versionup_cnn_2048_drop_0_3_checkpoint-999',\n",
    " '/opt/ml/develop/ttttt/final_nbest/hb_k_20_v4'\n",
    "]\n",
    "len(total)"
   ]
  },
  {
   "cell_type": "code",
   "execution_count": 44,
   "id": "f0a60ef1-ecb8-4a6d-8552-1a5da1461073",
   "metadata": {},
   "outputs": [],
   "source": [
    "# files = ['ttttt/final_nbest/' + f + '/nbest_predictions.json' for f in total]\n",
    "files = [f + '/nbest_predictions.json' for f in total]\n",
    "json_files = []\n",
    "for file in files:\n",
    "    with open(f\"{file}\") as f:\n",
    "        json_file = json.load(f)\n",
    "        json_files.append(json_file)"
   ]
  },
  {
   "cell_type": "code",
   "execution_count": 45,
   "id": "971feb49-5f76-4099-a25e-fc70ef0ba232",
   "metadata": {},
   "outputs": [
    {
     "data": {
      "text/plain": [
       "30"
      ]
     },
     "execution_count": 45,
     "metadata": {},
     "output_type": "execute_result"
    }
   ],
   "source": [
    "len(json_files)"
   ]
  },
  {
   "cell_type": "code",
   "execution_count": 46,
   "id": "f23aee64-1db3-4aa8-b30e-a85f59747c77",
   "metadata": {},
   "outputs": [
    {
     "data": {
      "text/plain": [
       "20"
      ]
     },
     "execution_count": 46,
     "metadata": {},
     "output_type": "execute_result"
    }
   ],
   "source": [
    "mrc_id = list(json_files[0].keys())\n",
    "\n",
    "len(json_files[0][mrc_id[0]])"
   ]
  },
  {
   "cell_type": "code",
   "execution_count": 47,
   "id": "5ec6e3d2-c5a4-493c-83ae-00793610c34a",
   "metadata": {
    "tags": []
   },
   "outputs": [],
   "source": [
    "from pprint import pprint\n",
    "\n",
    "k = 20\n",
    "mrc_id = list(json_files[0].keys())\n",
    "\n",
    "# total_answer = {}\n",
    "# for file in json_files:\n",
    "last_answer = {}\n",
    "for i in range(len(mrc_id)):\n",
    "    answer_dict = {}  \n",
    "    for j in range(k):\n",
    "\n",
    "        for file in json_files:\n",
    "\n",
    "            answer = file[mrc_id[i]][j]['text']\n",
    "            prob = file[mrc_id[i]][j][\"probability\"]\n",
    "\n",
    "            if not answer in answer_dict:\n",
    "                answer_dict[answer] = prob\n",
    "            else:\n",
    "                answer_dict[answer] += prob\n",
    "    temp = list(answer_dict.items())\n",
    "    temp.sort(key=lambda x:x[1],reverse=True)\n",
    "    # if mrc_id[i] == 'mrc-0-004308':\n",
    "    #     pprint(temp)\n",
    "    last_answer[mrc_id[i]] = temp[0][0]"
   ]
  },
  {
   "cell_type": "code",
   "execution_count": 48,
   "id": "4df79195-7486-4158-894e-5c4e195ec01b",
   "metadata": {},
   "outputs": [],
   "source": [
    "with open(\"ttttt/final_nbest/soft_voting_4.json\", \"w\", encoding=\"utf-8\") as make_file:\n",
    "        json.dump(last_answer, make_file, indent=\"\\t\", ensure_ascii=False)"
   ]
  },
  {
   "cell_type": "code",
   "execution_count": null,
   "id": "d51c12c0-ef7d-488d-887d-cbfe6f9294cb",
   "metadata": {},
   "outputs": [],
   "source": []
  },
  {
   "cell_type": "code",
   "execution_count": 49,
   "id": "e9f9c18a-7322-4e50-a75f-ce66dcc6b308",
   "metadata": {},
   "outputs": [
    {
     "data": {
      "text/plain": [
       "600"
      ]
     },
     "execution_count": 49,
     "metadata": {},
     "output_type": "execute_result"
    }
   ],
   "source": [
    "len(file)"
   ]
  },
  {
   "cell_type": "code",
   "execution_count": 50,
   "id": "13b63a59-2968-4a26-ab43-bd9e8b0a39e9",
   "metadata": {},
   "outputs": [
    {
     "data": {
      "text/plain": [
       "30"
      ]
     },
     "execution_count": 50,
     "metadata": {},
     "output_type": "execute_result"
    }
   ],
   "source": [
    "len(json_files)"
   ]
  },
  {
   "cell_type": "code",
   "execution_count": 56,
   "metadata": {},
   "outputs": [],
   "source": [
    "hard_vot_files = [f + '/predictions.json' for f in total]\n",
    "hard_vot_json_files = []\n",
    "for file in hard_vot_files:\n",
    "    with open(f\"{file}\") as f:\n",
    "        json_file = json.load(f)\n",
    "        hard_vot_json_files.append(json_file)"
   ]
  },
  {
   "cell_type": "code",
   "execution_count": 58,
   "id": "c03f4008-01a2-4971-acc8-4afc97e89ae3",
   "metadata": {},
   "outputs": [
    {
     "name": "stdout",
     "output_type": "stream",
     "text": [
      "[('폭스바겐 골프', 10), ('골프 Mk5', 7), ('골프', 5), (\"'Beetles(딱정벌레)'\", 5), ('356', 3)]\n"
     ]
    }
   ],
   "source": [
    "result = dict()\n",
    "    \n",
    "for key in mrc_id: \n",
    "    polls = defaultdict(int)\n",
    "    \n",
    "    for json_file in hard_vot_json_files:\n",
    "        predict = json_file[key]\n",
    "        polls[predict] += 1\n",
    "\n",
    "    sorted_polls = sorted(polls.items(), key=lambda x: x[1], reverse=True)\n",
    "    if key == 'mrc-0-004308':\n",
    "        print(sorted_polls)\n",
    "    voted = sorted_polls[0][0]\n",
    "\n",
    "    result[key] = voted"
   ]
  },
  {
   "cell_type": "code",
   "execution_count": 86,
   "id": "279a0c89-22d7-4e86-a2a8-50f60d125b32",
   "metadata": {},
   "outputs": [
    {
     "data": {
      "text/plain": [
       "'폭스바겐 골프'"
      ]
     },
     "execution_count": 86,
     "metadata": {},
     "output_type": "execute_result"
    }
   ],
   "source": []
  },
  {
   "cell_type": "code",
   "execution_count": 59,
   "id": "8eea0ee4-b4b3-4f5a-8e7a-a873637ae6a5",
   "metadata": {},
   "outputs": [],
   "source": [
    "with open(\"ttttt/final_nbest/hard_voting.json\", \"w\", encoding=\"utf-8\") as make_file:\n",
    "        json.dump(result, make_file, indent=\"\\t\", ensure_ascii=False)"
   ]
  },
  {
   "cell_type": "code",
   "execution_count": null,
   "id": "7e0fbc49-c7c3-46b0-b9dc-7909a6156552",
   "metadata": {},
   "outputs": [],
   "source": []
  },
  {
   "cell_type": "code",
   "execution_count": null,
   "id": "de3cbc97-3212-4cb0-a364-35eaa57a9000",
   "metadata": {},
   "outputs": [],
   "source": []
  }
 ],
 "metadata": {
  "interpreter": {
   "hash": "d4d1e4263499bec80672ea0156c357c1ee493ec2b1c70f0acce89fc37c4a6abe"
  },
  "kernelspec": {
   "display_name": "Python 3.8.5 64-bit ('base': conda)",
   "name": "python3"
  },
  "language_info": {
   "codemirror_mode": {
    "name": "ipython",
    "version": 3
   },
   "file_extension": ".py",
   "mimetype": "text/x-python",
   "name": "python",
   "nbconvert_exporter": "python",
   "pygments_lexer": "ipython3",
   "version": "3.8.5"
  }
 },
 "nbformat": 4,
 "nbformat_minor": 5
}
